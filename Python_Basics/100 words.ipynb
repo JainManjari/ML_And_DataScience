{
 "cells": [
  {
   "cell_type": "code",
   "execution_count": 1,
   "metadata": {},
   "outputs": [
    {
     "name": "stdout",
     "output_type": "stream",
     "text": [
      "the 3934\n",
      "” 2389\n",
      "and 2224\n",
      "to 1855\n",
      "a 1669\n",
      "harry 1534\n",
      "he 1506\n",
      "of 1260\n",
      "was 1185\n",
      "it 999\n",
      "in 963\n",
      "his 934\n",
      "— 883\n",
      "you 809\n",
      "said 794\n",
      "had 700\n",
      "on 636\n",
      "at 623\n",
      "they 588\n",
      "that 586\n"
     ]
    }
   ],
   "source": [
    "import string\n",
    "\n",
    "#print(help(string))\n",
    "\n",
    "text=open(\"C:/Users/manja/Python/Basics/hp.txt\",\"r\", encoding='utf8', errors='ignore')\n",
    "text=text.read()\n",
    "\n",
    "#print(string.punctuation,end=\"\\n\\n\\n\")\n",
    "\n",
    "for c in string.punctuation:\n",
    "    text=text.replace(c,\" \")\n",
    "\n",
    "for c in string.whitespace:\n",
    "    text=text.replace(c,\" \")\n",
    "\n",
    "text=text.lower()\n",
    "sol={}\n",
    "\n",
    "for c in text.split(\" \"):\n",
    "    if c in sol:\n",
    "        sol[c]+=1\n",
    "    else:\n",
    "        sol[c]=1\n",
    "\n",
    "sol.pop(\"\")\n",
    "ke=list(sol.keys())\n",
    "\n",
    "#print(ke)\n",
    "#print(string.digits)\n",
    "for e in ke:\n",
    "    #print(ele)\n",
    "    if e in string.digits:\n",
    "        #print(e)\n",
    "        sol.pop(e)\n",
    "\n",
    "\n",
    "s=sorted(sol,key=sol.get,reverse=True)\n",
    "for i in range(20):\n",
    "    print(s[i],sol[s[i]])\n",
    "        \n",
    "\n",
    "\n",
    "#print(text.split(\" \"))\n",
    "\n"
   ]
  },
  {
   "cell_type": "code",
   "execution_count": null,
   "metadata": {},
   "outputs": [],
   "source": []
  }
 ],
 "metadata": {
  "kernelspec": {
   "display_name": "Python 3",
   "language": "python",
   "name": "python3"
  },
  "language_info": {
   "codemirror_mode": {
    "name": "ipython",
    "version": 3
   },
   "file_extension": ".py",
   "mimetype": "text/x-python",
   "name": "python",
   "nbconvert_exporter": "python",
   "pygments_lexer": "ipython3",
   "version": "3.7.6"
  }
 },
 "nbformat": 4,
 "nbformat_minor": 4
}

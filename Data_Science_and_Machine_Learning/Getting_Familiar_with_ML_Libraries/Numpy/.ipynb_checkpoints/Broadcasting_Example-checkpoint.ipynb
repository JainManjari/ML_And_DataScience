{
 "cells": [
  {
   "cell_type": "code",
   "execution_count": 1,
   "metadata": {},
   "outputs": [],
   "source": [
    "import numpy as np\n",
    "import pandas as pd\n",
    "import math\n",
    "\n",
    "data=pd.read_csv(\"terrorismData.csv\")\n",
    "\n",
    "killed=[]\n",
    "wounded=[]\n",
    "country=[]\n",
    "\n",
    "for row in data:\n",
    "    killed.append(data['Killed'])\n",
    "    wounded.append(data['Wounded'])\n",
    "    country.append(data['Country'])\n",
    "\n",
    "killed=killed[1]\n",
    "wounded=wounded[1]\n",
    "country=country[1]"
   ]
  },
  {
   "cell_type": "code",
   "execution_count": 2,
   "metadata": {},
   "outputs": [],
   "source": [
    "country=np.array(country)\n",
    "killed=np.array(killed)\n",
    "killed=np.nan_to_num(killed)\n",
    "wounded=np.array(wounded)\n",
    "wounded=np.nan_to_num(wounded)"
   ]
  },
  {
   "cell_type": "code",
   "execution_count": 3,
   "metadata": {},
   "outputs": [],
   "source": [
    "killed_wounded=killed+wounded"
   ]
  },
  {
   "cell_type": "code",
   "execution_count": 4,
   "metadata": {},
   "outputs": [
    {
     "name": "stdout",
     "output_type": "stream",
     "text": [
      "48321.0\n",
      "935737.0\n"
     ]
    }
   ],
   "source": [
    "bool_arr=country=='India'\n",
    "\n",
    "killed_wounded_india=killed_wounded[bool_arr]\n",
    "\n",
    "print(killed_wounded_india.sum())\n",
    "\n",
    "print(killed_wounded.sum())"
   ]
  },
  {
   "cell_type": "code",
   "execution_count": 6,
   "metadata": {},
   "outputs": [],
   "source": [
    "import numpy as np\n",
    "import pandas as pd\n",
    "\n",
    "data=pd.read_csv(\"terrorismData.csv\")\n",
    "\n",
    "mon=[]\n",
    "year=[]\n",
    "city=[]\n",
    "killed=[]\n",
    "wounded=[]\n",
    "grp=[]\n",
    "state=[]\n",
    "\n",
    "for row in data:\n",
    "    mon.append(data['Month'])\n",
    "    year.append(data['Year'])\n",
    "    city.append(data['City'])\n",
    "    wounded.append(data['Wounded'])\n",
    "    killed.append(data['Killed'])\n",
    "    grp.append(data['Group'])\n",
    "    state.append(data['State'])\n",
    "\n",
    "city=city[1]\n",
    "mon=mon[1]\n",
    "year=year[1]\n",
    "killed=killed[1]\n",
    "wounded=killed[1]\n",
    "grp=grp[1]\n",
    "state=state[1]"
   ]
  },
  {
   "cell_type": "code",
   "execution_count": 7,
   "metadata": {},
   "outputs": [],
   "source": [
    "city=np.array(city)\n",
    "grp=np.array(grp)\n",
    "state=np.array(state)\n",
    "mon=np.array(mon)\n",
    "mon=np.array(mon,dtype=int)\n",
    "year=np.array(year)\n",
    "year=np.array(year,dtype=int)\n",
    "killed=np.array(killed)\n",
    "killed=np.nan_to_num(killed)\n",
    "wounded=np.array(wounded)\n",
    "wounded=np.nan_to_num(wounded)\n",
    "                   \n",
    "k_w=killed+wounded"
   ]
  },
  {
   "cell_type": "code",
   "execution_count": 8,
   "metadata": {},
   "outputs": [
    {
     "name": "stdout",
     "output_type": "stream",
     "text": [
      "(21,)\n",
      "(21,)\n",
      "(21,)\n"
     ]
    }
   ],
   "source": [
    "#mon=mon[(year==1999) & (mon>=5) & (mon<=7)]\n",
    "city=city[(year==1999) & (mon>=5) & (mon<=7) & (state==\"Jammu and Kashmir\")]\n",
    "k_w=k_w[(year==1999) & (mon>=5) & (mon<=7) & (state==\"Jammu and Kashmir\")] \n",
    "grp=grp[(year==1999) & (mon>=5) & (mon<=7) & (state==\"Jammu and Kashmir\")]\n",
    "#state=state[(year==1999) & (mon>=5) & (mon<=7) & (state==\"Jammu and Kashmir\")]\n",
    "\n",
    "print(city.shape)\n",
    "print(grp.shape)\n",
    "print(k_w.shape)"
   ]
  },
  {
   "cell_type": "code",
   "execution_count": 9,
   "metadata": {},
   "outputs": [
    {
     "name": "stdout",
     "output_type": "stream",
     "text": [
      "22 Kargil District Separatists\n"
     ]
    }
   ],
   "source": [
    "uni_city=np.unique(city)\n",
    "\n",
    "\n",
    "max=0\n",
    "ans_1=\"\"\n",
    "ans_2=\"\"\n",
    "\n",
    "for ci in uni_city:\n",
    "    t=k_w[city==ci]\n",
    "    p=grp[city==ci]\n",
    "    p=np.unique(p)\n",
    "    if t.sum()>max:\n",
    "        max=t.sum()\n",
    "        ans_1=ci\n",
    "        ans_2=p[0]\n",
    "        \n",
    "print(int(max),ans_1,ans_2)"
   ]
  },
  {
   "cell_type": "code",
   "execution_count": 10,
   "metadata": {},
   "outputs": [],
   "source": [
    "import numpy as np\n",
    "import pandas as pd\n",
    "\n",
    "data=pd.read_csv(\"terrorismData.csv\")\n",
    "\n",
    "killed=[]\n",
    "wounded=[]\n",
    "state=[]\n",
    "\n",
    "for row in data:\n",
    "    wounded.append(data['Wounded'])\n",
    "    killed.append(data['Killed'])\n",
    "    state.append(data['State'])\n",
    "\n",
    "killed=killed[1]\n",
    "wounded=wounded[1]\n",
    "state=state[1]"
   ]
  },
  {
   "cell_type": "code",
   "execution_count": 11,
   "metadata": {},
   "outputs": [],
   "source": [
    "state=np.array(state)\n",
    "killed=np.array(killed)\n",
    "killed=np.nan_to_num(killed)\n",
    "wounded=np.array(wounded)\n",
    "wounded=np.nan_to_num(wounded)\n",
    "                   \n",
    "k_w=killed+wounded"
   ]
  },
  {
   "cell_type": "code",
   "execution_count": 12,
   "metadata": {},
   "outputs": [
    {
     "name": "stdout",
     "output_type": "stream",
     "text": [
      "5628\n"
     ]
    }
   ],
   "source": [
    "k_w=k_w[(state==\"Jharkhand\") | (state==\"Odisha\") | (state==\"Andhra Pradesh\") | (state==\"Chhattisgarh\")] \n",
    "\n",
    "print(int(k_w.sum()))"
   ]
  },
  {
   "cell_type": "code",
   "execution_count": 13,
   "metadata": {},
   "outputs": [],
   "source": [
    "import numpy as np\n",
    "import pandas as pd\n",
    "\n",
    "data=pd.read_csv(\"terrorismData.csv\")\n",
    "\n",
    "killed=[]\n",
    "wounded=[]\n",
    "city=[]\n",
    "coun=[]\n",
    "\n",
    "for row in data:\n",
    "    wounded.append(data['Wounded'])\n",
    "    killed.append(data['Killed'])\n",
    "    city.append(data['City'])\n",
    "    coun.append(data['Country'])\n",
    "\n",
    "killed=killed[1]\n",
    "wounded=wounded[1]\n",
    "city=city[1]\n",
    "coun=coun[1]"
   ]
  },
  {
   "cell_type": "code",
   "execution_count": 14,
   "metadata": {},
   "outputs": [],
   "source": [
    "city=np.array(city)\n",
    "coun=np.array(coun)\n",
    "killed=np.array(killed)\n",
    "killed=np.nan_to_num(killed)\n",
    "wounded=np.array(wounded)\n",
    "wounded=np.nan_to_num(wounded)\n",
    "                   \n",
    "k_w=killed+wounded"
   ]
  },
  {
   "cell_type": "code",
   "execution_count": 15,
   "metadata": {},
   "outputs": [
    {
     "name": "stdout",
     "output_type": "stream",
     "text": [
      "(11336,)\n",
      "['New Delhi' 'Samastipur' 'New Delhi' ... 'Lethapora' 'Hungrum' 'Imphal']\n"
     ]
    }
   ],
   "source": [
    "bool_arr=(coun=='India') & (city!='Unknown')\n",
    "\n",
    "k_w=k_w[bool_arr] \n",
    "city=city[bool_arr]\n",
    "\n",
    "print(k_w.shape)\n",
    "print(city)"
   ]
  },
  {
   "cell_type": "code",
   "execution_count": 16,
   "metadata": {},
   "outputs": [
    {
     "name": "stdout",
     "output_type": "stream",
     "text": [
      "Srinagar 3134\n",
      "New Delhi 2095\n",
      "Mumbai 2016\n",
      "Jammu 1119\n",
      "Guwahati 822\n"
     ]
    }
   ],
   "source": [
    "uni_ci=np.unique(city)\n",
    "\n",
    "li=[]\n",
    "\n",
    "for c in uni_ci:\n",
    "    t=k_w[city==c]\n",
    "    li.append((t.sum(),c))\n",
    "    \n",
    "li=sorted(li,reverse=True)  \n",
    "\n",
    "for ele in li[:5]:\n",
    "    print(ele[1],int(ele[0]))"
   ]
  },
  {
   "cell_type": "code",
   "execution_count": null,
   "metadata": {},
   "outputs": [],
   "source": []
  }
 ],
 "metadata": {
  "kernelspec": {
   "display_name": "Python 3",
   "language": "python",
   "name": "python3"
  },
  "language_info": {
   "codemirror_mode": {
    "name": "ipython",
    "version": 3
   },
   "file_extension": ".py",
   "mimetype": "text/x-python",
   "name": "python",
   "nbconvert_exporter": "python",
   "pygments_lexer": "ipython3",
   "version": "3.7.6"
  }
 },
 "nbformat": 4,
 "nbformat_minor": 4
}

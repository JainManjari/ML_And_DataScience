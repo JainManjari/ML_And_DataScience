{
 "cells": [
  {
   "cell_type": "code",
   "execution_count": 7,
   "metadata": {},
   "outputs": [
    {
     "name": "stdout",
     "output_type": "stream",
     "text": [
      "Requirement already satisfied: numpy in c:\\users\\manja\\anaconda3\\lib\\site-packages (1.18.1)\n"
     ]
    }
   ],
   "source": [
    "!pip install numpy"
   ]
  },
  {
   "cell_type": "code",
   "execution_count": 1,
   "metadata": {},
   "outputs": [],
   "source": [
    "import numpy as np"
   ]
  },
  {
   "cell_type": "code",
   "execution_count": 2,
   "metadata": {},
   "outputs": [
    {
     "name": "stdout",
     "output_type": "stream",
     "text": [
      "[1 2 3 4] <class 'numpy.ndarray'> (4,)\n"
     ]
    }
   ],
   "source": [
    "a=[1,2,3,4]\n",
    "p=np.array(a)\n",
    "print(p,type(p),p.shape)"
   ]
  },
  {
   "cell_type": "code",
   "execution_count": 3,
   "metadata": {},
   "outputs": [
    {
     "name": "stdout",
     "output_type": "stream",
     "text": [
      "[[1]\n",
      " [2]\n",
      " [3]\n",
      " [4]\n",
      " [5]] (5, 1)\n"
     ]
    }
   ],
   "source": [
    "b=[[1],[2],[3],[4],[5]]\n",
    "p1=np.array(b)\n",
    "print(p1,p1.shape)"
   ]
  },
  {
   "cell_type": "code",
   "execution_count": 4,
   "metadata": {},
   "outputs": [
    {
     "name": "stdout",
     "output_type": "stream",
     "text": [
      "[0, 1, 2, 3, 4, 5, 6, 7, 8, 9, 10, 11, 12, 13, 14, 15, 16, 17, 18, 19, 20, 21, 22, 23, 24, 25, 26, 27, 28, 29, 30, 31, 32, 33, 34, 35, 36, 37, 38, 39, 40, 41, 42, 43, 44, 45, 46, 47, 48, 49, 50, 51, 52, 53, 54, 55, 56, 57, 58, 59, 60, 61, 62, 63, 64, 65, 66, 67, 68, 69, 70, 71, 72, 73, 74, 75, 76, 77, 78, 79, 80, 81, 82, 83, 84, 85, 86, 87, 88, 89, 90, 91, 92, 93, 94, 95, 96, 97, 98, 99]\n",
      "[ 0  1  2  3  4  5  6  7  8  9 10 11 12 13 14 15 16 17 18 19 20 21 22 23\n",
      " 24 25 26 27 28 29 30 31 32 33 34 35 36 37 38 39 40 41 42 43 44 45 46 47\n",
      " 48 49 50 51 52 53 54 55 56 57 58 59 60 61 62 63 64 65 66 67 68 69 70 71\n",
      " 72 73 74 75 76 77 78 79 80 81 82 83 84 85 86 87 88 89 90 91 92 93 94 95\n",
      " 96 97 98 99]\n"
     ]
    }
   ],
   "source": [
    "l=[i for i in range(100)]\n",
    "print(l)\n",
    "\n",
    "n=np.arange(100)\n",
    "print(n)"
   ]
  },
  {
   "cell_type": "code",
   "execution_count": 5,
   "metadata": {},
   "outputs": [
    {
     "name": "stdout",
     "output_type": "stream",
     "text": [
      "4\n",
      "400\n"
     ]
    }
   ],
   "source": [
    "print(n.itemsize)\n",
    "print(n.itemsize*n.size)"
   ]
  },
  {
   "cell_type": "code",
   "execution_count": 6,
   "metadata": {},
   "outputs": [
    {
     "name": "stdout",
     "output_type": "stream",
     "text": [
      "28\n",
      "2800\n"
     ]
    }
   ],
   "source": [
    "import sys\n",
    "a=10\n",
    "print(sys.getsizeof(a))\n",
    "print(sys.getsizeof(1)*len(l))"
   ]
  },
  {
   "cell_type": "code",
   "execution_count": 7,
   "metadata": {},
   "outputs": [
    {
     "name": "stdout",
     "output_type": "stream",
     "text": [
      "38.8946533203125\n",
      "0.0\n"
     ]
    }
   ],
   "source": [
    "import time\n",
    "import numpy as np\n",
    "\n",
    "size=100000\n",
    "\n",
    "def listpy():\n",
    "    t1=time.time()\n",
    "    a=range(size)\n",
    "    b=range(size)\n",
    "    c=[a[i]+b[i] for i in range(size)]\n",
    "    t2=time.time()\n",
    "    print((t2-t1)*1000)\n",
    "    \n",
    "def numpy():\n",
    "    t1=time.time()\n",
    "    a=np.arange(size)\n",
    "    b=np.arange(size)\n",
    "    c=a+b\n",
    "    t2=time.time()\n",
    "    print((t2-t1)*1000)\n",
    "    \n",
    "listpy()\n",
    "numpy()"
   ]
  },
  {
   "cell_type": "code",
   "execution_count": 8,
   "metadata": {},
   "outputs": [
    {
     "name": "stdout",
     "output_type": "stream",
     "text": [
      "[1, 2, 3]\n",
      "[1 2 3]\n",
      "<class 'numpy.ndarray'>\n"
     ]
    }
   ],
   "source": [
    "import numpy as np\n",
    "\n",
    "b=[1,2,3]\n",
    "print(b)\n",
    "c=np.array(b)\n",
    "print(c)\n",
    "print(type(c))"
   ]
  },
  {
   "cell_type": "code",
   "execution_count": 9,
   "metadata": {},
   "outputs": [
    {
     "name": "stdout",
     "output_type": "stream",
     "text": [
      "[1, 2, 3, '5', 'A', 1.245]\n",
      "['1' '2' '3' '5' 'A' '1.245']\n",
      "<class 'numpy.ndarray'>\n"
     ]
    }
   ],
   "source": [
    "b=[1,2,3,'5','A',1.245]\n",
    "print(b)\n",
    "c=np.array(b)\n",
    "print(c)\n",
    "print(type(c))"
   ]
  },
  {
   "cell_type": "code",
   "execution_count": 10,
   "metadata": {},
   "outputs": [
    {
     "name": "stdout",
     "output_type": "stream",
     "text": [
      "[1.    2.    3.    5.    1.245]\n"
     ]
    }
   ],
   "source": [
    "b=[1,2,3,'5',1.245]\n",
    "c=np.array(b,dtype=float)\n",
    "print(c)"
   ]
  },
  {
   "cell_type": "code",
   "execution_count": 11,
   "metadata": {},
   "outputs": [
    {
     "name": "stdout",
     "output_type": "stream",
     "text": [
      "['1' '2' '3' '5' '1.245' '1' '2' '3' '5' '1.245' '1' '2' '3' '5' '1.245']\n"
     ]
    }
   ],
   "source": [
    "b=[1,2,3,'5',1.245]\n",
    "c=np.array(b*3)\n",
    "print(c)"
   ]
  },
  {
   "cell_type": "code",
   "execution_count": 12,
   "metadata": {},
   "outputs": [
    {
     "name": "stdout",
     "output_type": "stream",
     "text": [
      "[1. 1. 1. 1. 1. 1. 1. 1. 1. 1.]\n",
      "[[1 1 1]\n",
      " [1 1 1]]\n"
     ]
    }
   ],
   "source": [
    "b=np.ones(10) #b=np.ones(3,dtype=int)\n",
    "print(b)\n",
    "c=np.ones((2,3),dtype=int)\n",
    "print(c)"
   ]
  },
  {
   "cell_type": "code",
   "execution_count": 13,
   "metadata": {},
   "outputs": [
    {
     "data": {
      "text/plain": [
       "array([[1., 1., 1., 1., 1., 1., 1.],\n",
       "       [1., 1., 1., 1., 1., 1., 1.],\n",
       "       [1., 1., 1., 1., 1., 1., 1.]])"
      ]
     },
     "execution_count": 13,
     "metadata": {},
     "output_type": "execute_result"
    }
   ],
   "source": [
    "b=np.ones((3,7))\n",
    "b"
   ]
  },
  {
   "cell_type": "code",
   "execution_count": 14,
   "metadata": {},
   "outputs": [
    {
     "name": "stdout",
     "output_type": "stream",
     "text": [
      "(1, 21)\n"
     ]
    },
    {
     "data": {
      "text/plain": [
       "array([[1., 1., 1., 1., 1., 1., 1., 1., 1., 1., 1., 1., 1., 1., 1., 1.,\n",
       "        1., 1., 1., 1., 1.]])"
      ]
     },
     "execution_count": 14,
     "metadata": {},
     "output_type": "execute_result"
    }
   ],
   "source": [
    "b=b.reshape(1,-1)\n",
    "print(b.shape)\n",
    "b"
   ]
  },
  {
   "cell_type": "code",
   "execution_count": 15,
   "metadata": {},
   "outputs": [
    {
     "data": {
      "text/plain": [
       "array([1., 1., 1.])"
      ]
     },
     "execution_count": 15,
     "metadata": {},
     "output_type": "execute_result"
    }
   ],
   "source": [
    "b=np.ones((3,)) \n",
    "b"
   ]
  },
  {
   "cell_type": "code",
   "execution_count": 16,
   "metadata": {},
   "outputs": [
    {
     "name": "stdout",
     "output_type": "stream",
     "text": [
      "(3,)\n"
     ]
    },
    {
     "data": {
      "text/plain": [
       "array([1., 1., 1.])"
      ]
     },
     "execution_count": 16,
     "metadata": {},
     "output_type": "execute_result"
    }
   ],
   "source": [
    "b=b.reshape((-1,))\n",
    "print(b.shape)\n",
    "b"
   ]
  },
  {
   "cell_type": "code",
   "execution_count": 17,
   "metadata": {},
   "outputs": [
    {
     "data": {
      "text/plain": [
       "array([1., 1., 1.])"
      ]
     },
     "execution_count": 17,
     "metadata": {},
     "output_type": "execute_result"
    }
   ],
   "source": [
    "b=np.ones(3)\n",
    "b"
   ]
  },
  {
   "cell_type": "code",
   "execution_count": 18,
   "metadata": {},
   "outputs": [
    {
     "name": "stdout",
     "output_type": "stream",
     "text": [
      "[0 0 0]\n",
      "[[0. 0. 0. 0. 0. 0.]\n",
      " [0. 0. 0. 0. 0. 0.]\n",
      " [0. 0. 0. 0. 0. 0.]\n",
      " [0. 0. 0. 0. 0. 0.]]\n",
      "\n",
      "[[0. 0. 0. 0. 0. 0.]\n",
      " [0. 0. 0. 0. 0. 0.]\n",
      " [0. 0. 0. 0. 0. 0.]\n",
      " [1. 1. 1. 1. 1. 1.]]\n",
      "\n",
      "[[0. 0. 2. 0. 0. 0.]\n",
      " [0. 0. 2. 0. 0. 0.]\n",
      " [0. 0. 2. 0. 0. 0.]\n",
      " [1. 1. 2. 1. 1. 1.]]\n"
     ]
    }
   ],
   "source": [
    "b=np.zeros(3,dtype=int) #size,dtype\n",
    "print(b)\n",
    "c=np.zeros((4,6))\n",
    "print(c,end=\"\\n\\n\")\n",
    "c[3,:]=1\n",
    "print(c,end=\"\\n\\n\")\n",
    "c[:,2]=2\n",
    "print(c)"
   ]
  },
  {
   "cell_type": "code",
   "execution_count": 19,
   "metadata": {},
   "outputs": [
    {
     "name": "stdout",
     "output_type": "stream",
     "text": [
      "[4 4 4]\n",
      "['4' '4' '4']\n",
      "[[50. 50. 50.]\n",
      " [50. 50. 50.]]\n"
     ]
    }
   ],
   "source": [
    "# array of constant values\n",
    "b=np.full(3,4) #size, element, dtype\n",
    "print(b)\n",
    "c=np.full(3,4,dtype=str)\n",
    "print(c)\n",
    "d=np.full((2,3),50,dtype=float)\n",
    "print(d)"
   ]
  },
  {
   "cell_type": "code",
   "execution_count": 20,
   "metadata": {},
   "outputs": [
    {
     "name": "stdout",
     "output_type": "stream",
     "text": [
      "[3.23790862e-319 1.39067116e-309 7.74860419e-304]\n",
      "[4522060 3997779 3801155 5242972 7274610]\n",
      "[['' '' '' '' '' '' '' '']\n",
      " ['' '' '' '' '' '' '' '']]\n"
     ]
    }
   ],
   "source": [
    "b=np.empty(3) #size,dtype\n",
    "print(b)\n",
    "c=np.empty(5,dtype=int)\n",
    "print(c)\n",
    "d=np.empty((2,8),dtype=str)\n",
    "print(d)"
   ]
  },
  {
   "cell_type": "code",
   "execution_count": 21,
   "metadata": {},
   "outputs": [
    {
     "name": "stdout",
     "output_type": "stream",
     "text": [
      "[0 1 2 3 4 5 6 7 8 9]\n",
      "[2 3 4 5 6 7 8 9]\n",
      "[2 4 6 8]\n"
     ]
    }
   ],
   "source": [
    "b=np.arange(10)\n",
    "print(b)\n",
    "c=np.arange(2,10)\n",
    "print(c)\n",
    "d=np.arange(2,10,2)\n",
    "print(d)"
   ]
  },
  {
   "cell_type": "code",
   "execution_count": 22,
   "metadata": {},
   "outputs": [
    {
     "name": "stdout",
     "output_type": "stream",
     "text": [
      "[ 2.          2.16326531  2.32653061  2.48979592  2.65306122  2.81632653\n",
      "  2.97959184  3.14285714  3.30612245  3.46938776  3.63265306  3.79591837\n",
      "  3.95918367  4.12244898  4.28571429  4.44897959  4.6122449   4.7755102\n",
      "  4.93877551  5.10204082  5.26530612  5.42857143  5.59183673  5.75510204\n",
      "  5.91836735  6.08163265  6.24489796  6.40816327  6.57142857  6.73469388\n",
      "  6.89795918  7.06122449  7.2244898   7.3877551   7.55102041  7.71428571\n",
      "  7.87755102  8.04081633  8.20408163  8.36734694  8.53061224  8.69387755\n",
      "  8.85714286  9.02040816  9.18367347  9.34693878  9.51020408  9.67346939\n",
      "  9.83673469 10.        ]\n",
      "0.16326530612244916\n",
      "0.16326530612244872\n"
     ]
    }
   ],
   "source": [
    "#linspace takes step value by its own\n",
    "b=np.linspace(2,10) #start,end\n",
    "print(b)\n",
    "print(b[1]-b[0]) #step value\n",
    "print(b[4]-b[3])"
   ]
  },
  {
   "cell_type": "code",
   "execution_count": 23,
   "metadata": {},
   "outputs": [
    {
     "name": "stdout",
     "output_type": "stream",
     "text": [
      "[ 2  4  6  8 10]\n",
      "[2 3 5 6 8]\n",
      "[2 3 4 5 6 7 8]\n"
     ]
    }
   ],
   "source": [
    "b=np.linspace(2,10,5,dtype=int) #start,end,size, here both 2 and 10 are inclusive\n",
    "print(b)\n",
    "c=np.linspace(2,10,5,dtype=int,endpoint=False) #start,end,size, here endpoint is false, so 10 is exclusive\n",
    "print(c)\n",
    "d=np.linspace(2,10,7,dtype=int,endpoint=False) \n",
    "print(d)"
   ]
  },
  {
   "cell_type": "code",
   "execution_count": 24,
   "metadata": {},
   "outputs": [
    {
     "name": "stdout",
     "output_type": "stream",
     "text": [
      "[[1. 0. 0.]\n",
      " [0. 1. 0.]\n",
      " [0. 0. 1.]]\n"
     ]
    }
   ],
   "source": [
    "b=np.identity(3) #here only one argument can be passed to generate n*n matrx\n",
    "print(b)"
   ]
  },
  {
   "cell_type": "code",
   "execution_count": 25,
   "metadata": {},
   "outputs": [
    {
     "name": "stdout",
     "output_type": "stream",
     "text": [
      "[[1. 0. 0.]\n",
      " [0. 1. 0.]\n",
      " [0. 0. 1.]]\n",
      "[[1. 0. 0. 0.]\n",
      " [0. 1. 0. 0.]\n",
      " [0. 0. 1. 0.]]\n"
     ]
    }
   ],
   "source": [
    "b=np.eye(3)\n",
    "print(b)\n",
    "c=np.eye(3,4)\n",
    "print(c)"
   ]
  },
  {
   "cell_type": "code",
   "execution_count": 26,
   "metadata": {},
   "outputs": [
    {
     "name": "stdout",
     "output_type": "stream",
     "text": [
      "[0.47118196 0.12760096 0.55677011]\n",
      "[[0.4816621  0.60558292 0.10875446 0.15418772]\n",
      " [0.06953077 0.40932486 0.37501889 0.99487387]\n",
      " [0.33575592 0.85902047 0.24424933 0.94492176]]\n"
     ]
    }
   ],
   "source": [
    "#Generators randome values betw [0,1)\n",
    "b=np.random.rand(3) #size, no dtype\n",
    "print(b)\n",
    "c=np.random.rand(3,4)\n",
    "print(c)"
   ]
  },
  {
   "cell_type": "code",
   "execution_count": 27,
   "metadata": {},
   "outputs": [
    {
     "name": "stdout",
     "output_type": "stream",
     "text": [
      "[0.12730084 0.07103733 0.60166445]\n",
      "[[0.03346019 0.91157908 0.75859741 0.03954113 0.9317795 ]\n",
      " [0.2453499  0.54613018 0.54473177 0.93754486 0.70319032]\n",
      " [0.0337268  0.65815185 0.49280897 0.3946086  0.12103704]\n",
      " [0.65544767 0.22954041 0.48027488 0.00609231 0.21218665]]\n"
     ]
    }
   ],
   "source": [
    "d=np.random.random(3)\n",
    "print(d)\n",
    "e=np.random.random((4,5))\n",
    "print(e)"
   ]
  },
  {
   "cell_type": "code",
   "execution_count": 28,
   "metadata": {},
   "outputs": [
    {
     "name": "stdout",
     "output_type": "stream",
     "text": [
      "[7.65318098 5.35257707 4.9035498  1.09755279 2.96017273 0.90585033\n",
      " 5.27882522 2.16297613 0.4645046  8.57526351]\n"
     ]
    }
   ],
   "source": [
    "d=np.random.rand(10)*10\n",
    "print(d)"
   ]
  },
  {
   "cell_type": "code",
   "execution_count": 29,
   "metadata": {},
   "outputs": [
    {
     "name": "stdout",
     "output_type": "stream",
     "text": [
      "3\n",
      "[[3]\n",
      " [5]\n",
      " [5]\n",
      " [3]\n",
      " [5]\n",
      " [3]\n",
      " [5]\n",
      " [7]\n",
      " [4]\n",
      " [3]]\n"
     ]
    }
   ],
   "source": [
    "b=np.random.randint(10)\n",
    "print(b)\n",
    "c=np.random.randint(2,10,(10,1))\n",
    "print(c)"
   ]
  },
  {
   "cell_type": "code",
   "execution_count": 30,
   "metadata": {},
   "outputs": [
    {
     "name": "stdout",
     "output_type": "stream",
     "text": [
      "[1 2 3 4 5]\n",
      "<memory at 0x000002222589AAC8>\n",
      "(5,)\n",
      "(4,)\n",
      "4\n",
      "[2 3 4]\n"
     ]
    }
   ],
   "source": [
    "#1D\n",
    "\n",
    "b=[1,2,3,4,5]\n",
    "c=np.array(b)\n",
    "\n",
    "print(c)\n",
    "print(c.data)\n",
    "print(c.shape)\n",
    "print(c.strides)\n",
    "print(c[3])\n",
    "print(c[1:4])"
   ]
  },
  {
   "cell_type": "code",
   "execution_count": 31,
   "metadata": {},
   "outputs": [
    {
     "name": "stdout",
     "output_type": "stream",
     "text": [
      "[[1, 2, 3, 4], [5, 6, 7, 8], [9, 10, 11, 12], [13, 14, 15, 16]]\n",
      "[[ 1  2  3  4]\n",
      " [ 5  6  7  8]\n",
      " [ 9 10 11 12]\n",
      " [13 14 15 16]]\n",
      "<memory at 0x00000222258B3908>\n",
      "(4, 4)\n",
      "(16, 4)\n",
      "11\n",
      "11\n",
      "11\n",
      "[5, 6, 7]\n",
      "[5 6 7]\n",
      "[5 6 7]\n"
     ]
    }
   ],
   "source": [
    "#2D\n",
    "\n",
    "b=[[1,2,3,4],[5,6,7,8],[9,10,11,12],[13,14,15,16]]\n",
    "c=np.array(b)\n",
    "print(b)\n",
    "print(c)\n",
    "print(c.data) #memory pointing to first element\n",
    "print(c.shape) #size of the numpy array\n",
    "print(c.strides) #no of bytes need to move to next element\n",
    "print(b[2][2]) #here b[2,2] will not work as it is not numpy array\n",
    "print(c[2][2])\n",
    "print(c[2,2]) # row,col\n",
    "print(b[1][:3]) #similary here also b[1,:3] will not work\n",
    "print(c[1][:3])\n",
    "print(c[1,:3])"
   ]
  },
  {
   "cell_type": "code",
   "execution_count": 32,
   "metadata": {},
   "outputs": [
    {
     "name": "stdout",
     "output_type": "stream",
     "text": [
      "[9, 10, 11, 12]\n",
      "[[1, 2, 3, 4], [5, 6, 7, 8], [9, 10, 11, 12]]\n",
      "[9, 10, 11, 12]\n"
     ]
    }
   ],
   "source": [
    "#now if we want to print [3,7,11]= > col=2 and row 0 to 2, we have to use for loop to get the elements\n",
    "print(b[0:3][2])\n",
    "\n",
    "x=b[0:3]\n",
    "print(x)\n",
    "y=x[2]\n",
    "print(y)"
   ]
  },
  {
   "cell_type": "code",
   "execution_count": 33,
   "metadata": {},
   "outputs": [
    {
     "name": "stdout",
     "output_type": "stream",
     "text": [
      "[ 3  7 11]\n",
      "[ 9 10 11 12]\n"
     ]
    }
   ],
   "source": [
    "print(c[:3,2])\n",
    "print(c[:3][2])"
   ]
  },
  {
   "cell_type": "code",
   "execution_count": 34,
   "metadata": {},
   "outputs": [
    {
     "name": "stdout",
     "output_type": "stream",
     "text": [
      "[[13, 14, 15, 16]]\n",
      "[[9, 10, 11, 12], [13, 14, 15, 16]]\n",
      "[[13, 14, 15, 16]]\n"
     ]
    }
   ],
   "source": [
    "# to get [[10,11],\n",
    "#            [14,15]]\n",
    "\n",
    "print(b[2:4][1:3])\n",
    "\n",
    "print(b[2:4])\n",
    "print(b[2:4][1:3])"
   ]
  },
  {
   "cell_type": "code",
   "execution_count": 35,
   "metadata": {},
   "outputs": [
    {
     "name": "stdout",
     "output_type": "stream",
     "text": [
      "[[10 11]\n",
      " [14 15]]\n",
      "[[13 14 15 16]]\n"
     ]
    }
   ],
   "source": [
    "print(c[2:4,1:3])\n",
    "print(c[2:4][1:3])"
   ]
  },
  {
   "cell_type": "code",
   "execution_count": 36,
   "metadata": {},
   "outputs": [
    {
     "name": "stdout",
     "output_type": "stream",
     "text": [
      "[1, 2, 3, 4, 5]\n",
      "[ 8 10  6  1  3 19 12  7 15  7]\n",
      "[19  8 17  1 11 13 16 19  5  5]\n"
     ]
    }
   ],
   "source": [
    "l=[1,2,3,4,5]\n",
    "\n",
    "print(l)\n",
    "\n",
    "c=np.random.randint(1,20,10)\n",
    "d=np.random.randint(1,20,10)\n",
    "\n",
    "print(c)\n",
    "print(d)"
   ]
  },
  {
   "cell_type": "code",
   "execution_count": 37,
   "metadata": {},
   "outputs": [
    {
     "name": "stdout",
     "output_type": "stream",
     "text": [
      "[2, 3, 4, 5, 6]\n",
      "[ 9 11  7  2  4 20 13  8 16  8]\n"
     ]
    }
   ],
   "source": [
    "l=[i+1 for i in l]\n",
    "print(l)\n",
    "\n",
    "c+=1\n",
    "print(c)"
   ]
  },
  {
   "cell_type": "code",
   "execution_count": 38,
   "metadata": {},
   "outputs": [
    {
     "name": "stdout",
     "output_type": "stream",
     "text": [
      "[28 19 24  3 15 33 29 27 21 13]\n",
      "[-10   3 -10   1  -7   7  -3 -11  11   3]\n",
      "[171  88 119   2  44 260 208 152  80  40]\n",
      "[0.47368421 1.375      0.41176471 2.         0.36363636 1.53846154\n",
      " 0.8125     0.42105263 3.2        1.6       ]\n",
      "[0 1 0 2 0 1 0 0 3 1]\n",
      "[ -400556711   214358881 -2094633337           2     4194304  1409286144\n",
      "  1778525249           0     1048576       32768]\n"
     ]
    }
   ],
   "source": [
    "print(c+d)\n",
    "print(c-d)\n",
    "print(c*d)\n",
    "print(c/d)\n",
    "print(c//d)\n",
    "print(c**d)"
   ]
  },
  {
   "cell_type": "code",
   "execution_count": 39,
   "metadata": {},
   "outputs": [
    {
     "name": "stdout",
     "output_type": "stream",
     "text": [
      "[ 9 11  7  2  4 20 13  8 16  8]\n",
      "98\n",
      "9.8\n",
      "2\n",
      "3\n",
      "20\n",
      "5\n"
     ]
    }
   ],
   "source": [
    "print(c)\n",
    "print(c.sum())\n",
    "print(c.mean())\n",
    "print(c.min())\n",
    "print(c.argmin()) #gives the index of the first minimum element\n",
    "print(c.max())\n",
    "print(c.argmax()) #gives the index of the first max element"
   ]
  },
  {
   "cell_type": "code",
   "execution_count": 40,
   "metadata": {},
   "outputs": [
    {
     "name": "stdout",
     "output_type": "stream",
     "text": [
      "[ 9 11  7  2  4 20 13  8 16  8]\n",
      "[19  8 17  1 11 13 16 19  5  5]\n",
      "[False  True False  True False  True False False  True  True]\n",
      "[ True False  True False  True False  True  True False False]\n",
      "[False False False False False False False False False False]\n"
     ]
    }
   ],
   "source": [
    "print(c)\n",
    "print(d)\n",
    "print(c>d)\n",
    "print(c<d)\n",
    "print(c==d)"
   ]
  },
  {
   "cell_type": "code",
   "execution_count": 41,
   "metadata": {},
   "outputs": [
    {
     "name": "stdout",
     "output_type": "stream",
     "text": [
      "[ 9 11  0  2  4 20 13  8 16  8]\n",
      "[19  8 17  1 11 13 16 19  5  5]\n",
      "[ True  True  True  True  True  True  True  True  True  True]\n",
      "[ True  True False  True  True  True  True  True  True  True]\n",
      "[False False  True False False False False False False False]\n"
     ]
    }
   ],
   "source": [
    "c[2]=0\n",
    "print(c)\n",
    "print(d)\n",
    "print(np.logical_or(c,d))\n",
    "print(np.logical_and(c,d))\n",
    "print(np.logical_not(c))"
   ]
  },
  {
   "cell_type": "code",
   "execution_count": 42,
   "metadata": {},
   "outputs": [
    {
     "name": "stdout",
     "output_type": "stream",
     "text": [
      "[[ 1  2  3  4]\n",
      " [ 5  6 15 80]\n",
      " [ 9 10 11 12]\n",
      " [13 14 15 16]]\n",
      "216\n",
      "13.5\n",
      "80\n",
      "7\n",
      "1\n",
      "0\n"
     ]
    }
   ],
   "source": [
    "b=[[1,2,3,4],[5,6,15,80],[9,10,11,12],[13,14,15,16]]\n",
    "d=[[0,1,2,3],[10,12,16,18],[-10,9,8,7],[11,45,78,90]]\n",
    "e=np.array(b)\n",
    "f=np.array(d)\n",
    "print(e)\n",
    "print(e.sum())\n",
    "print(e.mean())\n",
    "print(e.max())\n",
    "print(e.argmax()) #it treats 2d array as 1d array and return index wrt it\n",
    "print(e.min())\n",
    "print(e.argmin())"
   ]
  },
  {
   "cell_type": "code",
   "execution_count": 43,
   "metadata": {},
   "outputs": [
    {
     "name": "stdout",
     "output_type": "stream",
     "text": [
      "[[ 1  2  3  4]\n",
      " [ 5  6 15 80]\n",
      " [ 9 10 11 12]\n",
      " [13 14 15 16]]\n",
      "[[  0   1   2   3]\n",
      " [ 10  12  16  18]\n",
      " [-10   9   8   7]\n",
      " [ 11  45  78  90]]\n",
      "\n",
      "[[ True  True  True  True]\n",
      " [False False False  True]\n",
      " [ True  True  True  True]\n",
      " [ True False False False]]\n",
      "\n",
      "[[False False False False]\n",
      " [ True  True  True False]\n",
      " [False False False False]\n",
      " [False  True  True  True]]\n",
      "\n",
      "[[False False False False]\n",
      " [False False False False]\n",
      " [False False False False]\n",
      " [False False False False]]\n",
      "\n",
      "[[ True  True  True  True]\n",
      " [ True  True  True  True]\n",
      " [ True  True  True  True]\n",
      " [ True  True  True  True]]\n",
      "\n",
      "[[False  True  True  True]\n",
      " [ True  True  True  True]\n",
      " [ True  True  True  True]\n",
      " [ True  True  True  True]]\n"
     ]
    }
   ],
   "source": [
    "print(e)\n",
    "print(f)\n",
    "print()\n",
    "print(e>f)\n",
    "print()\n",
    "print(e<f)\n",
    "print()\n",
    "print(e==f)\n",
    "print()\n",
    "print(np.logical_or(e,f))\n",
    "print()\n",
    "print(np.logical_and(e,f))"
   ]
  },
  {
   "cell_type": "code",
   "execution_count": 44,
   "metadata": {},
   "outputs": [
    {
     "name": "stdout",
     "output_type": "stream",
     "text": [
      "['w' 'b' 'h' 's' 'r' 'a' 'a' 'k' 'v' 'a']\n",
      "[ 4 10 12 12 19  9 17 19  9 13]\n"
     ]
    }
   ],
   "source": [
    "import numpy as np\n",
    "#boolean idnexing\n",
    "b=np.array(['w','b','h','s','r','a','a','k','v','a'])\n",
    "c=np.random.randint(1,20,10)\n",
    "\n",
    "print(b)\n",
    "print(c)"
   ]
  },
  {
   "cell_type": "code",
   "execution_count": 45,
   "metadata": {},
   "outputs": [
    {
     "name": "stdout",
     "output_type": "stream",
     "text": [
      "[False False  True  True  True False  True  True False  True]\n",
      "[12 12 19 17 19 13]\n"
     ]
    }
   ],
   "source": [
    "bool_arr=c>10\n",
    "print(bool_arr)\n",
    "new_arr=c[bool_arr]\n",
    "print(new_arr)"
   ]
  },
  {
   "cell_type": "code",
   "execution_count": 46,
   "metadata": {},
   "outputs": [
    {
     "name": "stdout",
     "output_type": "stream",
     "text": [
      "[12 12 19 17 19 13]\n",
      "[12 12 17 13]\n"
     ]
    }
   ],
   "source": [
    "print(c[c>10])\n",
    "print(c[(c>10) & (c<18)])"
   ]
  },
  {
   "cell_type": "code",
   "execution_count": 47,
   "metadata": {},
   "outputs": [
    {
     "name": "stdout",
     "output_type": "stream",
     "text": [
      "[ 4 10 12 12 19  9 17 19  9 13]\n"
     ]
    }
   ],
   "source": [
    "print(c)"
   ]
  },
  {
   "cell_type": "code",
   "execution_count": 48,
   "metadata": {},
   "outputs": [
    {
     "name": "stdout",
     "output_type": "stream",
     "text": [
      "[ 9  9  9 12 19  9 17 19  9 13]\n"
     ]
    }
   ],
   "source": [
    "c[:3]=9\n",
    "print(c)"
   ]
  },
  {
   "cell_type": "code",
   "execution_count": 49,
   "metadata": {},
   "outputs": [
    {
     "name": "stdout",
     "output_type": "stream",
     "text": [
      "[  9   9   9 100 100   9 100 100   9 100]\n"
     ]
    }
   ],
   "source": [
    "c[c>10]=100\n",
    "print(c)"
   ]
  },
  {
   "cell_type": "code",
   "execution_count": 50,
   "metadata": {},
   "outputs": [
    {
     "name": "stdout",
     "output_type": "stream",
     "text": [
      "[  9   9   9 100 100   9 100 100   9 100]\n",
      "[100 100 100 100 100]\n"
     ]
    }
   ],
   "source": [
    "print(c)\n",
    "print(c[c==100])"
   ]
  },
  {
   "cell_type": "code",
   "execution_count": 51,
   "metadata": {},
   "outputs": [
    {
     "name": "stdout",
     "output_type": "stream",
     "text": [
      "[  9   9   9 100 100   9 100 100   9 100]\n",
      "(array([3, 4, 6, 7, 9], dtype=int64),)\n"
     ]
    }
   ],
   "source": [
    "print(c)\n",
    "ind=np.where(c==100)\n",
    "print(ind)"
   ]
  },
  {
   "cell_type": "code",
   "execution_count": 52,
   "metadata": {},
   "outputs": [
    {
     "name": "stdout",
     "output_type": "stream",
     "text": [
      "['w' 'b' 'h' 's' 'r' 'a' 'a' 'k' 'v' 'a']\n",
      "[  9   9   9 100 100   9 100 100   9 100]\n",
      "(array([3, 4, 6, 7, 9], dtype=int64),)\n",
      "['s' 'r' 'a' 'k' 'a']\n"
     ]
    }
   ],
   "source": [
    "print(b)\n",
    "print(c)\n",
    "ind=np.where(c==100)\n",
    "print(ind)\n",
    "print(b[ind])"
   ]
  },
  {
   "cell_type": "code",
   "execution_count": 53,
   "metadata": {},
   "outputs": [
    {
     "name": "stdout",
     "output_type": "stream",
     "text": [
      "[[25 11  1  8  9  4]\n",
      " [23 10 22  2 18 10]\n",
      " [ 6  9  7  6 26 13]\n",
      " [ 6 13  2 17  9 15]\n",
      " [11  6 17 11 14  8]]\n",
      "[[ True False False False False False]\n",
      " [ True False  True False False False]\n",
      " [False False False False  True False]\n",
      " [False False False False False False]\n",
      " [False False False False False False]]\n"
     ]
    }
   ],
   "source": [
    "#boolean indexing on 2d\n",
    "b=np.random.randint(1,30,(5,6))\n",
    "print(b)\n",
    "print(b>20)"
   ]
  },
  {
   "cell_type": "code",
   "execution_count": 54,
   "metadata": {},
   "outputs": [
    {
     "name": "stdout",
     "output_type": "stream",
     "text": [
      "[25 23 22 26]\n"
     ]
    }
   ],
   "source": [
    "print(b[b>20]) #ans in 1d array"
   ]
  },
  {
   "cell_type": "code",
   "execution_count": 55,
   "metadata": {},
   "outputs": [
    {
     "name": "stdout",
     "output_type": "stream",
     "text": [
      "[[100  11   1   8   9   4]\n",
      " [100  10 100   2  18  10]\n",
      " [  6   9   7   6 100  13]\n",
      " [  6  13   2  17   9  15]\n",
      " [ 11   6  17  11  14   8]]\n"
     ]
    }
   ],
   "source": [
    "b[b>20]=100\n",
    "print(b)"
   ]
  },
  {
   "cell_type": "code",
   "execution_count": 56,
   "metadata": {},
   "outputs": [
    {
     "name": "stdout",
     "output_type": "stream",
     "text": [
      "[[100  11   1   8   9   4]\n",
      " [100  10 100   2  18  10]\n",
      " [  6   9   7   6 100  13]\n",
      " [  6  13   2  17   9  15]\n",
      " [ 11   6  17  11  14   8]]\n",
      "\n",
      "[False False False False False]\n",
      "\n",
      "[[100  11   1   8   9   4]\n",
      " [100  10 100   2  18  10]\n",
      " [  6   9   7   6 100  13]\n",
      " [  6  13   2  17   9  15]\n",
      " [ 11   6  17  11  14   8]]\n"
     ]
    }
   ],
   "source": [
    "print(b)\n",
    "print()\n",
    "bool_arr=b[:,3]==100\n",
    "print(bool_arr)\n",
    "print()\n",
    "b[bool_arr,3]=90\n",
    "print(b)"
   ]
  },
  {
   "cell_type": "code",
   "execution_count": 57,
   "metadata": {},
   "outputs": [
    {
     "name": "stdout",
     "output_type": "stream",
     "text": [
      "[4 2 1 0 3]\n",
      "[[ 11   6  17  11  14   8]\n",
      " [  6   9   7   6 100  13]\n",
      " [100  10 100   2  18  10]\n",
      " [100  11   1   8   9   4]\n",
      " [  6  13   2  17   9  15]]\n"
     ]
    }
   ],
   "source": [
    "print(b[:,1].argsort())\n",
    "ind=b[:,1].argsort()\n",
    "print(b[ind])"
   ]
  },
  {
   "cell_type": "code",
   "execution_count": 58,
   "metadata": {},
   "outputs": [
    {
     "name": "stdout",
     "output_type": "stream",
     "text": [
      "[2 5 3 4 1 0]\n"
     ]
    }
   ],
   "source": [
    "print(b[0,:].argsort())\n",
    "ind=b[0,:].argsort()\n",
    "#print(ind)\n",
    "#print(b[:,ind])"
   ]
  },
  {
   "cell_type": "code",
   "execution_count": 59,
   "metadata": {},
   "outputs": [
    {
     "name": "stdout",
     "output_type": "stream",
     "text": [
      "[[8 8 4]\n",
      " [6 2 4]\n",
      " [3 8 1]]\n",
      "[[2 6 3]\n",
      " [5 4 2]\n",
      " [6 3 7]]\n"
     ]
    }
   ],
   "source": [
    "#broadcasting\n",
    "\n",
    "import numpy as np\n",
    "\n",
    "x=np.random.randint(1,10,(3,3))\n",
    "y=np.random.randint(1,10,(3,3))\n",
    "print(x)\n",
    "print(y)"
   ]
  },
  {
   "cell_type": "code",
   "execution_count": 60,
   "metadata": {},
   "outputs": [
    {
     "name": "stdout",
     "output_type": "stream",
     "text": [
      "[[10 14  7]\n",
      " [11  6  6]\n",
      " [ 9 11  8]]\n"
     ]
    }
   ],
   "source": [
    "print(x+y)"
   ]
  },
  {
   "cell_type": "code",
   "execution_count": 61,
   "metadata": {},
   "outputs": [
    {
     "name": "stdout",
     "output_type": "stream",
     "text": [
      "[[4 5 4]\n",
      " [5 6 5]\n",
      " [9 1 5]]\n",
      "[4 7 6]\n"
     ]
    }
   ],
   "source": [
    "x=np.random.randint(1,10,(3,3))\n",
    "y=np.random.randint(1,10,3)\n",
    "print(x)\n",
    "print(y)"
   ]
  },
  {
   "cell_type": "code",
   "execution_count": 62,
   "metadata": {},
   "outputs": [
    {
     "name": "stdout",
     "output_type": "stream",
     "text": [
      "[[ 0 -2 -2]\n",
      " [ 1 -1 -1]\n",
      " [ 5 -6 -1]]\n",
      "\n",
      "[[ 0 -2 -2]\n",
      " [ 1 -1 -1]\n",
      " [ 5 -6 -1]]\n",
      "\n",
      "[75 92 73]\n",
      "\n",
      "dot [75 92 73]\n",
      "\n"
     ]
    }
   ],
   "source": [
    "print(x-y,end=\"\\n\\n\")\n",
    "print(np.subtract(x,y),end=\"\\n\\n\")\n",
    "print(x.dot(y),end=\"\\n\\n\")\n",
    "print(\"dot\",np.dot(x,y),end=\"\\n\\n\")"
   ]
  },
  {
   "cell_type": "code",
   "execution_count": 63,
   "metadata": {},
   "outputs": [
    {
     "name": "stdout",
     "output_type": "stream",
     "text": [
      "[3 9 3]\n",
      "[2 8 7]\n"
     ]
    }
   ],
   "source": [
    "x=np.random.randint(1,10,3)\n",
    "y=np.random.randint(1,10,3)\n",
    "print(x)\n",
    "print(y)"
   ]
  },
  {
   "cell_type": "code",
   "execution_count": 64,
   "metadata": {},
   "outputs": [
    {
     "name": "stdout",
     "output_type": "stream",
     "text": [
      "99\n"
     ]
    }
   ],
   "source": [
    "print(x.dot(y)) #scalar value"
   ]
  },
  {
   "cell_type": "code",
   "execution_count": 65,
   "metadata": {},
   "outputs": [
    {
     "name": "stdout",
     "output_type": "stream",
     "text": [
      "[[2 1 7 5]\n",
      " [8 1 6 2]\n",
      " [5 8 6 2]]\n"
     ]
    }
   ],
   "source": [
    "x=np.random.randint(1,10,(3,4))\n",
    "print(x)"
   ]
  },
  {
   "cell_type": "code",
   "execution_count": 66,
   "metadata": {},
   "outputs": [
    {
     "name": "stdout",
     "output_type": "stream",
     "text": [
      "[15 10 19  9]\n",
      "53\n",
      "[15 10 19  9]\n",
      "[15 17 21]\n"
     ]
    }
   ],
   "source": [
    "print(sum(x))\n",
    "print(np.sum(x))\n",
    "print(np.sum(x,axis=0)) #0 stands for column wise\n",
    "print(np.sum(x,axis=1)) #1 stands for row size"
   ]
  },
  {
   "cell_type": "markdown",
   "metadata": {},
   "source": [
    "# Stacking"
   ]
  },
  {
   "cell_type": "code",
   "execution_count": 67,
   "metadata": {},
   "outputs": [
    {
     "name": "stdout",
     "output_type": "stream",
     "text": [
      "[[ 1  2  3  4]\n",
      " [ 4 16 36 64]]\n",
      "\n",
      "\n",
      "\n",
      "[[ 1  4]\n",
      " [ 2 16]\n",
      " [ 3 36]\n",
      " [ 4 64]]\n",
      "\n",
      "\n",
      "\n",
      "[ 1  2  3  4  4 16 36 64]\n",
      "\n",
      "\n",
      "\n",
      "[[ 1  2  3  4]\n",
      " [ 4 16 36 64]]\n"
     ]
    }
   ],
   "source": [
    "#Stacking\n",
    "\n",
    "x=np.array([1,2,3,4])\n",
    "y=np.array([4,16,36,64])\n",
    "\n",
    "print(np.stack((x,y))) #by default axis is 0 means column wise\n",
    "print(end=\"\\n\\n\\n\")\n",
    "print(np.stack((x,y),axis=1))\n",
    "print(end=\"\\n\\n\\n\")\n",
    "print(np.hstack((x,y)))\n",
    "print(end=\"\\n\\n\\n\")\n",
    "print(np.vstack((x,y))) # same as np.stack"
   ]
  },
  {
   "cell_type": "markdown",
   "metadata": {},
   "source": [
    "# Reshaping"
   ]
  },
  {
   "cell_type": "code",
   "execution_count": 68,
   "metadata": {},
   "outputs": [
    {
     "name": "stdout",
     "output_type": "stream",
     "text": [
      "[ 0  1  2  3  4  5  6  7  8  9 10 11 12 13 14 15 16 17 18 19]\n",
      "[[ 0  1  2  3  4  5  6  7  8  9]\n",
      " [10 11 12 13 14 15 16 17 18 19]]\n",
      "[[ 0  1  2  3]\n",
      " [ 4  5  6  7]\n",
      " [ 8  9 10 11]\n",
      " [12 13 14 15]\n",
      " [16 17 18 19]]\n",
      "[[ 0  1  2  3]\n",
      " [ 4  5  6  7]\n",
      " [ 8  9 10 11]\n",
      " [12 13 14 15]\n",
      " [16 17 18 19]]\n"
     ]
    }
   ],
   "source": [
    "#Reshaping\n",
    "\n",
    "x=np.arange(0,20,dtype=int)\n",
    "print(x)\n",
    "print(x.reshape(2,10))\n",
    "print(x.reshape(5,-1)) #Here 5 are the rows and -1 represents we dont know the no of columns it will have\n",
    "                       #so it will automatically detect\n",
    "print(x.reshape(-1,4))"
   ]
  },
  {
   "cell_type": "code",
   "execution_count": 69,
   "metadata": {},
   "outputs": [
    {
     "name": "stdout",
     "output_type": "stream",
     "text": [
      "[[-1 -3]\n",
      " [-5 -6]\n",
      " [-1  5]]\n"
     ]
    }
   ],
   "source": [
    "x=np.random.randint(1,10,(3,2))\n",
    "y=np.random.randint(1,10,(2,3))\n",
    "\n",
    "#print(x-y) error because of diff in size\n",
    "\n",
    "y=np.transpose(y)\n",
    "print(x-y)"
   ]
  },
  {
   "cell_type": "code",
   "execution_count": 70,
   "metadata": {},
   "outputs": [
    {
     "name": "stdout",
     "output_type": "stream",
     "text": [
      "[6 4 6 6 1 1]\n",
      "[[6]\n",
      " [4]]\n",
      "None\n"
     ]
    }
   ],
   "source": [
    "x=np.random.randint(1,10,6)\n",
    "print(x)\n",
    "y=x.resize(2,1)\n",
    "print(x)\n",
    "print(y)\n",
    "#here it can be resized to anything, if elements are missing then they are filled with zeros. The original array is changed."
   ]
  },
  {
   "cell_type": "code",
   "execution_count": 71,
   "metadata": {},
   "outputs": [
    {
     "name": "stdout",
     "output_type": "stream",
     "text": [
      "[2 6 2 1 9 9]\n",
      "[2 6 2 1 9 9]\n",
      "[[2]\n",
      " [6]\n",
      " [2]\n",
      " [1]\n",
      " [9]\n",
      " [9]]\n"
     ]
    }
   ],
   "source": [
    "x=np.random.randint(1,10,6)\n",
    "print(x)\n",
    "y=x.reshape(6,1)\n",
    "print(x)\n",
    "print(y)\n",
    "#Here, it can only be resized to the multiples of m*n. The original array is not changed."
   ]
  },
  {
   "cell_type": "code",
   "execution_count": null,
   "metadata": {},
   "outputs": [],
   "source": []
  },
  {
   "cell_type": "markdown",
   "metadata": {},
   "source": [
    "# Random Module"
   ]
  },
  {
   "cell_type": "code",
   "execution_count": 72,
   "metadata": {},
   "outputs": [
    {
     "data": {
      "text/plain": [
       "array([2, 5, 8])"
      ]
     },
     "execution_count": 72,
     "metadata": {},
     "output_type": "execute_result"
    }
   ],
   "source": [
    "a=np.arange(2,10,3) #start,stop,step\n",
    "a"
   ]
  },
  {
   "cell_type": "code",
   "execution_count": 73,
   "metadata": {},
   "outputs": [
    {
     "data": {
      "text/plain": [
       "array([ 7,  8,  9, 10, 11, 12, 13])"
      ]
     },
     "execution_count": 73,
     "metadata": {},
     "output_type": "execute_result"
    }
   ],
   "source": [
    "a=np.arange(3,10)+4\n",
    "a"
   ]
  },
  {
   "cell_type": "code",
   "execution_count": 74,
   "metadata": {},
   "outputs": [
    {
     "data": {
      "text/plain": [
       "array([ 6,  7,  8,  9, 10, 11, 12, 13, 14, 15])"
      ]
     },
     "execution_count": 74,
     "metadata": {},
     "output_type": "execute_result"
    }
   ],
   "source": [
    "a=np.arange(10)+6\n",
    "a"
   ]
  },
  {
   "cell_type": "code",
   "execution_count": 75,
   "metadata": {},
   "outputs": [
    {
     "data": {
      "text/plain": [
       "array([13, 10,  7, 14, 15, 11,  8, 12,  6,  9])"
      ]
     },
     "execution_count": 75,
     "metadata": {},
     "output_type": "execute_result"
    }
   ],
   "source": [
    "np.random.shuffle(a)\n",
    "a"
   ]
  },
  {
   "cell_type": "code",
   "execution_count": 76,
   "metadata": {},
   "outputs": [
    {
     "data": {
      "text/plain": [
       "array([0.84582762, 0.79388983, 0.54807617, 0.2975517 ])"
      ]
     },
     "execution_count": 76,
     "metadata": {},
     "output_type": "execute_result"
    }
   ],
   "source": [
    "np.random.rand(4)"
   ]
  },
  {
   "cell_type": "code",
   "execution_count": 77,
   "metadata": {},
   "outputs": [
    {
     "data": {
      "text/plain": [
       "array([[ 0.74663687,  0.65866964,  0.96739852,  0.71537716, -0.72572052],\n",
       "       [ 0.52602864, -0.25877452, -1.37194702, -0.89541637, -2.22883168],\n",
       "       [-0.85465739, -0.77443219,  0.40887849,  1.12070571,  0.59032292],\n",
       "       [ 0.89338509, -0.81482097,  0.84097211,  1.32679601, -0.25215367]])"
      ]
     },
     "execution_count": 77,
     "metadata": {},
     "output_type": "execute_result"
    }
   ],
   "source": [
    "#This returns values from standard normal distribution\n",
    "np.random.randn(4,5)"
   ]
  },
  {
   "cell_type": "code",
   "execution_count": 78,
   "metadata": {},
   "outputs": [
    {
     "data": {
      "text/plain": [
       "array([[3, 6, 3, 4, 8],\n",
       "       [5, 8, 5, 8, 4],\n",
       "       [5, 4, 4, 9, 5],\n",
       "       [7, 6, 2, 6, 4]])"
      ]
     },
     "execution_count": 78,
     "metadata": {},
     "output_type": "execute_result"
    }
   ],
   "source": [
    "np.random.randint(2,10,(4,5))"
   ]
  },
  {
   "cell_type": "code",
   "execution_count": 79,
   "metadata": {},
   "outputs": [
    {
     "data": {
      "text/plain": [
       "-10.0"
      ]
     },
     "execution_count": 79,
     "metadata": {},
     "output_type": "execute_result"
    }
   ],
   "source": [
    "np.random.seed(1)\n",
    "np.random.choice([4,5,10,11,200,-10,3.4])"
   ]
  },
  {
   "cell_type": "code",
   "execution_count": null,
   "metadata": {},
   "outputs": [],
   "source": []
  },
  {
   "cell_type": "markdown",
   "metadata": {},
   "source": [
    "# Statistics Functions"
   ]
  },
  {
   "cell_type": "code",
   "execution_count": 80,
   "metadata": {},
   "outputs": [
    {
     "data": {
      "text/plain": [
       "array([[1, 2, 3, 4],\n",
       "       [7, 6, 2, 0]])"
      ]
     },
     "execution_count": 80,
     "metadata": {},
     "output_type": "execute_result"
    }
   ],
   "source": [
    "a=np.array([[1,2,3,4],[7,6,2,0]])\n",
    "a"
   ]
  },
  {
   "cell_type": "code",
   "execution_count": 81,
   "metadata": {},
   "outputs": [
    {
     "data": {
      "text/plain": [
       "0"
      ]
     },
     "execution_count": 81,
     "metadata": {},
     "output_type": "execute_result"
    }
   ],
   "source": [
    "a.min()"
   ]
  },
  {
   "cell_type": "code",
   "execution_count": 82,
   "metadata": {},
   "outputs": [
    {
     "data": {
      "text/plain": [
       "0"
      ]
     },
     "execution_count": 82,
     "metadata": {},
     "output_type": "execute_result"
    }
   ],
   "source": [
    "np.min(a)"
   ]
  },
  {
   "cell_type": "code",
   "execution_count": 83,
   "metadata": {},
   "outputs": [
    {
     "data": {
      "text/plain": [
       "array([1, 2, 2, 0])"
      ]
     },
     "execution_count": 83,
     "metadata": {},
     "output_type": "execute_result"
    }
   ],
   "source": [
    "np.min(a,axis=0)"
   ]
  },
  {
   "cell_type": "code",
   "execution_count": 84,
   "metadata": {},
   "outputs": [
    {
     "data": {
      "text/plain": [
       "array([1, 0])"
      ]
     },
     "execution_count": 84,
     "metadata": {},
     "output_type": "execute_result"
    }
   ],
   "source": [
    "np.min(a,axis=1)"
   ]
  },
  {
   "cell_type": "code",
   "execution_count": 85,
   "metadata": {},
   "outputs": [
    {
     "data": {
      "text/plain": [
       "array([8, 8, 5, 4])"
      ]
     },
     "execution_count": 85,
     "metadata": {},
     "output_type": "execute_result"
    }
   ],
   "source": [
    "np.sum(a,axis=0)"
   ]
  },
  {
   "cell_type": "code",
   "execution_count": 86,
   "metadata": {},
   "outputs": [
    {
     "data": {
      "text/plain": [
       "25"
      ]
     },
     "execution_count": 86,
     "metadata": {},
     "output_type": "execute_result"
    }
   ],
   "source": [
    "a.sum()"
   ]
  },
  {
   "cell_type": "code",
   "execution_count": 87,
   "metadata": {},
   "outputs": [
    {
     "data": {
      "text/plain": [
       "array([10, 15])"
      ]
     },
     "execution_count": 87,
     "metadata": {},
     "output_type": "execute_result"
    }
   ],
   "source": [
    "np.sum(a,axis=1)"
   ]
  },
  {
   "cell_type": "code",
   "execution_count": 88,
   "metadata": {},
   "outputs": [
    {
     "data": {
      "text/plain": [
       "3.125"
      ]
     },
     "execution_count": 88,
     "metadata": {},
     "output_type": "execute_result"
    }
   ],
   "source": [
    "a.mean()"
   ]
  },
  {
   "cell_type": "code",
   "execution_count": 89,
   "metadata": {},
   "outputs": [
    {
     "data": {
      "text/plain": [
       "array([4. , 4. , 2.5, 2. ])"
      ]
     },
     "execution_count": 89,
     "metadata": {},
     "output_type": "execute_result"
    }
   ],
   "source": [
    "np.mean(a,axis=0)"
   ]
  },
  {
   "cell_type": "code",
   "execution_count": 90,
   "metadata": {},
   "outputs": [
    {
     "data": {
      "text/plain": [
       "2.5"
      ]
     },
     "execution_count": 90,
     "metadata": {},
     "output_type": "execute_result"
    }
   ],
   "source": [
    "np.median(a)"
   ]
  },
  {
   "cell_type": "code",
   "execution_count": 91,
   "metadata": {},
   "outputs": [
    {
     "data": {
      "text/plain": [
       "3.125"
      ]
     },
     "execution_count": 91,
     "metadata": {},
     "output_type": "execute_result"
    }
   ],
   "source": [
    "np.mean(a)"
   ]
  },
  {
   "cell_type": "code",
   "execution_count": 92,
   "metadata": {},
   "outputs": [
    {
     "data": {
      "text/plain": [
       "3.125"
      ]
     },
     "execution_count": 92,
     "metadata": {},
     "output_type": "execute_result"
    }
   ],
   "source": [
    "np.average(a)"
   ]
  },
  {
   "cell_type": "code",
   "execution_count": 93,
   "metadata": {},
   "outputs": [
    {
     "data": {
      "text/plain": [
       "2.75"
      ]
     },
     "execution_count": 93,
     "metadata": {},
     "output_type": "execute_result"
    }
   ],
   "source": [
    "w=np.array([[1,2,3,4],[1,2,3,4]])\n",
    "np.average(a,weights=w)"
   ]
  },
  {
   "cell_type": "code",
   "execution_count": 94,
   "metadata": {},
   "outputs": [
    {
     "name": "stdout",
     "output_type": "stream",
     "text": [
      "2.2603926650031405\n",
      "2.2603926650031405\n"
     ]
    }
   ],
   "source": [
    "#Standard deviation\n",
    "\n",
    "u=a.mean()\n",
    "std=np.sqrt(np.mean(abs(a-u)**2))\n",
    "print(std)\n",
    "print(np.std(a))"
   ]
  },
  {
   "cell_type": "code",
   "execution_count": 95,
   "metadata": {},
   "outputs": [
    {
     "name": "stdout",
     "output_type": "stream",
     "text": [
      "5.109375\n",
      "5.109375\n"
     ]
    }
   ],
   "source": [
    "#Varience\n",
    "\n",
    "print(std**2)\n",
    "print(np.var(a))"
   ]
  },
  {
   "cell_type": "code",
   "execution_count": 96,
   "metadata": {},
   "outputs": [
    {
     "data": {
      "text/plain": [
       "array([[12, 13,  9],\n",
       "       [10, 12,  6],\n",
       "       [16,  1, 17]])"
      ]
     },
     "execution_count": 96,
     "metadata": {},
     "output_type": "execute_result"
    }
   ],
   "source": [
    "a=np.random.randint(1,20,(3,3))\n",
    "a"
   ]
  },
  {
   "cell_type": "code",
   "execution_count": 97,
   "metadata": {},
   "outputs": [
    {
     "data": {
      "text/plain": [
       "array([12, 13,  9, 10, 12,  6, 16,  1, 17])"
      ]
     },
     "execution_count": 97,
     "metadata": {},
     "output_type": "execute_result"
    }
   ],
   "source": [
    "a.ravel()"
   ]
  },
  {
   "cell_type": "code",
   "execution_count": 98,
   "metadata": {},
   "outputs": [
    {
     "data": {
      "text/plain": [
       "array([12, 13,  9, 10, 12,  6, 16,  1, 17])"
      ]
     },
     "execution_count": 98,
     "metadata": {},
     "output_type": "execute_result"
    }
   ],
   "source": [
    "b=a.flatten()\n",
    "b"
   ]
  },
  {
   "cell_type": "code",
   "execution_count": 99,
   "metadata": {},
   "outputs": [],
   "source": [
    "c=np.column_stack((b,b))"
   ]
  },
  {
   "cell_type": "code",
   "execution_count": 100,
   "metadata": {},
   "outputs": [
    {
     "data": {
      "text/plain": [
       "array([[12, 12],\n",
       "       [13, 13],\n",
       "       [ 9,  9],\n",
       "       [10, 10],\n",
       "       [12, 12],\n",
       "       [ 6,  6],\n",
       "       [16, 16],\n",
       "       [ 1,  1],\n",
       "       [17, 17]])"
      ]
     },
     "execution_count": 100,
     "metadata": {},
     "output_type": "execute_result"
    }
   ],
   "source": [
    "c"
   ]
  },
  {
   "cell_type": "code",
   "execution_count": 101,
   "metadata": {},
   "outputs": [
    {
     "data": {
      "text/plain": [
       "array([[12, 12, 13, 13,  9,  9],\n",
       "       [10, 10, 12, 12,  6,  6],\n",
       "       [16, 16,  1,  1, 17, 17]])"
      ]
     },
     "execution_count": 101,
     "metadata": {},
     "output_type": "execute_result"
    }
   ],
   "source": [
    "c.reshape(3,-1)"
   ]
  },
  {
   "cell_type": "code",
   "execution_count": 102,
   "metadata": {},
   "outputs": [
    {
     "data": {
      "text/plain": [
       "18"
      ]
     },
     "execution_count": 102,
     "metadata": {},
     "output_type": "execute_result"
    }
   ],
   "source": [
    "c.size"
   ]
  },
  {
   "cell_type": "code",
   "execution_count": 103,
   "metadata": {},
   "outputs": [
    {
     "data": {
      "text/plain": [
       "(9, 2)"
      ]
     },
     "execution_count": 103,
     "metadata": {},
     "output_type": "execute_result"
    }
   ],
   "source": [
    "c.shape"
   ]
  },
  {
   "cell_type": "code",
   "execution_count": null,
   "metadata": {},
   "outputs": [],
   "source": []
  },
  {
   "cell_type": "markdown",
   "metadata": {},
   "source": [
    "# Linear Algebra"
   ]
  },
  {
   "cell_type": "markdown",
   "metadata": {},
   "source": [
    "- Vector 1D Column Array\n",
    "- Matrix 2D Array\n",
    "- Tensor 3D or more Array: Image RGB"
   ]
  },
  {
   "cell_type": "code",
   "execution_count": 104,
   "metadata": {},
   "outputs": [
    {
     "data": {
      "image/png": "[encoded data removed]",
      "text/plain": [
       "<Figure size 432x288 with 1 Axes>"
      ]
     },
     "metadata": {
      "needs_background": "light"
     },
     "output_type": "display_data"
    }
   ],
   "source": [
    "T=np.zeros((10,5,3),dtype='uint8') #Tensor #unit8 for img showing 8 stands for 8 bits for 255\n",
    "#print(T)\n",
    "T[:,:,1]=255 #row,col,channels\n",
    "\n",
    "import matplotlib.pyplot as plt\n",
    "\n",
    "plt.imshow(T)\n",
    "plt.show()"
   ]
  },
  {
   "cell_type": "markdown",
   "metadata": {},
   "source": [
    "### Transpose"
   ]
  },
  {
   "cell_type": "code",
   "execution_count": 105,
   "metadata": {},
   "outputs": [
    {
     "name": "stdout",
     "output_type": "stream",
     "text": [
      "[[2 3 4]\n",
      " [5 6 7]\n",
      " [0 9 8]]\n",
      "[[2 5 0]\n",
      " [3 6 9]\n",
      " [4 7 8]]\n",
      "[[2 5 0]\n",
      " [3 6 9]\n",
      " [4 7 8]]\n"
     ]
    }
   ],
   "source": [
    "x=np.array([[2,3,4],[5,6,7],[0,9,8]])\n",
    "print(x)\n",
    "print(x.T)\n",
    "print(np.transpose(x))"
   ]
  },
  {
   "cell_type": "code",
   "execution_count": 106,
   "metadata": {},
   "outputs": [
    {
     "name": "stdout",
     "output_type": "stream",
     "text": [
      "(10, 5, 3)\n",
      "(3, 5, 10)\n",
      "(10, 3, 5)\n"
     ]
    }
   ],
   "source": [
    "print(T.shape)\n",
    "T1=np.transpose(T)\n",
    "print(T1.shape)\n",
    "T2=np.transpose(T,axes=(0,2,1))\n",
    "print(T2.shape)"
   ]
  },
  {
   "cell_type": "code",
   "execution_count": null,
   "metadata": {},
   "outputs": [],
   "source": []
  },
  {
   "cell_type": "markdown",
   "metadata": {},
   "source": [
    "## Matrix Multiplication"
   ]
  },
  {
   "cell_type": "code",
   "execution_count": 107,
   "metadata": {},
   "outputs": [
    {
     "name": "stdout",
     "output_type": "stream",
     "text": [
      "[[ 51  35  30]\n",
      " [135  92  63]]\n"
     ]
    }
   ],
   "source": [
    "A=np.array([[1,2,3],[4,5,6]])\n",
    "B=np.array([[12,11,1],[9,0,1],[7,8,9]])\n",
    "C=np.array([[1,2,3],[4,5,6]])\n",
    "print(np.dot(A,B,C))"
   ]
  },
  {
   "cell_type": "code",
   "execution_count": null,
   "metadata": {},
   "outputs": [],
   "source": []
  },
  {
   "cell_type": "markdown",
   "metadata": {},
   "source": [
    "## Element Wise Mutliplication"
   ]
  },
  {
   "cell_type": "code",
   "execution_count": 108,
   "metadata": {},
   "outputs": [
    {
     "name": "stdout",
     "output_type": "stream",
     "text": [
      "[[12 22  3]\n",
      " [36  0  6]]\n"
     ]
    }
   ],
   "source": [
    "A=np.array([[1,2,3],[4,5,6]])\n",
    "B=np.array([[12,11,1],[9,0,1]])\n",
    "\n",
    "print(A*B)"
   ]
  },
  {
   "cell_type": "code",
   "execution_count": null,
   "metadata": {},
   "outputs": [],
   "source": []
  },
  {
   "cell_type": "markdown",
   "metadata": {},
   "source": [
    "## Norms\n",
    "\n",
    "It refers to the size of the vector\n",
    "\n",
    "2i+3j= ((2)**2+(3)**2)**0.5"
   ]
  },
  {
   "cell_type": "code",
   "execution_count": 109,
   "metadata": {},
   "outputs": [
    {
     "name": "stdout",
     "output_type": "stream",
     "text": [
      "5.0\n",
      "7.0\n",
      "4.0\n"
     ]
    }
   ],
   "source": [
    "x=np.array([-3,4])\n",
    "lp2=np.linalg.norm(x)\n",
    "print(lp2)\n",
    "lp1=np.linalg.norm(x,ord=1)\n",
    "print(lp1)\n",
    "lpinf=np.linalg.norm(x,ord=np.inf)\n",
    "print(lpinf)"
   ]
  },
  {
   "cell_type": "code",
   "execution_count": null,
   "metadata": {},
   "outputs": [],
   "source": []
  },
  {
   "cell_type": "markdown",
   "metadata": {},
   "source": [
    "## Determinants"
   ]
  },
  {
   "cell_type": "code",
   "execution_count": 110,
   "metadata": {},
   "outputs": [
    {
     "data": {
      "text/plain": [
       "-2.0000000000000004"
      ]
     },
     "execution_count": 110,
     "metadata": {},
     "output_type": "execute_result"
    }
   ],
   "source": [
    "A=np.array([\n",
    "    [1,2],\n",
    "    [3,4]\n",
    "    ])\n",
    "\n",
    "np.linalg.det(A)"
   ]
  },
  {
   "cell_type": "code",
   "execution_count": 111,
   "metadata": {},
   "outputs": [
    {
     "data": {
      "text/plain": [
       "array([[-2. ,  1. ],\n",
       "       [ 1.5, -0.5]])"
      ]
     },
     "execution_count": 111,
     "metadata": {},
     "output_type": "execute_result"
    }
   ],
   "source": [
    "Ainv=np.linalg.inv(A)\n",
    "Ainv"
   ]
  },
  {
   "cell_type": "code",
   "execution_count": 112,
   "metadata": {},
   "outputs": [
    {
     "data": {
      "text/plain": [
       "array([[1.00000000e+00, 1.11022302e-16],\n",
       "       [0.00000000e+00, 1.00000000e+00]])"
      ]
     },
     "execution_count": 112,
     "metadata": {},
     "output_type": "execute_result"
    }
   ],
   "source": [
    "np.dot(A,Ainv)"
   ]
  },
  {
   "cell_type": "code",
   "execution_count": 113,
   "metadata": {},
   "outputs": [
    {
     "data": {
      "text/plain": [
       "array([[1.0000000e+00, 4.4408921e-16],\n",
       "       [0.0000000e+00, 1.0000000e+00]])"
      ]
     },
     "execution_count": 113,
     "metadata": {},
     "output_type": "execute_result"
    }
   ],
   "source": [
    "np.dot(Ainv,A)"
   ]
  },
  {
   "cell_type": "code",
   "execution_count": 114,
   "metadata": {},
   "outputs": [
    {
     "data": {
      "text/plain": [
       "array([[-2. ,  1. ],\n",
       "       [ 1.5, -0.5]])"
      ]
     },
     "execution_count": 114,
     "metadata": {},
     "output_type": "execute_result"
    }
   ],
   "source": [
    "Pinv=np.linalg.pinv(A)\n",
    "Pinv"
   ]
  },
  {
   "cell_type": "code",
   "execution_count": 115,
   "metadata": {},
   "outputs": [],
   "source": [
    "B=np.array([[0,0],[1,2]])\n",
    "\n",
    "#Binv=np.linalg.inv(B) #error since determinant is 0\n",
    "#Binv"
   ]
  },
  {
   "cell_type": "code",
   "execution_count": 116,
   "metadata": {},
   "outputs": [
    {
     "data": {
      "text/plain": [
       "array([[0. , 0.2],\n",
       "       [0. , 0.4]])"
      ]
     },
     "execution_count": 116,
     "metadata": {},
     "output_type": "execute_result"
    }
   ],
   "source": [
    "BPinv=np.linalg.pinv(B)\n",
    "BPinv"
   ]
  },
  {
   "cell_type": "code",
   "execution_count": null,
   "metadata": {},
   "outputs": [],
   "source": [
    " "
   ]
  },
  {
   "cell_type": "markdown",
   "metadata": {},
   "source": [
    "## Solve a system of equations\n",
    "\n",
    "- 2x1+3x2=8\n",
    "- 3x1+1x2=5"
   ]
  },
  {
   "cell_type": "code",
   "execution_count": 117,
   "metadata": {},
   "outputs": [],
   "source": [
    "a=np.array([[2,3],[3,1]])\n",
    "b=np.array([8,5])"
   ]
  },
  {
   "cell_type": "code",
   "execution_count": 118,
   "metadata": {},
   "outputs": [
    {
     "data": {
      "text/plain": [
       "array([1., 2.])"
      ]
     },
     "execution_count": 118,
     "metadata": {},
     "output_type": "execute_result"
    }
   ],
   "source": [
    "# to find x\n",
    "\n",
    "x=np.dot(np.linalg.pinv(a),b)\n",
    "x"
   ]
  },
  {
   "cell_type": "code",
   "execution_count": 119,
   "metadata": {},
   "outputs": [
    {
     "data": {
      "text/plain": [
       "array([1., 2.])"
      ]
     },
     "execution_count": 119,
     "metadata": {},
     "output_type": "execute_result"
    }
   ],
   "source": [
    "np.linalg.solve(a,b)"
   ]
  },
  {
   "cell_type": "code",
   "execution_count": null,
   "metadata": {},
   "outputs": [],
   "source": []
  },
  {
   "cell_type": "code",
   "execution_count": null,
   "metadata": {},
   "outputs": [],
   "source": []
  },
  {
   "cell_type": "code",
   "execution_count": 120,
   "metadata": {},
   "outputs": [],
   "source": [
    "A=np.array([\n",
    "    [2,-2,1],\n",
    "    [-1,2,-1],\n",
    "    [2,-4,1]\n",
    "])"
   ]
  },
  {
   "cell_type": "code",
   "execution_count": 121,
   "metadata": {},
   "outputs": [
    {
     "data": {
      "text/plain": [
       "6.0"
      ]
     },
     "execution_count": 121,
     "metadata": {},
     "output_type": "execute_result"
    }
   ],
   "source": [
    "np.linalg.norm(A)"
   ]
  },
  {
   "cell_type": "code",
   "execution_count": null,
   "metadata": {},
   "outputs": [],
   "source": []
  }
 ],
 "metadata": {
  "kernelspec": {
   "display_name": "Python 3",
   "language": "python",
   "name": "python3"
  },
  "language_info": {
   "codemirror_mode": {
    "name": "ipython",
    "version": 3
   },
   "file_extension": ".py",
   "mimetype": "text/x-python",
   "name": "python",
   "nbconvert_exporter": "python",
   "pygments_lexer": "ipython3",
   "version": "3.7.6"
  }
 },
 "nbformat": 4,
 "nbformat_minor": 4
}

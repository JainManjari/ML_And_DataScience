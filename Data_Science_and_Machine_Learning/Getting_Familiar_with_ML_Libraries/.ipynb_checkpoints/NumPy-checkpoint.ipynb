{
 "cells": [
  {
   "cell_type": "code",
   "execution_count": 7,
   "metadata": {},
   "outputs": [
    {
     "name": "stdout",
     "output_type": "stream",
     "text": [
      "Requirement already satisfied: numpy in c:\\users\\manja\\anaconda3\\lib\\site-packages (1.18.1)\n"
     ]
    }
   ],
   "source": [
    "!pip install numpy"
   ]
  },
  {
   "cell_type": "code",
   "execution_count": 3,
   "metadata": {},
   "outputs": [],
   "source": [
    "import numpy as np"
   ]
  },
  {
   "cell_type": "code",
   "execution_count": 11,
   "metadata": {},
   "outputs": [
    {
     "name": "stdout",
     "output_type": "stream",
     "text": [
      "[1 2 3 4] <class 'numpy.ndarray'> (4,)\n"
     ]
    }
   ],
   "source": [
    "a=[1,2,3,4]\n",
    "p=np.array(a)\n",
    "print(p,type(p),p.shape)"
   ]
  },
  {
   "cell_type": "code",
   "execution_count": 12,
   "metadata": {},
   "outputs": [
    {
     "name": "stdout",
     "output_type": "stream",
     "text": [
      "[[1]\n",
      " [2]\n",
      " [3]\n",
      " [4]\n",
      " [5]] (5, 1)\n"
     ]
    }
   ],
   "source": [
    "b=[[1],[2],[3],[4],[5]]\n",
    "p1=np.array(b)\n",
    "print(p1,p1.shape)"
   ]
  },
  {
   "cell_type": "code",
   "execution_count": 10,
   "metadata": {},
   "outputs": [
    {
     "name": "stdout",
     "output_type": "stream",
     "text": [
      "[0, 1, 2, 3, 4, 5, 6, 7, 8, 9, 10, 11, 12, 13, 14, 15, 16, 17, 18, 19, 20, 21, 22, 23, 24, 25, 26, 27, 28, 29, 30, 31, 32, 33, 34, 35, 36, 37, 38, 39, 40, 41, 42, 43, 44, 45, 46, 47, 48, 49, 50, 51, 52, 53, 54, 55, 56, 57, 58, 59, 60, 61, 62, 63, 64, 65, 66, 67, 68, 69, 70, 71, 72, 73, 74, 75, 76, 77, 78, 79, 80, 81, 82, 83, 84, 85, 86, 87, 88, 89, 90, 91, 92, 93, 94, 95, 96, 97, 98, 99]\n",
      "[ 0  1  2  3  4  5  6  7  8  9 10 11 12 13 14 15 16 17 18 19 20 21 22 23\n",
      " 24 25 26 27 28 29 30 31 32 33 34 35 36 37 38 39 40 41 42 43 44 45 46 47\n",
      " 48 49 50 51 52 53 54 55 56 57 58 59 60 61 62 63 64 65 66 67 68 69 70 71\n",
      " 72 73 74 75 76 77 78 79 80 81 82 83 84 85 86 87 88 89 90 91 92 93 94 95\n",
      " 96 97 98 99]\n"
     ]
    }
   ],
   "source": [
    "l=[i for i in range(100)]\n",
    "print(l)\n",
    "\n",
    "n=np.arange(100)\n",
    "print(n)"
   ]
  },
  {
   "cell_type": "code",
   "execution_count": 2,
   "metadata": {},
   "outputs": [
    {
     "name": "stdout",
     "output_type": "stream",
     "text": [
      "4\n",
      "400\n"
     ]
    }
   ],
   "source": [
    "print(n.itemsize)\n",
    "print(n.itemsize*n.size)"
   ]
  },
  {
   "cell_type": "code",
   "execution_count": 3,
   "metadata": {},
   "outputs": [
    {
     "name": "stdout",
     "output_type": "stream",
     "text": [
      "28\n",
      "2800\n"
     ]
    }
   ],
   "source": [
    "import sys\n",
    "a=10\n",
    "print(sys.getsizeof(a))\n",
    "print(sys.getsizeof(1)*len(l))"
   ]
  },
  {
   "cell_type": "code",
   "execution_count": 4,
   "metadata": {},
   "outputs": [
    {
     "name": "stdout",
     "output_type": "stream",
     "text": [
      "40.891408920288086\n",
      "1.547098159790039\n"
     ]
    }
   ],
   "source": [
    "import time\n",
    "import numpy as np\n",
    "\n",
    "size=100000\n",
    "\n",
    "def listpy():\n",
    "    t1=time.time()\n",
    "    a=range(size)\n",
    "    b=range(size)\n",
    "    c=[a[i]+b[i] for i in range(size)]\n",
    "    t2=time.time()\n",
    "    print((t2-t1)*1000)\n",
    "    \n",
    "def numpy():\n",
    "    t1=time.time()\n",
    "    a=np.arange(size)\n",
    "    b=np.arange(size)\n",
    "    c=a+b\n",
    "    t2=time.time()\n",
    "    print((t2-t1)*1000)\n",
    "    \n",
    "listpy()\n",
    "numpy()"
   ]
  },
  {
   "cell_type": "code",
   "execution_count": 5,
   "metadata": {},
   "outputs": [
    {
     "name": "stdout",
     "output_type": "stream",
     "text": [
      "[1, 2, 3]\n",
      "[1 2 3]\n",
      "<class 'numpy.ndarray'>\n"
     ]
    }
   ],
   "source": [
    "import numpy as np\n",
    "\n",
    "b=[1,2,3]\n",
    "print(b)\n",
    "c=np.array(b)\n",
    "print(c)\n",
    "print(type(c))"
   ]
  },
  {
   "cell_type": "code",
   "execution_count": 6,
   "metadata": {},
   "outputs": [
    {
     "name": "stdout",
     "output_type": "stream",
     "text": [
      "[1, 2, 3, '5', 'A', 1.245]\n",
      "['1' '2' '3' '5' 'A' '1.245']\n",
      "<class 'numpy.ndarray'>\n"
     ]
    }
   ],
   "source": [
    "b=[1,2,3,'5','A',1.245]\n",
    "print(b)\n",
    "c=np.array(b)\n",
    "print(c)\n",
    "print(type(c))"
   ]
  },
  {
   "cell_type": "code",
   "execution_count": 7,
   "metadata": {},
   "outputs": [
    {
     "name": "stdout",
     "output_type": "stream",
     "text": [
      "[1.    2.    3.    5.    1.245]\n"
     ]
    }
   ],
   "source": [
    "b=[1,2,3,'5',1.245]\n",
    "c=np.array(b,dtype=float)\n",
    "print(c)"
   ]
  },
  {
   "cell_type": "code",
   "execution_count": 8,
   "metadata": {},
   "outputs": [
    {
     "name": "stdout",
     "output_type": "stream",
     "text": [
      "['1' '2' '3' '5' '1.245' '1' '2' '3' '5' '1.245' '1' '2' '3' '5' '1.245']\n"
     ]
    }
   ],
   "source": [
    "b=[1,2,3,'5',1.245]\n",
    "c=np.array(b*3)\n",
    "print(c)"
   ]
  },
  {
   "cell_type": "code",
   "execution_count": 9,
   "metadata": {},
   "outputs": [
    {
     "name": "stdout",
     "output_type": "stream",
     "text": [
      "[1. 1. 1. 1. 1. 1. 1. 1. 1. 1.]\n",
      "[[1 1 1]\n",
      " [1 1 1]]\n"
     ]
    }
   ],
   "source": [
    "b=np.ones(10) #b=np.ones(3,dtype=int)\n",
    "print(b)\n",
    "c=np.ones((2,3),dtype=int)\n",
    "print(c)"
   ]
  },
  {
   "cell_type": "code",
   "execution_count": 16,
   "metadata": {},
   "outputs": [
    {
     "data": {
      "text/plain": [
       "array([[1., 1., 1., 1., 1., 1., 1.],\n",
       "       [1., 1., 1., 1., 1., 1., 1.],\n",
       "       [1., 1., 1., 1., 1., 1., 1.]])"
      ]
     },
     "execution_count": 16,
     "metadata": {},
     "output_type": "execute_result"
    }
   ],
   "source": [
    "b=np.ones((3,7))\n",
    "b"
   ]
  },
  {
   "cell_type": "code",
   "execution_count": 25,
   "metadata": {},
   "outputs": [
    {
     "name": "stdout",
     "output_type": "stream",
     "text": [
      "(1, 21)\n"
     ]
    },
    {
     "data": {
      "text/plain": [
       "array([[1., 1., 1., 1., 1., 1., 1., 1., 1., 1., 1., 1., 1., 1., 1., 1.,\n",
       "        1., 1., 1., 1., 1.]])"
      ]
     },
     "execution_count": 25,
     "metadata": {},
     "output_type": "execute_result"
    }
   ],
   "source": [
    "b=b.reshape(1,-1)\n",
    "print(b.shape)\n",
    "b"
   ]
  },
  {
   "cell_type": "code",
   "execution_count": 26,
   "metadata": {},
   "outputs": [
    {
     "data": {
      "text/plain": [
       "array([[1., 1., 1., 1., 1., 1., 1.],\n",
       "       [1., 1., 1., 1., 1., 1., 1.],\n",
       "       [1., 1., 1., 1., 1., 1., 1.]])"
      ]
     },
     "execution_count": 26,
     "metadata": {},
     "output_type": "execute_result"
    }
   ],
   "source": [
    "b=np.ones((3,7))\n",
    "b"
   ]
  },
  {
   "cell_type": "code",
   "execution_count": 27,
   "metadata": {},
   "outputs": [
    {
     "name": "stdout",
     "output_type": "stream",
     "text": [
      "(21,)\n"
     ]
    },
    {
     "data": {
      "text/plain": [
       "array([1., 1., 1., 1., 1., 1., 1., 1., 1., 1., 1., 1., 1., 1., 1., 1., 1.,\n",
       "       1., 1., 1., 1.])"
      ]
     },
     "execution_count": 27,
     "metadata": {},
     "output_type": "execute_result"
    }
   ],
   "source": [
    "b=b.reshape((-1,))\n",
    "print(b.shape)\n",
    "b"
   ]
  },
  {
   "cell_type": "code",
   "execution_count": 13,
   "metadata": {},
   "outputs": [
    {
     "data": {
      "text/plain": [
       "array([1., 1., 1.])"
      ]
     },
     "execution_count": 13,
     "metadata": {},
     "output_type": "execute_result"
    }
   ],
   "source": [
    "b=np.ones(3)\n",
    "b"
   ]
  },
  {
   "cell_type": "code",
   "execution_count": 30,
   "metadata": {},
   "outputs": [
    {
     "name": "stdout",
     "output_type": "stream",
     "text": [
      "[0 0 0]\n",
      "[[0. 0. 0. 0. 0. 0.]\n",
      " [0. 0. 0. 0. 0. 0.]\n",
      " [0. 0. 0. 0. 0. 0.]\n",
      " [0. 0. 0. 0. 0. 0.]]\n",
      "\n",
      "[[0. 0. 0. 0. 0. 0.]\n",
      " [0. 0. 0. 0. 0. 0.]\n",
      " [0. 0. 0. 0. 0. 0.]\n",
      " [1. 1. 1. 1. 1. 1.]]\n",
      "\n",
      "[[0. 0. 2. 0. 0. 0.]\n",
      " [0. 0. 2. 0. 0. 0.]\n",
      " [0. 0. 2. 0. 0. 0.]\n",
      " [1. 1. 2. 1. 1. 1.]]\n"
     ]
    }
   ],
   "source": [
    "b=np.zeros(3,dtype=int) #size,dtype\n",
    "print(b)\n",
    "c=np.zeros((4,6))\n",
    "print(c,end=\"\\n\\n\")\n",
    "c[3,:]=1\n",
    "print(c,end=\"\\n\\n\")\n",
    "c[:,2]=2\n",
    "print(c)"
   ]
  },
  {
   "cell_type": "code",
   "execution_count": 11,
   "metadata": {},
   "outputs": [
    {
     "name": "stdout",
     "output_type": "stream",
     "text": [
      "[4 4 4]\n",
      "['4' '4' '4']\n",
      "[[50. 50. 50.]\n",
      " [50. 50. 50.]]\n"
     ]
    }
   ],
   "source": [
    "# array of constant values\n",
    "b=np.full(3,4) #size, element, dtype\n",
    "print(b)\n",
    "c=np.full(3,4,dtype=str)\n",
    "print(c)\n",
    "d=np.full((2,3),50,dtype=float)\n",
    "print(d)"
   ]
  },
  {
   "cell_type": "code",
   "execution_count": 12,
   "metadata": {},
   "outputs": [
    {
     "name": "stdout",
     "output_type": "stream",
     "text": [
      "[0. 0. 0.]\n",
      "[-350754864        354          0          0     131074]\n",
      "[['' '' '' '' '' '' '' '']\n",
      " ['' '' '' '' '' '' '' '']]\n"
     ]
    }
   ],
   "source": [
    "b=np.empty(3) #size,dtype\n",
    "print(b)\n",
    "c=np.empty(5,dtype=int)\n",
    "print(c)\n",
    "d=np.empty((2,8),dtype=str)\n",
    "print(d)"
   ]
  },
  {
   "cell_type": "code",
   "execution_count": 13,
   "metadata": {},
   "outputs": [
    {
     "name": "stdout",
     "output_type": "stream",
     "text": [
      "[0 1 2 3 4 5 6 7 8 9]\n",
      "[2 3 4 5 6 7 8 9]\n",
      "[2 4 6 8]\n"
     ]
    }
   ],
   "source": [
    "b=np.arange(10)\n",
    "print(b)\n",
    "c=np.arange(2,10)\n",
    "print(c)\n",
    "d=np.arange(2,10,2)\n",
    "print(d)"
   ]
  },
  {
   "cell_type": "code",
   "execution_count": 14,
   "metadata": {},
   "outputs": [
    {
     "name": "stdout",
     "output_type": "stream",
     "text": [
      "[ 2.          2.16326531  2.32653061  2.48979592  2.65306122  2.81632653\n",
      "  2.97959184  3.14285714  3.30612245  3.46938776  3.63265306  3.79591837\n",
      "  3.95918367  4.12244898  4.28571429  4.44897959  4.6122449   4.7755102\n",
      "  4.93877551  5.10204082  5.26530612  5.42857143  5.59183673  5.75510204\n",
      "  5.91836735  6.08163265  6.24489796  6.40816327  6.57142857  6.73469388\n",
      "  6.89795918  7.06122449  7.2244898   7.3877551   7.55102041  7.71428571\n",
      "  7.87755102  8.04081633  8.20408163  8.36734694  8.53061224  8.69387755\n",
      "  8.85714286  9.02040816  9.18367347  9.34693878  9.51020408  9.67346939\n",
      "  9.83673469 10.        ]\n",
      "0.16326530612244916\n",
      "0.16326530612244872\n"
     ]
    }
   ],
   "source": [
    "#linspace takes step value by its own\n",
    "b=np.linspace(2,10) #start,end\n",
    "print(b)\n",
    "print(b[1]-b[0]) #step value\n",
    "print(b[4]-b[3])"
   ]
  },
  {
   "cell_type": "code",
   "execution_count": 15,
   "metadata": {},
   "outputs": [
    {
     "name": "stdout",
     "output_type": "stream",
     "text": [
      "[ 2  4  6  8 10]\n",
      "[2 3 5 6 8]\n",
      "[2 3 4 5 6 7 8]\n"
     ]
    }
   ],
   "source": [
    "b=np.linspace(2,10,5,dtype=int) #start,end,size, here both 2 and 10 are inclusive\n",
    "print(b)\n",
    "c=np.linspace(2,10,5,dtype=int,endpoint=False) #start,end,size, here endpoint is false, so 10 is exclusive\n",
    "print(c)\n",
    "d=np.linspace(2,10,7,dtype=int,endpoint=False) \n",
    "print(d)"
   ]
  },
  {
   "cell_type": "code",
   "execution_count": 16,
   "metadata": {},
   "outputs": [
    {
     "name": "stdout",
     "output_type": "stream",
     "text": [
      "[[1. 0. 0.]\n",
      " [0. 1. 0.]\n",
      " [0. 0. 1.]]\n"
     ]
    }
   ],
   "source": [
    "b=np.identity(3) #here only one argument can be passed to generate n*n matrx\n",
    "print(b)"
   ]
  },
  {
   "cell_type": "code",
   "execution_count": 17,
   "metadata": {},
   "outputs": [
    {
     "name": "stdout",
     "output_type": "stream",
     "text": [
      "[[1. 0. 0.]\n",
      " [0. 1. 0.]\n",
      " [0. 0. 1.]]\n",
      "[[1. 0. 0. 0.]\n",
      " [0. 1. 0. 0.]\n",
      " [0. 0. 1. 0.]]\n"
     ]
    }
   ],
   "source": [
    "b=np.eye(3)\n",
    "print(b)\n",
    "c=np.eye(3,4)\n",
    "print(c)"
   ]
  },
  {
   "cell_type": "code",
   "execution_count": 17,
   "metadata": {},
   "outputs": [
    {
     "name": "stdout",
     "output_type": "stream",
     "text": [
      "[0.2998306  0.3022103  0.07706381]\n",
      "[[0.36828178 0.54547567 0.91326008 0.34083722]\n",
      " [0.51489174 0.01142689 0.82341481 0.89019425]\n",
      " [0.34651021 0.74513652 0.87616981 0.74990622]]\n"
     ]
    }
   ],
   "source": [
    "#Generators randome values betw [0,1)\n",
    "b=np.random.rand(3) #size, no dtype\n",
    "print(b)\n",
    "c=np.random.rand(3,4)\n",
    "print(c)"
   ]
  },
  {
   "cell_type": "code",
   "execution_count": 25,
   "metadata": {},
   "outputs": [
    {
     "name": "stdout",
     "output_type": "stream",
     "text": [
      "[0.40884898 0.74304327 0.25042869]\n",
      "[[0.12271712 0.54225535 0.67183602 0.25457659 0.95088636]\n",
      " [0.86407604 0.50940343 0.21013478 0.73242348 0.89474863]\n",
      " [0.63679394 0.51029669 0.17040267 0.41765956 0.32297585]\n",
      " [0.3848899  0.0226829  0.75071917 0.86549607 0.53677078]]\n"
     ]
    }
   ],
   "source": [
    "d=np.random.random(3)\n",
    "print(d)\n",
    "e=np.random.random((4,5))\n",
    "print(e)"
   ]
  },
  {
   "cell_type": "code",
   "execution_count": 22,
   "metadata": {},
   "outputs": [
    {
     "name": "stdout",
     "output_type": "stream",
     "text": [
      "[7.09099893 2.84643529 6.77056591 0.57968272 8.03244781 9.4009598\n",
      " 7.36197392 3.52118434 1.91776559 5.79003875]\n"
     ]
    }
   ],
   "source": [
    "d=np.random.rand(10)*10\n",
    "print(d)"
   ]
  },
  {
   "cell_type": "code",
   "execution_count": 20,
   "metadata": {},
   "outputs": [
    {
     "name": "stdout",
     "output_type": "stream",
     "text": [
      "2\n",
      "[[7]\n",
      " [6]\n",
      " [3]\n",
      " [8]\n",
      " [8]\n",
      " [4]\n",
      " [7]\n",
      " [7]\n",
      " [4]\n",
      " [2]]\n"
     ]
    }
   ],
   "source": [
    "b=np.random.randint(10)\n",
    "print(b)\n",
    "c=np.random.randint(2,10,(10,1))\n",
    "print(c)"
   ]
  },
  {
   "cell_type": "code",
   "execution_count": 21,
   "metadata": {},
   "outputs": [
    {
     "name": "stdout",
     "output_type": "stream",
     "text": [
      "[1 2 3 4 5]\n",
      "<memory at 0x00000162ECE95A08>\n",
      "(5,)\n",
      "(4,)\n",
      "4\n",
      "[2 3 4]\n"
     ]
    }
   ],
   "source": [
    "#1D\n",
    "\n",
    "b=[1,2,3,4,5]\n",
    "c=np.array(b)\n",
    "\n",
    "print(c)\n",
    "print(c.data)\n",
    "print(c.shape)\n",
    "print(c.strides)\n",
    "print(c[3])\n",
    "print(c[1:4])"
   ]
  },
  {
   "cell_type": "code",
   "execution_count": 22,
   "metadata": {},
   "outputs": [
    {
     "name": "stdout",
     "output_type": "stream",
     "text": [
      "[[1, 2, 3, 4], [5, 6, 7, 8], [9, 10, 11, 12], [13, 14, 15, 16]]\n",
      "[[ 1  2  3  4]\n",
      " [ 5  6  7  8]\n",
      " [ 9 10 11 12]\n",
      " [13 14 15 16]]\n",
      "<memory at 0x00000162ECEAFC88>\n",
      "(4, 4)\n",
      "(16, 4)\n",
      "11\n",
      "11\n",
      "11\n",
      "[5, 6, 7]\n",
      "[5 6 7]\n",
      "[5 6 7]\n"
     ]
    }
   ],
   "source": [
    "#2D\n",
    "\n",
    "b=[[1,2,3,4],[5,6,7,8],[9,10,11,12],[13,14,15,16]]\n",
    "c=np.array(b)\n",
    "print(b)\n",
    "print(c)\n",
    "print(c.data) #memory pointing to first element\n",
    "print(c.shape) #size of the numpy array\n",
    "print(c.strides) #no of bytes need to move to next element\n",
    "print(b[2][2]) #here b[2,2] will not work as it is not numpy array\n",
    "print(c[2][2])\n",
    "print(c[2,2]) # row,col\n",
    "print(b[1][:3]) #similary here also b[1,:3] will not work\n",
    "print(c[1][:3])\n",
    "print(c[1,:3])"
   ]
  },
  {
   "cell_type": "code",
   "execution_count": 23,
   "metadata": {},
   "outputs": [
    {
     "name": "stdout",
     "output_type": "stream",
     "text": [
      "[9, 10, 11, 12]\n",
      "[[1, 2, 3, 4], [5, 6, 7, 8], [9, 10, 11, 12]]\n",
      "[9, 10, 11, 12]\n"
     ]
    }
   ],
   "source": [
    "#now if we want to print [3,7,11]= > col=2 and row 0 to 2, we have to use for loop to get the elements\n",
    "print(b[0:3][2])\n",
    "\n",
    "x=b[0:3]\n",
    "print(x)\n",
    "y=x[2]\n",
    "print(y)"
   ]
  },
  {
   "cell_type": "code",
   "execution_count": 24,
   "metadata": {},
   "outputs": [
    {
     "name": "stdout",
     "output_type": "stream",
     "text": [
      "[ 3  7 11]\n",
      "[ 9 10 11 12]\n"
     ]
    }
   ],
   "source": [
    "print(c[:3,2])\n",
    "print(c[:3][2])"
   ]
  },
  {
   "cell_type": "code",
   "execution_count": 25,
   "metadata": {},
   "outputs": [
    {
     "name": "stdout",
     "output_type": "stream",
     "text": [
      "[[13, 14, 15, 16]]\n",
      "[[9, 10, 11, 12], [13, 14, 15, 16]]\n",
      "[[13, 14, 15, 16]]\n"
     ]
    }
   ],
   "source": [
    "# to get [[10,11],\n",
    "#            [14,15]]\n",
    "\n",
    "print(b[2:4][1:3])\n",
    "\n",
    "print(b[2:4])\n",
    "print(b[2:4][1:3])"
   ]
  },
  {
   "cell_type": "code",
   "execution_count": 26,
   "metadata": {},
   "outputs": [
    {
     "name": "stdout",
     "output_type": "stream",
     "text": [
      "[[10 11]\n",
      " [14 15]]\n",
      "[[13 14 15 16]]\n"
     ]
    }
   ],
   "source": [
    "print(c[2:4,1:3])\n",
    "print(c[2:4][1:3])"
   ]
  },
  {
   "cell_type": "code",
   "execution_count": 27,
   "metadata": {},
   "outputs": [
    {
     "name": "stdout",
     "output_type": "stream",
     "text": [
      "[1, 2, 3, 4, 5]\n",
      "[18 17 14 11 11  7  6 16  1  5]\n",
      "[12 19  2  1  5 16  3  8 18  9]\n"
     ]
    }
   ],
   "source": [
    "l=[1,2,3,4,5]\n",
    "\n",
    "print(l)\n",
    "\n",
    "c=np.random.randint(1,20,10)\n",
    "d=np.random.randint(1,20,10)\n",
    "\n",
    "print(c)\n",
    "print(d)"
   ]
  },
  {
   "cell_type": "code",
   "execution_count": 28,
   "metadata": {},
   "outputs": [
    {
     "name": "stdout",
     "output_type": "stream",
     "text": [
      "[2, 3, 4, 5, 6]\n",
      "[19 18 15 12 12  8  7 17  2  6]\n"
     ]
    }
   ],
   "source": [
    "l=[i+1 for i in l]\n",
    "print(l)\n",
    "\n",
    "c+=1\n",
    "print(c)"
   ]
  },
  {
   "cell_type": "code",
   "execution_count": 29,
   "metadata": {},
   "outputs": [
    {
     "name": "stdout",
     "output_type": "stream",
     "text": [
      "[31 37 17 13 17 24 10 25 20 15]\n",
      "[  7  -1  13  11   7  -8   4   9 -16  -3]\n",
      "[228 342  30  12  60 128  21 136  36  54]\n",
      "[ 1.58333333  0.94736842  7.5        12.          2.4         0.5\n",
      "  2.33333333  2.125       0.11111111  0.66666667]\n",
      "[ 1  0  7 12  2  0  2  2  0  0]\n",
      "[-1987646927  -355991552         225          12      248832           0\n",
      "         343 -1614177151      262144    10077696]\n"
     ]
    }
   ],
   "source": [
    "print(c+d)\n",
    "print(c-d)\n",
    "print(c*d)\n",
    "print(c/d)\n",
    "print(c//d)\n",
    "print(c**d)"
   ]
  },
  {
   "cell_type": "code",
   "execution_count": 30,
   "metadata": {},
   "outputs": [
    {
     "name": "stdout",
     "output_type": "stream",
     "text": [
      "[19 18 15 12 12  8  7 17  2  6]\n",
      "116\n",
      "11.6\n",
      "2\n",
      "8\n",
      "19\n",
      "0\n"
     ]
    }
   ],
   "source": [
    "print(c)\n",
    "print(c.sum())\n",
    "print(c.mean())\n",
    "print(c.min())\n",
    "print(c.argmin()) #gives the index of the first minimum element\n",
    "print(c.max())\n",
    "print(c.argmax()) #gives the index of the first max element"
   ]
  },
  {
   "cell_type": "code",
   "execution_count": 31,
   "metadata": {},
   "outputs": [
    {
     "name": "stdout",
     "output_type": "stream",
     "text": [
      "[19 18 15 12 12  8  7 17  2  6]\n",
      "[12 19  2  1  5 16  3  8 18  9]\n",
      "[ True False  True  True  True False  True  True False False]\n",
      "[False  True False False False  True False False  True  True]\n",
      "[False False False False False False False False False False]\n"
     ]
    }
   ],
   "source": [
    "print(c)\n",
    "print(d)\n",
    "print(c>d)\n",
    "print(c<d)\n",
    "print(c==d)"
   ]
  },
  {
   "cell_type": "code",
   "execution_count": 32,
   "metadata": {},
   "outputs": [
    {
     "name": "stdout",
     "output_type": "stream",
     "text": [
      "[19 18  0 12 12  8  7 17  2  6]\n",
      "[12 19  2  1  5 16  3  8 18  9]\n",
      "[ True  True  True  True  True  True  True  True  True  True]\n",
      "[ True  True False  True  True  True  True  True  True  True]\n",
      "[False False  True False False False False False False False]\n"
     ]
    }
   ],
   "source": [
    "c[2]=0\n",
    "print(c)\n",
    "print(d)\n",
    "print(np.logical_or(c,d))\n",
    "print(np.logical_and(c,d))\n",
    "print(np.logical_not(c))"
   ]
  },
  {
   "cell_type": "code",
   "execution_count": 33,
   "metadata": {},
   "outputs": [
    {
     "name": "stdout",
     "output_type": "stream",
     "text": [
      "[[ 1  2  3  4]\n",
      " [ 5  6 15 80]\n",
      " [ 9 10 11 12]\n",
      " [13 14 15 16]]\n",
      "216\n",
      "13.5\n",
      "80\n",
      "7\n",
      "1\n",
      "0\n"
     ]
    }
   ],
   "source": [
    "b=[[1,2,3,4],[5,6,15,80],[9,10,11,12],[13,14,15,16]]\n",
    "d=[[0,1,2,3],[10,12,16,18],[-10,9,8,7],[11,45,78,90]]\n",
    "e=np.array(b)\n",
    "f=np.array(d)\n",
    "print(e)\n",
    "print(e.sum())\n",
    "print(e.mean())\n",
    "print(e.max())\n",
    "print(e.argmax()) #it treats 2d array as 1d array and return index wrt it\n",
    "print(e.min())\n",
    "print(e.argmin())"
   ]
  },
  {
   "cell_type": "code",
   "execution_count": 34,
   "metadata": {},
   "outputs": [
    {
     "name": "stdout",
     "output_type": "stream",
     "text": [
      "[[ 1  2  3  4]\n",
      " [ 5  6 15 80]\n",
      " [ 9 10 11 12]\n",
      " [13 14 15 16]]\n",
      "[[  0   1   2   3]\n",
      " [ 10  12  16  18]\n",
      " [-10   9   8   7]\n",
      " [ 11  45  78  90]]\n",
      "\n",
      "[[ True  True  True  True]\n",
      " [False False False  True]\n",
      " [ True  True  True  True]\n",
      " [ True False False False]]\n",
      "\n",
      "[[False False False False]\n",
      " [ True  True  True False]\n",
      " [False False False False]\n",
      " [False  True  True  True]]\n",
      "\n",
      "[[False False False False]\n",
      " [False False False False]\n",
      " [False False False False]\n",
      " [False False False False]]\n",
      "\n",
      "[[ True  True  True  True]\n",
      " [ True  True  True  True]\n",
      " [ True  True  True  True]\n",
      " [ True  True  True  True]]\n",
      "\n",
      "[[False  True  True  True]\n",
      " [ True  True  True  True]\n",
      " [ True  True  True  True]\n",
      " [ True  True  True  True]]\n"
     ]
    }
   ],
   "source": [
    "print(e)\n",
    "print(f)\n",
    "print()\n",
    "print(e>f)\n",
    "print()\n",
    "print(e<f)\n",
    "print()\n",
    "print(e==f)\n",
    "print()\n",
    "print(np.logical_or(e,f))\n",
    "print()\n",
    "print(np.logical_and(e,f))"
   ]
  },
  {
   "cell_type": "code",
   "execution_count": 35,
   "metadata": {},
   "outputs": [
    {
     "name": "stdout",
     "output_type": "stream",
     "text": [
      "['w' 'b' 'h' 's' 'r' 'a' 'a' 'k' 'v' 'a']\n",
      "[16  4 18  6  8  5  3  4 17  4]\n"
     ]
    }
   ],
   "source": [
    "import numpy as np\n",
    "#boolean idnexing\n",
    "b=np.array(['w','b','h','s','r','a','a','k','v','a'])\n",
    "c=np.random.randint(1,20,10)\n",
    "\n",
    "print(b)\n",
    "print(c)"
   ]
  },
  {
   "cell_type": "code",
   "execution_count": 36,
   "metadata": {},
   "outputs": [
    {
     "name": "stdout",
     "output_type": "stream",
     "text": [
      "[ True False  True False False False False False  True False]\n",
      "[16 18 17]\n"
     ]
    }
   ],
   "source": [
    "bool_arr=c>10\n",
    "print(bool_arr)\n",
    "new_arr=c[bool_arr]\n",
    "print(new_arr)"
   ]
  },
  {
   "cell_type": "code",
   "execution_count": 37,
   "metadata": {},
   "outputs": [
    {
     "name": "stdout",
     "output_type": "stream",
     "text": [
      "[16 18 17]\n",
      "[16 17]\n"
     ]
    }
   ],
   "source": [
    "print(c[c>10])\n",
    "print(c[(c>10) & (c<18)])"
   ]
  },
  {
   "cell_type": "code",
   "execution_count": 38,
   "metadata": {},
   "outputs": [
    {
     "name": "stdout",
     "output_type": "stream",
     "text": [
      "[16  4 18  6  8  5  3  4 17  4]\n"
     ]
    }
   ],
   "source": [
    "print(c)"
   ]
  },
  {
   "cell_type": "code",
   "execution_count": 39,
   "metadata": {},
   "outputs": [
    {
     "name": "stdout",
     "output_type": "stream",
     "text": [
      "[ 9  9  9  6  8  5  3  4 17  4]\n"
     ]
    }
   ],
   "source": [
    "c[:3]=9\n",
    "print(c)"
   ]
  },
  {
   "cell_type": "code",
   "execution_count": 40,
   "metadata": {},
   "outputs": [
    {
     "name": "stdout",
     "output_type": "stream",
     "text": [
      "[  9   9   9   6   8   5   3   4 100   4]\n"
     ]
    }
   ],
   "source": [
    "c[c>10]=100\n",
    "print(c)"
   ]
  },
  {
   "cell_type": "code",
   "execution_count": 41,
   "metadata": {},
   "outputs": [
    {
     "name": "stdout",
     "output_type": "stream",
     "text": [
      "[  9   9   9   6   8   5   3   4 100   4]\n",
      "[100]\n"
     ]
    }
   ],
   "source": [
    "print(c)\n",
    "print(c[c==100])"
   ]
  },
  {
   "cell_type": "code",
   "execution_count": 42,
   "metadata": {},
   "outputs": [
    {
     "name": "stdout",
     "output_type": "stream",
     "text": [
      "[  9   9   9   6   8   5   3   4 100   4]\n",
      "(array([8], dtype=int64),)\n"
     ]
    }
   ],
   "source": [
    "print(c)\n",
    "ind=np.where(c==100)\n",
    "print(ind)"
   ]
  },
  {
   "cell_type": "code",
   "execution_count": 43,
   "metadata": {},
   "outputs": [
    {
     "name": "stdout",
     "output_type": "stream",
     "text": [
      "['w' 'b' 'h' 's' 'r' 'a' 'a' 'k' 'v' 'a']\n",
      "[  9   9   9   6   8   5   3   4 100   4]\n",
      "(array([8], dtype=int64),)\n",
      "['v']\n"
     ]
    }
   ],
   "source": [
    "print(b)\n",
    "print(c)\n",
    "ind=np.where(c==100)\n",
    "print(ind)\n",
    "print(b[ind])"
   ]
  },
  {
   "cell_type": "code",
   "execution_count": 44,
   "metadata": {},
   "outputs": [
    {
     "name": "stdout",
     "output_type": "stream",
     "text": [
      "[[19  7 14 14 14  8]\n",
      " [23 19 19 23 15  4]\n",
      " [15 29 11 28  6  5]\n",
      " [11 19 17 23  2 25]\n",
      " [ 9 17 26 14 21 16]]\n",
      "[[False False False False False False]\n",
      " [ True False False  True False False]\n",
      " [False  True False  True False False]\n",
      " [False False False  True False  True]\n",
      " [False False  True False  True False]]\n"
     ]
    }
   ],
   "source": [
    "#boolean indexing on 2d\n",
    "b=np.random.randint(1,30,(5,6))\n",
    "print(b)\n",
    "print(b>20)"
   ]
  },
  {
   "cell_type": "code",
   "execution_count": 45,
   "metadata": {},
   "outputs": [
    {
     "name": "stdout",
     "output_type": "stream",
     "text": [
      "[23 23 29 28 23 25 26 21]\n"
     ]
    }
   ],
   "source": [
    "print(b[b>20]) #ans in 1d array"
   ]
  },
  {
   "cell_type": "code",
   "execution_count": 46,
   "metadata": {},
   "outputs": [
    {
     "name": "stdout",
     "output_type": "stream",
     "text": [
      "[[ 19   7  14  14  14   8]\n",
      " [100  19  19 100  15   4]\n",
      " [ 15 100  11 100   6   5]\n",
      " [ 11  19  17 100   2 100]\n",
      " [  9  17 100  14 100  16]]\n"
     ]
    }
   ],
   "source": [
    "b[b>20]=100\n",
    "print(b)"
   ]
  },
  {
   "cell_type": "code",
   "execution_count": 47,
   "metadata": {},
   "outputs": [
    {
     "name": "stdout",
     "output_type": "stream",
     "text": [
      "[[ 19   7  14  14  14   8]\n",
      " [100  19  19 100  15   4]\n",
      " [ 15 100  11 100   6   5]\n",
      " [ 11  19  17 100   2 100]\n",
      " [  9  17 100  14 100  16]]\n",
      "\n",
      "[False  True  True  True False]\n",
      "\n",
      "[[ 19   7  14  14  14   8]\n",
      " [100  19  19  90  15   4]\n",
      " [ 15 100  11  90   6   5]\n",
      " [ 11  19  17  90   2 100]\n",
      " [  9  17 100  14 100  16]]\n"
     ]
    }
   ],
   "source": [
    "print(b)\n",
    "print()\n",
    "bool_arr=b[:,3]==100\n",
    "print(bool_arr)\n",
    "print()\n",
    "b[bool_arr,3]=90\n",
    "print(b)"
   ]
  },
  {
   "cell_type": "code",
   "execution_count": 48,
   "metadata": {},
   "outputs": [
    {
     "name": "stdout",
     "output_type": "stream",
     "text": [
      "[0 4 1 3 2]\n",
      "[[ 19   7  14  14  14   8]\n",
      " [  9  17 100  14 100  16]\n",
      " [100  19  19  90  15   4]\n",
      " [ 11  19  17  90   2 100]\n",
      " [ 15 100  11  90   6   5]]\n"
     ]
    }
   ],
   "source": [
    "print(b[:,1].argsort())\n",
    "ind=b[:,1].argsort()\n",
    "print(b[ind])"
   ]
  },
  {
   "cell_type": "code",
   "execution_count": 49,
   "metadata": {},
   "outputs": [
    {
     "name": "stdout",
     "output_type": "stream",
     "text": [
      "[1 5 2 3 4 0]\n"
     ]
    }
   ],
   "source": [
    "print(b[0,:].argsort())\n",
    "ind=b[0,:].argsort()\n",
    "#print(ind)\n",
    "#print(b[:,ind])"
   ]
  },
  {
   "cell_type": "code",
   "execution_count": 50,
   "metadata": {},
   "outputs": [
    {
     "name": "stdout",
     "output_type": "stream",
     "text": [
      "[[3 5 7]\n",
      " [7 9 8]\n",
      " [7 7 9]]\n",
      "[[1 2 4]\n",
      " [4 5 3]\n",
      " [3 4 6]]\n"
     ]
    }
   ],
   "source": [
    "#broadcasting\n",
    "\n",
    "import numpy as np\n",
    "\n",
    "x=np.random.randint(1,10,(3,3))\n",
    "y=np.random.randint(1,10,(3,3))\n",
    "print(x)\n",
    "print(y)"
   ]
  },
  {
   "cell_type": "code",
   "execution_count": 51,
   "metadata": {},
   "outputs": [
    {
     "name": "stdout",
     "output_type": "stream",
     "text": [
      "[[ 4  7 11]\n",
      " [11 14 11]\n",
      " [10 11 15]]\n"
     ]
    }
   ],
   "source": [
    "print(x+y)"
   ]
  },
  {
   "cell_type": "code",
   "execution_count": 32,
   "metadata": {},
   "outputs": [
    {
     "name": "stdout",
     "output_type": "stream",
     "text": [
      "[[9 3 9]\n",
      " [5 3 5]\n",
      " [4 6 4]]\n",
      "[8 5 7]\n"
     ]
    }
   ],
   "source": [
    "x=np.random.randint(1,10,(3,3))\n",
    "y=np.random.randint(1,10,3)\n",
    "print(x)\n",
    "print(y)"
   ]
  },
  {
   "cell_type": "code",
   "execution_count": 39,
   "metadata": {},
   "outputs": [
    {
     "name": "stdout",
     "output_type": "stream",
     "text": [
      "[[ 1 -2  2]\n",
      " [-3 -2 -2]\n",
      " [-4  1 -3]]\n",
      "\n",
      "[[ 1 -2  2]\n",
      " [-3 -2 -2]\n",
      " [-4  1 -3]]\n",
      "\n",
      "[150  90  90]\n",
      "\n",
      "dot [150  90  90]\n",
      "\n"
     ]
    }
   ],
   "source": [
    "print(x-y,end=\"\\n\\n\")\n",
    "print(np.subtract(x,y),end=\"\\n\\n\")\n",
    "print(x.dot(y),end=\"\\n\\n\")\n",
    "print(\"dot\",np.dot(x,y),end=\"\\n\\n\")"
   ]
  },
  {
   "cell_type": "code",
   "execution_count": 41,
   "metadata": {},
   "outputs": [
    {
     "name": "stdout",
     "output_type": "stream",
     "text": [
      "[8 8 3]\n",
      "[1 8 9]\n"
     ]
    }
   ],
   "source": [
    "x=np.random.randint(1,10,3)\n",
    "y=np.random.randint(1,10,3)\n",
    "print(x)\n",
    "print(y)"
   ]
  },
  {
   "cell_type": "code",
   "execution_count": 42,
   "metadata": {},
   "outputs": [
    {
     "name": "stdout",
     "output_type": "stream",
     "text": [
      "99\n"
     ]
    }
   ],
   "source": [
    "print(x.dot(y)) #scalar value"
   ]
  },
  {
   "cell_type": "code",
   "execution_count": 48,
   "metadata": {},
   "outputs": [
    {
     "name": "stdout",
     "output_type": "stream",
     "text": [
      "[[8 5 3 8]\n",
      " [6 4 8 4]\n",
      " [4 7 6 3]]\n"
     ]
    }
   ],
   "source": [
    "x=np.random.randint(1,10,(3,4))\n",
    "print(x)"
   ]
  },
  {
   "cell_type": "code",
   "execution_count": 52,
   "metadata": {},
   "outputs": [
    {
     "name": "stdout",
     "output_type": "stream",
     "text": [
      "[18 16 17 15]\n",
      "66\n",
      "[18 16 17 15]\n",
      "[24 22 20]\n"
     ]
    }
   ],
   "source": [
    "print(sum(x))\n",
    "print(np.sum(x))\n",
    "print(np.sum(x,axis=0)) #0 stands for column wise\n",
    "print(np.sum(x,axis=1)) #1 stands for row size"
   ]
  },
  {
   "cell_type": "markdown",
   "metadata": {},
   "source": [
    "# Stacking"
   ]
  },
  {
   "cell_type": "code",
   "execution_count": 63,
   "metadata": {},
   "outputs": [
    {
     "name": "stdout",
     "output_type": "stream",
     "text": [
      "[[ 1  2  3  4]\n",
      " [ 4 16 36 64]]\n",
      "\n",
      "\n",
      "\n",
      "[[ 1  4]\n",
      " [ 2 16]\n",
      " [ 3 36]\n",
      " [ 4 64]]\n",
      "\n",
      "\n",
      "\n",
      "[ 1  2  3  4  4 16 36 64]\n",
      "\n",
      "\n",
      "\n",
      "[[ 1  2  3  4]\n",
      " [ 4 16 36 64]]\n"
     ]
    }
   ],
   "source": [
    "#Stacking\n",
    "\n",
    "x=np.array([1,2,3,4])\n",
    "y=np.array([4,16,36,64])\n",
    "\n",
    "print(np.stack((x,y))) #by default axis is 0 means column wise\n",
    "print(end=\"\\n\\n\\n\")\n",
    "print(np.stack((x,y),axis=1))\n",
    "print(end=\"\\n\\n\\n\")\n",
    "print(np.hstack((x,y)))\n",
    "print(end=\"\\n\\n\\n\")\n",
    "print(np.vstack((x,y))) # same as np.stack"
   ]
  },
  {
   "cell_type": "markdown",
   "metadata": {},
   "source": [
    "# Reshaping"
   ]
  },
  {
   "cell_type": "code",
   "execution_count": 73,
   "metadata": {},
   "outputs": [
    {
     "name": "stdout",
     "output_type": "stream",
     "text": [
      "[ 0  1  2  3  4  5  6  7  8  9 10 11 12 13 14 15 16 17 18 19]\n",
      "[[ 0  1  2  3  4  5  6  7  8  9]\n",
      " [10 11 12 13 14 15 16 17 18 19]]\n",
      "[[ 0  1  2  3]\n",
      " [ 4  5  6  7]\n",
      " [ 8  9 10 11]\n",
      " [12 13 14 15]\n",
      " [16 17 18 19]]\n",
      "[[ 0  1  2  3]\n",
      " [ 4  5  6  7]\n",
      " [ 8  9 10 11]\n",
      " [12 13 14 15]\n",
      " [16 17 18 19]]\n"
     ]
    }
   ],
   "source": [
    "#Reshaping\n",
    "\n",
    "x=np.arange(0,20,dtype=int)\n",
    "print(x)\n",
    "print(x.reshape(2,10))\n",
    "print(x.reshape(5,-1)) #Here 5 are the rows and -1 represents we dont know the no of columns it will have\n",
    "                       #so it will automatically detect\n",
    "print(x.reshape(-1,4))"
   ]
  },
  {
   "cell_type": "code",
   "execution_count": 54,
   "metadata": {},
   "outputs": [
    {
     "name": "stdout",
     "output_type": "stream",
     "text": [
      "[[-3  7]\n",
      " [ 1  8]\n",
      " [ 2 -1]]\n"
     ]
    }
   ],
   "source": [
    "x=np.random.randint(1,10,(3,2))\n",
    "y=np.random.randint(1,10,(2,3))\n",
    "\n",
    "#print(x-y) error because of diff in size\n",
    "\n",
    "y=np.transpose(y)\n",
    "print(x-y)"
   ]
  },
  {
   "cell_type": "code",
   "execution_count": 55,
   "metadata": {},
   "outputs": [
    {
     "name": "stdout",
     "output_type": "stream",
     "text": [
      "[6 9 9 5 1 9]\n",
      "[[6]\n",
      " [9]]\n",
      "None\n"
     ]
    }
   ],
   "source": [
    "x=np.random.randint(1,10,6)\n",
    "print(x)\n",
    "y=x.resize(2,1)\n",
    "print(x)\n",
    "print(y)\n",
    "#here it can be resized to anything, if elements are missing then they are filled with zeros. The original array is changed."
   ]
  },
  {
   "cell_type": "code",
   "execution_count": 56,
   "metadata": {},
   "outputs": [
    {
     "name": "stdout",
     "output_type": "stream",
     "text": [
      "[3 2 2 1 8 4]\n",
      "[3 2 2 1 8 4]\n",
      "[[3]\n",
      " [2]\n",
      " [2]\n",
      " [1]\n",
      " [8]\n",
      " [4]]\n"
     ]
    }
   ],
   "source": [
    "x=np.random.randint(1,10,6)\n",
    "print(x)\n",
    "y=x.reshape(6,1)\n",
    "print(x)\n",
    "print(y)\n",
    "#Here, it can only be resized to the multiples of m*n. The original array is not changed."
   ]
  },
  {
   "cell_type": "code",
   "execution_count": null,
   "metadata": {},
   "outputs": [],
   "source": []
  },
  {
   "cell_type": "markdown",
   "metadata": {},
   "source": [
    "# Random Module"
   ]
  },
  {
   "cell_type": "code",
   "execution_count": 78,
   "metadata": {},
   "outputs": [
    {
     "data": {
      "text/plain": [
       "array([2, 5, 8])"
      ]
     },
     "execution_count": 78,
     "metadata": {},
     "output_type": "execute_result"
    }
   ],
   "source": [
    "a=np.arange(2,10,3) #start,stop,step\n",
    "a"
   ]
  },
  {
   "cell_type": "code",
   "execution_count": 79,
   "metadata": {},
   "outputs": [
    {
     "data": {
      "text/plain": [
       "array([ 7,  8,  9, 10, 11, 12, 13])"
      ]
     },
     "execution_count": 79,
     "metadata": {},
     "output_type": "execute_result"
    }
   ],
   "source": [
    "a=np.arange(3,10)+4\n",
    "a"
   ]
  },
  {
   "cell_type": "code",
   "execution_count": 80,
   "metadata": {},
   "outputs": [
    {
     "data": {
      "text/plain": [
       "array([ 6,  7,  8,  9, 10, 11, 12, 13, 14, 15])"
      ]
     },
     "execution_count": 80,
     "metadata": {},
     "output_type": "execute_result"
    }
   ],
   "source": [
    "a=np.arange(10)+6\n",
    "a"
   ]
  },
  {
   "cell_type": "code",
   "execution_count": 85,
   "metadata": {},
   "outputs": [
    {
     "data": {
      "text/plain": [
       "array([15, 13, 14,  7,  8,  6, 11,  9, 10, 12])"
      ]
     },
     "execution_count": 85,
     "metadata": {},
     "output_type": "execute_result"
    }
   ],
   "source": [
    "np.random.shuffle(a)\n",
    "a"
   ]
  },
  {
   "cell_type": "code",
   "execution_count": 107,
   "metadata": {},
   "outputs": [
    {
     "data": {
      "text/plain": [
       "array([0.23608898, 0.39658073, 0.38791074, 0.66974604])"
      ]
     },
     "execution_count": 107,
     "metadata": {},
     "output_type": "execute_result"
    }
   ],
   "source": [
    "np.random.rand(4)"
   ]
  },
  {
   "cell_type": "code",
   "execution_count": 91,
   "metadata": {},
   "outputs": [
    {
     "data": {
      "text/plain": [
       "array([[-0.09453842,  0.89627992,  0.36097711, -0.20166053,  0.00558474],\n",
       "       [-0.07031013, -0.50441619,  0.21476709,  2.41631324,  0.24382426],\n",
       "       [ 1.55695328, -0.28198536,  0.44265741,  0.19839382,  0.17353841],\n",
       "       [ 0.62915914, -0.60243101,  0.91787503,  0.29746384,  1.18405924]])"
      ]
     },
     "execution_count": 91,
     "metadata": {},
     "output_type": "execute_result"
    }
   ],
   "source": [
    "#This returns values from standard normal distribution\n",
    "np.random.randn(4,5)"
   ]
  },
  {
   "cell_type": "code",
   "execution_count": 95,
   "metadata": {},
   "outputs": [
    {
     "data": {
      "text/plain": [
       "array([[6, 5, 5, 6, 9],\n",
       "       [3, 2, 2, 8, 6],\n",
       "       [9, 5, 7, 5, 9],\n",
       "       [9, 5, 8, 5, 5]])"
      ]
     },
     "execution_count": 95,
     "metadata": {},
     "output_type": "execute_result"
    }
   ],
   "source": [
    "np.random.randint(2,10,(4,5))"
   ]
  },
  {
   "cell_type": "code",
   "execution_count": 105,
   "metadata": {},
   "outputs": [
    {
     "data": {
      "text/plain": [
       "-10.0"
      ]
     },
     "execution_count": 105,
     "metadata": {},
     "output_type": "execute_result"
    }
   ],
   "source": [
    "np.random.seed(1)\n",
    "np.random.choice([4,5,10,11,200,-10,3.4])"
   ]
  },
  {
   "cell_type": "code",
   "execution_count": null,
   "metadata": {},
   "outputs": [],
   "source": []
  },
  {
   "cell_type": "markdown",
   "metadata": {},
   "source": [
    "# Statistics Functions"
   ]
  },
  {
   "cell_type": "code",
   "execution_count": 128,
   "metadata": {},
   "outputs": [
    {
     "data": {
      "text/plain": [
       "array([[1, 2, 3, 4],\n",
       "       [7, 6, 2, 0]])"
      ]
     },
     "execution_count": 128,
     "metadata": {},
     "output_type": "execute_result"
    }
   ],
   "source": [
    "a=np.array([[1,2,3,4],[7,6,2,0]])\n",
    "a"
   ]
  },
  {
   "cell_type": "code",
   "execution_count": 113,
   "metadata": {},
   "outputs": [
    {
     "data": {
      "text/plain": [
       "0"
      ]
     },
     "execution_count": 113,
     "metadata": {},
     "output_type": "execute_result"
    }
   ],
   "source": [
    "a.min()"
   ]
  },
  {
   "cell_type": "code",
   "execution_count": 114,
   "metadata": {},
   "outputs": [
    {
     "data": {
      "text/plain": [
       "0"
      ]
     },
     "execution_count": 114,
     "metadata": {},
     "output_type": "execute_result"
    }
   ],
   "source": [
    "np.min(a)"
   ]
  },
  {
   "cell_type": "code",
   "execution_count": 115,
   "metadata": {},
   "outputs": [
    {
     "data": {
      "text/plain": [
       "array([1, 2, 2, 0])"
      ]
     },
     "execution_count": 115,
     "metadata": {},
     "output_type": "execute_result"
    }
   ],
   "source": [
    "np.min(a,axis=0)"
   ]
  },
  {
   "cell_type": "code",
   "execution_count": 116,
   "metadata": {},
   "outputs": [
    {
     "data": {
      "text/plain": [
       "array([1, 0])"
      ]
     },
     "execution_count": 116,
     "metadata": {},
     "output_type": "execute_result"
    }
   ],
   "source": [
    "np.min(a,axis=1)"
   ]
  },
  {
   "cell_type": "code",
   "execution_count": 117,
   "metadata": {},
   "outputs": [
    {
     "data": {
      "text/plain": [
       "array([8, 8, 5, 4])"
      ]
     },
     "execution_count": 117,
     "metadata": {},
     "output_type": "execute_result"
    }
   ],
   "source": [
    "np.sum(a,axis=0)"
   ]
  },
  {
   "cell_type": "code",
   "execution_count": 118,
   "metadata": {},
   "outputs": [
    {
     "data": {
      "text/plain": [
       "25"
      ]
     },
     "execution_count": 118,
     "metadata": {},
     "output_type": "execute_result"
    }
   ],
   "source": [
    "a.sum()"
   ]
  },
  {
   "cell_type": "code",
   "execution_count": 119,
   "metadata": {},
   "outputs": [
    {
     "data": {
      "text/plain": [
       "array([10, 15])"
      ]
     },
     "execution_count": 119,
     "metadata": {},
     "output_type": "execute_result"
    }
   ],
   "source": [
    "np.sum(a,axis=1)"
   ]
  },
  {
   "cell_type": "code",
   "execution_count": 120,
   "metadata": {},
   "outputs": [
    {
     "data": {
      "text/plain": [
       "3.125"
      ]
     },
     "execution_count": 120,
     "metadata": {},
     "output_type": "execute_result"
    }
   ],
   "source": [
    "a.mean()"
   ]
  },
  {
   "cell_type": "code",
   "execution_count": 121,
   "metadata": {},
   "outputs": [
    {
     "data": {
      "text/plain": [
       "array([4. , 4. , 2.5, 2. ])"
      ]
     },
     "execution_count": 121,
     "metadata": {},
     "output_type": "execute_result"
    }
   ],
   "source": [
    "np.mean(a,axis=0)"
   ]
  },
  {
   "cell_type": "code",
   "execution_count": 122,
   "metadata": {},
   "outputs": [
    {
     "data": {
      "text/plain": [
       "2.5"
      ]
     },
     "execution_count": 122,
     "metadata": {},
     "output_type": "execute_result"
    }
   ],
   "source": [
    "np.median(a)"
   ]
  },
  {
   "cell_type": "code",
   "execution_count": 123,
   "metadata": {},
   "outputs": [
    {
     "data": {
      "text/plain": [
       "3.125"
      ]
     },
     "execution_count": 123,
     "metadata": {},
     "output_type": "execute_result"
    }
   ],
   "source": [
    "np.mean(a)"
   ]
  },
  {
   "cell_type": "code",
   "execution_count": 124,
   "metadata": {},
   "outputs": [
    {
     "data": {
      "text/plain": [
       "3.125"
      ]
     },
     "execution_count": 124,
     "metadata": {},
     "output_type": "execute_result"
    }
   ],
   "source": [
    "np.average(a)"
   ]
  },
  {
   "cell_type": "code",
   "execution_count": 126,
   "metadata": {},
   "outputs": [
    {
     "data": {
      "text/plain": [
       "2.75"
      ]
     },
     "execution_count": 126,
     "metadata": {},
     "output_type": "execute_result"
    }
   ],
   "source": [
    "w=np.array([[1,2,3,4],[1,2,3,4]])\n",
    "np.average(a,weights=w)"
   ]
  },
  {
   "cell_type": "code",
   "execution_count": 133,
   "metadata": {},
   "outputs": [
    {
     "name": "stdout",
     "output_type": "stream",
     "text": [
      "2.2603926650031405\n",
      "2.2603926650031405\n"
     ]
    }
   ],
   "source": [
    "#Standard deviation\n",
    "\n",
    "u=a.mean()\n",
    "std=np.sqrt(np.mean(abs(a-u)**2))\n",
    "print(std)\n",
    "print(np.std(a))"
   ]
  },
  {
   "cell_type": "code",
   "execution_count": 134,
   "metadata": {},
   "outputs": [
    {
     "name": "stdout",
     "output_type": "stream",
     "text": [
      "5.109375\n",
      "5.109375\n"
     ]
    }
   ],
   "source": [
    "#Varience\n",
    "\n",
    "print(std**2)\n",
    "print(np.var(a))"
   ]
  },
  {
   "cell_type": "code",
   "execution_count": 137,
   "metadata": {},
   "outputs": [
    {
     "data": {
      "text/plain": [
       "array([[18,  1, 14],\n",
       "       [10, 10,  8],\n",
       "       [ 2,  1, 18]])"
      ]
     },
     "execution_count": 137,
     "metadata": {},
     "output_type": "execute_result"
    }
   ],
   "source": [
    "a=np.random.randint(1,20,(3,3))\n",
    "a"
   ]
  },
  {
   "cell_type": "code",
   "execution_count": 138,
   "metadata": {},
   "outputs": [
    {
     "data": {
      "text/plain": [
       "array([18,  1, 14, 10, 10,  8,  2,  1, 18])"
      ]
     },
     "execution_count": 138,
     "metadata": {},
     "output_type": "execute_result"
    }
   ],
   "source": [
    "a.ravel()"
   ]
  },
  {
   "cell_type": "code",
   "execution_count": 141,
   "metadata": {},
   "outputs": [
    {
     "data": {
      "text/plain": [
       "array([18,  1, 14, 10, 10,  8,  2,  1, 18])"
      ]
     },
     "execution_count": 141,
     "metadata": {},
     "output_type": "execute_result"
    }
   ],
   "source": [
    "b=a.flatten()\n",
    "b"
   ]
  },
  {
   "cell_type": "code",
   "execution_count": 145,
   "metadata": {},
   "outputs": [],
   "source": [
    "c=np.column_stack((b,b))"
   ]
  },
  {
   "cell_type": "code",
   "execution_count": 146,
   "metadata": {},
   "outputs": [
    {
     "data": {
      "text/plain": [
       "array([[18, 18],\n",
       "       [ 1,  1],\n",
       "       [14, 14],\n",
       "       [10, 10],\n",
       "       [10, 10],\n",
       "       [ 8,  8],\n",
       "       [ 2,  2],\n",
       "       [ 1,  1],\n",
       "       [18, 18]])"
      ]
     },
     "execution_count": 146,
     "metadata": {},
     "output_type": "execute_result"
    }
   ],
   "source": [
    "c"
   ]
  },
  {
   "cell_type": "code",
   "execution_count": 147,
   "metadata": {},
   "outputs": [
    {
     "data": {
      "text/plain": [
       "array([[18, 18,  1,  1, 14, 14],\n",
       "       [10, 10, 10, 10,  8,  8],\n",
       "       [ 2,  2,  1,  1, 18, 18]])"
      ]
     },
     "execution_count": 147,
     "metadata": {},
     "output_type": "execute_result"
    }
   ],
   "source": [
    "c.reshape(3,-1)"
   ]
  },
  {
   "cell_type": "code",
   "execution_count": 152,
   "metadata": {},
   "outputs": [
    {
     "data": {
      "text/plain": [
       "18"
      ]
     },
     "execution_count": 152,
     "metadata": {},
     "output_type": "execute_result"
    }
   ],
   "source": [
    "c.size"
   ]
  },
  {
   "cell_type": "code",
   "execution_count": 153,
   "metadata": {},
   "outputs": [
    {
     "data": {
      "text/plain": [
       "(9, 2)"
      ]
     },
     "execution_count": 153,
     "metadata": {},
     "output_type": "execute_result"
    }
   ],
   "source": [
    "c.shape"
   ]
  },
  {
   "cell_type": "code",
   "execution_count": null,
   "metadata": {},
   "outputs": [],
   "source": []
  },
  {
   "cell_type": "markdown",
   "metadata": {},
   "source": [
    "# Linear Algebra"
   ]
  },
  {
   "cell_type": "markdown",
   "metadata": {},
   "source": [
    "- Vector 1D Column Array\n",
    "- Matrix 2D Array\n",
    "- Tensor 3D or more Array: Image RGB"
   ]
  },
  {
   "cell_type": "code",
   "execution_count": 173,
   "metadata": {},
   "outputs": [
    {
     "data": {
      "image/png": "[encoded data removed]",
      "text/plain": [
       "<Figure size 432x288 with 1 Axes>"
      ]
     },
     "metadata": {
      "needs_background": "light"
     },
     "output_type": "display_data"
    }
   ],
   "source": [
    "T=np.zeros((10,5,3),dtype='uint8') #Tensor #unit8 for img showing 8 stands for 8 bits for 255\n",
    "#print(T)\n",
    "T[:,:,1]=255 #row,col,channels\n",
    "\n",
    "import matplotlib.pyplot as plt\n",
    "\n",
    "plt.imshow(T)\n",
    "plt.show()"
   ]
  },
  {
   "cell_type": "markdown",
   "metadata": {},
   "source": [
    "### Transpose"
   ]
  },
  {
   "cell_type": "code",
   "execution_count": 174,
   "metadata": {},
   "outputs": [
    {
     "name": "stdout",
     "output_type": "stream",
     "text": [
      "[[2 3 4]\n",
      " [5 6 7]\n",
      " [0 9 8]]\n",
      "[[2 5 0]\n",
      " [3 6 9]\n",
      " [4 7 8]]\n",
      "[[2 5 0]\n",
      " [3 6 9]\n",
      " [4 7 8]]\n"
     ]
    }
   ],
   "source": [
    "x=np.array([[2,3,4],[5,6,7],[0,9,8]])\n",
    "print(x)\n",
    "print(x.T)\n",
    "print(np.transpose(x))"
   ]
  },
  {
   "cell_type": "code",
   "execution_count": 176,
   "metadata": {},
   "outputs": [
    {
     "name": "stdout",
     "output_type": "stream",
     "text": [
      "(10, 5, 3)\n",
      "(3, 5, 10)\n",
      "(10, 3, 5)\n"
     ]
    }
   ],
   "source": [
    "print(T.shape)\n",
    "T1=np.transpose(T)\n",
    "print(T1.shape)\n",
    "T2=np.transpose(T,axes=(0,2,1))\n",
    "print(T2.shape)"
   ]
  },
  {
   "cell_type": "code",
   "execution_count": null,
   "metadata": {},
   "outputs": [],
   "source": []
  },
  {
   "cell_type": "markdown",
   "metadata": {},
   "source": [
    "## Matrix Multiplication"
   ]
  },
  {
   "cell_type": "code",
   "execution_count": 180,
   "metadata": {},
   "outputs": [
    {
     "name": "stdout",
     "output_type": "stream",
     "text": [
      "[[ 51  35  30]\n",
      " [135  92  63]]\n"
     ]
    }
   ],
   "source": [
    "A=np.array([[1,2,3],[4,5,6]])\n",
    "B=np.array([[12,11,1],[9,0,1],[7,8,9]])\n",
    "C=np.array([[1,2,3],[4,5,6]])\n",
    "print(np.dot(A,B,C))"
   ]
  },
  {
   "cell_type": "code",
   "execution_count": null,
   "metadata": {},
   "outputs": [],
   "source": []
  },
  {
   "cell_type": "markdown",
   "metadata": {},
   "source": [
    "## Element Wise Mutliplication"
   ]
  },
  {
   "cell_type": "code",
   "execution_count": 182,
   "metadata": {},
   "outputs": [
    {
     "name": "stdout",
     "output_type": "stream",
     "text": [
      "[[12 22  3]\n",
      " [36  0  6]]\n"
     ]
    }
   ],
   "source": [
    "A=np.array([[1,2,3],[4,5,6]])\n",
    "B=np.array([[12,11,1],[9,0,1]])\n",
    "\n",
    "print(A*B)"
   ]
  },
  {
   "cell_type": "code",
   "execution_count": null,
   "metadata": {},
   "outputs": [],
   "source": []
  },
  {
   "cell_type": "markdown",
   "metadata": {},
   "source": [
    "## Norms\n",
    "\n",
    "It refers to the size of the vector\n",
    "\n",
    "2i+3j= ((2)**2+(3)**2)**0.5"
   ]
  },
  {
   "cell_type": "code",
   "execution_count": 185,
   "metadata": {},
   "outputs": [
    {
     "name": "stdout",
     "output_type": "stream",
     "text": [
      "5.0\n",
      "7.0\n",
      "4.0\n"
     ]
    }
   ],
   "source": [
    "x=np.array([-3,4])\n",
    "lp2=np.linalg.norm(x)\n",
    "print(lp2)\n",
    "lp1=np.linalg.norm(x,ord=1)\n",
    "print(lp1)\n",
    "lpinf=np.linalg.norm(x,ord=np.inf)\n",
    "print(lpinf)"
   ]
  },
  {
   "cell_type": "code",
   "execution_count": null,
   "metadata": {},
   "outputs": [],
   "source": []
  },
  {
   "cell_type": "markdown",
   "metadata": {},
   "source": [
    "## Determinants"
   ]
  },
  {
   "cell_type": "code",
   "execution_count": 186,
   "metadata": {},
   "outputs": [
    {
     "data": {
      "text/plain": [
       "-2.0000000000000004"
      ]
     },
     "execution_count": 186,
     "metadata": {},
     "output_type": "execute_result"
    }
   ],
   "source": [
    "A=np.array([\n",
    "    [1,2],\n",
    "    [3,4]\n",
    "    ])\n",
    "\n",
    "np.linalg.det(A)"
   ]
  },
  {
   "cell_type": "code",
   "execution_count": 187,
   "metadata": {},
   "outputs": [
    {
     "data": {
      "text/plain": [
       "array([[-2. ,  1. ],\n",
       "       [ 1.5, -0.5]])"
      ]
     },
     "execution_count": 187,
     "metadata": {},
     "output_type": "execute_result"
    }
   ],
   "source": [
    "Ainv=np.linalg.inv(A)\n",
    "Ainv"
   ]
  },
  {
   "cell_type": "code",
   "execution_count": 190,
   "metadata": {},
   "outputs": [
    {
     "data": {
      "text/plain": [
       "array([[1.00000000e+00, 1.11022302e-16],\n",
       "       [0.00000000e+00, 1.00000000e+00]])"
      ]
     },
     "execution_count": 190,
     "metadata": {},
     "output_type": "execute_result"
    }
   ],
   "source": [
    "np.dot(A,Ainv)"
   ]
  },
  {
   "cell_type": "code",
   "execution_count": 191,
   "metadata": {},
   "outputs": [
    {
     "data": {
      "text/plain": [
       "array([[1.0000000e+00, 4.4408921e-16],\n",
       "       [0.0000000e+00, 1.0000000e+00]])"
      ]
     },
     "execution_count": 191,
     "metadata": {},
     "output_type": "execute_result"
    }
   ],
   "source": [
    "np.dot(Ainv,A)"
   ]
  },
  {
   "cell_type": "code",
   "execution_count": 192,
   "metadata": {},
   "outputs": [
    {
     "data": {
      "text/plain": [
       "array([[-2. ,  1. ],\n",
       "       [ 1.5, -0.5]])"
      ]
     },
     "execution_count": 192,
     "metadata": {},
     "output_type": "execute_result"
    }
   ],
   "source": [
    "Pinv=np.linalg.pinv(A)\n",
    "Pinv"
   ]
  },
  {
   "cell_type": "code",
   "execution_count": 196,
   "metadata": {},
   "outputs": [],
   "source": [
    "B=np.array([[0,0],[1,2]])\n",
    "\n",
    "#Binv=np.linalg.inv(B) #error since determinant is 0\n",
    "#Binv"
   ]
  },
  {
   "cell_type": "code",
   "execution_count": 197,
   "metadata": {},
   "outputs": [
    {
     "data": {
      "text/plain": [
       "array([[0. , 0.2],\n",
       "       [0. , 0.4]])"
      ]
     },
     "execution_count": 197,
     "metadata": {},
     "output_type": "execute_result"
    }
   ],
   "source": [
    "BPinv=np.linalg.pinv(B)\n",
    "BPinv"
   ]
  },
  {
   "cell_type": "code",
   "execution_count": null,
   "metadata": {},
   "outputs": [],
   "source": [
    " "
   ]
  },
  {
   "cell_type": "markdown",
   "metadata": {},
   "source": [
    "## Solve a system of equations\n",
    "\n",
    "- 2x1+3x2=8\n",
    "- 3x1+1x2=5"
   ]
  },
  {
   "cell_type": "code",
   "execution_count": 198,
   "metadata": {},
   "outputs": [],
   "source": [
    "a=np.array([[2,3],[3,1]])\n",
    "b=np.array([8,5])"
   ]
  },
  {
   "cell_type": "code",
   "execution_count": 199,
   "metadata": {},
   "outputs": [
    {
     "data": {
      "text/plain": [
       "array([1., 2.])"
      ]
     },
     "execution_count": 199,
     "metadata": {},
     "output_type": "execute_result"
    }
   ],
   "source": [
    "# to find x\n",
    "\n",
    "x=np.dot(np.linalg.pinv(a),b)\n",
    "x"
   ]
  },
  {
   "cell_type": "code",
   "execution_count": 200,
   "metadata": {},
   "outputs": [
    {
     "data": {
      "text/plain": [
       "array([1., 2.])"
      ]
     },
     "execution_count": 200,
     "metadata": {},
     "output_type": "execute_result"
    }
   ],
   "source": [
    "np.linalg.solve(a,b)"
   ]
  },
  {
   "cell_type": "code",
   "execution_count": null,
   "metadata": {},
   "outputs": [],
   "source": []
  },
  {
   "cell_type": "code",
   "execution_count": null,
   "metadata": {},
   "outputs": [],
   "source": []
  },
  {
   "cell_type": "code",
   "execution_count": 201,
   "metadata": {},
   "outputs": [],
   "source": [
    "A=np.array([\n",
    "    [2,-2,1],\n",
    "    [-1,2,-1],\n",
    "    [2,-4,1]\n",
    "])"
   ]
  },
  {
   "cell_type": "code",
   "execution_count": 203,
   "metadata": {},
   "outputs": [
    {
     "data": {
      "text/plain": [
       "6.0"
      ]
     },
     "execution_count": 203,
     "metadata": {},
     "output_type": "execute_result"
    }
   ],
   "source": [
    "np.linalg.norm(A)"
   ]
  },
  {
   "cell_type": "code",
   "execution_count": null,
   "metadata": {},
   "outputs": [],
   "source": []
  }
 ],
 "metadata": {
  "kernelspec": {
   "display_name": "Python 3",
   "language": "python",
   "name": "python3"
  },
  "language_info": {
   "codemirror_mode": {
    "name": "ipython",
    "version": 3
   },
   "file_extension": ".py",
   "mimetype": "text/x-python",
   "name": "python",
   "nbconvert_exporter": "python",
   "pygments_lexer": "ipython3",
   "version": "3.7.6"
  }
 },
 "nbformat": 4,
 "nbformat_minor": 4
}

{
 "cells": [
  {
   "cell_type": "code",
   "execution_count": 23,
   "metadata": {},
   "outputs": [],
   "source": [
    "import pandas as pd\n",
    "import numpy as np"
   ]
  },
  {
   "cell_type": "code",
   "execution_count": 24,
   "metadata": {},
   "outputs": [
    {
     "data": {
      "text/html": [
       "<div>\n",
       "<style scoped>\n",
       "    .dataframe tbody tr th:only-of-type {\n",
       "        vertical-align: middle;\n",
       "    }\n",
       "\n",
       "    .dataframe tbody tr th {\n",
       "        vertical-align: top;\n",
       "    }\n",
       "\n",
       "    .dataframe thead th {\n",
       "        text-align: right;\n",
       "    }\n",
       "</style>\n",
       "<table border=\"1\" class=\"dataframe\">\n",
       "  <thead>\n",
       "    <tr style=\"text-align: right;\">\n",
       "      <th></th>\n",
       "      <th>review</th>\n",
       "      <th>label</th>\n",
       "    </tr>\n",
       "  </thead>\n",
       "  <tbody>\n",
       "    <tr>\n",
       "      <th>0</th>\n",
       "      <td>mature intelligent and highly charged melodram...</td>\n",
       "      <td>pos</td>\n",
       "    </tr>\n",
       "    <tr>\n",
       "      <th>1</th>\n",
       "      <td>http://video.google.com/videoplay?docid=211772...</td>\n",
       "      <td>pos</td>\n",
       "    </tr>\n",
       "    <tr>\n",
       "      <th>2</th>\n",
       "      <td>Title: Opera (1987) Director: Dario Argento Ca...</td>\n",
       "      <td>pos</td>\n",
       "    </tr>\n",
       "    <tr>\n",
       "      <th>3</th>\n",
       "      <td>I think a lot of people just wrote this off as...</td>\n",
       "      <td>pos</td>\n",
       "    </tr>\n",
       "    <tr>\n",
       "      <th>4</th>\n",
       "      <td>This is a story of two dogs and a cat looking ...</td>\n",
       "      <td>pos</td>\n",
       "    </tr>\n",
       "    <tr>\n",
       "      <th>...</th>\n",
       "      <td>...</td>\n",
       "      <td>...</td>\n",
       "    </tr>\n",
       "    <tr>\n",
       "      <th>39995</th>\n",
       "      <td>There are similarities between Ray Lawrence's ...</td>\n",
       "      <td>neg</td>\n",
       "    </tr>\n",
       "    <tr>\n",
       "      <th>39996</th>\n",
       "      <td>For starters, I once met the director when he ...</td>\n",
       "      <td>neg</td>\n",
       "    </tr>\n",
       "    <tr>\n",
       "      <th>39997</th>\n",
       "      <td>Much of \"Over Her Dead Body\" is so painfully u...</td>\n",
       "      <td>neg</td>\n",
       "    </tr>\n",
       "    <tr>\n",
       "      <th>39998</th>\n",
       "      <td>\"Lifeforce\" is a truly bizarre adaptation of t...</td>\n",
       "      <td>pos</td>\n",
       "    </tr>\n",
       "    <tr>\n",
       "      <th>39999</th>\n",
       "      <td>I saw this movie at a screener and its the bes...</td>\n",
       "      <td>pos</td>\n",
       "    </tr>\n",
       "  </tbody>\n",
       "</table>\n",
       "<p>40000 rows × 2 columns</p>\n",
       "</div>"
      ],
      "text/plain": [
       "                                                  review label\n",
       "0      mature intelligent and highly charged melodram...   pos\n",
       "1      http://video.google.com/videoplay?docid=211772...   pos\n",
       "2      Title: Opera (1987) Director: Dario Argento Ca...   pos\n",
       "3      I think a lot of people just wrote this off as...   pos\n",
       "4      This is a story of two dogs and a cat looking ...   pos\n",
       "...                                                  ...   ...\n",
       "39995  There are similarities between Ray Lawrence's ...   neg\n",
       "39996  For starters, I once met the director when he ...   neg\n",
       "39997  Much of \"Over Her Dead Body\" is so painfully u...   neg\n",
       "39998  \"Lifeforce\" is a truly bizarre adaptation of t...   pos\n",
       "39999  I saw this movie at a screener and its the bes...   pos\n",
       "\n",
       "[40000 rows x 2 columns]"
      ]
     },
     "execution_count": 24,
     "metadata": {},
     "output_type": "execute_result"
    }
   ],
   "source": [
    "df=pd.read_csv(\"Train.csv\")\n",
    "df"
   ]
  },
  {
   "cell_type": "code",
   "execution_count": 25,
   "metadata": {},
   "outputs": [
    {
     "data": {
      "text/html": [
       "<div>\n",
       "<style scoped>\n",
       "    .dataframe tbody tr th:only-of-type {\n",
       "        vertical-align: middle;\n",
       "    }\n",
       "\n",
       "    .dataframe tbody tr th {\n",
       "        vertical-align: top;\n",
       "    }\n",
       "\n",
       "    .dataframe thead th {\n",
       "        text-align: right;\n",
       "    }\n",
       "</style>\n",
       "<table border=\"1\" class=\"dataframe\">\n",
       "  <thead>\n",
       "    <tr style=\"text-align: right;\">\n",
       "      <th></th>\n",
       "      <th>review</th>\n",
       "      <th>label</th>\n",
       "      <th>label2</th>\n",
       "    </tr>\n",
       "  </thead>\n",
       "  <tbody>\n",
       "    <tr>\n",
       "      <th>0</th>\n",
       "      <td>mature intelligent and highly charged melodram...</td>\n",
       "      <td>pos</td>\n",
       "      <td>1</td>\n",
       "    </tr>\n",
       "    <tr>\n",
       "      <th>1</th>\n",
       "      <td>http://video.google.com/videoplay?docid=211772...</td>\n",
       "      <td>pos</td>\n",
       "      <td>1</td>\n",
       "    </tr>\n",
       "    <tr>\n",
       "      <th>2</th>\n",
       "      <td>Title: Opera (1987) Director: Dario Argento Ca...</td>\n",
       "      <td>pos</td>\n",
       "      <td>1</td>\n",
       "    </tr>\n",
       "    <tr>\n",
       "      <th>3</th>\n",
       "      <td>I think a lot of people just wrote this off as...</td>\n",
       "      <td>pos</td>\n",
       "      <td>1</td>\n",
       "    </tr>\n",
       "    <tr>\n",
       "      <th>4</th>\n",
       "      <td>This is a story of two dogs and a cat looking ...</td>\n",
       "      <td>pos</td>\n",
       "      <td>1</td>\n",
       "    </tr>\n",
       "    <tr>\n",
       "      <th>...</th>\n",
       "      <td>...</td>\n",
       "      <td>...</td>\n",
       "      <td>...</td>\n",
       "    </tr>\n",
       "    <tr>\n",
       "      <th>39995</th>\n",
       "      <td>There are similarities between Ray Lawrence's ...</td>\n",
       "      <td>neg</td>\n",
       "      <td>0</td>\n",
       "    </tr>\n",
       "    <tr>\n",
       "      <th>39996</th>\n",
       "      <td>For starters, I once met the director when he ...</td>\n",
       "      <td>neg</td>\n",
       "      <td>0</td>\n",
       "    </tr>\n",
       "    <tr>\n",
       "      <th>39997</th>\n",
       "      <td>Much of \"Over Her Dead Body\" is so painfully u...</td>\n",
       "      <td>neg</td>\n",
       "      <td>0</td>\n",
       "    </tr>\n",
       "    <tr>\n",
       "      <th>39998</th>\n",
       "      <td>\"Lifeforce\" is a truly bizarre adaptation of t...</td>\n",
       "      <td>pos</td>\n",
       "      <td>1</td>\n",
       "    </tr>\n",
       "    <tr>\n",
       "      <th>39999</th>\n",
       "      <td>I saw this movie at a screener and its the bes...</td>\n",
       "      <td>pos</td>\n",
       "      <td>1</td>\n",
       "    </tr>\n",
       "  </tbody>\n",
       "</table>\n",
       "<p>40000 rows × 3 columns</p>\n",
       "</div>"
      ],
      "text/plain": [
       "                                                  review label  label2\n",
       "0      mature intelligent and highly charged melodram...   pos       1\n",
       "1      http://video.google.com/videoplay?docid=211772...   pos       1\n",
       "2      Title: Opera (1987) Director: Dario Argento Ca...   pos       1\n",
       "3      I think a lot of people just wrote this off as...   pos       1\n",
       "4      This is a story of two dogs and a cat looking ...   pos       1\n",
       "...                                                  ...   ...     ...\n",
       "39995  There are similarities between Ray Lawrence's ...   neg       0\n",
       "39996  For starters, I once met the director when he ...   neg       0\n",
       "39997  Much of \"Over Her Dead Body\" is so painfully u...   neg       0\n",
       "39998  \"Lifeforce\" is a truly bizarre adaptation of t...   pos       1\n",
       "39999  I saw this movie at a screener and its the bes...   pos       1\n",
       "\n",
       "[40000 rows x 3 columns]"
      ]
     },
     "execution_count": 25,
     "metadata": {},
     "output_type": "execute_result"
    }
   ],
   "source": [
    "df['label2']=np.where(df['label']==\"pos\",1,0)\n",
    "df"
   ]
  },
  {
   "cell_type": "code",
   "execution_count": 26,
   "metadata": {},
   "outputs": [],
   "source": [
    "import re\n",
    "from nltk.stem.snowball import PorterStemmer\n",
    "from nltk.tokenize import RegexpTokenizer\n",
    "from nltk.corpus import stopwords\n",
    "\n",
    "ps=PorterStemmer()\n",
    "tokenizer=RegexpTokenizer(r'\\w+')\n",
    "\n",
    "sw=set(stopwords.words('english'))\n",
    "\n",
    "def mytokenizer(text):\n",
    "    text=text.lower()\n",
    "    text=text.replace(\"<br /><br />\",\" \")\n",
    "    text=re.sub(\"[^a-zA-Z]+\",\" \",text)\n",
    "    words=text.split()\n",
    "    words=[ps.stem(w) for w in words if w not in sw]\n",
    "    return \" \".join(words)"
   ]
  },
  {
   "cell_type": "code",
   "execution_count": 27,
   "metadata": {},
   "outputs": [
    {
     "data": {
      "text/html": [
       "<div>\n",
       "<style scoped>\n",
       "    .dataframe tbody tr th:only-of-type {\n",
       "        vertical-align: middle;\n",
       "    }\n",
       "\n",
       "    .dataframe tbody tr th {\n",
       "        vertical-align: top;\n",
       "    }\n",
       "\n",
       "    .dataframe thead th {\n",
       "        text-align: right;\n",
       "    }\n",
       "</style>\n",
       "<table border=\"1\" class=\"dataframe\">\n",
       "  <thead>\n",
       "    <tr style=\"text-align: right;\">\n",
       "      <th></th>\n",
       "      <th>review</th>\n",
       "      <th>label</th>\n",
       "      <th>label2</th>\n",
       "      <th>cleaned_reviewed</th>\n",
       "    </tr>\n",
       "  </thead>\n",
       "  <tbody>\n",
       "    <tr>\n",
       "      <th>0</th>\n",
       "      <td>mature intelligent and highly charged melodram...</td>\n",
       "      <td>pos</td>\n",
       "      <td>1</td>\n",
       "      <td>matur intellig highli charg melodrama unbelive...</td>\n",
       "    </tr>\n",
       "    <tr>\n",
       "      <th>1</th>\n",
       "      <td>http://video.google.com/videoplay?docid=211772...</td>\n",
       "      <td>pos</td>\n",
       "      <td>1</td>\n",
       "      <td>http video googl com videoplay docid hl en dis...</td>\n",
       "    </tr>\n",
       "    <tr>\n",
       "      <th>2</th>\n",
       "      <td>Title: Opera (1987) Director: Dario Argento Ca...</td>\n",
       "      <td>pos</td>\n",
       "      <td>1</td>\n",
       "      <td>titl opera director dario argento cast cristin...</td>\n",
       "    </tr>\n",
       "    <tr>\n",
       "      <th>3</th>\n",
       "      <td>I think a lot of people just wrote this off as...</td>\n",
       "      <td>pos</td>\n",
       "      <td>1</td>\n",
       "      <td>think lot peopl wrote anoth one tom cruis weir...</td>\n",
       "    </tr>\n",
       "    <tr>\n",
       "      <th>4</th>\n",
       "      <td>This is a story of two dogs and a cat looking ...</td>\n",
       "      <td>pos</td>\n",
       "      <td>1</td>\n",
       "      <td>stori two dog cat look way back home old wise ...</td>\n",
       "    </tr>\n",
       "    <tr>\n",
       "      <th>...</th>\n",
       "      <td>...</td>\n",
       "      <td>...</td>\n",
       "      <td>...</td>\n",
       "      <td>...</td>\n",
       "    </tr>\n",
       "    <tr>\n",
       "      <th>39995</th>\n",
       "      <td>There are similarities between Ray Lawrence's ...</td>\n",
       "      <td>neg</td>\n",
       "      <td>0</td>\n",
       "      <td>similar ray lawrenc jindabyn last movi lantana...</td>\n",
       "    </tr>\n",
       "    <tr>\n",
       "      <th>39996</th>\n",
       "      <td>For starters, I once met the director when he ...</td>\n",
       "      <td>neg</td>\n",
       "      <td>0</td>\n",
       "      <td>starter met director go ww enact period movi c...</td>\n",
       "    </tr>\n",
       "    <tr>\n",
       "      <th>39997</th>\n",
       "      <td>Much of \"Over Her Dead Body\" is so painfully u...</td>\n",
       "      <td>neg</td>\n",
       "      <td>0</td>\n",
       "      <td>much dead bodi pain unfunni actual squirm seat...</td>\n",
       "    </tr>\n",
       "    <tr>\n",
       "      <th>39998</th>\n",
       "      <td>\"Lifeforce\" is a truly bizarre adaptation of t...</td>\n",
       "      <td>pos</td>\n",
       "      <td>1</td>\n",
       "      <td>lifeforc truli bizarr adapt novel space vampir...</td>\n",
       "    </tr>\n",
       "    <tr>\n",
       "      <th>39999</th>\n",
       "      <td>I saw this movie at a screener and its the bes...</td>\n",
       "      <td>pos</td>\n",
       "      <td>1</td>\n",
       "      <td>saw movi screener best movi seen loooong time ...</td>\n",
       "    </tr>\n",
       "  </tbody>\n",
       "</table>\n",
       "<p>40000 rows × 4 columns</p>\n",
       "</div>"
      ],
      "text/plain": [
       "                                                  review label  label2  \\\n",
       "0      mature intelligent and highly charged melodram...   pos       1   \n",
       "1      http://video.google.com/videoplay?docid=211772...   pos       1   \n",
       "2      Title: Opera (1987) Director: Dario Argento Ca...   pos       1   \n",
       "3      I think a lot of people just wrote this off as...   pos       1   \n",
       "4      This is a story of two dogs and a cat looking ...   pos       1   \n",
       "...                                                  ...   ...     ...   \n",
       "39995  There are similarities between Ray Lawrence's ...   neg       0   \n",
       "39996  For starters, I once met the director when he ...   neg       0   \n",
       "39997  Much of \"Over Her Dead Body\" is so painfully u...   neg       0   \n",
       "39998  \"Lifeforce\" is a truly bizarre adaptation of t...   pos       1   \n",
       "39999  I saw this movie at a screener and its the bes...   pos       1   \n",
       "\n",
       "                                        cleaned_reviewed  \n",
       "0      matur intellig highli charg melodrama unbelive...  \n",
       "1      http video googl com videoplay docid hl en dis...  \n",
       "2      titl opera director dario argento cast cristin...  \n",
       "3      think lot peopl wrote anoth one tom cruis weir...  \n",
       "4      stori two dog cat look way back home old wise ...  \n",
       "...                                                  ...  \n",
       "39995  similar ray lawrenc jindabyn last movi lantana...  \n",
       "39996  starter met director go ww enact period movi c...  \n",
       "39997  much dead bodi pain unfunni actual squirm seat...  \n",
       "39998  lifeforc truli bizarr adapt novel space vampir...  \n",
       "39999  saw movi screener best movi seen loooong time ...  \n",
       "\n",
       "[40000 rows x 4 columns]"
      ]
     },
     "execution_count": 27,
     "metadata": {},
     "output_type": "execute_result"
    }
   ],
   "source": [
    "df['cleaned_reviewed']=df['review'].apply(mytokenizer)\n",
    "df"
   ]
  },
  {
   "cell_type": "code",
   "execution_count": 34,
   "metadata": {
    "scrolled": true
   },
   "outputs": [
    {
     "data": {
      "text/plain": [
       "array(['matur intellig highli charg melodrama unbelivebl film china wei wei stun perform catylast love triangl simpli stun oppurun see magnific film take',\n",
       "       'http video googl com videoplay docid hl en distribut tri opt mass appeal want best possibl view rang forgo profit continu manual labor job gladli entertain work view texa tale pleas write like like alex like stuie texa texa tale write opinion rule',\n",
       "       'titl opera director dario argento cast cristina masillach ian charleson urbano barberini daria nicolodi review argento movi seen suspiria one blew away style color spooki stori line next decid go opera told one best man think discov ultim one favorit horror director opera young opera singer get big break main star creepi modern opera take mc beth get hit car betti understudi get part bad psycho make watch brutal murder friend co worker wow id heard good thing flick prepar level great film would take yeah movi shortcom ill get later part movi blew away first movi fill lot color suspiria expect bit like suspiria depart surpris look feel film somehow devoid color lot color certain scene like master kitchen live room sequenc argento fill screen lush green blue part film grayish black tone like distinct look real star show incred well orchestr death sequenc wow everi death scene like work art beauti destruct typic hack slash death sequenc death care construct shock get situat love everi second plenti blood mayhem style gonna spoil em though direct man realli origin beauti shot one love invent use camera one thought tarantino shot kill bill vol see bullet come chamber gun origin well movi lift honestli believ tarantino heavili influenc specif movi certain scene kill bill vol heck make featur mention whole scene beatrix hospit ell driver come kill influenc italian giallo friend proof anyhow tarantino refer asid movi amaz camera shot like scene crow fli crowd opera hous great stuff main reason argento becom one favorit act cast alright best far cristina marsillach tortur young opera singer betti look eye murder commit great rest cast littl wooden stiff noth would deter enjoy film thing like movi first logic thrown window certain scene special involv betti reaction she seen murder seem longest time went busi tell anyon whole thing even polic mean see someon brutal murder love one front eye walk away murder scene continu life someon would connect murder might even becom suspect also end bit anti climact see understand seem bit unnecessari way film end felt like could end earlier would felt redund that real big problem realli sinc enjoy rest beauti film still got lot argento territori cover devour everi step way like eat plate expens caviar guy realli good think film work art seen two em cant wait discov rest film argento man rate',\n",
       "       ...,\n",
       "       'much dead bodi pain unfunni actual squirm seat embarrass actor eva longoria prove carri film terribl romant comedi realli even comed time grate annoy ghost return earth keep cooki psychic date widow fianc fianc play paul rudd drippi charmless psychic play lake bell bring movi whatev anem energi felt sorri bell appear comic abil work overtim effort make materi work unfortun insurmount task make movi featur jason bigg toler drag rest cast like leo dicaprio end titan dead bodi actual pi ed lazi utter lack effort start think interest project get fund vast amount money funnel bland crap like serious hollywood think movi like good enough stupid realli think movi go public grade f',\n",
       "       'lifeforc truli bizarr adapt novel space vampir colin wilson script dan bannon jakobi joint american british space explor team make mind boggl discoveri alien spacecraft rest insid halley comet contain three entiti look like peopl one femal beauti oh allur mathilda may take discoveri back board spacecraft big mistak turn creatur drain life human be american colonel carlsen intens edgi commit steve railsback british colonel cain solid peter firth watch horror infest vampir overtak london fate earth balanc pictur certainli lack imagin move littl slowli time offer mani strang fanci idea eye pop visual hard amus first director tobe hooper three pictur deal cannon film follow texa chainsaw massacr ii invad mar remak make someth truli uniqu incorpor element sci fi vampir film zombi film end world saga like noth seen railsback firth abli support strong brit actor frank finlay patrick stewart michael gothard aubrey morri john hallam mathilda may memor bewitch enigmat villai certainli hurt perform great deal scene nude also worth note stir music score none pink panther compos henri mancini ridicul may found fun well flamboy spirit entertain',\n",
       "       'saw movi screener best movi seen loooong time love jame franco sooo hot sienna miller make perfect coupl want give away happen play pair newlyw go honeymoon niagara fall pretti wild stuff happen along way movi realli realli funni sad origin even say remind go see cri hard realli love wanna see soon come friend cri hope come soon anyon know would realli go see'],\n",
       "      dtype=object)"
      ]
     },
     "execution_count": 34,
     "metadata": {},
     "output_type": "execute_result"
    }
   ],
   "source": [
    "X=df['cleaned_reviewed'].values\n",
    "X"
   ]
  },
  {
   "cell_type": "code",
   "execution_count": 35,
   "metadata": {},
   "outputs": [
    {
     "data": {
      "text/plain": [
       "array([1, 1, 1, ..., 0, 1, 1])"
      ]
     },
     "execution_count": 35,
     "metadata": {},
     "output_type": "execute_result"
    }
   ],
   "source": [
    "Y=df['label2'].values\n",
    "Y"
   ]
  },
  {
   "cell_type": "code",
   "execution_count": 36,
   "metadata": {},
   "outputs": [
    {
     "data": {
      "text/plain": [
       "'robert jordan televis star robert jordan like thing orderli time properli execut world children seen heard would mr jordan want becom master rambuncti band boy scout rate staff figur learn interact youth inclin watch show cours watch jordan cope compris fun like mr belveder mr belveder goe colleg one sure pleas anyon interest obtain copi film pleas write iamas yahoo com'"
      ]
     },
     "execution_count": 36,
     "metadata": {},
     "output_type": "execute_result"
    }
   ],
   "source": [
    "df['cleaned_reviewed'][11]"
   ]
  },
  {
   "cell_type": "markdown",
   "metadata": {},
   "source": [
    "## Splitting"
   ]
  },
  {
   "cell_type": "code",
   "execution_count": 63,
   "metadata": {},
   "outputs": [
    {
     "data": {
      "text/plain": [
       "((32000,), (32000,))"
      ]
     },
     "execution_count": 63,
     "metadata": {},
     "output_type": "execute_result"
    }
   ],
   "source": [
    "from sklearn.model_selection import train_test_split\n",
    "\n",
    "X_train,X_test,Y_train,Y_test=train_test_split(X,Y,test_size=0.2)\n",
    "\n",
    "X_train.shape,Y_train.shape"
   ]
  },
  {
   "cell_type": "code",
   "execution_count": 64,
   "metadata": {},
   "outputs": [
    {
     "data": {
      "text/plain": [
       "('one previou review call film pure visual joy wonder saw film high art relentlessli depress interior sinc seven one almost forgiv sheedi mitchel clich go b b first time cours one watch opium den parti inhabit peopl appar gain employ somehow support flourish drug habit mention ici stare familiar movi type girlfriend boyfriend start well awar go thrown sometim next minut movi also state sheedi charact retir profession photographi ten year retir age twenti',\n",
       " 0)"
      ]
     },
     "execution_count": 64,
     "metadata": {},
     "output_type": "execute_result"
    }
   ],
   "source": [
    "X_train[0],Y_train[0]"
   ]
  },
  {
   "cell_type": "code",
   "execution_count": 136,
   "metadata": {},
   "outputs": [],
   "source": [
    "from sklearn.feature_extraction.text import CountVectorizer, TfidfTransformer\n",
    "\n",
    "cv=CountVectorizer(max_df=0.2,max_features=50000)"
   ]
  },
  {
   "cell_type": "code",
   "execution_count": 137,
   "metadata": {},
   "outputs": [
    {
     "data": {
      "text/plain": [
       "<32000x50000 sparse matrix of type '<class 'numpy.int64'>'\n",
       "\twith 2527392 stored elements in Compressed Sparse Row format>"
      ]
     },
     "execution_count": 137,
     "metadata": {},
     "output_type": "execute_result"
    }
   ],
   "source": [
    "x_vec=cv.fit_transform(X_train)\n",
    "x_vec"
   ]
  },
  {
   "cell_type": "code",
   "execution_count": 138,
   "metadata": {},
   "outputs": [
    {
     "data": {
      "text/plain": [
       "(32000, 50000)"
      ]
     },
     "execution_count": 138,
     "metadata": {},
     "output_type": "execute_result"
    }
   ],
   "source": [
    "x_vec.shape"
   ]
  },
  {
   "cell_type": "code",
   "execution_count": 139,
   "metadata": {
    "scrolled": true
   },
   "outputs": [
    {
     "name": "stdout",
     "output_type": "stream",
     "text": [
      "  (0, 33529)\t1\n",
      "  (0, 35097)\t1\n",
      "  (0, 6579)\t1\n",
      "  (0, 33925)\t1\n",
      "  (0, 47172)\t1\n",
      "  (0, 23776)\t1\n",
      "  (0, 48746)\t1\n",
      "  (0, 36430)\t1\n",
      "  (0, 20421)\t1\n",
      "  (0, 2506)\t1\n",
      "  (0, 34807)\t1\n",
      "  (0, 10531)\t1\n",
      "  (0, 22569)\t1\n",
      "  (0, 38487)\t1\n",
      "  (0, 37482)\t1\n",
      "  (0, 1246)\t1\n",
      "  (0, 15971)\t1\n",
      "  (0, 37780)\t2\n",
      "  (0, 29410)\t1\n",
      "  (0, 7897)\t1\n",
      "  (0, 8813)\t1\n",
      "  (0, 31363)\t1\n",
      "  (0, 10433)\t1\n",
      "  (0, 32054)\t1\n",
      "  (0, 22328)\t1\n",
      "  :\t:\n",
      "  (0, 41581)\t1\n",
      "  (0, 15707)\t1\n",
      "  (0, 12180)\t1\n",
      "  (0, 19120)\t1\n",
      "  (0, 28890)\t1\n",
      "  (0, 21620)\t1\n",
      "  (0, 40357)\t1\n",
      "  (0, 14604)\t1\n",
      "  (0, 44871)\t1\n",
      "  (0, 17652)\t1\n",
      "  (0, 5797)\t1\n",
      "  (0, 40395)\t1\n",
      "  (0, 3126)\t1\n",
      "  (0, 43258)\t1\n",
      "  (0, 39453)\t1\n",
      "  (0, 30566)\t1\n",
      "  (0, 29284)\t1\n",
      "  (0, 40407)\t1\n",
      "  (0, 35054)\t2\n",
      "  (0, 33636)\t1\n",
      "  (0, 32629)\t1\n",
      "  (0, 42709)\t1\n",
      "  (0, 49299)\t1\n",
      "  (0, 695)\t1\n",
      "  (0, 44800)\t1\n"
     ]
    }
   ],
   "source": [
    "print(x_vec[0])"
   ]
  },
  {
   "cell_type": "code",
   "execution_count": 140,
   "metadata": {},
   "outputs": [
    {
     "data": {
      "text/plain": [
       "(32000, 50000)"
      ]
     },
     "execution_count": 140,
     "metadata": {},
     "output_type": "execute_result"
    }
   ],
   "source": [
    "tfidf=TfidfTransformer()\n",
    "x_vec2=tfidf.fit_transform(x_vec)\n",
    "x_vec2.shape"
   ]
  },
  {
   "cell_type": "code",
   "execution_count": 141,
   "metadata": {
    "scrolled": true
   },
   "outputs": [
    {
     "name": "stdout",
     "output_type": "stream",
     "text": [
      "  (0, 49299)\t0.06185327804166149\n",
      "  (0, 48746)\t0.07346009183417203\n",
      "  (0, 47172)\t0.10293510004272015\n",
      "  (0, 44871)\t0.09472746174966591\n",
      "  (0, 44800)\t0.12641559021136317\n",
      "  (0, 43258)\t0.1214076147333798\n",
      "  (0, 42709)\t0.10590179597177907\n",
      "  (0, 41581)\t0.09392428559544776\n",
      "  (0, 40407)\t0.10133942909318905\n",
      "  (0, 40395)\t0.07144586690148912\n",
      "  (0, 40357)\t0.13749236266047443\n",
      "  (0, 39453)\t0.09769028165147892\n",
      "  (0, 39438)\t0.10827979940577794\n",
      "  (0, 38487)\t0.07777451094150457\n",
      "  (0, 37780)\t0.4185236180748319\n",
      "  (0, 37482)\t0.12958420271428706\n",
      "  (0, 36430)\t0.07615268885414388\n",
      "  (0, 35097)\t0.08668097224619851\n",
      "  (0, 35054)\t0.28896660461149126\n",
      "  (0, 34807)\t0.17176701690125296\n",
      "  (0, 33925)\t0.10924085843136866\n",
      "  (0, 33636)\t0.12035088795177613\n",
      "  (0, 33529)\t0.1112587840942492\n",
      "  (0, 32629)\t0.12094232929551614\n",
      "  (0, 32054)\t0.11277208738431793\n",
      "  :\t:\n",
      "  (0, 28890)\t0.0918672764537478\n",
      "  (0, 23776)\t0.12624184273009573\n",
      "  (0, 22569)\t0.15585092553657942\n",
      "  (0, 22328)\t0.14498961594565263\n",
      "  (0, 21620)\t0.18339753493573085\n",
      "  (0, 20421)\t0.08450562467107768\n",
      "  (0, 19120)\t0.15775226405847836\n",
      "  (0, 17652)\t0.11119779266931917\n",
      "  (0, 16770)\t0.13255749507848452\n",
      "  (0, 15971)\t0.13387654020969383\n",
      "  (0, 15707)\t0.1761392956512479\n",
      "  (0, 14604)\t0.11373586010674246\n",
      "  (0, 13354)\t0.13805741402851568\n",
      "  (0, 12180)\t0.11021359826933276\n",
      "  (0, 10531)\t0.12048606158736716\n",
      "  (0, 10433)\t0.18848800570714105\n",
      "  (0, 8813)\t0.08163922583720275\n",
      "  (0, 7897)\t0.10100125217026115\n",
      "  (0, 6579)\t0.07833339167706196\n",
      "  (0, 5797)\t0.12212325271595638\n",
      "  (0, 3126)\t0.12766910861101194\n",
      "  (0, 2506)\t0.09475774172407238\n",
      "  (0, 2104)\t0.09808829301818899\n",
      "  (0, 1246)\t0.07653381483084613\n",
      "  (0, 695)\t0.09123273580311082\n"
     ]
    }
   ],
   "source": [
    "print(x_vec2[0])"
   ]
  },
  {
   "cell_type": "code",
   "execution_count": 142,
   "metadata": {},
   "outputs": [
    {
     "data": {
      "text/plain": [
       "(8000, 50000)"
      ]
     },
     "execution_count": 142,
     "metadata": {},
     "output_type": "execute_result"
    }
   ],
   "source": [
    "xt_vec=cv.transform(X_test)\n",
    "xt_vec=tfidf.transform(xt_vec)\n",
    "xt_vec.shape"
   ]
  },
  {
   "cell_type": "code",
   "execution_count": 143,
   "metadata": {},
   "outputs": [],
   "source": [
    "from sklearn.naive_bayes import MultinomialNB,BernoulliNB,GaussianNB"
   ]
  },
  {
   "cell_type": "code",
   "execution_count": 148,
   "metadata": {},
   "outputs": [],
   "source": [
    "mnb=MultinomialNB()\n",
    "bnb=BernoulliNB()"
   ]
  },
  {
   "cell_type": "code",
   "execution_count": 149,
   "metadata": {},
   "outputs": [
    {
     "data": {
      "text/plain": [
       "BernoulliNB(alpha=1.0, binarize=0.0, class_prior=None, fit_prior=True)"
      ]
     },
     "execution_count": 149,
     "metadata": {},
     "output_type": "execute_result"
    }
   ],
   "source": [
    "mnb.fit(x_vec2,Y_train)\n",
    "bnb.fit(x_vec2,Y_train)"
   ]
  },
  {
   "cell_type": "code",
   "execution_count": 151,
   "metadata": {},
   "outputs": [
    {
     "data": {
      "text/plain": [
       "(0.862375, 0.8395)"
      ]
     },
     "execution_count": 151,
     "metadata": {},
     "output_type": "execute_result"
    }
   ],
   "source": [
    "mnb.score(xt_vec,Y_test),bnb.score(xt_vec,Y_test)"
   ]
  },
  {
   "cell_type": "code",
   "execution_count": 153,
   "metadata": {},
   "outputs": [
    {
     "data": {
      "text/plain": [
       "(0.88971875, 0.8395)"
      ]
     },
     "execution_count": 153,
     "metadata": {},
     "output_type": "execute_result"
    }
   ],
   "source": [
    "mnb.score(x_vec,Y_train),bnb.score(xt_vec,Y_test)"
   ]
  },
  {
   "cell_type": "markdown",
   "metadata": {},
   "source": [
    "## Testing on test data"
   ]
  },
  {
   "cell_type": "code",
   "execution_count": 77,
   "metadata": {},
   "outputs": [
    {
     "data": {
      "text/html": [
       "<div>\n",
       "<style scoped>\n",
       "    .dataframe tbody tr th:only-of-type {\n",
       "        vertical-align: middle;\n",
       "    }\n",
       "\n",
       "    .dataframe tbody tr th {\n",
       "        vertical-align: top;\n",
       "    }\n",
       "\n",
       "    .dataframe thead th {\n",
       "        text-align: right;\n",
       "    }\n",
       "</style>\n",
       "<table border=\"1\" class=\"dataframe\">\n",
       "  <thead>\n",
       "    <tr style=\"text-align: right;\">\n",
       "      <th></th>\n",
       "      <th>review</th>\n",
       "    </tr>\n",
       "  </thead>\n",
       "  <tbody>\n",
       "    <tr>\n",
       "      <th>0</th>\n",
       "      <td>Remember those old kung fu movies we used to w...</td>\n",
       "    </tr>\n",
       "    <tr>\n",
       "      <th>1</th>\n",
       "      <td>This movie is another one on my List of Movies...</td>\n",
       "    </tr>\n",
       "    <tr>\n",
       "      <th>2</th>\n",
       "      <td>How in the world does a thing like this get in...</td>\n",
       "    </tr>\n",
       "    <tr>\n",
       "      <th>3</th>\n",
       "      <td>\"Queen of the Damned\" is one of the best vampi...</td>\n",
       "    </tr>\n",
       "    <tr>\n",
       "      <th>4</th>\n",
       "      <td>The Caprica episode (S01E01) is well done as a...</td>\n",
       "    </tr>\n",
       "    <tr>\n",
       "      <th>...</th>\n",
       "      <td>...</td>\n",
       "    </tr>\n",
       "    <tr>\n",
       "      <th>9995</th>\n",
       "      <td>Watched this piece ONDEMAND because the descri...</td>\n",
       "    </tr>\n",
       "    <tr>\n",
       "      <th>9996</th>\n",
       "      <td>A nurse travels to a rural psychiatric clinic ...</td>\n",
       "    </tr>\n",
       "    <tr>\n",
       "      <th>9997</th>\n",
       "      <td>Although this small film kind of got lost in t...</td>\n",
       "    </tr>\n",
       "    <tr>\n",
       "      <th>9998</th>\n",
       "      <td>I first saw this film in the early 80's on cab...</td>\n",
       "    </tr>\n",
       "    <tr>\n",
       "      <th>9999</th>\n",
       "      <td>Recognizing the picture of the diner on the co...</td>\n",
       "    </tr>\n",
       "  </tbody>\n",
       "</table>\n",
       "<p>10000 rows × 1 columns</p>\n",
       "</div>"
      ],
      "text/plain": [
       "                                                 review\n",
       "0     Remember those old kung fu movies we used to w...\n",
       "1     This movie is another one on my List of Movies...\n",
       "2     How in the world does a thing like this get in...\n",
       "3     \"Queen of the Damned\" is one of the best vampi...\n",
       "4     The Caprica episode (S01E01) is well done as a...\n",
       "...                                                 ...\n",
       "9995  Watched this piece ONDEMAND because the descri...\n",
       "9996  A nurse travels to a rural psychiatric clinic ...\n",
       "9997  Although this small film kind of got lost in t...\n",
       "9998  I first saw this film in the early 80's on cab...\n",
       "9999  Recognizing the picture of the diner on the co...\n",
       "\n",
       "[10000 rows x 1 columns]"
      ]
     },
     "execution_count": 77,
     "metadata": {},
     "output_type": "execute_result"
    }
   ],
   "source": [
    "df2=pd.read_csv(\"Test.csv\")\n",
    "df2"
   ]
  },
  {
   "cell_type": "code",
   "execution_count": 78,
   "metadata": {},
   "outputs": [
    {
     "data": {
      "text/html": [
       "<div>\n",
       "<style scoped>\n",
       "    .dataframe tbody tr th:only-of-type {\n",
       "        vertical-align: middle;\n",
       "    }\n",
       "\n",
       "    .dataframe tbody tr th {\n",
       "        vertical-align: top;\n",
       "    }\n",
       "\n",
       "    .dataframe thead th {\n",
       "        text-align: right;\n",
       "    }\n",
       "</style>\n",
       "<table border=\"1\" class=\"dataframe\">\n",
       "  <thead>\n",
       "    <tr style=\"text-align: right;\">\n",
       "      <th></th>\n",
       "      <th>review</th>\n",
       "      <th>cleaned_reviewed</th>\n",
       "    </tr>\n",
       "  </thead>\n",
       "  <tbody>\n",
       "    <tr>\n",
       "      <th>0</th>\n",
       "      <td>Remember those old kung fu movies we used to w...</td>\n",
       "      <td>rememb old kung fu movi use watch friday satur...</td>\n",
       "    </tr>\n",
       "    <tr>\n",
       "      <th>1</th>\n",
       "      <td>This movie is another one on my List of Movies...</td>\n",
       "      <td>movi anoth one list movi bother saw year ago a...</td>\n",
       "    </tr>\n",
       "    <tr>\n",
       "      <th>2</th>\n",
       "      <td>How in the world does a thing like this get in...</td>\n",
       "      <td>world thing like get dvd player home even get ...</td>\n",
       "    </tr>\n",
       "    <tr>\n",
       "      <th>3</th>\n",
       "      <td>\"Queen of the Damned\" is one of the best vampi...</td>\n",
       "      <td>queen damn one best vampir movi ever seen movi...</td>\n",
       "    </tr>\n",
       "    <tr>\n",
       "      <th>4</th>\n",
       "      <td>The Caprica episode (S01E01) is well done as a...</td>\n",
       "      <td>caprica episod e well done pilot realli episod...</td>\n",
       "    </tr>\n",
       "    <tr>\n",
       "      <th>...</th>\n",
       "      <td>...</td>\n",
       "      <td>...</td>\n",
       "    </tr>\n",
       "    <tr>\n",
       "      <th>9995</th>\n",
       "      <td>Watched this piece ONDEMAND because the descri...</td>\n",
       "      <td>watch piec ondemand descript kind outlandish f...</td>\n",
       "    </tr>\n",
       "    <tr>\n",
       "      <th>9996</th>\n",
       "      <td>A nurse travels to a rural psychiatric clinic ...</td>\n",
       "      <td>nurs travel rural psychiatr clinic run doctor ...</td>\n",
       "    </tr>\n",
       "    <tr>\n",
       "      <th>9997</th>\n",
       "      <td>Although this small film kind of got lost in t...</td>\n",
       "      <td>although small film kind got lost wake waterfr...</td>\n",
       "    </tr>\n",
       "    <tr>\n",
       "      <th>9998</th>\n",
       "      <td>I first saw this film in the early 80's on cab...</td>\n",
       "      <td>first saw film earli cabl uniqu statement sixt...</td>\n",
       "    </tr>\n",
       "    <tr>\n",
       "      <th>9999</th>\n",
       "      <td>Recognizing the picture of the diner on the co...</td>\n",
       "      <td>recogn pictur diner cover dvd made realiz loca...</td>\n",
       "    </tr>\n",
       "  </tbody>\n",
       "</table>\n",
       "<p>10000 rows × 2 columns</p>\n",
       "</div>"
      ],
      "text/plain": [
       "                                                 review  \\\n",
       "0     Remember those old kung fu movies we used to w...   \n",
       "1     This movie is another one on my List of Movies...   \n",
       "2     How in the world does a thing like this get in...   \n",
       "3     \"Queen of the Damned\" is one of the best vampi...   \n",
       "4     The Caprica episode (S01E01) is well done as a...   \n",
       "...                                                 ...   \n",
       "9995  Watched this piece ONDEMAND because the descri...   \n",
       "9996  A nurse travels to a rural psychiatric clinic ...   \n",
       "9997  Although this small film kind of got lost in t...   \n",
       "9998  I first saw this film in the early 80's on cab...   \n",
       "9999  Recognizing the picture of the diner on the co...   \n",
       "\n",
       "                                       cleaned_reviewed  \n",
       "0     rememb old kung fu movi use watch friday satur...  \n",
       "1     movi anoth one list movi bother saw year ago a...  \n",
       "2     world thing like get dvd player home even get ...  \n",
       "3     queen damn one best vampir movi ever seen movi...  \n",
       "4     caprica episod e well done pilot realli episod...  \n",
       "...                                                 ...  \n",
       "9995  watch piec ondemand descript kind outlandish f...  \n",
       "9996  nurs travel rural psychiatr clinic run doctor ...  \n",
       "9997  although small film kind got lost wake waterfr...  \n",
       "9998  first saw film earli cabl uniqu statement sixt...  \n",
       "9999  recogn pictur diner cover dvd made realiz loca...  \n",
       "\n",
       "[10000 rows x 2 columns]"
      ]
     },
     "execution_count": 78,
     "metadata": {},
     "output_type": "execute_result"
    }
   ],
   "source": [
    "df2['cleaned_reviewed']=df2['review'].apply(mytokenizer)\n",
    "df2"
   ]
  },
  {
   "cell_type": "code",
   "execution_count": 80,
   "metadata": {},
   "outputs": [
    {
     "data": {
      "text/plain": [
       "(10000,)"
      ]
     },
     "execution_count": 80,
     "metadata": {},
     "output_type": "execute_result"
    }
   ],
   "source": [
    "X_test_val=df2['cleaned_reviewed'].values\n",
    "X_test_val.shape"
   ]
  },
  {
   "cell_type": "code",
   "execution_count": 81,
   "metadata": {},
   "outputs": [],
   "source": [
    "# Methpd:\n",
    "\n",
    "def getReviews(X,Y,X_test):\n",
    "    cv=CountVectorizer(max_df=0.5,max_features=50000)\n",
    "    x_vec=cv.fit_transform(X)\n",
    "    x_vec=tfidf.fit_transform(x_vec)\n",
    "    xt_vec=cv.transform(X_test)\n",
    "    xt_vec=tfidf.transform(xt_vec)\n",
    "    mnb=MultinomialNB()\n",
    "    mnb.fit(x_vec,Y)\n",
    "    print(mnb.score(x_vec,Y))\n",
    "    return mnb.predict(xt_vec)"
   ]
  },
  {
   "cell_type": "code",
   "execution_count": 82,
   "metadata": {},
   "outputs": [
    {
     "name": "stdout",
     "output_type": "stream",
     "text": [
      "0.895375\n"
     ]
    }
   ],
   "source": [
    "Y_pred=getReviews(X,Y,X_test_val)"
   ]
  },
  {
   "cell_type": "code",
   "execution_count": 83,
   "metadata": {},
   "outputs": [
    {
     "data": {
      "text/plain": [
       "array([0, 0, 0, ..., 1, 1, 0])"
      ]
     },
     "execution_count": 83,
     "metadata": {},
     "output_type": "execute_result"
    }
   ],
   "source": [
    "Y_pred"
   ]
  },
  {
   "cell_type": "code",
   "execution_count": 84,
   "metadata": {},
   "outputs": [
    {
     "data": {
      "text/plain": [
       "array(['neg', 'neg', 'neg', ..., 'pos', 'pos', 'neg'], dtype='<U3')"
      ]
     },
     "execution_count": 84,
     "metadata": {},
     "output_type": "execute_result"
    }
   ],
   "source": [
    "Yp=np.where(Y_pred==1,\"pos\",\"neg\")\n",
    "Yp"
   ]
  },
  {
   "cell_type": "code",
   "execution_count": 85,
   "metadata": {},
   "outputs": [],
   "source": [
    "ind=[i for i in range(Y_pred.shape[0])]\n",
    "res=list(zip(ind,Yp))"
   ]
  },
  {
   "cell_type": "code",
   "execution_count": 86,
   "metadata": {},
   "outputs": [
    {
     "data": {
      "text/html": [
       "<div>\n",
       "<style scoped>\n",
       "    .dataframe tbody tr th:only-of-type {\n",
       "        vertical-align: middle;\n",
       "    }\n",
       "\n",
       "    .dataframe tbody tr th {\n",
       "        vertical-align: top;\n",
       "    }\n",
       "\n",
       "    .dataframe thead th {\n",
       "        text-align: right;\n",
       "    }\n",
       "</style>\n",
       "<table border=\"1\" class=\"dataframe\">\n",
       "  <thead>\n",
       "    <tr style=\"text-align: right;\">\n",
       "      <th></th>\n",
       "      <th>Id</th>\n",
       "      <th>label</th>\n",
       "    </tr>\n",
       "  </thead>\n",
       "  <tbody>\n",
       "    <tr>\n",
       "      <th>0</th>\n",
       "      <td>0</td>\n",
       "      <td>neg</td>\n",
       "    </tr>\n",
       "    <tr>\n",
       "      <th>1</th>\n",
       "      <td>1</td>\n",
       "      <td>neg</td>\n",
       "    </tr>\n",
       "    <tr>\n",
       "      <th>2</th>\n",
       "      <td>2</td>\n",
       "      <td>neg</td>\n",
       "    </tr>\n",
       "    <tr>\n",
       "      <th>3</th>\n",
       "      <td>3</td>\n",
       "      <td>pos</td>\n",
       "    </tr>\n",
       "    <tr>\n",
       "      <th>4</th>\n",
       "      <td>4</td>\n",
       "      <td>pos</td>\n",
       "    </tr>\n",
       "    <tr>\n",
       "      <th>...</th>\n",
       "      <td>...</td>\n",
       "      <td>...</td>\n",
       "    </tr>\n",
       "    <tr>\n",
       "      <th>9995</th>\n",
       "      <td>9995</td>\n",
       "      <td>neg</td>\n",
       "    </tr>\n",
       "    <tr>\n",
       "      <th>9996</th>\n",
       "      <td>9996</td>\n",
       "      <td>pos</td>\n",
       "    </tr>\n",
       "    <tr>\n",
       "      <th>9997</th>\n",
       "      <td>9997</td>\n",
       "      <td>pos</td>\n",
       "    </tr>\n",
       "    <tr>\n",
       "      <th>9998</th>\n",
       "      <td>9998</td>\n",
       "      <td>pos</td>\n",
       "    </tr>\n",
       "    <tr>\n",
       "      <th>9999</th>\n",
       "      <td>9999</td>\n",
       "      <td>neg</td>\n",
       "    </tr>\n",
       "  </tbody>\n",
       "</table>\n",
       "<p>10000 rows × 2 columns</p>\n",
       "</div>"
      ],
      "text/plain": [
       "        Id label\n",
       "0        0   neg\n",
       "1        1   neg\n",
       "2        2   neg\n",
       "3        3   pos\n",
       "4        4   pos\n",
       "...    ...   ...\n",
       "9995  9995   neg\n",
       "9996  9996   pos\n",
       "9997  9997   pos\n",
       "9998  9998   pos\n",
       "9999  9999   neg\n",
       "\n",
       "[10000 rows x 2 columns]"
      ]
     },
     "execution_count": 86,
     "metadata": {},
     "output_type": "execute_result"
    }
   ],
   "source": [
    "ans=pd.DataFrame(res,columns=['Id','label'])\n",
    "ans"
   ]
  },
  {
   "cell_type": "code",
   "execution_count": 87,
   "metadata": {},
   "outputs": [],
   "source": [
    "ans.to_csv(\"Final_ans.csv\",index=None)"
   ]
  },
  {
   "cell_type": "code",
   "execution_count": null,
   "metadata": {},
   "outputs": [],
   "source": []
  }
 ],
 "metadata": {
  "kernelspec": {
   "display_name": "Python 3",
   "language": "python",
   "name": "python3"
  },
  "language_info": {
   "codemirror_mode": {
    "name": "ipython",
    "version": 3
   },
   "file_extension": ".py",
   "mimetype": "text/x-python",
   "name": "python",
   "nbconvert_exporter": "python",
   "pygments_lexer": "ipython3",
   "version": "3.7.6"
  }
 },
 "nbformat": 4,
 "nbformat_minor": 4
}

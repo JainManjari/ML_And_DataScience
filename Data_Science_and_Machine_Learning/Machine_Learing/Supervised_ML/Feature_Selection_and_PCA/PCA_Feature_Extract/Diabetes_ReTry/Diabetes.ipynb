{
 "cells": [
  {
   "cell_type": "code",
   "execution_count": 136,
   "metadata": {},
   "outputs": [],
   "source": [
    "import numpy as np\n",
    "import pandas as pd\n",
    "import matplotlib.pyplot as plt"
   ]
  },
  {
   "cell_type": "code",
   "execution_count": 137,
   "metadata": {},
   "outputs": [
    {
     "data": {
      "text/html": [
       "<div>\n",
       "<style scoped>\n",
       "    .dataframe tbody tr th:only-of-type {\n",
       "        vertical-align: middle;\n",
       "    }\n",
       "\n",
       "    .dataframe tbody tr th {\n",
       "        vertical-align: top;\n",
       "    }\n",
       "\n",
       "    .dataframe thead th {\n",
       "        text-align: right;\n",
       "    }\n",
       "</style>\n",
       "<table border=\"1\" class=\"dataframe\">\n",
       "  <thead>\n",
       "    <tr style=\"text-align: right;\">\n",
       "      <th></th>\n",
       "      <th>Pregnancies</th>\n",
       "      <th>Glucose</th>\n",
       "      <th>BloodPressure</th>\n",
       "      <th>SkinThickness</th>\n",
       "      <th>Insulin</th>\n",
       "      <th>BMI</th>\n",
       "      <th>DiabetesPedigreeFunction</th>\n",
       "      <th>Age</th>\n",
       "    </tr>\n",
       "  </thead>\n",
       "  <tbody>\n",
       "    <tr>\n",
       "      <th>0</th>\n",
       "      <td>7</td>\n",
       "      <td>168</td>\n",
       "      <td>88</td>\n",
       "      <td>42</td>\n",
       "      <td>321</td>\n",
       "      <td>38.2</td>\n",
       "      <td>0.787</td>\n",
       "      <td>40</td>\n",
       "    </tr>\n",
       "    <tr>\n",
       "      <th>1</th>\n",
       "      <td>8</td>\n",
       "      <td>110</td>\n",
       "      <td>76</td>\n",
       "      <td>0</td>\n",
       "      <td>0</td>\n",
       "      <td>27.8</td>\n",
       "      <td>0.237</td>\n",
       "      <td>58</td>\n",
       "    </tr>\n",
       "    <tr>\n",
       "      <th>2</th>\n",
       "      <td>7</td>\n",
       "      <td>147</td>\n",
       "      <td>76</td>\n",
       "      <td>0</td>\n",
       "      <td>0</td>\n",
       "      <td>39.4</td>\n",
       "      <td>0.257</td>\n",
       "      <td>43</td>\n",
       "    </tr>\n",
       "    <tr>\n",
       "      <th>3</th>\n",
       "      <td>2</td>\n",
       "      <td>100</td>\n",
       "      <td>66</td>\n",
       "      <td>20</td>\n",
       "      <td>90</td>\n",
       "      <td>32.9</td>\n",
       "      <td>0.867</td>\n",
       "      <td>28</td>\n",
       "    </tr>\n",
       "    <tr>\n",
       "      <th>4</th>\n",
       "      <td>4</td>\n",
       "      <td>129</td>\n",
       "      <td>86</td>\n",
       "      <td>20</td>\n",
       "      <td>270</td>\n",
       "      <td>35.1</td>\n",
       "      <td>0.231</td>\n",
       "      <td>23</td>\n",
       "    </tr>\n",
       "    <tr>\n",
       "      <th>...</th>\n",
       "      <td>...</td>\n",
       "      <td>...</td>\n",
       "      <td>...</td>\n",
       "      <td>...</td>\n",
       "      <td>...</td>\n",
       "      <td>...</td>\n",
       "      <td>...</td>\n",
       "      <td>...</td>\n",
       "    </tr>\n",
       "    <tr>\n",
       "      <th>571</th>\n",
       "      <td>2</td>\n",
       "      <td>111</td>\n",
       "      <td>60</td>\n",
       "      <td>0</td>\n",
       "      <td>0</td>\n",
       "      <td>26.2</td>\n",
       "      <td>0.343</td>\n",
       "      <td>23</td>\n",
       "    </tr>\n",
       "    <tr>\n",
       "      <th>572</th>\n",
       "      <td>7</td>\n",
       "      <td>187</td>\n",
       "      <td>68</td>\n",
       "      <td>39</td>\n",
       "      <td>304</td>\n",
       "      <td>37.7</td>\n",
       "      <td>0.254</td>\n",
       "      <td>41</td>\n",
       "    </tr>\n",
       "    <tr>\n",
       "      <th>573</th>\n",
       "      <td>2</td>\n",
       "      <td>122</td>\n",
       "      <td>60</td>\n",
       "      <td>18</td>\n",
       "      <td>106</td>\n",
       "      <td>29.8</td>\n",
       "      <td>0.717</td>\n",
       "      <td>22</td>\n",
       "    </tr>\n",
       "    <tr>\n",
       "      <th>574</th>\n",
       "      <td>4</td>\n",
       "      <td>154</td>\n",
       "      <td>72</td>\n",
       "      <td>29</td>\n",
       "      <td>126</td>\n",
       "      <td>31.3</td>\n",
       "      <td>0.338</td>\n",
       "      <td>37</td>\n",
       "    </tr>\n",
       "    <tr>\n",
       "      <th>575</th>\n",
       "      <td>1</td>\n",
       "      <td>88</td>\n",
       "      <td>78</td>\n",
       "      <td>29</td>\n",
       "      <td>76</td>\n",
       "      <td>32.0</td>\n",
       "      <td>0.365</td>\n",
       "      <td>29</td>\n",
       "    </tr>\n",
       "  </tbody>\n",
       "</table>\n",
       "<p>576 rows × 8 columns</p>\n",
       "</div>"
      ],
      "text/plain": [
       "     Pregnancies  Glucose  BloodPressure  SkinThickness  Insulin   BMI  \\\n",
       "0              7      168             88             42      321  38.2   \n",
       "1              8      110             76              0        0  27.8   \n",
       "2              7      147             76              0        0  39.4   \n",
       "3              2      100             66             20       90  32.9   \n",
       "4              4      129             86             20      270  35.1   \n",
       "..           ...      ...            ...            ...      ...   ...   \n",
       "571            2      111             60              0        0  26.2   \n",
       "572            7      187             68             39      304  37.7   \n",
       "573            2      122             60             18      106  29.8   \n",
       "574            4      154             72             29      126  31.3   \n",
       "575            1       88             78             29       76  32.0   \n",
       "\n",
       "     DiabetesPedigreeFunction  Age  \n",
       "0                       0.787   40  \n",
       "1                       0.237   58  \n",
       "2                       0.257   43  \n",
       "3                       0.867   28  \n",
       "4                       0.231   23  \n",
       "..                        ...  ...  \n",
       "571                     0.343   23  \n",
       "572                     0.254   41  \n",
       "573                     0.717   22  \n",
       "574                     0.338   37  \n",
       "575                     0.365   29  \n",
       "\n",
       "[576 rows x 8 columns]"
      ]
     },
     "execution_count": 137,
     "metadata": {},
     "output_type": "execute_result"
    }
   ],
   "source": [
    "dfx=pd.read_csv(\"Diabetes_XTrain.csv\")\n",
    "dfx"
   ]
  },
  {
   "cell_type": "code",
   "execution_count": 138,
   "metadata": {},
   "outputs": [
    {
     "data": {
      "text/html": [
       "<div>\n",
       "<style scoped>\n",
       "    .dataframe tbody tr th:only-of-type {\n",
       "        vertical-align: middle;\n",
       "    }\n",
       "\n",
       "    .dataframe tbody tr th {\n",
       "        vertical-align: top;\n",
       "    }\n",
       "\n",
       "    .dataframe thead th {\n",
       "        text-align: right;\n",
       "    }\n",
       "</style>\n",
       "<table border=\"1\" class=\"dataframe\">\n",
       "  <thead>\n",
       "    <tr style=\"text-align: right;\">\n",
       "      <th></th>\n",
       "      <th>Outcome</th>\n",
       "    </tr>\n",
       "  </thead>\n",
       "  <tbody>\n",
       "    <tr>\n",
       "      <th>0</th>\n",
       "      <td>1</td>\n",
       "    </tr>\n",
       "    <tr>\n",
       "      <th>1</th>\n",
       "      <td>0</td>\n",
       "    </tr>\n",
       "    <tr>\n",
       "      <th>2</th>\n",
       "      <td>1</td>\n",
       "    </tr>\n",
       "    <tr>\n",
       "      <th>3</th>\n",
       "      <td>1</td>\n",
       "    </tr>\n",
       "    <tr>\n",
       "      <th>4</th>\n",
       "      <td>0</td>\n",
       "    </tr>\n",
       "    <tr>\n",
       "      <th>...</th>\n",
       "      <td>...</td>\n",
       "    </tr>\n",
       "    <tr>\n",
       "      <th>571</th>\n",
       "      <td>0</td>\n",
       "    </tr>\n",
       "    <tr>\n",
       "      <th>572</th>\n",
       "      <td>1</td>\n",
       "    </tr>\n",
       "    <tr>\n",
       "      <th>573</th>\n",
       "      <td>0</td>\n",
       "    </tr>\n",
       "    <tr>\n",
       "      <th>574</th>\n",
       "      <td>0</td>\n",
       "    </tr>\n",
       "    <tr>\n",
       "      <th>575</th>\n",
       "      <td>0</td>\n",
       "    </tr>\n",
       "  </tbody>\n",
       "</table>\n",
       "<p>576 rows × 1 columns</p>\n",
       "</div>"
      ],
      "text/plain": [
       "     Outcome\n",
       "0          1\n",
       "1          0\n",
       "2          1\n",
       "3          1\n",
       "4          0\n",
       "..       ...\n",
       "571        0\n",
       "572        1\n",
       "573        0\n",
       "574        0\n",
       "575        0\n",
       "\n",
       "[576 rows x 1 columns]"
      ]
     },
     "execution_count": 138,
     "metadata": {},
     "output_type": "execute_result"
    }
   ],
   "source": [
    "dfy=pd.read_csv(\"Diabetes_YTrain.csv\")\n",
    "dfy"
   ]
  },
  {
   "cell_type": "code",
   "execution_count": 139,
   "metadata": {},
   "outputs": [],
   "source": [
    "X=dfx.values\n",
    "Y=dfy.values\n",
    "\n",
    "Y=Y.reshape((-1,))"
   ]
  },
  {
   "cell_type": "markdown",
   "metadata": {},
   "source": [
    "# Normalisation"
   ]
  },
  {
   "cell_type": "code",
   "execution_count": 140,
   "metadata": {},
   "outputs": [
    {
     "data": {
      "text/plain": [
       "array([[ 0.97457151,  1.52528095,  0.94599501, ...,  0.78036618,\n",
       "         0.907501  ,  0.59363371],\n",
       "       [ 1.27524274, -0.31683408,  0.35393439, ..., -0.49918316,\n",
       "        -0.72639999,  2.11034006],\n",
       "       [ 0.97457151,  0.85830827,  0.35393439, ...,  0.92800649,\n",
       "        -0.66698541,  0.8464181 ],\n",
       "       ...,\n",
       "       [-0.52878465,  0.06429317, -0.43547977, ..., -0.25311598,\n",
       "         0.69954996, -0.92307263],\n",
       "       [ 0.07255781,  1.0806325 ,  0.15658085, ..., -0.06856559,\n",
       "        -0.42635635,  0.34084932],\n",
       "       [-0.82945588, -1.01556737,  0.45261116, ...,  0.01755792,\n",
       "        -0.34614667, -0.33324239]])"
      ]
     },
     "execution_count": 140,
     "metadata": {},
     "output_type": "execute_result"
    }
   ],
   "source": [
    "from sklearn.preprocessing import StandardScaler\n",
    "\n",
    "std=StandardScaler()\n",
    "X_=std.fit_transform(X)\n",
    "X_"
   ]
  },
  {
   "cell_type": "markdown",
   "metadata": {},
   "source": [
    "# PCA - Finding No of Features"
   ]
  },
  {
   "cell_type": "code",
   "execution_count": 141,
   "metadata": {},
   "outputs": [],
   "source": [
    "from sklearn.decomposition import PCA"
   ]
  },
  {
   "cell_type": "code",
   "execution_count": 142,
   "metadata": {},
   "outputs": [
    {
     "data": {
      "text/plain": [
       "(576, 8)"
      ]
     },
     "execution_count": 142,
     "metadata": {},
     "output_type": "execute_result"
    }
   ],
   "source": [
    "pca=PCA()\n",
    "Z=pca.fit_transform(X_)\n",
    "Z.shape"
   ]
  },
  {
   "cell_type": "code",
   "execution_count": 143,
   "metadata": {},
   "outputs": [
    {
     "data": {
      "text/plain": [
       "array([2.12945554, 1.75957966, 1.061351  , 0.84392934, 0.73481526,\n",
       "       0.6966238 , 0.41680702, 0.37135142])"
      ]
     },
     "execution_count": 143,
     "metadata": {},
     "output_type": "execute_result"
    }
   ],
   "source": [
    "pca.explained_variance_"
   ]
  },
  {
   "cell_type": "code",
   "execution_count": 144,
   "metadata": {},
   "outputs": [
    {
     "data": {
      "text/plain": [
       "array([0.26571982, 0.2195656 , 0.13243855, 0.10530802, 0.09169244,\n",
       "       0.0869268 , 0.05201042, 0.04633834])"
      ]
     },
     "execution_count": 144,
     "metadata": {},
     "output_type": "execute_result"
    }
   ],
   "source": [
    "pca.explained_variance_ratio_"
   ]
  },
  {
   "cell_type": "code",
   "execution_count": 145,
   "metadata": {},
   "outputs": [
    {
     "data": {
      "text/plain": [
       "array([0.26571982, 0.48528543, 0.61772397, 0.723032  , 0.81472444,\n",
       "       0.90165124, 0.95366166, 1.        ])"
      ]
     },
     "execution_count": 145,
     "metadata": {},
     "output_type": "execute_result"
    }
   ],
   "source": [
    "cum_var_exp=np.cumsum(pca.explained_variance_ratio_)\n",
    "cum_var_exp"
   ]
  },
  {
   "cell_type": "code",
   "execution_count": 146,
   "metadata": {},
   "outputs": [
    {
     "data": {
      "image/png": "[encoded data removed]",
      "text/plain": [
       "<Figure size 576x360 with 1 Axes>"
      ]
     },
     "metadata": {
      "needs_background": "light"
     },
     "output_type": "display_data"
    }
   ],
   "source": [
    "plt.figure(figsize=(8,5))\n",
    "plt.grid(\"on\")\n",
    "plt.plot(cum_var_exp)\n",
    "plt.show()\n",
    "\n",
    "# Here 6 features are asked to explain 90% of the data"
   ]
  },
  {
   "cell_type": "code",
   "execution_count": 147,
   "metadata": {},
   "outputs": [
    {
     "data": {
      "text/plain": [
       "array([[ 3.37676664, -0.02086439,  0.75253003, -0.49478261,  0.69504821,\n",
       "        -0.1207943 ],\n",
       "       [-0.54337153,  2.83935766, -0.28531357,  0.06105724,  0.36547119,\n",
       "        -0.09815614],\n",
       "       [ 0.21374408,  1.94052984, -0.2577961 , -0.38824631, -1.23133903,\n",
       "         0.44040907],\n",
       "       ...,\n",
       "       [-0.30786368, -1.01760785,  0.76204287,  0.24977065, -0.16931518,\n",
       "        -0.16475928],\n",
       "       [ 0.84944062,  0.20014572,  0.25557766, -0.9278689 ,  0.00959727,\n",
       "        -0.09660382],\n",
       "       [-0.30722447, -0.93243586, -1.03195997,  0.11014255,  0.32484648,\n",
       "        -0.38605045]])"
      ]
     },
     "execution_count": 147,
     "metadata": {},
     "output_type": "execute_result"
    }
   ],
   "source": [
    "Z_=Z[:,:6]\n",
    "Z_"
   ]
  },
  {
   "cell_type": "code",
   "execution_count": 148,
   "metadata": {},
   "outputs": [
    {
     "data": {
      "text/plain": [
       "(576, 6)"
      ]
     },
     "execution_count": 148,
     "metadata": {},
     "output_type": "execute_result"
    }
   ],
   "source": [
    "Z_.shape"
   ]
  },
  {
   "cell_type": "markdown",
   "metadata": {},
   "source": [
    "# Split"
   ]
  },
  {
   "cell_type": "code",
   "execution_count": 150,
   "metadata": {},
   "outputs": [],
   "source": [
    "from sklearn import model_selection as ms"
   ]
  },
  {
   "cell_type": "code",
   "execution_count": 151,
   "metadata": {},
   "outputs": [],
   "source": [
    "X_train,X_test,Y_train,Y_test=ms.train_test_split(Z_,Y,random_state=0)"
   ]
  },
  {
   "cell_type": "code",
   "execution_count": 152,
   "metadata": {},
   "outputs": [
    {
     "data": {
      "text/plain": [
       "((432, 6), (432,), (144, 6), (144,))"
      ]
     },
     "execution_count": 152,
     "metadata": {},
     "output_type": "execute_result"
    }
   ],
   "source": [
    "X_train.shape,Y_train.shape,X_test.shape, Y_test.shape"
   ]
  },
  {
   "cell_type": "markdown",
   "metadata": {},
   "source": [
    "### Adding Columns"
   ]
  },
  {
   "cell_type": "code",
   "execution_count": 153,
   "metadata": {},
   "outputs": [],
   "source": [
    "ones=np.ones((X_train.shape[0],1))\n",
    "X_train_new=np.hstack((ones,X_train))"
   ]
  },
  {
   "cell_type": "code",
   "execution_count": 154,
   "metadata": {},
   "outputs": [
    {
     "data": {
      "text/plain": [
       "(432, 7)"
      ]
     },
     "execution_count": 154,
     "metadata": {},
     "output_type": "execute_result"
    }
   ],
   "source": [
    "X_train_new.shape"
   ]
  },
  {
   "cell_type": "code",
   "execution_count": 155,
   "metadata": {},
   "outputs": [],
   "source": [
    "ones=np.ones((X_test.shape[0],1))\n",
    "X_test_new=np.hstack((ones,X_test))"
   ]
  },
  {
   "cell_type": "code",
   "execution_count": 156,
   "metadata": {},
   "outputs": [
    {
     "data": {
      "text/plain": [
       "(144, 7)"
      ]
     },
     "execution_count": 156,
     "metadata": {},
     "output_type": "execute_result"
    }
   ],
   "source": [
    "X_test_new.shape"
   ]
  },
  {
   "cell_type": "markdown",
   "metadata": {},
   "source": [
    "### Using Logistic Regression"
   ]
  },
  {
   "cell_type": "code",
   "execution_count": 157,
   "metadata": {},
   "outputs": [],
   "source": [
    "from sklearn.linear_model import LogisticRegression"
   ]
  },
  {
   "cell_type": "code",
   "execution_count": 158,
   "metadata": {},
   "outputs": [],
   "source": [
    "alg=LogisticRegression()"
   ]
  },
  {
   "cell_type": "code",
   "execution_count": 159,
   "metadata": {},
   "outputs": [
    {
     "data": {
      "text/plain": [
       "LogisticRegression(C=1.0, class_weight=None, dual=False, fit_intercept=True,\n",
       "                   intercept_scaling=1, l1_ratio=None, max_iter=100,\n",
       "                   multi_class='auto', n_jobs=None, penalty='l2',\n",
       "                   random_state=None, solver='lbfgs', tol=0.0001, verbose=0,\n",
       "                   warm_start=False)"
      ]
     },
     "execution_count": 159,
     "metadata": {},
     "output_type": "execute_result"
    }
   ],
   "source": [
    "alg.fit(X_train,Y_train)"
   ]
  },
  {
   "cell_type": "code",
   "execution_count": 160,
   "metadata": {},
   "outputs": [
    {
     "data": {
      "text/plain": [
       "array([-0.7620061])"
      ]
     },
     "execution_count": 160,
     "metadata": {},
     "output_type": "execute_result"
    }
   ],
   "source": [
    "alg.intercept_"
   ]
  },
  {
   "cell_type": "code",
   "execution_count": 161,
   "metadata": {},
   "outputs": [
    {
     "data": {
      "text/plain": [
       "array([[ 0.81786796,  0.26348075,  0.50791732, -0.08029013, -0.74000396,\n",
       "         0.47873939]])"
      ]
     },
     "execution_count": 161,
     "metadata": {},
     "output_type": "execute_result"
    }
   ],
   "source": [
    "alg.coef_"
   ]
  },
  {
   "cell_type": "code",
   "execution_count": 162,
   "metadata": {},
   "outputs": [],
   "source": [
    "Y_pred_tra=alg.predict(X_train)"
   ]
  },
  {
   "cell_type": "code",
   "execution_count": 163,
   "metadata": {},
   "outputs": [
    {
     "data": {
      "text/plain": [
       "0.7685185185185185"
      ]
     },
     "execution_count": 163,
     "metadata": {},
     "output_type": "execute_result"
    }
   ],
   "source": [
    "alg.score(X_train,Y_train)"
   ]
  },
  {
   "cell_type": "code",
   "execution_count": 164,
   "metadata": {},
   "outputs": [
    {
     "data": {
      "text/plain": [
       "0.8263888888888888"
      ]
     },
     "execution_count": 164,
     "metadata": {},
     "output_type": "execute_result"
    }
   ],
   "source": [
    "alg.score(X_test,Y_test)"
   ]
  },
  {
   "cell_type": "code",
   "execution_count": null,
   "metadata": {},
   "outputs": [],
   "source": []
  },
  {
   "cell_type": "code",
   "execution_count": null,
   "metadata": {},
   "outputs": [],
   "source": []
  },
  {
   "cell_type": "code",
   "execution_count": 165,
   "metadata": {},
   "outputs": [],
   "source": [
    "def sigmoid(x):\n",
    "    return 1.0/(1.0+np.exp(-x))\n",
    "\n",
    "def hypo(X,theta):\n",
    "    return sigmoid(np.dot(X,theta))\n",
    "\n",
    "def error(X,y,theta):\n",
    "    yp=hypo(X,theta)\n",
    "    e=np.mean((y*np.log(yp))+((1-y)*np.log(1-yp)))\n",
    "    return -e\n",
    "\n",
    "def gradient(X,y,theta):\n",
    "    M,N=X.shape\n",
    "    yp=hypo(X,theta)\n",
    "    grad=np.dot(y-yp,X)\n",
    "    return -grad/M\n",
    "\n",
    "def gradient_descent(X,y,lr=0.1,max_itr=500):\n",
    "    M,N=X.shape\n",
    "    theta=np.zeros((N,))\n",
    "    error_list=[]\n",
    "    \n",
    "    for i in range(max_itr):\n",
    "        e=error(X,y,theta)\n",
    "        error_list.append(e)\n",
    "        grad=gradient(X,y,theta)\n",
    "        theta=theta-lr*grad\n",
    "        \n",
    "    return theta,error_list\n",
    "\n",
    "def predict(X,theta):\n",
    "    yp=hypo(X,theta)\n",
    "    output=np.zeros(yp.shape)\n",
    "    output[yp>=0.5]=1\n",
    "    output=output.astype('int')\n",
    "    return output\n",
    "\n",
    "def accuracy(Y,Yp):\n",
    "    Y=Y.astype('int')\n",
    "    return np.mean(Y==Yp)*100"
   ]
  },
  {
   "cell_type": "code",
   "execution_count": 166,
   "metadata": {},
   "outputs": [],
   "source": [
    "theta,error_list=gradient_descent(X_train_new,Y_train)"
   ]
  },
  {
   "cell_type": "code",
   "execution_count": 167,
   "metadata": {},
   "outputs": [
    {
     "data": {
      "text/plain": [
       "76.85185185185185"
      ]
     },
     "execution_count": 167,
     "metadata": {},
     "output_type": "execute_result"
    }
   ],
   "source": [
    "Y_train_pred=predict(X_train_new,theta)\n",
    "accuracy(Y_train,Y_train_pred)"
   ]
  },
  {
   "cell_type": "code",
   "execution_count": 168,
   "metadata": {},
   "outputs": [
    {
     "data": {
      "text/plain": [
       "82.63888888888889"
      ]
     },
     "execution_count": 168,
     "metadata": {},
     "output_type": "execute_result"
    }
   ],
   "source": [
    "Y_test_pred=predict(X_test_new,theta)\n",
    "accuracy(Y_test,Y_test_pred)"
   ]
  },
  {
   "cell_type": "code",
   "execution_count": 169,
   "metadata": {},
   "outputs": [
    {
     "data": {
      "text/plain": [
       "[0.6931471805599453,\n",
       " 0.6808861682388897,\n",
       " 0.6696701376046064,\n",
       " 0.6593987311674999,\n",
       " 0.6499800581373633,\n",
       " 0.6413305678116928,\n",
       " 0.6333747109104377,\n",
       " 0.6260444630434591,\n",
       " 0.6192787692218318,\n",
       " 0.6130229537986649,\n",
       " 0.6072281276139053,\n",
       " 0.6018506138492747,\n",
       " 0.5968514061476742,\n",
       " 0.592195666651301,\n",
       " 0.5878522674066625,\n",
       " 0.5837933757086243,\n",
       " 0.5799940820832181,\n",
       " 0.5764320684688184,\n",
       " 0.5730873135330342,\n",
       " 0.5699418317950515,\n",
       " 0.56697944318979,\n",
       " 0.5641855698244228,\n",
       " 0.5615470568788121,\n",
       " 0.5590520148475845,\n",
       " 0.5566896805852496,\n",
       " 0.5544502948791654,\n",
       " 0.5523249945273698,\n",
       " 0.5503057171332129,\n",
       " 0.5483851170432934,\n",
       " 0.5465564910485112,\n",
       " 0.544813712640416,\n",
       " 0.5431511737675798,\n",
       " 0.5415637331709512,\n",
       " 0.540046670494776,\n",
       " 0.538595645472414,\n",
       " 0.5372066615759336,\n",
       " 0.5358760335962882,\n",
       " 0.5346003586886225,\n",
       " 0.5333764904761016,\n",
       " 0.53220151585677,\n",
       " 0.5310727342023518,\n",
       " 0.5299876386764688,\n",
       " 0.5289438994332907,\n",
       " 0.527939348486795,\n",
       " 0.5269719660662026,\n",
       " 0.526039868295272,\n",
       " 0.5251412960524269,\n",
       " 0.5242746048855218,\n",
       " 0.5234382558697787,\n",
       " 0.5226308073102816,\n",
       " 0.5218509072017118,\n",
       " 0.5210972863678761,\n",
       " 0.5203687522122725,\n",
       " 0.5196641830185654,\n",
       " 0.5189825227465568,\n",
       " 0.5183227762751594,\n",
       " 0.5176840050491012,\n",
       " 0.5170653230906976,\n",
       " 0.5164658933421143,\n",
       " 0.5158849243071503,\n",
       " 0.515321666964775,\n",
       " 0.5147754119294986,\n",
       " 0.514245486836177,\n",
       " 0.5137312539291042,\n",
       " 0.5132321078372454,\n",
       " 0.5127474735192487,\n",
       " 0.5122768043634712,\n",
       " 0.5118195804296758,\n",
       " 0.5113753068203308,\n",
       " 0.5109435121705909,\n",
       " 0.5105237472470541,\n",
       " 0.5101155836463157,\n",
       " 0.5097186125851613,\n",
       " 0.5093324437749865,\n",
       " 0.5089567043736994,\n",
       " 0.5085910380089619,\n",
       " 0.5082351038671754,\n",
       " 0.5078885758431012,\n",
       " 0.5075511417454543,\n",
       " 0.5072225025542091,\n",
       " 0.506902371725719,\n",
       " 0.5065904745420811,\n",
       " 0.5062865475014791,\n",
       " 0.5059903377465039,\n",
       " 0.5057016025277026,\n",
       " 0.5054201086998285,\n",
       " 0.5051456322484699,\n",
       " 0.5048779578449207,\n",
       " 0.5046168784273272,\n",
       " 0.5043621948062956,\n",
       " 0.5041137152932955,\n",
       " 0.5038712553503106,\n",
       " 0.5036346372593185,\n",
       " 0.5034036898102817,\n",
       " 0.5031782480064345,\n",
       " 0.5029581527857396,\n",
       " 0.5027432507574715,\n",
       " 0.5025333939529638,\n",
       " 0.502328439589621,\n",
       " 0.5021282498473661,\n",
       " 0.5019326916567525,\n",
       " 0.501741636498022,\n",
       " 0.5015549602104427,\n",
       " 0.5013725428113083,\n",
       " 0.5011942683240185,\n",
       " 0.5010200246147054,\n",
       " 0.5008497032369029,\n",
       " 0.5006831992837927,\n",
       " 0.5005204112475902,\n",
       " 0.5003612408856611,\n",
       " 0.5002055930929926,\n",
       " 0.500053375780657,\n",
       " 0.4999044997599398,\n",
       " 0.4997588786318186,\n",
       " 0.4996164286815006,\n",
       " 0.499477068777745,\n",
       " 0.49934072027671617,\n",
       " 0.4992073069301231,\n",
       " 0.4990767547974231,\n",
       " 0.4989489921618746,\n",
       " 0.49882394945024194,\n",
       " 0.49870155915596326,\n",
       " 0.49858175576560654,\n",
       " 0.4984644756884458,\n",
       " 0.498349657189005,\n",
       " 0.4982372403224176,\n",
       " 0.49812716687246755,\n",
       " 0.4980193802921774,\n",
       " 0.4979138256468239,\n",
       " 0.49781044955925996,\n",
       " 0.4977092001574372,\n",
       " 0.49761002702402246,\n",
       " 0.4975128811480121,\n",
       " 0.4974177148782483,\n",
       " 0.4973244818787531,\n",
       " 0.49723313708579375,\n",
       " 0.49714363666660255,\n",
       " 0.49705593797967607,\n",
       " 0.49696999953658244,\n",
       " 0.49688578096521024,\n",
       " 0.49680324297439565,\n",
       " 0.49672234731986625,\n",
       " 0.4966430567714459,\n",
       " 0.49656533508146444,\n",
       " 0.49648914695432217,\n",
       " 0.4964144580171587,\n",
       " 0.4963412347915803,\n",
       " 0.4962694446664009,\n",
       " 0.4961990558713538,\n",
       " 0.4961300374517361,\n",
       " 0.49606235924394426,\n",
       " 0.495995991851867,\n",
       " 0.4959309066240995,\n",
       " 0.4958670756319461,\n",
       " 0.4958044716481794,\n",
       " 0.49574306812652624,\n",
       " 0.49568283918185174,\n",
       " 0.4956237595710128,\n",
       " 0.4955658046743572,\n",
       " 0.4955089504778402,\n",
       " 0.49545317355573765,\n",
       " 0.49539845105393066,\n",
       " 0.4953447606737405,\n",
       " 0.4952920806562941,\n",
       " 0.4952403897673982,\n",
       " 0.49518966728290414,\n",
       " 0.4951398929745449,\n",
       " 0.49509104709622676,\n",
       " 0.49504311037075865,\n",
       " 0.49499606397700363,\n",
       " 0.4949498895374361,\n",
       " 0.49490456910609143,\n",
       " 0.4948600851568922,\n",
       " 0.49481642057233916,\n",
       " 0.4947735586325525,\n",
       " 0.49473148300465203,\n",
       " 0.49469017773246327,\n",
       " 0.494649627226539,\n",
       " 0.4946098162544846,\n",
       " 0.49457072993157675,\n",
       " 0.4945323537116654,\n",
       " 0.4944946733783485,\n",
       " 0.4944576750364123,\n",
       " 0.4944213451035249,\n",
       " 0.4943856703021773,\n",
       " 0.49435063765186177,\n",
       " 0.4943162344614812,\n",
       " 0.49428244832197954,\n",
       " 0.49424926709918776,\n",
       " 0.49421667892687743,\n",
       " 0.49418467220001516,\n",
       " 0.49415323556821134,\n",
       " 0.4941223579293566,\n",
       " 0.49409202842344024,\n",
       " 0.4940622364265443,\n",
       " 0.4940329715450077,\n",
       " 0.49400422360975577,\n",
       " 0.49397598267078807,\n",
       " 0.4939482389918211,\n",
       " 0.493920983045081,\n",
       " 0.49389420550623975,\n",
       " 0.4938678972494921,\n",
       " 0.4938420493427689,\n",
       " 0.49381665304307976,\n",
       " 0.49379169979198595,\n",
       " 0.49376718121119445,\n",
       " 0.4937430890982726,\n",
       " 0.4937194154224785,\n",
       " 0.49369615232070385,\n",
       " 0.49367329209352573,\n",
       " 0.4936508272013639,\n",
       " 0.49362875026074027,\n",
       " 0.4936070540406388,\n",
       " 0.49358573145896045,\n",
       " 0.49356477557907197,\n",
       " 0.4935441796064463,\n",
       " 0.4935239368853893,\n",
       " 0.4935040408958538,\n",
       " 0.49348448525033456,\n",
       " 0.4934652636908449,\n",
       " 0.4934463700859716,\n",
       " 0.4934277984280043,\n",
       " 0.49340954283014005,\n",
       " 0.493391597523758,\n",
       " 0.49337395685576446,\n",
       " 0.4933566152860046,\n",
       " 0.49333956738474044,\n",
       " 0.49332280783019167,\n",
       " 0.49330633140613883,\n",
       " 0.49329013299958596,\n",
       " 0.4932742075984826,\n",
       " 0.4932585502895012,\n",
       " 0.49324315625587056,\n",
       " 0.49322802077526284,\n",
       " 0.4932131392177318,\n",
       " 0.4931985070437028,\n",
       " 0.4931841198020115,\n",
       " 0.49316997312799,\n",
       " 0.49315606274160056,\n",
       " 0.49314238444561354,\n",
       " 0.49312893412383024,\n",
       " 0.4931157077393483,\n",
       " 0.4931027013328684,\n",
       " 0.49308991102104194,\n",
       " 0.4930773329948584,\n",
       " 0.4930649635180707,\n",
       " 0.4930527989256576,\n",
       " 0.49304083562232404,\n",
       " 0.4930290700810343,\n",
       " 0.4930174988415827,\n",
       " 0.49300611850919507,\n",
       " 0.4929949257531648,\n",
       " 0.49298391730552005,\n",
       " 0.4929730899597217,\n",
       " 0.4929624405693919,\n",
       " 0.4929519660470718,\n",
       " 0.4929416633630082,\n",
       " 0.49293152954396746,\n",
       " 0.4929215616720773,\n",
       " 0.49291175688369476,\n",
       " 0.4929021123683001,\n",
       " 0.4928926253674153,\n",
       " 0.49288329317354784,\n",
       " 0.49287411312915796,\n",
       " 0.49286508262564926,\n",
       " 0.4928561991023816,\n",
       " 0.4928474600457071,\n",
       " 0.4928388629880267,\n",
       " 0.49283040550686824,\n",
       " 0.49282208522398463,\n",
       " 0.4928138998044729,\n",
       " 0.4928058469559116,\n",
       " 0.4927979244275184,\n",
       " 0.4927901300093244,\n",
       " 0.4927824615313695,\n",
       " 0.4927749168629121,\n",
       " 0.492767493911658,\n",
       " 0.4927601906230064,\n",
       " 0.4927530049793105,\n",
       " 0.49274593499915575,\n",
       " 0.4927389787366527,\n",
       " 0.492732134280746,\n",
       " 0.4927253997545374,\n",
       " 0.49271877331462327,\n",
       " 0.49271225315044737,\n",
       " 0.49270583748366586,\n",
       " 0.49269952456752747,\n",
       " 0.49269331268626504,\n",
       " 0.4926872001545017,\n",
       " 0.4926811853166683,\n",
       " 0.49267526654643384,\n",
       " 0.49266944224614767,\n",
       " 0.49266371084629285,\n",
       " 0.49265807080495216,\n",
       " 0.4926525206072843,\n",
       " 0.4926470587650109,\n",
       " 0.49264168381591483,\n",
       " 0.4926363943233487,\n",
       " 0.4926311888757533,\n",
       " 0.49262606608618603,\n",
       " 0.49262102459185936,\n",
       " 0.4926160630536882,\n",
       " 0.4926111801558472,\n",
       " 0.49260637460533635,\n",
       " 0.4926016451315565,\n",
       " 0.49259699048589234,\n",
       " 0.49259240944130445,\n",
       " 0.4925879007919299,\n",
       " 0.49258346335269015,\n",
       " 0.4925790959589078,\n",
       " 0.49257479746592986,\n",
       " 0.49257056674876015,\n",
       " 0.49256640270169744,\n",
       " 0.4925623042379818,\n",
       " 0.4925582702894482,\n",
       " 0.4925542998061863,\n",
       " 0.49255039175620685,\n",
       " 0.49254654512511614,\n",
       " 0.4925427589157953,\n",
       " 0.49253903214808653,\n",
       " 0.49253536385848584,\n",
       " 0.49253175309984126,\n",
       " 0.49252819894105754,\n",
       " 0.49252470046680635,\n",
       " 0.4925212567772416,\n",
       " 0.4925178669877217,\n",
       " 0.49251453022853586,\n",
       " 0.4925112456446364,\n",
       " 0.49250801239537584,\n",
       " 0.4925048296542502,\n",
       " 0.49250169660864523,\n",
       " 0.49249861245958965,\n",
       " 0.4924955764215117,\n",
       " 0.4924925877220012,\n",
       " 0.49248964560157554,\n",
       " 0.4924867493134507,\n",
       " 0.4924838981233164,\n",
       " 0.4924810913091154,\n",
       " 0.4924783281608273,\n",
       " 0.4924756079802561,\n",
       " 0.4924729300808225,\n",
       " 0.49247029378735896,\n",
       " 0.4924676984359096,\n",
       " 0.4924651433735339,\n",
       " 0.4924626279581131,\n",
       " 0.4924601515581617,\n",
       " 0.49245771355264084,\n",
       " 0.49245531333077713,\n",
       " 0.49245295029188274,\n",
       " 0.49245062384518057,\n",
       " 0.49244833340963184,\n",
       " 0.4924460784137668,\n",
       " 0.49244385829551945,\n",
       " 0.49244167250206416,\n",
       " 0.4924395204896563,\n",
       " 0.4924374017234751,\n",
       " 0.4924353156774697,\n",
       " 0.49243326183420844,\n",
       " 0.49243123968473007,\n",
       " 0.49242924872839844,\n",
       " 0.4924272884727597,\n",
       " 0.4924253584334014,\n",
       " 0.4924234581338155,\n",
       " 0.4924215871052627,\n",
       " 0.4924197448866397,\n",
       " 0.49241793102434894,\n",
       " 0.49241614507217074,\n",
       " 0.49241438659113745,\n",
       " 0.4924126551494101,\n",
       " 0.49241095032215737,\n",
       " 0.4924092716914367,\n",
       " 0.49240761884607714,\n",
       " 0.4924059913815651,\n",
       " 0.4924043888999313,\n",
       " 0.4924028110096404,\n",
       " 0.4924012573254821,\n",
       " 0.49239972746846516,\n",
       " 0.4923982210657115,\n",
       " 0.4923967377503544,\n",
       " 0.49239527716143655,\n",
       " 0.4923938389438113,\n",
       " 0.4923924227480451,\n",
       " 0.4923910282303215,\n",
       " 0.4923896550523472,\n",
       " 0.4923883028812597,\n",
       " 0.49238697138953663,\n",
       " 0.4923856602549058,\n",
       " 0.49238436916025907,\n",
       " 0.49238309779356476,\n",
       " 0.49238184584778416,\n",
       " 0.49238061302078767,\n",
       " 0.4923793990152742,\n",
       " 0.49237820353869,\n",
       " 0.49237702630315056,\n",
       " 0.4923758670253626,\n",
       " 0.492374725426549,\n",
       " 0.49237360123237295,\n",
       " 0.4923724941728655,\n",
       " 0.49237140398235285,\n",
       " 0.49237033039938544,\n",
       " 0.49236927316666884,\n",
       " 0.49236823203099495,\n",
       " 0.49236720674317447,\n",
       " 0.49236619705797147,\n",
       " 0.4923652027340375,\n",
       " 0.4923642235338491,\n",
       " 0.4923632592236437,\n",
       " 0.4923623095733588,\n",
       " 0.492361374356571,\n",
       " 0.49236045335043677,\n",
       " 0.49235954633563356,\n",
       " 0.4923586530963026,\n",
       " 0.49235777341999204,\n",
       " 0.4923569070976017,\n",
       " 0.49235605392332815,\n",
       " 0.49235521369461127,\n",
       " 0.49235438621208116,\n",
       " 0.49235357127950663,\n",
       " 0.4923527687037441,\n",
       " 0.492351978294687,\n",
       " 0.49235119986521725,\n",
       " 0.4923504332311562,\n",
       " 0.4923496782112174,\n",
       " 0.49234893462695944,\n",
       " 0.4923482023027402,\n",
       " 0.49234748106567167,\n",
       " 0.49234677074557487,\n",
       " 0.4923460711749368,\n",
       " 0.49234538218886714,\n",
       " 0.4923447036250559,\n",
       " 0.4923440353237321,\n",
       " 0.4923433771276225,\n",
       " 0.4923427288819119,\n",
       " 0.49234209043420296,\n",
       " 0.4923414616344783,\n",
       " 0.4923408423350615,\n",
       " 0.4923402323905795,\n",
       " 0.4923396316579265,\n",
       " 0.4923390399962268,\n",
       " 0.49233845726679915,\n",
       " 0.4923378833331223,\n",
       " 0.4923373180607996,\n",
       " 0.4923367613175258,\n",
       " 0.49233621297305286,\n",
       " 0.4923356728991581,\n",
       " 0.4923351409696106,\n",
       " 0.49233461706014087,\n",
       " 0.4923341010484083,\n",
       " 0.4923335928139714,\n",
       " 0.4923330922382571,\n",
       " 0.4923325992045311,\n",
       " 0.49233211359786866,\n",
       " 0.49233163530512586,\n",
       " 0.4923311642149113,\n",
       " 0.4923307002175584,\n",
       " 0.49233024320509783,\n",
       " 0.4923297930712308,\n",
       " 0.4923293497113025,\n",
       " 0.49232891302227594,\n",
       " 0.4923284829027068,\n",
       " 0.4923280592527177,\n",
       " 0.4923276419739736,\n",
       " 0.49232723096965775,\n",
       " 0.4923268261444473,\n",
       " 0.49232642740448973,\n",
       " 0.49232603465738006,\n",
       " 0.4923256478121376,\n",
       " 0.4923252667791838,\n",
       " 0.4923248914703199,\n",
       " 0.4923245217987055,\n",
       " 0.4923241576788368,\n",
       " 0.49232379902652607,\n",
       " 0.49232344575888054,\n",
       " 0.4923230977942823,\n",
       " 0.4923227550523681,\n",
       " 0.4923224174540099,\n",
       " 0.49232208492129526,\n",
       " 0.4923217573775084,\n",
       " 0.49232143474711126,\n",
       " 0.49232111695572545,\n",
       " 0.4923208039301137,\n",
       " 0.4923204955981621,\n",
       " 0.4923201918888627,\n",
       " 0.4923198927322961,\n",
       " 0.49231959805961417,\n",
       " 0.49231930780302385,\n",
       " 0.4923190218957702,\n",
       " 0.4923187402721204,\n",
       " 0.49231846286734793,\n",
       " 0.4923181896177166,\n",
       " 0.49231792046046535,\n",
       " 0.4923176553337928,\n",
       " 0.49231739417684245,\n",
       " 0.49231713692968815,\n",
       " 0.49231688353331937,\n",
       " 0.492316633929627,\n",
       " 0.4923163880613893,\n",
       " 0.4923161458722584,\n",
       " 0.49231590730674607,\n",
       " 0.4923156723102113]"
      ]
     },
     "execution_count": 169,
     "metadata": {},
     "output_type": "execute_result"
    }
   ],
   "source": [
    "error_list"
   ]
  },
  {
   "cell_type": "markdown",
   "metadata": {},
   "source": [
    "# Testing The Data"
   ]
  },
  {
   "cell_type": "code",
   "execution_count": 184,
   "metadata": {},
   "outputs": [
    {
     "data": {
      "text/html": [
       "<div>\n",
       "<style scoped>\n",
       "    .dataframe tbody tr th:only-of-type {\n",
       "        vertical-align: middle;\n",
       "    }\n",
       "\n",
       "    .dataframe tbody tr th {\n",
       "        vertical-align: top;\n",
       "    }\n",
       "\n",
       "    .dataframe thead th {\n",
       "        text-align: right;\n",
       "    }\n",
       "</style>\n",
       "<table border=\"1\" class=\"dataframe\">\n",
       "  <thead>\n",
       "    <tr style=\"text-align: right;\">\n",
       "      <th></th>\n",
       "      <th>Pregnancies</th>\n",
       "      <th>Glucose</th>\n",
       "      <th>BloodPressure</th>\n",
       "      <th>SkinThickness</th>\n",
       "      <th>Insulin</th>\n",
       "      <th>BMI</th>\n",
       "      <th>DiabetesPedigreeFunction</th>\n",
       "      <th>Age</th>\n",
       "    </tr>\n",
       "  </thead>\n",
       "  <tbody>\n",
       "    <tr>\n",
       "      <th>0</th>\n",
       "      <td>0</td>\n",
       "      <td>180</td>\n",
       "      <td>90</td>\n",
       "      <td>26</td>\n",
       "      <td>90</td>\n",
       "      <td>36.5</td>\n",
       "      <td>0.314</td>\n",
       "      <td>35</td>\n",
       "    </tr>\n",
       "    <tr>\n",
       "      <th>1</th>\n",
       "      <td>2</td>\n",
       "      <td>93</td>\n",
       "      <td>64</td>\n",
       "      <td>32</td>\n",
       "      <td>160</td>\n",
       "      <td>38.0</td>\n",
       "      <td>0.674</td>\n",
       "      <td>23</td>\n",
       "    </tr>\n",
       "    <tr>\n",
       "      <th>2</th>\n",
       "      <td>2</td>\n",
       "      <td>114</td>\n",
       "      <td>68</td>\n",
       "      <td>22</td>\n",
       "      <td>0</td>\n",
       "      <td>28.7</td>\n",
       "      <td>0.092</td>\n",
       "      <td>25</td>\n",
       "    </tr>\n",
       "    <tr>\n",
       "      <th>3</th>\n",
       "      <td>13</td>\n",
       "      <td>76</td>\n",
       "      <td>60</td>\n",
       "      <td>0</td>\n",
       "      <td>0</td>\n",
       "      <td>32.8</td>\n",
       "      <td>0.180</td>\n",
       "      <td>41</td>\n",
       "    </tr>\n",
       "    <tr>\n",
       "      <th>4</th>\n",
       "      <td>1</td>\n",
       "      <td>80</td>\n",
       "      <td>74</td>\n",
       "      <td>11</td>\n",
       "      <td>60</td>\n",
       "      <td>30.0</td>\n",
       "      <td>0.527</td>\n",
       "      <td>22</td>\n",
       "    </tr>\n",
       "    <tr>\n",
       "      <th>...</th>\n",
       "      <td>...</td>\n",
       "      <td>...</td>\n",
       "      <td>...</td>\n",
       "      <td>...</td>\n",
       "      <td>...</td>\n",
       "      <td>...</td>\n",
       "      <td>...</td>\n",
       "      <td>...</td>\n",
       "    </tr>\n",
       "    <tr>\n",
       "      <th>187</th>\n",
       "      <td>10</td>\n",
       "      <td>108</td>\n",
       "      <td>66</td>\n",
       "      <td>0</td>\n",
       "      <td>0</td>\n",
       "      <td>32.4</td>\n",
       "      <td>0.272</td>\n",
       "      <td>42</td>\n",
       "    </tr>\n",
       "    <tr>\n",
       "      <th>188</th>\n",
       "      <td>3</td>\n",
       "      <td>130</td>\n",
       "      <td>64</td>\n",
       "      <td>0</td>\n",
       "      <td>0</td>\n",
       "      <td>23.1</td>\n",
       "      <td>0.314</td>\n",
       "      <td>22</td>\n",
       "    </tr>\n",
       "    <tr>\n",
       "      <th>189</th>\n",
       "      <td>0</td>\n",
       "      <td>162</td>\n",
       "      <td>76</td>\n",
       "      <td>36</td>\n",
       "      <td>0</td>\n",
       "      <td>49.6</td>\n",
       "      <td>0.364</td>\n",
       "      <td>26</td>\n",
       "    </tr>\n",
       "    <tr>\n",
       "      <th>190</th>\n",
       "      <td>12</td>\n",
       "      <td>84</td>\n",
       "      <td>72</td>\n",
       "      <td>31</td>\n",
       "      <td>0</td>\n",
       "      <td>29.7</td>\n",
       "      <td>0.297</td>\n",
       "      <td>46</td>\n",
       "    </tr>\n",
       "    <tr>\n",
       "      <th>191</th>\n",
       "      <td>0</td>\n",
       "      <td>94</td>\n",
       "      <td>0</td>\n",
       "      <td>0</td>\n",
       "      <td>0</td>\n",
       "      <td>0.0</td>\n",
       "      <td>0.256</td>\n",
       "      <td>25</td>\n",
       "    </tr>\n",
       "  </tbody>\n",
       "</table>\n",
       "<p>192 rows × 8 columns</p>\n",
       "</div>"
      ],
      "text/plain": [
       "     Pregnancies  Glucose  BloodPressure  SkinThickness  Insulin   BMI  \\\n",
       "0              0      180             90             26       90  36.5   \n",
       "1              2       93             64             32      160  38.0   \n",
       "2              2      114             68             22        0  28.7   \n",
       "3             13       76             60              0        0  32.8   \n",
       "4              1       80             74             11       60  30.0   \n",
       "..           ...      ...            ...            ...      ...   ...   \n",
       "187           10      108             66              0        0  32.4   \n",
       "188            3      130             64              0        0  23.1   \n",
       "189            0      162             76             36        0  49.6   \n",
       "190           12       84             72             31        0  29.7   \n",
       "191            0       94              0              0        0   0.0   \n",
       "\n",
       "     DiabetesPedigreeFunction  Age  \n",
       "0                       0.314   35  \n",
       "1                       0.674   23  \n",
       "2                       0.092   25  \n",
       "3                       0.180   41  \n",
       "4                       0.527   22  \n",
       "..                        ...  ...  \n",
       "187                     0.272   42  \n",
       "188                     0.314   22  \n",
       "189                     0.364   26  \n",
       "190                     0.297   46  \n",
       "191                     0.256   25  \n",
       "\n",
       "[192 rows x 8 columns]"
      ]
     },
     "execution_count": 184,
     "metadata": {},
     "output_type": "execute_result"
    }
   ],
   "source": [
    "xtest=pd.read_csv(\"Diabetes_Xtest.csv\")\n",
    "xtest"
   ]
  },
  {
   "cell_type": "code",
   "execution_count": 185,
   "metadata": {},
   "outputs": [
    {
     "data": {
      "text/plain": [
       "array([[-1.18069959,  1.69935671,  1.23607139, ...,  0.58057039,\n",
       "        -0.41297962,  0.07934011],\n",
       "       [-0.60533329, -0.92436586, -0.36623149, ...,  0.79289327,\n",
       "         0.73998714, -0.97730508],\n",
       "       [-0.60533329, -0.29105352, -0.11972335, ..., -0.52350861,\n",
       "        -1.12397579, -0.80119755],\n",
       "       ...,\n",
       "       [-1.18069959,  1.15651756,  0.37329292, ...,  2.43485691,\n",
       "        -0.25284534, -0.71314378],\n",
       "       [ 2.27149819, -1.19578544,  0.12678478, ..., -0.38196002,\n",
       "        -0.46742527,  1.04793154],\n",
       "       [-1.18069959, -0.89420813, -4.31036164, ..., -4.58595313,\n",
       "        -0.59873537, -0.80119755]])"
      ]
     },
     "execution_count": 185,
     "metadata": {},
     "output_type": "execute_result"
    }
   ],
   "source": [
    "# Normalisation:\n",
    "\n",
    "Xtest=std.fit_transform(xtest)\n",
    "Xtest"
   ]
  },
  {
   "cell_type": "markdown",
   "metadata": {},
   "source": [
    "# PCA"
   ]
  },
  {
   "cell_type": "code",
   "execution_count": 186,
   "metadata": {},
   "outputs": [
    {
     "data": {
      "text/plain": [
       "(192, 6)"
      ]
     },
     "execution_count": 186,
     "metadata": {},
     "output_type": "execute_result"
    }
   ],
   "source": [
    "pca2=PCA(n_components=6)\n",
    "Xtest_=pca2.fit_transform(Xtest)\n",
    "Xtest_.shape"
   ]
  },
  {
   "cell_type": "code",
   "execution_count": 187,
   "metadata": {},
   "outputs": [],
   "source": [
    "ones=np.ones((Xtest_.shape[0],1))\n",
    "xtest_new=np.hstack((ones,Xtest_))"
   ]
  },
  {
   "cell_type": "code",
   "execution_count": 188,
   "metadata": {},
   "outputs": [
    {
     "data": {
      "text/plain": [
       "(192, 7)"
      ]
     },
     "execution_count": 188,
     "metadata": {},
     "output_type": "execute_result"
    }
   ],
   "source": [
    "xtest_new.shape"
   ]
  },
  {
   "cell_type": "code",
   "execution_count": 189,
   "metadata": {},
   "outputs": [],
   "source": [
    "y_test_pred=predict(xtest_new,theta)"
   ]
  },
  {
   "cell_type": "code",
   "execution_count": 190,
   "metadata": {},
   "outputs": [
    {
     "data": {
      "text/plain": [
       "array([0, 0, 0, 1, 0, 0, 0, 1, 1, 0, 1, 0, 0, 1, 1, 0, 1, 1, 0, 0, 0, 0,\n",
       "       1, 0, 0, 0, 0, 1, 1, 1, 1, 1, 0, 0, 0, 0, 0, 1, 1, 0, 0, 0, 0, 0,\n",
       "       0, 0, 1, 0, 0, 0, 0, 0, 1, 0, 0, 0, 0, 0, 0, 0, 0, 1, 0, 0, 0, 0,\n",
       "       0, 0, 1, 0, 0, 0, 0, 1, 0, 0, 0, 0, 0, 1, 0, 1, 0, 0, 1, 1, 0, 0,\n",
       "       1, 0, 0, 0, 1, 0, 0, 0, 0, 0, 1, 1, 0, 1, 1, 0, 0, 0, 1, 0, 0, 1,\n",
       "       0, 1, 1, 1, 1, 1, 1, 0, 0, 0, 1, 0, 1, 0, 0, 0, 0, 0, 0, 0, 0, 0,\n",
       "       0, 0, 0, 0, 0, 0, 0, 0, 0, 0, 1, 0, 0, 1, 0, 0, 0, 0, 0, 0, 0, 0,\n",
       "       1, 0, 0, 0, 0, 1, 0, 0, 0, 0, 1, 1, 0, 1, 1, 0, 0, 0, 0, 1, 0, 0,\n",
       "       0, 0, 0, 0, 0, 0, 0, 1, 1, 1, 0, 1, 0, 0, 1, 1])"
      ]
     },
     "execution_count": 190,
     "metadata": {},
     "output_type": "execute_result"
    }
   ],
   "source": [
    "y_test_pred"
   ]
  },
  {
   "cell_type": "code",
   "execution_count": 191,
   "metadata": {},
   "outputs": [
    {
     "data": {
      "text/html": [
       "<div>\n",
       "<style scoped>\n",
       "    .dataframe tbody tr th:only-of-type {\n",
       "        vertical-align: middle;\n",
       "    }\n",
       "\n",
       "    .dataframe tbody tr th {\n",
       "        vertical-align: top;\n",
       "    }\n",
       "\n",
       "    .dataframe thead th {\n",
       "        text-align: right;\n",
       "    }\n",
       "</style>\n",
       "<table border=\"1\" class=\"dataframe\">\n",
       "  <thead>\n",
       "    <tr style=\"text-align: right;\">\n",
       "      <th></th>\n",
       "      <th>Outcome</th>\n",
       "    </tr>\n",
       "  </thead>\n",
       "  <tbody>\n",
       "    <tr>\n",
       "      <th>0</th>\n",
       "      <td>0</td>\n",
       "    </tr>\n",
       "    <tr>\n",
       "      <th>1</th>\n",
       "      <td>0</td>\n",
       "    </tr>\n",
       "    <tr>\n",
       "      <th>2</th>\n",
       "      <td>0</td>\n",
       "    </tr>\n",
       "    <tr>\n",
       "      <th>3</th>\n",
       "      <td>1</td>\n",
       "    </tr>\n",
       "    <tr>\n",
       "      <th>4</th>\n",
       "      <td>0</td>\n",
       "    </tr>\n",
       "    <tr>\n",
       "      <th>...</th>\n",
       "      <td>...</td>\n",
       "    </tr>\n",
       "    <tr>\n",
       "      <th>187</th>\n",
       "      <td>1</td>\n",
       "    </tr>\n",
       "    <tr>\n",
       "      <th>188</th>\n",
       "      <td>0</td>\n",
       "    </tr>\n",
       "    <tr>\n",
       "      <th>189</th>\n",
       "      <td>0</td>\n",
       "    </tr>\n",
       "    <tr>\n",
       "      <th>190</th>\n",
       "      <td>1</td>\n",
       "    </tr>\n",
       "    <tr>\n",
       "      <th>191</th>\n",
       "      <td>1</td>\n",
       "    </tr>\n",
       "  </tbody>\n",
       "</table>\n",
       "<p>192 rows × 1 columns</p>\n",
       "</div>"
      ],
      "text/plain": [
       "     Outcome\n",
       "0          0\n",
       "1          0\n",
       "2          0\n",
       "3          1\n",
       "4          0\n",
       "..       ...\n",
       "187        1\n",
       "188        0\n",
       "189        0\n",
       "190        1\n",
       "191        1\n",
       "\n",
       "[192 rows x 1 columns]"
      ]
     },
     "execution_count": 191,
     "metadata": {},
     "output_type": "execute_result"
    }
   ],
   "source": [
    "df_res=pd.DataFrame(y_test_pred,columns=['Outcome'])\n",
    "df_res"
   ]
  },
  {
   "cell_type": "code",
   "execution_count": 192,
   "metadata": {},
   "outputs": [],
   "source": [
    "df_res.to_csv(\"diabetes_result.csv\",index=None)"
   ]
  },
  {
   "cell_type": "code",
   "execution_count": null,
   "metadata": {},
   "outputs": [],
   "source": []
  }
 ],
 "metadata": {
  "kernelspec": {
   "display_name": "Python 3",
   "language": "python",
   "name": "python3"
  },
  "language_info": {
   "codemirror_mode": {
    "name": "ipython",
    "version": 3
   },
   "file_extension": ".py",
   "mimetype": "text/x-python",
   "name": "python",
   "nbconvert_exporter": "python",
   "pygments_lexer": "ipython3",
   "version": "3.7.6"
  }
 },
 "nbformat": 4,
 "nbformat_minor": 4
}

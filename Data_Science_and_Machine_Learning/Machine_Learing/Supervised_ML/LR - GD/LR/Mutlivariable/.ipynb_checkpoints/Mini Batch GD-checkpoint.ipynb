{
 "cells": [
  {
   "cell_type": "code",
   "execution_count": 45,
   "metadata": {},
   "outputs": [],
   "source": [
    "import numpy as np\n",
    "import matplotlib.pyplot as plt\n",
    "from sklearn.datasets import load_boston\n",
    "from sklearn.datasets import make_regression"
   ]
  },
  {
   "cell_type": "code",
   "execution_count": 46,
   "metadata": {},
   "outputs": [],
   "source": [
    "X,y=make_regression(n_samples=1000,n_features=20,n_informative=20,noise=10,random_state=1)"
   ]
  },
  {
   "cell_type": "code",
   "execution_count": 47,
   "metadata": {},
   "outputs": [],
   "source": [
    "mean=np.mean(X,axis=0)\n",
    "std=np.std(X,axis=0)\n",
    "X_norm=(X-mean)/std"
   ]
  },
  {
   "cell_type": "code",
   "execution_count": 48,
   "metadata": {},
   "outputs": [
    {
     "data": {
      "text/plain": [
       "((1000, 21), (1000,))"
      ]
     },
     "execution_count": 48,
     "metadata": {},
     "output_type": "execute_result"
    }
   ],
   "source": [
    "#Add 1 column for vector\n",
    "\n",
    "ones=np.ones((X.shape[0],1))\n",
    "X_1=np.hstack((ones,X_norm))\n",
    "X_1.shape, y.shape"
   ]
  },
  {
   "cell_type": "markdown",
   "metadata": {},
   "source": [
    "## Batch GD"
   ]
  },
  {
   "cell_type": "code",
   "execution_count": 49,
   "metadata": {},
   "outputs": [],
   "source": [
    "# X : Matrix of m*n\n",
    "# x : vector : containing single example with n feautures\n",
    "\n",
    "def hypo(X,theta):\n",
    "    return np.dot(X,theta)\n",
    "\n",
    "\n",
    "def predict(X,theta):\n",
    "    yp=hypo(X,theta) \n",
    "    return yp\n",
    "\n",
    "\n",
    "def score(Y,Yp):\n",
    "    n=np.sum((Y-Yp)**2)\n",
    "    d=np.sum((Y-Y.mean())**2)\n",
    "    return (1-(n/d))*100\n",
    "    \n",
    "    \n",
    "\n",
    "def error(X,y,theta): #cost\n",
    "    yp=hypo(X,theta)\n",
    "    e=np.sum((y-yp)**2)\n",
    "    return e/X.shape[0]\n",
    "\n",
    "\n",
    "\n",
    "def gradient(X,y,theta):\n",
    "    M,N=X.shape\n",
    "    grad=np.zeros((N,))\n",
    "    \n",
    "    yp=hypo(X,theta)\n",
    "    grad=np.dot(yp-y,X)\n",
    "        \n",
    "    return grad/M\n",
    "\n",
    "\n",
    "#Batch Gradient\n",
    "def gradient_descent(X,y,lr=0.1,iterations=300):\n",
    "    M,N=X.shape\n",
    "    theta=np.zeros((N,))\n",
    "    error_list=[]\n",
    "    \n",
    "    for i in range(iterations):\n",
    "        e=error(X,y,theta)\n",
    "        error_list.append(e)\n",
    "        \n",
    "        #Batch Gradient=> compute grad over an entire data set\n",
    "        grad=gradient(X,y,theta)\n",
    "        \n",
    "        theta-=lr*grad\n",
    "            \n",
    "    return theta,error_list"
   ]
  },
  {
   "cell_type": "code",
   "execution_count": 50,
   "metadata": {},
   "outputs": [
    {
     "data": {
      "image/png": "[encoded data removed]",
      "text/plain": [
       "<Figure size 432x288 with 1 Axes>"
      ]
     },
     "metadata": {
      "needs_background": "light"
     },
     "output_type": "display_data"
    }
   ],
   "source": [
    "\n",
    "theta,error_list=gradient_descent(X_1,y)\n",
    "\n",
    "plt.figure()\n",
    "plt.plot(np.arange(len(error_list)),error_list)\n",
    "plt.show()"
   ]
  },
  {
   "cell_type": "markdown",
   "metadata": {},
   "source": [
    "## Mini Batch GD"
   ]
  },
  {
   "cell_type": "code",
   "execution_count": 58,
   "metadata": {},
   "outputs": [],
   "source": [
    "def gradient(X,y,theta):\n",
    "    M,N=X.shape\n",
    "    grad=np.zeros((N,))\n",
    "    \n",
    "    yp=hypo(X,theta)\n",
    "    grad=np.dot(yp-y,X)\n",
    "        \n",
    "    return grad/M\n",
    "\n",
    "def batch_gradient_descent(X,y,batch_size=20,learning_rate=0.01,max_iters=100): #here 1 batch_size refers to stochastic gd\n",
    "    M,N=X.shape\n",
    "    theta=np.zeros((N,))\n",
    "    error_list=[]\n",
    "    \n",
    "    data=np.hstack((X,y.reshape(-1,1)))\n",
    "    \n",
    "    for i in range(max_iters):\n",
    "        \n",
    "        #Mini Gradient=> compute grad over an entire data set\n",
    "        np.random.shuffle(data)\n",
    "        m=data.shape[0]\n",
    "        total_batches=m//batch_size\n",
    "        \n",
    "        for i in range(total_batches):\n",
    "            batch_data=data[i*batch_size:(i+1)*batch_size,:]\n",
    "            x_batch=batch_data[:,:-1]\n",
    "            y_batch=batch_data[:,-1]\n",
    "            \n",
    "            batch_grad=gradient(x_batch,y_batch,theta)\n",
    "            e=error(x_batch,y_batch,theta)\n",
    "            error_list.append(e)\n",
    "            theta=theta-learning_rate*batch_grad\n",
    "            \n",
    "    return theta,error_list"
   ]
  },
  {
   "cell_type": "code",
   "execution_count": 59,
   "metadata": {},
   "outputs": [
    {
     "data": {
      "image/png": "[encoded data removed]",
      "text/plain": [
       "<Figure size 432x288 with 1 Axes>"
      ]
     },
     "metadata": {
      "needs_background": "light"
     },
     "output_type": "display_data"
    }
   ],
   "source": [
    "\n",
    "theta,error_list=batch_gradient_descent(X_1,y)\n",
    "\n",
    "plt.figure()\n",
    "plt.plot(np.arange(len(error_list)),error_list)\n",
    "plt.show()"
   ]
  },
  {
   "cell_type": "code",
   "execution_count": 60,
   "metadata": {},
   "outputs": [
    {
     "data": {
      "text/plain": [
       "array([  2.9536196 ,  69.60565045,  28.02162613,  35.13758696,\n",
       "        31.08610373,  40.37936243, 103.13490109,  69.9807441 ,\n",
       "         5.69577126,   9.60521354,  95.2047784 ,  71.08675801,\n",
       "        25.8075569 ,  29.85086142,  81.67306373,  16.1675397 ,\n",
       "        77.01380825,  44.76127188,  48.19745954,  96.63172074,\n",
       "        71.56258434])"
      ]
     },
     "execution_count": 60,
     "metadata": {},
     "output_type": "execute_result"
    }
   ],
   "source": [
    "theta"
   ]
  },
  {
   "cell_type": "code",
   "execution_count": null,
   "metadata": {},
   "outputs": [],
   "source": []
  }
 ],
 "metadata": {
  "kernelspec": {
   "display_name": "Python 3",
   "language": "python",
   "name": "python3"
  },
  "language_info": {
   "codemirror_mode": {
    "name": "ipython",
    "version": 3
   },
   "file_extension": ".py",
   "mimetype": "text/x-python",
   "name": "python",
   "nbconvert_exporter": "python",
   "pygments_lexer": "ipython3",
   "version": "3.7.6"
  }
 },
 "nbformat": 4,
 "nbformat_minor": 4
}

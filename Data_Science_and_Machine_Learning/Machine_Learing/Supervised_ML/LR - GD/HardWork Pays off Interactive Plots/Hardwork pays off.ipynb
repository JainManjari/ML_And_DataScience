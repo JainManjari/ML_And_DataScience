{
 "cells": [
  {
   "cell_type": "code",
   "execution_count": 56,
   "metadata": {},
   "outputs": [],
   "source": [
    "import numpy as np\n",
    "import matplotlib.pyplot as plt\n",
    "import pandas as pd"
   ]
  },
  {
   "cell_type": "code",
   "execution_count": 57,
   "metadata": {},
   "outputs": [
    {
     "data": {
      "text/html": [
       "<div>\n",
       "<style scoped>\n",
       "    .dataframe tbody tr th:only-of-type {\n",
       "        vertical-align: middle;\n",
       "    }\n",
       "\n",
       "    .dataframe tbody tr th {\n",
       "        vertical-align: top;\n",
       "    }\n",
       "\n",
       "    .dataframe thead th {\n",
       "        text-align: right;\n",
       "    }\n",
       "</style>\n",
       "<table border=\"1\" class=\"dataframe\">\n",
       "  <thead>\n",
       "    <tr style=\"text-align: right;\">\n",
       "      <th></th>\n",
       "      <th>x</th>\n",
       "    </tr>\n",
       "  </thead>\n",
       "  <tbody>\n",
       "    <tr>\n",
       "      <th>0</th>\n",
       "      <td>-0.289307</td>\n",
       "    </tr>\n",
       "    <tr>\n",
       "      <th>1</th>\n",
       "      <td>-0.588810</td>\n",
       "    </tr>\n",
       "    <tr>\n",
       "      <th>2</th>\n",
       "      <td>1.027507</td>\n",
       "    </tr>\n",
       "    <tr>\n",
       "      <th>3</th>\n",
       "      <td>-0.259013</td>\n",
       "    </tr>\n",
       "    <tr>\n",
       "      <th>4</th>\n",
       "      <td>0.782043</td>\n",
       "    </tr>\n",
       "    <tr>\n",
       "      <th>...</th>\n",
       "      <td>...</td>\n",
       "    </tr>\n",
       "    <tr>\n",
       "      <th>3745</th>\n",
       "      <td>-0.100992</td>\n",
       "    </tr>\n",
       "    <tr>\n",
       "      <th>3746</th>\n",
       "      <td>1.349197</td>\n",
       "    </tr>\n",
       "    <tr>\n",
       "      <th>3747</th>\n",
       "      <td>-0.305164</td>\n",
       "    </tr>\n",
       "    <tr>\n",
       "      <th>3748</th>\n",
       "      <td>1.675833</td>\n",
       "    </tr>\n",
       "    <tr>\n",
       "      <th>3749</th>\n",
       "      <td>-0.491757</td>\n",
       "    </tr>\n",
       "  </tbody>\n",
       "</table>\n",
       "<p>3750 rows × 1 columns</p>\n",
       "</div>"
      ],
      "text/plain": [
       "             x\n",
       "0    -0.289307\n",
       "1    -0.588810\n",
       "2     1.027507\n",
       "3    -0.259013\n",
       "4     0.782043\n",
       "...        ...\n",
       "3745 -0.100992\n",
       "3746  1.349197\n",
       "3747 -0.305164\n",
       "3748  1.675833\n",
       "3749 -0.491757\n",
       "\n",
       "[3750 rows x 1 columns]"
      ]
     },
     "execution_count": 57,
     "metadata": {},
     "output_type": "execute_result"
    }
   ],
   "source": [
    "X=pd.read_csv(\"Linear_X_Train.csv\")\n",
    "X"
   ]
  },
  {
   "cell_type": "code",
   "execution_count": 58,
   "metadata": {},
   "outputs": [
    {
     "data": {
      "text/html": [
       "<div>\n",
       "<style scoped>\n",
       "    .dataframe tbody tr th:only-of-type {\n",
       "        vertical-align: middle;\n",
       "    }\n",
       "\n",
       "    .dataframe tbody tr th {\n",
       "        vertical-align: top;\n",
       "    }\n",
       "\n",
       "    .dataframe thead th {\n",
       "        text-align: right;\n",
       "    }\n",
       "</style>\n",
       "<table border=\"1\" class=\"dataframe\">\n",
       "  <thead>\n",
       "    <tr style=\"text-align: right;\">\n",
       "      <th></th>\n",
       "      <th>y</th>\n",
       "    </tr>\n",
       "  </thead>\n",
       "  <tbody>\n",
       "    <tr>\n",
       "      <th>0</th>\n",
       "      <td>-0.091101</td>\n",
       "    </tr>\n",
       "    <tr>\n",
       "      <th>1</th>\n",
       "      <td>-53.467721</td>\n",
       "    </tr>\n",
       "    <tr>\n",
       "      <th>2</th>\n",
       "      <td>75.457009</td>\n",
       "    </tr>\n",
       "    <tr>\n",
       "      <th>3</th>\n",
       "      <td>-12.025286</td>\n",
       "    </tr>\n",
       "    <tr>\n",
       "      <th>4</th>\n",
       "      <td>57.414187</td>\n",
       "    </tr>\n",
       "    <tr>\n",
       "      <th>...</th>\n",
       "      <td>...</td>\n",
       "    </tr>\n",
       "    <tr>\n",
       "      <th>3745</th>\n",
       "      <td>-13.530595</td>\n",
       "    </tr>\n",
       "    <tr>\n",
       "      <th>3746</th>\n",
       "      <td>114.741657</td>\n",
       "    </tr>\n",
       "    <tr>\n",
       "      <th>3747</th>\n",
       "      <td>-34.983275</td>\n",
       "    </tr>\n",
       "    <tr>\n",
       "      <th>3748</th>\n",
       "      <td>145.206092</td>\n",
       "    </tr>\n",
       "    <tr>\n",
       "      <th>3749</th>\n",
       "      <td>-17.124494</td>\n",
       "    </tr>\n",
       "  </tbody>\n",
       "</table>\n",
       "<p>3750 rows × 1 columns</p>\n",
       "</div>"
      ],
      "text/plain": [
       "               y\n",
       "0      -0.091101\n",
       "1     -53.467721\n",
       "2      75.457009\n",
       "3     -12.025286\n",
       "4      57.414187\n",
       "...          ...\n",
       "3745  -13.530595\n",
       "3746  114.741657\n",
       "3747  -34.983275\n",
       "3748  145.206092\n",
       "3749  -17.124494\n",
       "\n",
       "[3750 rows x 1 columns]"
      ]
     },
     "execution_count": 58,
     "metadata": {},
     "output_type": "execute_result"
    }
   ],
   "source": [
    "Y=pd.read_csv(\"Linear_Y_Train.csv\")\n",
    "Y"
   ]
  },
  {
   "cell_type": "code",
   "execution_count": 59,
   "metadata": {},
   "outputs": [
    {
     "name": "stdout",
     "output_type": "stream",
     "text": [
      "(3750, 1)\n",
      "(3750, 1)\n"
     ]
    }
   ],
   "source": [
    "X=X.values\n",
    "Y=Y.values\n",
    "\n",
    "print(X.shape)\n",
    "print(Y.shape)"
   ]
  },
  {
   "cell_type": "markdown",
   "metadata": {},
   "source": [
    "## Normalization"
   ]
  },
  {
   "cell_type": "code",
   "execution_count": 60,
   "metadata": {},
   "outputs": [],
   "source": [
    "X_mean=X.mean()\n",
    "X_std=X.std()\n",
    "X_norm=(X-X_mean)/X_std"
   ]
  },
  {
   "cell_type": "code",
   "execution_count": 61,
   "metadata": {},
   "outputs": [
    {
     "data": {
      "text/plain": [
       "array([[-0.25352061],\n",
       "       [-0.55541377],\n",
       "       [ 1.07380656],\n",
       "       ...,\n",
       "       [-0.26950343],\n",
       "       [ 1.72730762],\n",
       "       [-0.4575866 ]])"
      ]
     },
     "execution_count": 61,
     "metadata": {},
     "output_type": "execute_result"
    }
   ],
   "source": [
    "X_norm"
   ]
  },
  {
   "cell_type": "code",
   "execution_count": 62,
   "metadata": {},
   "outputs": [
    {
     "data": {
      "image/png": "[encoded data removed]",
      "text/plain": [
       "<Figure size 576x396 with 1 Axes>"
      ]
     },
     "metadata": {},
     "output_type": "display_data"
    }
   ],
   "source": [
    "plt.style.use(\"seaborn\")\n",
    "plt.scatter(X_norm,Y)\n",
    "plt.title(\"Performance Time Graph\")\n",
    "plt.ylabel(\"Performance\")\n",
    "plt.xlabel(\"Time\")\n",
    "plt.show()"
   ]
  },
  {
   "cell_type": "markdown",
   "metadata": {},
   "source": [
    "### Splittting"
   ]
  },
  {
   "cell_type": "code",
   "execution_count": 63,
   "metadata": {},
   "outputs": [],
   "source": [
    "from sklearn import model_selection as ms\n",
    "\n",
    "X_train,X_test,Y_train,Y_test=ms.train_test_split(X_norm,Y,random_state=0)"
   ]
  },
  {
   "cell_type": "markdown",
   "metadata": {},
   "source": [
    "## Section 2 - LR"
   ]
  },
  {
   "cell_type": "code",
   "execution_count": 64,
   "metadata": {},
   "outputs": [],
   "source": [
    "#Common menthods\n",
    "\n",
    "def predict(X,m,c):\n",
    "    return X*m+c\n",
    "\n",
    "def score(Yo,Yp):\n",
    "    n=np.sum((Yo-Yp)**2)\n",
    "    d=np.sum((Yo-Yo.mean())**2)\n",
    "    return (1-(n/d))*100\n",
    "\n",
    "def cost(Yo,Yp):\n",
    "    s=np.sum((Yo-Yp)**2)\n",
    "    return s/Yo.shape[0]"
   ]
  },
  {
   "cell_type": "code",
   "execution_count": 65,
   "metadata": {},
   "outputs": [],
   "source": [
    "# LR\n",
    "\n",
    "def mc(X,Y):\n",
    "    n=(X*Y).mean()-Y.mean()*X.mean()\n",
    "    d=(X**2).mean()-(X.mean()**2)\n",
    "    m=n/d\n",
    "    c=Y.mean()-m*X.mean()\n",
    "    return m,c"
   ]
  },
  {
   "cell_type": "code",
   "execution_count": 66,
   "metadata": {},
   "outputs": [
    {
     "name": "stdout",
     "output_type": "stream",
     "text": [
      "m,c values  80.09246799931846 0.6420801468162705\n",
      "score:  96.98692716375388\n",
      "cost:  191.9884993017348\n"
     ]
    }
   ],
   "source": [
    "m,c=mc(X_train,Y_train)\n",
    "Y_pred=predict(X_test,m,c)\n",
    "\n",
    "print(\"m,c values \",m,c)\n",
    "print(\"score: \",score(Y_test,Y_pred))\n",
    "print(\"cost: \",cost(Y_test,Y_pred))"
   ]
  },
  {
   "cell_type": "code",
   "execution_count": 67,
   "metadata": {},
   "outputs": [
    {
     "data": {
      "image/png": "[encoded data removed]",
      "text/plain": [
       "<Figure size 576x396 with 1 Axes>"
      ]
     },
     "metadata": {},
     "output_type": "display_data"
    }
   ],
   "source": [
    "#Visualisation\n",
    "\n",
    "Y_pred=predict(X_train,m,c)\n",
    "\n",
    "plt.scatter(X_train,Y_train)\n",
    "plt.plot(X_train,Y_pred,color=\"black\")\n",
    "plt.show()"
   ]
  },
  {
   "cell_type": "code",
   "execution_count": 68,
   "metadata": {},
   "outputs": [],
   "source": [
    "# GD\n",
    "\n",
    "def step_grad(X,Y,m,c,lr):\n",
    "    m_slope=0\n",
    "    c_slope=0\n",
    "    M=X.shape[0]\n",
    "    \n",
    "    for i in range(M):\n",
    "        x=X[i,0]\n",
    "        y=Y[i,0]\n",
    "        m_slope+=(-2/M)*(y-m*x-c)*(x)\n",
    "        c_slope+=(-2/M)*(y-m*x-c)\n",
    "    \n",
    "    new_m=m-lr*m_slope\n",
    "    new_c=c-lr*c_slope\n",
    "    \n",
    "    return new_m,new_c\n",
    "    \n",
    "\n",
    "def gradient_descent(X,Y,lr=0.1,iterations=20):\n",
    "    m=0\n",
    "    c=0\n",
    "    for i in range(iterations):\n",
    "        m,c=step_grad(X,Y,m,c,lr)\n",
    "        Y_pred=predict(X,m,c)\n",
    "        print(\"cost \",cost(Y,Y_pred))\n",
    "        \n",
    "    return m,c"
   ]
  },
  {
   "cell_type": "code",
   "execution_count": 69,
   "metadata": {},
   "outputs": [
    {
     "name": "stdout",
     "output_type": "stream",
     "text": [
      "cost  4308.665581503205\n",
      "cost  2818.238308232608\n",
      "cost  1867.2493150954792\n",
      "cost  1260.4536447752962\n",
      "cost  873.2746884381971\n",
      "cost  626.2255680227336\n",
      "cost  468.5889235261515\n",
      "cost  368.0038908904385\n",
      "cost  303.82209616392754\n",
      "cost  262.868440277728\n",
      "cost  236.73624908361194\n",
      "cost  220.06142293018758\n",
      "cost  209.42123871280077\n",
      "cost  202.63171466359162\n",
      "cost  198.29928148268786\n",
      "cost  195.53471663766692\n",
      "cost  193.77061313888305\n",
      "cost  192.64491040484486\n",
      "cost  191.9265774900211\n",
      "cost  191.46819269229772\n",
      "cost  191.17568516593113\n",
      "cost  190.98902730198424\n",
      "cost  190.8699146341103\n",
      "cost  190.79390440642788\n",
      "cost  190.7453991792845\n",
      "cost  190.7144458415288\n",
      "cost  190.69469303216718\n",
      "cost  190.68208774609005\n",
      "cost  190.6740436176561\n",
      "cost  190.66891018643267\n",
      "cost  190.66563422357802\n",
      "cost  190.66354361530014\n",
      "cost  190.66220945244424\n",
      "cost  190.66135802525494\n",
      "cost  190.66081466398333\n",
      "cost  190.6604679013042\n",
      "cost  190.66024660277435\n",
      "cost  190.66010537268792\n",
      "cost  190.6600152408049\n",
      "cost  190.65995771904107\n",
      "cost  190.65992100869477\n",
      "cost  190.6598975800421\n",
      "cost  190.65988262771828\n",
      "cost  190.65987308498833\n",
      "cost  190.65986699468203\n",
      "cost  190.65986310773872\n",
      "cost  190.65986062700662\n",
      "cost  190.65985904373986\n",
      "cost  190.65985803325236\n",
      "cost  190.6598573883257\n",
      "80.09140561620879 0.6421349618154846\n",
      "score  96.98695232749077\n"
     ]
    }
   ],
   "source": [
    "m,c=gradient_descent(X_train,Y_train,0.1,50)\n",
    "print(m,c)\n",
    "Y_pred=predict(X_test,m,c)\n",
    "print(\"score \",score(Y_test,Y_pred))\n",
    "# print(\"cost \",cost(Y_test,Y_pred))"
   ]
  },
  {
   "cell_type": "code",
   "execution_count": 70,
   "metadata": {},
   "outputs": [
    {
     "data": {
      "image/png": "[encoded data removed]",
      "text/plain": [
       "<Figure size 576x396 with 1 Axes>"
      ]
     },
     "metadata": {},
     "output_type": "display_data"
    }
   ],
   "source": [
    "#Visualisation\n",
    "\n",
    "Y_pred=predict(X_train,m,c)\n",
    "\n",
    "plt.scatter(X_train,Y_train)\n",
    "plt.plot(X_train,Y_pred,color=\"black\")\n",
    "plt.show()"
   ]
  },
  {
   "cell_type": "code",
   "execution_count": 54,
   "metadata": {},
   "outputs": [],
   "source": [
    "#Another way of calculting GD\n",
    "\n",
    "def hypothesis(x,theta):\n",
    "    #theta= [theta0 theta1] => [c m]\n",
    "    yp=theta[0]+theta[1]*x\n",
    "    return yp\n",
    "\n",
    "def gradient(X,Y,theta):\n",
    "    m=X.shape[0]\n",
    "    grad=np.zeros((2,),dtype='float64')\n",
    "    for i in range(m):\n",
    "        x=X[i]\n",
    "        y=Y[i]\n",
    "        yp=hypothesis(x,grad)\n",
    "        grad[0]+=(yp-y)\n",
    "        grad[1]+=(yp-y)*x\n",
    "    \n",
    "    return grad/m\n",
    "\n",
    "def error(X,Y,theta):\n",
    "    m=X.shape[0]\n",
    "    total=0.0\n",
    "    for i in range(m):\n",
    "        yp=hypothesis(X[i],theta)\n",
    "        total+=(yp-Y[i])**2\n",
    "        \n",
    "    return total/m\n",
    "        \n",
    "    \n",
    "\n",
    "def gradient_descent2(X,Y,lr=0.01,iterations=20):\n",
    "    theta=np.zeros((2,),dtype='float64')\n",
    "    error_list=[]\n",
    "    \n",
    "    for i in range(iterations):\n",
    "#         e=error(X,Y,theta)\n",
    "#         error_list.append(e)\n",
    "        \n",
    "        grad=gradient(X,Y,theta)\n",
    "        theta[0]=theta[0]-lr*grad[0]\n",
    "        theta[1]=theta[1]-lr*grad[1]\n",
    "        \n",
    "    return theta,error_list"
   ]
  },
  {
   "cell_type": "code",
   "execution_count": 55,
   "metadata": {},
   "outputs": [
    {
     "name": "stderr",
     "output_type": "stream",
     "text": [
      "C:\\Users\\manja\\anaconda3\\lib\\site-packages\\ipykernel_launcher.py:15: RuntimeWarning: overflow encountered in add\n",
      "  from ipykernel import kernelapp as app\n",
      "C:\\Users\\manja\\anaconda3\\lib\\site-packages\\ipykernel_launcher.py:5: RuntimeWarning: invalid value encountered in add\n",
      "  \"\"\"\n"
     ]
    }
   ],
   "source": [
    "theta,error_list=gradient_descent2(X_train,Y_train)"
   ]
  },
  {
   "cell_type": "code",
   "execution_count": 21,
   "metadata": {},
   "outputs": [
    {
     "data": {
      "text/plain": [
       "array([nan, nan])"
      ]
     },
     "execution_count": 21,
     "metadata": {},
     "output_type": "execute_result"
    }
   ],
   "source": [
    "theta"
   ]
  },
  {
   "cell_type": "code",
   "execution_count": 26,
   "metadata": {},
   "outputs": [
    {
     "data": {
      "text/plain": [
       "array([-0.17636114])"
      ]
     },
     "execution_count": 26,
     "metadata": {},
     "output_type": "execute_result"
    }
   ],
   "source": [
    "X_train[0]"
   ]
  },
  {
   "cell_type": "markdown",
   "metadata": {},
   "source": [
    "# Visualizing Loss Function, Gradient Descent and Theta updates"
   ]
  },
  {
   "cell_type": "code",
   "execution_count": null,
   "metadata": {},
   "outputs": [],
   "source": [
    "theta=gradient_descent(X_train,Y_train,0.1,50)"
   ]
  },
  {
   "cell_type": "code",
   "execution_count": null,
   "metadata": {},
   "outputs": [],
   "source": [
    "theta[0],theta[1]"
   ]
  },
  {
   "cell_type": "code",
   "execution_count": null,
   "metadata": {},
   "outputs": [],
   "source": []
  },
  {
   "cell_type": "code",
   "execution_count": null,
   "metadata": {},
   "outputs": [],
   "source": []
  },
  {
   "cell_type": "code",
   "execution_count": null,
   "metadata": {},
   "outputs": [],
   "source": []
  },
  {
   "cell_type": "code",
   "execution_count": null,
   "metadata": {},
   "outputs": [],
   "source": []
  },
  {
   "cell_type": "code",
   "execution_count": null,
   "metadata": {},
   "outputs": [],
   "source": []
  },
  {
   "cell_type": "code",
   "execution_count": null,
   "metadata": {},
   "outputs": [],
   "source": []
  },
  {
   "cell_type": "markdown",
   "metadata": {},
   "source": [
    "## Assignment Prediction"
   ]
  },
  {
   "cell_type": "code",
   "execution_count": null,
   "metadata": {},
   "outputs": [],
   "source": [
    "X_test=pd.read_csv(\"Linear_X_test.csv\")\n",
    "X_test"
   ]
  },
  {
   "cell_type": "code",
   "execution_count": null,
   "metadata": {},
   "outputs": [],
   "source": [
    "X_test=X_test.values\n",
    "\n",
    "#Normalisation\n",
    "X_test=(X_test-X_test.mean())/X_test.std()"
   ]
  },
  {
   "cell_type": "code",
   "execution_count": null,
   "metadata": {},
   "outputs": [],
   "source": [
    "m,c=gradient_descent(X_norm,Y,0.2,50)"
   ]
  },
  {
   "cell_type": "code",
   "execution_count": null,
   "metadata": {},
   "outputs": [],
   "source": [
    "Y_pred=predict(X_test,m,c)"
   ]
  },
  {
   "cell_type": "code",
   "execution_count": null,
   "metadata": {},
   "outputs": [],
   "source": [
    "#Visualization\n",
    "\n",
    "plt.scatter(X_norm,Y)\n",
    "plt.plot(X_test,Y_pred,color=\"red\")\n",
    "plt.show()"
   ]
  },
  {
   "cell_type": "code",
   "execution_count": null,
   "metadata": {},
   "outputs": [],
   "source": [
    "df=pd.DataFrame(Y_pred)\n",
    "df.columns=[\"y\"]\n",
    "df"
   ]
  },
  {
   "cell_type": "code",
   "execution_count": null,
   "metadata": {},
   "outputs": [],
   "source": [
    "df.to_csv(\"hard_work.csv\",index=False)"
   ]
  },
  {
   "cell_type": "code",
   "execution_count": null,
   "metadata": {},
   "outputs": [],
   "source": []
  }
 ],
 "metadata": {
  "kernelspec": {
   "display_name": "Python 3",
   "language": "python",
   "name": "python3"
  },
  "language_info": {
   "codemirror_mode": {
    "name": "ipython",
    "version": 3
   },
   "file_extension": ".py",
   "mimetype": "text/x-python",
   "name": "python",
   "nbconvert_exporter": "python",
   "pygments_lexer": "ipython3",
   "version": "3.7.6"
  }
 },
 "nbformat": 4,
 "nbformat_minor": 4
}

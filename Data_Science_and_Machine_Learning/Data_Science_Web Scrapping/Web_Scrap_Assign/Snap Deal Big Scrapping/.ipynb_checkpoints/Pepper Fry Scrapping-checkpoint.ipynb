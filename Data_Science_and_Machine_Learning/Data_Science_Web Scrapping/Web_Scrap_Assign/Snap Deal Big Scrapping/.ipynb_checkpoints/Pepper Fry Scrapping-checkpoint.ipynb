{
 "cells": [
  {
   "cell_type": "code",
   "execution_count": 122,
   "metadata": {},
   "outputs": [],
   "source": [
    "import requests\n",
    "import json\n",
    "from bs4 import BeautifulSoup as soup\n",
    "import os"
   ]
  },
  {
   "cell_type": "code",
   "execution_count": 123,
   "metadata": {},
   "outputs": [],
   "source": [
    "url=\"https://www.snapdeal.com/search?keyword=arm%20chair&sort=rlvncy\""
   ]
  },
  {
   "cell_type": "code",
   "execution_count": 124,
   "metadata": {},
   "outputs": [
    {
     "data": {
      "text/plain": [
       "<Response [200]>"
      ]
     },
     "execution_count": 124,
     "metadata": {},
     "output_type": "execute_result"
    }
   ],
   "source": [
    "response=requests.get(url)\n",
    "response"
   ]
  },
  {
   "cell_type": "code",
   "execution_count": 125,
   "metadata": {},
   "outputs": [],
   "source": [
    "page_soup=soup(response.content,'html.parser')"
   ]
  },
  {
   "cell_type": "code",
   "execution_count": 126,
   "metadata": {},
   "outputs": [],
   "source": [
    "prods=page_soup.findAll('div',{\"class\":\"product-tuple-image\"})"
   ]
  },
  {
   "cell_type": "code",
   "execution_count": 127,
   "metadata": {},
   "outputs": [
    {
     "data": {
      "text/plain": [
       "<div class=\"product-tuple-image\">\n",
       "<a class=\"dp-widget-link\" data-position=\"0;151\" href=\"https://www.snapdeal.com/product/supreme-web-chairs/5764608160831262874\" pogid=\"637797027994\" target=\"_blank\">\n",
       "<div class=\"bg-image hidden\"></div>\n",
       "<picture class=\"picture-elem\">\n",
       "<source class=\"product-image\" media=\"(min-width: 1430px)\" srcset=\"https://n4.sdlcdn.com/imgs/g/v/b/large/Supreme-web-chairs-SDL670171987-1-ea688.jpg\" title=\"Supreme web chairs\"/>\n",
       "<img class=\"product-image\" src=\"https://n4.sdlcdn.com/imgs/g/v/b/230X258_sharpened/Supreme-web-chairs-SDL670171987-1-ea688.jpg\" title=\"Supreme web chairs\"/>\n",
       "</picture>\n",
       "<input class=\"compareImg\" type=\"hidden\" value=\"https://n4.sdlcdn.com/imgs/g/v/b/64x75/Supreme-web-chairs-SDL670171987-1-ea688.jpg\">\n",
       "</input></a>\n",
       "<div class=\"clearfix row-disc\">\n",
       "<div cartid=\"\" class=\"center quick-view-bar btn btn-theme-secondary\" pogid=\"637797027994\" supc=\"SDL670171987\">\n",
       "\t\t\t\t\tQuick View</div>\n",
       "</div>\n",
       "</div>"
      ]
     },
     "execution_count": 127,
     "metadata": {},
     "output_type": "execute_result"
    }
   ],
   "source": [
    "prod=prods[0]\n",
    "prod"
   ]
  },
  {
   "cell_type": "code",
   "execution_count": 128,
   "metadata": {},
   "outputs": [
    {
     "data": {
      "text/plain": [
       "'Supreme web chairs'"
      ]
     },
     "execution_count": 128,
     "metadata": {},
     "output_type": "execute_result"
    }
   ],
   "source": [
    "title=prod.img['title']\n",
    "title"
   ]
  },
  {
   "cell_type": "code",
   "execution_count": 129,
   "metadata": {},
   "outputs": [
    {
     "data": {
      "text/plain": [
       "'https://www.snapdeal.com/product/supreme-web-chairs/5764608160831262874'"
      ]
     },
     "execution_count": 129,
     "metadata": {},
     "output_type": "execute_result"
    }
   ],
   "source": [
    "link=prod.a[\"href\"]\n",
    "link"
   ]
  },
  {
   "cell_type": "code",
   "execution_count": 130,
   "metadata": {},
   "outputs": [],
   "source": [
    "specific_page=requests.get(link)\n",
    "specific_page=soup(specific_page.content,'html.parser')"
   ]
  },
  {
   "cell_type": "code",
   "execution_count": 131,
   "metadata": {},
   "outputs": [],
   "source": [
    "imgs=specific_page.find('ul',{'id':'bx-slider-left-image-panel'})"
   ]
  },
  {
   "cell_type": "code",
   "execution_count": 132,
   "metadata": {},
   "outputs": [
    {
     "data": {
      "text/plain": [
       "[<img bigsrc=\"https://n3.sdlcdn.com/imgs/g/v/b/Supreme-web-chairs-SDL670171987-1-ea688.jpg\" class=\"cloudzoom\" data-cloudzoom=\"zoomImage: 'https://n3.sdlcdn.com/imgs/g/v/b/Supreme-web-chairs-SDL670171987-1-ea688.jpg',zoomPosition: 3, zoomSizeMode: 'image'\" slidenum=\"0\" src=\"https://n3.sdlcdn.com/imgs/g/v/b/Supreme-web-chairs-SDL670171987-1-ea688.jpg\" title=\"Supreme web chairs\"/>]"
      ]
     },
     "execution_count": 132,
     "metadata": {},
     "output_type": "execute_result"
    }
   ],
   "source": [
    "imgs=imgs.findAll('img',{})\n",
    "imgs"
   ]
  },
  {
   "cell_type": "code",
   "execution_count": 133,
   "metadata": {},
   "outputs": [
    {
     "data": {
      "text/plain": [
       "['https://n3.sdlcdn.com/imgs/g/v/b/Supreme-web-chairs-SDL670171987-1-ea688.jpg']"
      ]
     },
     "execution_count": 133,
     "metadata": {},
     "output_type": "execute_result"
    }
   ],
   "source": [
    "img_srcs=[]\n",
    "for img in imgs:\n",
    "    i=img['bigsrc']\n",
    "    img_srcs.append(i)\n",
    "    \n",
    "img_srcs"
   ]
  },
  {
   "cell_type": "code",
   "execution_count": 134,
   "metadata": {},
   "outputs": [
    {
     "data": {
      "text/plain": [
       "'2161'"
      ]
     },
     "execution_count": 134,
     "metadata": {},
     "output_type": "execute_result"
    }
   ],
   "source": [
    "price=specific_page.find('span',{'class':'payBlkBig'}).text\n",
    "price"
   ]
  },
  {
   "cell_type": "code",
   "execution_count": 135,
   "metadata": {},
   "outputs": [
    {
     "data": {
      "text/plain": [
       "'Supreme is the largest plastic processing company having an annual turnover of more than 3000 crore and strongest modern moulded plastic furniture brand in India, having the widest range of moulded plastic furniture. They have got a vast array of moulded plastic furniture, like moulded plastic chairs, moulded plastic tables,cup boards plastic trolleys, plastic centre tables, plastic stools, plastic baby chairs, garden and office furniture etc. Supremes vast range of plastic furniture can be divided into eight sub categories, namely upholstered, Premium monoblock chairs, monoblock chairs, Armless chairs, Centre tables and trolley, Dining tables, Baby chairs, Stools. All of these categories have the most high quality furniture under them.'"
      ]
     },
     "execution_count": 135,
     "metadata": {},
     "output_type": "execute_result"
    }
   ],
   "source": [
    "desc=specific_page.findAll('div',{'class':'detailssubbox'})\n",
    "desc=desc[1].text.strip()\n",
    "desc"
   ]
  },
  {
   "cell_type": "code",
   "execution_count": 136,
   "metadata": {},
   "outputs": [
    {
     "data": {
      "text/plain": [
       "{'price': '2161',\n",
       " 'description': 'Supreme is the largest plastic processing company having an annual turnover of more than 3000 crore and strongest modern moulded plastic furniture brand in India, having the widest range of moulded plastic furniture. They have got a vast array of moulded plastic furniture, like moulded plastic chairs, moulded plastic tables,cup boards plastic trolleys, plastic centre tables, plastic stools, plastic baby chairs, garden and office furniture etc. Supremes vast range of plastic furniture can be divided into eight sub categories, namely upholstered, Premium monoblock chairs, monoblock chairs, Armless chairs, Centre tables and trolley, Dining tables, Baby chairs, Stools. All of these categories have the most high quality furniture under them.'}"
      ]
     },
     "execution_count": 136,
     "metadata": {},
     "output_type": "execute_result"
    }
   ],
   "source": [
    "di={\n",
    "        'price':price,\n",
    "        'description':desc\n",
    "    }\n",
    "di"
   ]
  },
  {
   "cell_type": "code",
   "execution_count": 137,
   "metadata": {},
   "outputs": [],
   "source": [
    "# parent=\"Arm Chair/\"\n",
    "\n",
    "# path=os.path.join(parent,title)\n",
    "# os.mkdir(path)"
   ]
  },
  {
   "cell_type": "code",
   "execution_count": 199,
   "metadata": {},
   "outputs": [],
   "source": [
    "def folder(title,di,imgs,count,parent):\n",
    "    with open(f\"{parent}/{title}/metadata_{count}.json\",\"w\") as f:\n",
    "        json.dump(di,f)\n",
    "        \n",
    "    for i,img in enumerate(imgs):\n",
    "        with open(f\"{parent}/{title}/{title}_{count}_{i+1}.jpg\",\"wb\") as f:\n",
    "            response=requests.get(img)\n",
    "            f.write(response.content)\n",
    "        "
   ]
  },
  {
   "cell_type": "code",
   "execution_count": 200,
   "metadata": {},
   "outputs": [],
   "source": [
    "# folder(title,di,img_srcs)"
   ]
  },
  {
   "cell_type": "code",
   "execution_count": 239,
   "metadata": {},
   "outputs": [],
   "source": [
    "def particular(word):\n",
    "    l=word.split(\" \")\n",
    "    key=\"+\".join(l)\n",
    "    print(key)\n",
    "    parent=f\"{word}/\"\n",
    "    path=os.path.join(parent)\n",
    "    if os.path.exists==False:\n",
    "        os.mkdir(path)"
   ]
  },
  {
   "cell_type": "code",
   "execution_count": 240,
   "metadata": {},
   "outputs": [
    {
     "name": "stdout",
     "output_type": "stream",
     "text": [
      "Two+Seater+Sofa\n"
     ]
    }
   ],
   "source": [
    "particular(\"Two Seater Sofa\")"
   ]
  },
  {
   "cell_type": "code",
   "execution_count": 244,
   "metadata": {},
   "outputs": [],
   "source": [
    "def particular(word):\n",
    "    l=word.split(\" \")\n",
    "    key=\"+\".join(l)\n",
    "    print(key)\n",
    "    url=f\"https://www.snapdeal.com/search?keyword={key}&sort=rlvncy\"\n",
    "    response=requests.get(url)\n",
    "    page_soup=soup(response.content,'html.parser')\n",
    "    prods=page_soup.findAll('div',{\"class\":\"product-tuple-image\"})\n",
    "    parent=f\"{word}\"\n",
    "    path=os.path.join(parent)\n",
    "    if os.path.exists==False:\n",
    "        os.mkdir(path)\n",
    "    count=0\n",
    "    for prod in prods:\n",
    "        title=prod.img['title'].strip(\"/\").split(\" \")[:3]\n",
    "        title=''.join(e for e in title if e.isalnum())\n",
    "        print(title,end=\"  \")\n",
    "        path=os.path.join(parent,title)\n",
    "        print(path)\n",
    "        if os.path.exists(path)==False:\n",
    "            os.mkdir(path)\n",
    "        link=prod.a[\"href\"]\n",
    "        specific_page=requests.get(link)\n",
    "        specific_page=soup(specific_page.content,'html.parser')\n",
    "        price=specific_page.find('span',{'class':'payBlkBig'}).text\n",
    "        desc=specific_page.findAll('div',{'class':'detailssubbox'})\n",
    "        desc=desc[1].text.strip()\n",
    "        di={\n",
    "            'price':price,\n",
    "            'description':desc\n",
    "        }\n",
    "        imgs=specific_page.find('ul',{'id':'bx-slider-left-image-panel'})\n",
    "        imgs=imgs.findAll('img',{})\n",
    "        img_srcs=[]\n",
    "        for img in imgs:\n",
    "            i=img['bigsrc']\n",
    "            img_srcs.append(i)\n",
    "        count+=1\n",
    "        folder(title,di,img_srcs,count,parent)\n",
    "    "
   ]
  },
  {
   "cell_type": "code",
   "execution_count": 245,
   "metadata": {},
   "outputs": [],
   "source": [
    "l=[\"Arm Chair\",\"Bean Bags\",\"Bench\",\"Book Cases\",\"Chest Drawers\",\"Coffee Tables\",\"Dining Set\",\n",
    "   \"Garden Seating\",\"King Beds\",\"Queen Beds\",\"Two Seater Sofa\"\n",
    "  ]"
   ]
  },
  {
   "cell_type": "code",
   "execution_count": 246,
   "metadata": {},
   "outputs": [
    {
     "name": "stdout",
     "output_type": "stream",
     "text": [
      "Arm+Chair\n",
      "Supremeluminachairs  Arm Chair\\Supremeluminachairs\n",
      "Supremeluminachairs  Arm Chair\\Supremeluminachairs\n",
      "PlasticCafeteriaChair  Arm Chair\\PlasticCafeteriaChair\n",
      "PlasticCafeteriaChair  Arm Chair\\PlasticCafeteriaChair\n",
      "Supremewebchairs  Arm Chair\\Supremewebchairs\n",
      "Supremeluminachairs  Arm Chair\\Supremeluminachairs\n",
      "HomegenicNationalTub  Arm Chair\\HomegenicNationalTub\n",
      "SupremeTurboBrown  Arm Chair\\SupremeTurboBrown\n",
      "Supremewebchairs  Arm Chair\\Supremewebchairs\n",
      "NilkamalPlasticPremium  Arm Chair\\NilkamalPlasticPremium\n",
      "HomegenicNationalTub  Arm Chair\\HomegenicNationalTub\n",
      "MLOffice  Arm Chair\\MLOffice\n",
      "Supremewebchairs  Arm Chair\\Supremewebchairs\n",
      "Supremeluminachairs  Arm Chair\\Supremeluminachairs\n",
      "Supremewebchairs  Arm Chair\\Supremewebchairs\n",
      "PlasticCafeteriaChair  Arm Chair\\PlasticCafeteriaChair\n",
      "Supremewebchairs  Arm Chair\\Supremewebchairs\n",
      "HighBackSupport  Arm Chair\\HighBackSupport\n",
      "Supremeluminachairs  Arm Chair\\Supremeluminachairs\n",
      "Supremeblisschairs  Arm Chair\\Supremeblisschairs\n",
      "Bean+Bags\n",
      "DolphinXLBean  Bean Bags\\DolphinXLBean\n",
      "BeanBagwith  Bean Bags\\BeanBagwith\n",
      "DolphinXlOriginal  Bean Bags\\DolphinXlOriginal\n",
      "XXLRegular  Bean Bags\\XXLRegular\n",
      "DOLPHINXL  Bean Bags\\DOLPHINXL\n",
      "DolphinBlackBean  Bean Bags\\DolphinBlackBean\n",
      "CouchetteCombooffer  Bean Bags\\CouchetteCombooffer\n",
      "ThermocolBean  Bean Bags\\ThermocolBean\n",
      "SatinCloudXXXL  Bean Bags\\SatinCloudXXXL\n",
      "XLBeanBag  Bean Bags\\XLBeanBag\n",
      "CozyBeanBag  Bean Bags\\CozyBeanBag\n",
      "DOLPHINOriginalXXXL  Bean Bags\\DOLPHINOriginalXXXL\n",
      "DolphinXXLBrown  Bean Bags\\DolphinXXLBrown\n",
      "DOLPHINBEAN  Bean Bags\\DOLPHINBEAN\n",
      "DolphinXxlOriginal  Bean Bags\\DolphinXxlOriginal\n",
      "HomeStoryMambo  Bean Bags\\HomeStoryMambo\n",
      "XXLBeanBag  Bean Bags\\XXLBeanBag\n",
      "DOLPHINXL  Bean Bags\\DOLPHINXL\n",
      "DolphinXxxlOriginal  Bean Bags\\DolphinXxxlOriginal\n",
      "DolphinXlBean  Bean Bags\\DolphinXlBean\n",
      "Bench\n",
      "EnergieFitnessMulti  Bench\\EnergieFitnessMulti\n",
      "EnergieFitnessMulti  Bench\\EnergieFitnessMulti\n",
      "AzukaRopeWooden  Bench\\AzukaRopeWooden\n",
      "EnergieFitnessImported  Bench\\EnergieFitnessImported\n",
      "SUSFlatWeight  Bench\\SUSFlatWeight\n",
      "MEDVISIONEXERCISESTABILITY  Bench\\MEDVISIONEXERCISESTABILITY\n",
      "EnergieFitnessImported  Bench\\EnergieFitnessImported\n",
      "EnergieFitnessImported  Bench\\EnergieFitnessImported\n",
      "EnergieFitnessImported  Bench\\EnergieFitnessImported\n",
      "AzukaRopeWooden  Bench\\AzukaRopeWooden\n",
      "Porthomegym  Bench\\Porthomegym\n",
      "PortCHINHome  Bench\\PortCHINHome\n",
      "3in1  Bench\\3in1\n",
      "RioportExercise  Bench\\RioportExercise\n",
      "MuktaEnterprise12  Bench\\MuktaEnterprise12\n",
      "PORTHomeGyms  Bench\\PORTHomeGyms\n",
      "LuckyTraders  Bench\\LuckyTraders\n",
      "GoFiTPrOHomeGym  Bench\\GoFiTPrOHomeGym\n",
      "HornAnvilFor  Bench\\HornAnvilFor\n",
      "SteelDappingBlock  Bench\\SteelDappingBlock\n",
      "Book+Cases\n",
      "Coiethnicblack  Book Cases\\Coiethnicblack\n",
      "KatariaPlasticExpanding  Book Cases\\KatariaPlasticExpanding\n",
      "Coiravenblack  Book Cases\\Coiravenblack\n",
      "PinakenVintageButterfly  Book Cases\\PinakenVintageButterfly\n",
      "CoiBrownAnd  Book Cases\\CoiBrownAnd\n",
      "COIBlackAnd  Book Cases\\COIBlackAnd\n",
      "CoiBrownAnd  Book Cases\\CoiBrownAnd\n",
      "CoiBrownAnd  Book Cases\\CoiBrownAnd\n",
      "CoiUniqueBlack  Book Cases\\CoiUniqueBlack\n",
      "COIExpendableLeatherette  Book Cases\\COIExpendableLeatherette\n",
      "NettervillePeerage  Book Cases\\NettervillePeerage\n",
      "CoiLeatherBlack  Book Cases\\CoiLeatherBlack\n",
      "CoiLeatherBrown  Book Cases\\CoiLeatherBrown\n",
      "SukeshcraftMultipleCheque  Book Cases\\SukeshcraftMultipleCheque\n",
      "SukeshcraftMultipleCheque  Book Cases\\SukeshcraftMultipleCheque\n",
      "CoiEthinicBlack  Book Cases\\CoiEthinicBlack\n",
      "CaseStudiesIn  Book Cases\\CaseStudiesIn\n",
      "ReadyToFire  Book Cases\\ReadyToFire\n",
      "AFullReport  Book Cases\\AFullReport\n",
      "HouseOfQuirk  Book Cases\\HouseOfQuirk\n",
      "Chest+Drawers\n",
      "RDRACK  Chest Drawers\\RDRACK\n",
      "RUNERDRAWER  Chest Drawers\\RUNERDRAWER\n",
      "fridgeFridge  Chest Drawers\\fridgeFridge\n",
      "WUDKRAFTFusion  Chest Drawers\\WUDKRAFTFusion\n",
      "Breckenpaul5  Chest Drawers\\Breckenpaul5\n",
      "POWAFORCECosmeticMakeup  Chest Drawers\\POWAFORCECosmeticMakeup\n",
      "LSLetsshopOrganizer  Chest Drawers\\LSLetsshopOrganizer\n",
      "NayasaDeluxe  Chest Drawers\\NayasaDeluxe\n",
      "Multipurpose  Chest Drawers\\Multipurpose\n",
      "FavourNylonLaundry  Chest Drawers\\FavourNylonLaundry\n",
      "PrettyKrafts5Grid  Chest Drawers\\PrettyKrafts5Grid\n",
      "RUNERMultipurpose  Chest Drawers\\RUNERMultipurpose\n",
      "AdjustableFridgeStorage  Chest Drawers\\AdjustableFridgeStorage\n",
      "4PcsMultipurpose  Chest Drawers\\4PcsMultipurpose\n",
      "EverbuyPlasticCellular  Chest Drawers\\EverbuyPlasticCellular\n",
      "OnlineshoppeeAlexWall  Chest Drawers\\OnlineshoppeeAlexWall\n",
      "BreckenPaul4  Chest Drawers\\BreckenPaul4\n",
      "HOUZIEOrganizerWardrobe  Chest Drawers\\HOUZIEOrganizerWardrobe\n",
      "PrettyKrafts5Grid  Chest Drawers\\PrettyKrafts5Grid\n",
      "TakdirEnterprise8  Chest Drawers\\TakdirEnterprise8\n",
      "Coffee+Tables\n",
      "WoodenSquareShape  Coffee Tables\\WoodenSquareShape\n",
      "OnlineshoppeeCoffeeTable  Coffee Tables\\OnlineshoppeeCoffeeTable\n",
      "WoodenSquareShape  Coffee Tables\\WoodenSquareShape\n",
      "TimberTasteSheeshamSolid  Coffee Tables\\TimberTasteSheeshamSolid\n",
      "WoodenRoundShape  Coffee Tables\\WoodenRoundShape\n",
      "WoodenRoundEnd  Coffee Tables\\WoodenRoundEnd\n",
      "SquareShape  Coffee Tables\\SquareShape\n",
      "WoodenHandcarvedWork  Coffee Tables\\WoodenHandcarvedWork\n",
      "WoodenAntiqueSquare  Coffee Tables\\WoodenAntiqueSquare\n",
      "OnlineshoppeeBloqueDe  Coffee Tables\\OnlineshoppeeBloqueDe\n",
      "HomeDesignMart  Coffee Tables\\HomeDesignMart\n",
      "WoodenWrought  Coffee Tables\\WoodenWrought\n",
      "WoodenStarShape  Coffee Tables\\WoodenStarShape\n",
      "TimberTasteJASSILow  Coffee Tables\\TimberTasteJASSILow\n",
      "SheeshamWoodCharlize  Coffee Tables\\SheeshamWoodCharlize\n",
      "TimbertasteSheeshamSolid  Coffee Tables\\TimbertasteSheeshamSolid\n",
      "TimberTasteSheeshamSolid  Coffee Tables\\TimberTasteSheeshamSolid\n",
      "TimberTasteJASSILow  Coffee Tables\\TimberTasteJASSILow\n",
      "TimbertasteSheeshamSolid  Coffee Tables\\TimbertasteSheeshamSolid\n",
      "kapcoffeetable  Coffee Tables\\kapcoffeetable\n",
      "Dining+Set\n",
      "ARMANART  Dining Set\\ARMANART\n",
      "SGranite  Dining Set\\SGranite\n",
      "kapdinningset  Dining Set\\kapdinningset\n",
      "kapmoderndesigned  Dining Set\\kapmoderndesigned\n",
      "MARBLEDINNIGTABLE  Dining Set\\MARBLEDINNIGTABLE\n",
      "Sheeshamwood6  Dining Set\\Sheeshamwood6\n",
      "kapmoderndesigned  Dining Set\\kapmoderndesigned\n",
      "Table  Dining Set\\Table\n",
      "MARBLEDINNINGTABLE  Dining Set\\MARBLEDINNINGTABLE\n",
      "RajrangSilver  Dining Set\\RajrangSilver\n",
      "Onlineshoppee10Pcs  Dining Set\\Onlineshoppee10Pcs\n",
      "JjcrSilverBowl  Dining Set\\JjcrSilverBowl\n",
      "RevexoSetof  Dining Set\\RevexoSetof\n",
      "UNICOPCopperBottle  Dining Set\\UNICOPCopperBottle\n",
      "RevexoSetof  Dining Set\\RevexoSetof\n",
      "KCCopper7  Dining Set\\KCCopper7\n",
      "OXYJALCopperJug  Dining Set\\OXYJALCopperJug\n",
      "RevexoSetof  Dining Set\\RevexoSetof\n",
      "Apricot24Pcs  Dining Set\\Apricot24Pcs\n",
      "AMG7Pcs  Dining Set\\AMG7Pcs\n",
      "Garden+Seating\n",
      "GardenplantsThai  Garden Seating\\GardenplantsThai\n",
      "OrganicMoringaDrumstick  Garden Seating\\OrganicMoringaDrumstick\n",
      "SUPERNAPIERGRASS  Garden Seating\\SUPERNAPIERGRASS\n",
      "ComboOrganicVegetable  Garden Seating\\ComboOrganicVegetable\n",
      "MatrixDahliaMix  Garden Seating\\MatrixDahliaMix\n",
      "BlueMarigoldFlower  Garden Seating\\BlueMarigoldFlower\n",
      "HighQualityAsia  Garden Seating\\HighQualityAsia\n",
      "HybridIndianClimbing  Garden Seating\\HybridIndianClimbing\n",
      "FlowerseedsPetunia  Garden Seating\\FlowerseedsPetunia\n",
      "Kantola  Garden Seating\\Kantola\n",
      "FlowerseedsAster  Garden Seating\\FlowerseedsAster\n",
      "SWEETPAPAYASEEDS  Garden Seating\\SWEETPAPAYASEEDS\n",
      "RedLadyHybrid  Garden Seating\\RedLadyHybrid\n",
      "KANISHQ4COLOURS  Garden Seating\\KANISHQ4COLOURS\n",
      "SHOP360GARDEN  Garden Seating\\SHOP360GARDEN\n",
      "ZonatoRedDahlia  Garden Seating\\ZonatoRedDahlia\n",
      "TripleDiseaseResistant  Garden Seating\\TripleDiseaseResistant\n",
      "LadyOrganic  Garden Seating\\LadyOrganic\n",
      "OLDSTOREGardens  Garden Seating\\OLDSTOREGardens\n",
      "GARDENREDCHILLI  Garden Seating\\GARDENREDCHILLI\n",
      "King+Beds\n",
      "NMCREATION  King Beds\\NMCREATION\n",
      "JaipurCotexCotton  King Beds\\JaipurCotexCotton\n",
      "KismatCollectionCotton  King Beds\\KismatCollectionCotton\n",
      "SarojFabricsCotton  King Beds\\SarojFabricsCotton\n",
      "RangunCottonDouble  King Beds\\RangunCottonDouble\n",
      "SwayamCottonDouble  King Beds\\SwayamCottonDouble\n",
      "ASHAHOMEPRODUCT  King Beds\\ASHAHOMEPRODUCT\n",
      "RangunCottonDouble  King Beds\\RangunCottonDouble\n",
      "DivyaBazaarCotton  King Beds\\DivyaBazaarCotton\n",
      "NMCREATION  King Beds\\NMCREATION\n",
      "RajasthaniSareesMulticolour  King Beds\\RajasthaniSareesMulticolour\n",
      "ClassyPlusCotton  King Beds\\ClassyPlusCotton\n",
      "FrionKandyCotton  King Beds\\FrionKandyCotton\n",
      "RajasthanibedsheetCotton  King Beds\\RajasthanibedsheetCotton\n",
      "RiddhiMosquitoNet  King Beds\\RiddhiMosquitoNet\n",
      "SwayamSatinDouble  King Beds\\SwayamSatinDouble\n"
     ]
    },
    {
     "name": "stdout",
     "output_type": "stream",
     "text": [
      "FrionkandyCottonDouble  King Beds\\FrionkandyCottonDouble\n",
      "KismatCollectionJaipuri  King Beds\\KismatCollectionJaipuri\n",
      "VardeCottonDouble  King Beds\\VardeCottonDouble\n",
      "PINKCITYFABRICSCottonDouble  King Beds\\PINKCITYFABRICSCottonDouble\n",
      "Queen+Beds\n",
      "BeautifulHomesCotton  Queen Beds\\BeautifulHomesCotton\n",
      "RomeeCottonDouble  Queen Beds\\RomeeCottonDouble\n",
      "BeautifulHomesCotton  Queen Beds\\BeautifulHomesCotton\n",
      "HOMEAFFAIRSCotton  Queen Beds\\HOMEAFFAIRSCotton\n",
      "mnbindiaQueenWhite  Queen Beds\\mnbindiaQueenWhite\n",
      "BeautifulHomesCotton  Queen Beds\\BeautifulHomesCotton\n",
      "BeautifulHomesCotton  Queen Beds\\BeautifulHomesCotton\n",
      "BeautifulHomesCotton  Queen Beds\\BeautifulHomesCotton\n",
      "PeponiSetOf  Queen Beds\\PeponiSetOf\n",
      "BeautifulHomesCotton  Queen Beds\\BeautifulHomesCotton\n",
      "CottonDouble  Queen Beds\\CottonDouble\n",
      "ClassyPlusCotton  Queen Beds\\ClassyPlusCotton\n",
      "RomeeCottonDouble  Queen Beds\\RomeeCottonDouble\n",
      "QUALITYDECORPoly  Queen Beds\\QUALITYDECORPoly\n",
      "ShoppingFactoryCotton  Queen Beds\\ShoppingFactoryCotton\n",
      "HOMEAFFAIRSCotton  Queen Beds\\HOMEAFFAIRSCotton\n",
      "AllianceCottonDouble  Queen Beds\\AllianceCottonDouble\n",
      "AllianceCottonDouble  Queen Beds\\AllianceCottonDouble\n",
      "BeautifulHomesCotton  Queen Beds\\BeautifulHomesCotton\n",
      "LAVANYACOLLECTIONCotton  Queen Beds\\LAVANYACOLLECTIONCotton\n",
      "Two+Seater+Sofa\n",
      "kap2seater  Two Seater Sofa\\kap2seater\n",
      "kap2seater  Two Seater Sofa\\kap2seater\n",
      "kap2seater  Two Seater Sofa\\kap2seater\n",
      "kapsofaset  Two Seater Sofa\\kapsofaset\n",
      "kap2seater  Two Seater Sofa\\kap2seater\n",
      "kapmoderndesigned  Two Seater Sofa\\kapmoderndesigned\n",
      "kapmoderndesigned  Two Seater Sofa\\kapmoderndesigned\n",
      "SofaCumBed  Two Seater Sofa\\SofaCumBed\n",
      "DolphinZealSingle  Two Seater Sofa\\DolphinZealSingle\n",
      "DREAMSKART5in  Two Seater Sofa\\DREAMSKART5in\n",
      "kapmoderndesigned  Two Seater Sofa\\kapmoderndesigned\n",
      "kapsofa  Two Seater Sofa\\kapsofa\n",
      "SofaCumBed  Two Seater Sofa\\SofaCumBed\n",
      "kap1seater  Two Seater Sofa\\kap1seater\n",
      "LoungerSofawith  Two Seater Sofa\\LoungerSofawith\n",
      "kap3seater  Two Seater Sofa\\kap3seater\n",
      "5in1  Two Seater Sofa\\5in1\n",
      "kapsofa  Two Seater Sofa\\kapsofa\n",
      "kapsofaset  Two Seater Sofa\\kapsofaset\n",
      "kap1seater  Two Seater Sofa\\kap1seater\n"
     ]
    }
   ],
   "source": [
    "for ele in l:\n",
    "    particular(ele)"
   ]
  },
  {
   "cell_type": "code",
   "execution_count": null,
   "metadata": {},
   "outputs": [],
   "source": []
  }
 ],
 "metadata": {
  "kernelspec": {
   "display_name": "Python 3",
   "language": "python",
   "name": "python3"
  },
  "language_info": {
   "codemirror_mode": {
    "name": "ipython",
    "version": 3
   },
   "file_extension": ".py",
   "mimetype": "text/x-python",
   "name": "python",
   "nbconvert_exporter": "python",
   "pygments_lexer": "ipython3",
   "version": "3.7.6"
  }
 },
 "nbformat": 4,
 "nbformat_minor": 4
}

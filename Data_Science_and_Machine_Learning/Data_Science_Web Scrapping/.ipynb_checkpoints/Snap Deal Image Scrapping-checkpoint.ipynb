{
 "cells": [
  {
   "cell_type": "code",
   "execution_count": 15,
   "metadata": {},
   "outputs": [],
   "source": [
    "import requests\n",
    "from bs4 import BeautifulSoup as soup"
   ]
  },
  {
   "cell_type": "code",
   "execution_count": 16,
   "metadata": {},
   "outputs": [
    {
     "name": "stdout",
     "output_type": "stream",
     "text": [
      "Enter Search: red+pants\n"
     ]
    }
   ],
   "source": [
    "item=input(\"Enter Search: \")\n",
    "url=f\"https://www.snapdeal.com/search?keyword={item}&sort=rlvncy\""
   ]
  },
  {
   "cell_type": "code",
   "execution_count": 17,
   "metadata": {},
   "outputs": [
    {
     "data": {
      "text/plain": [
       "<Response [200]>"
      ]
     },
     "execution_count": 17,
     "metadata": {},
     "output_type": "execute_result"
    }
   ],
   "source": [
    "response=requests.get(url)\n",
    "response"
   ]
  },
  {
   "cell_type": "code",
   "execution_count": 18,
   "metadata": {},
   "outputs": [],
   "source": [
    "#response.content"
   ]
  },
  {
   "cell_type": "code",
   "execution_count": 19,
   "metadata": {},
   "outputs": [],
   "source": [
    "page_soup=soup(response.content,'html.parser')\n",
    "#page_soup"
   ]
  },
  {
   "cell_type": "code",
   "execution_count": 20,
   "metadata": {},
   "outputs": [
    {
     "data": {
      "text/plain": [
       "20"
      ]
     },
     "execution_count": 20,
     "metadata": {},
     "output_type": "execute_result"
    }
   ],
   "source": [
    "divs=page_soup.findAll(\"div\",{\"class\":\"product-tuple-image\"})\n",
    "len(divs)"
   ]
  },
  {
   "cell_type": "code",
   "execution_count": 21,
   "metadata": {},
   "outputs": [
    {
     "data": {
      "text/plain": [
       "<div class=\"product-tuple-image\">\n",
       "<a class=\"dp-widget-link\" data-position=\"8;1164\" href=\"https://www.snapdeal.com/product/jc4u-cotton-kurti-with-pants/645481479738\" pogid=\"645481479738\" target=\"_blank\">\n",
       "<div class=\"bg-image hidden\"></div>\n",
       "<picture class=\"picture-elem\">\n",
       "<source class=\"product-image\" media=\"(min-width: 1430px)\" srcset=\"https://n3.sdlcdn.com/imgs/j/l/y/large/JC4U-Cotton-Kurti-With-Pants-SDL882174934-1-cfce2.jpeg\" title=\"JC4U Cotton Kurti With Pants - Stitched Suit\"/>\n",
       "<img class=\"product-image lazy-load\" data-src=\"https://n3.sdlcdn.com/imgs/j/l/y/230X258_sharpened/JC4U-Cotton-Kurti-With-Pants-SDL882174934-1-cfce2.jpeg\" title=\"JC4U Cotton Kurti With Pants - Stitched Suit\"/>\n",
       "</picture>\n",
       "<input class=\"compareImg\" type=\"hidden\" value=\"https://n3.sdlcdn.com/imgs/j/l/y/64x75/JC4U-Cotton-Kurti-With-Pants-SDL882174934-1-cfce2.jpeg\">\n",
       "</input></a>\n",
       "<div class=\"clearfix row-disc\">\n",
       "<div cartid=\"\" class=\"center quick-view-bar btn btn-theme-secondary\" pogid=\"645481479738\" supc=\"SDL882174934\">\n",
       "\t\t\t\t\tQuick View</div>\n",
       "</div>\n",
       "</div>"
      ]
     },
     "execution_count": 21,
     "metadata": {},
     "output_type": "execute_result"
    }
   ],
   "source": [
    "divs[11]"
   ]
  },
  {
   "cell_type": "code",
   "execution_count": 22,
   "metadata": {},
   "outputs": [
    {
     "data": {
      "text/plain": [
       "<img class=\"product-image lazy-load\" data-src=\"https://n3.sdlcdn.com/imgs/j/l/y/230X258_sharpened/JC4U-Cotton-Kurti-With-Pants-SDL882174934-1-cfce2.jpeg\" title=\"JC4U Cotton Kurti With Pants - Stitched Suit\"/>"
      ]
     },
     "execution_count": 22,
     "metadata": {},
     "output_type": "execute_result"
    }
   ],
   "source": [
    "divs[11].img"
   ]
  },
  {
   "cell_type": "code",
   "execution_count": 23,
   "metadata": {},
   "outputs": [
    {
     "data": {
      "text/plain": [
       "<img class=\"product-image\" src=\"https://n1.sdlcdn.com/imgs/j/m/i/230X258_sharpened/Kapadia-Rayon-Kurti-With-Pants-SDL203540715-1-37f54.jpg\" title=\"Kapadia Rayon Kurti With Pants - Stitched Suit\"/>"
      ]
     },
     "execution_count": 23,
     "metadata": {},
     "output_type": "execute_result"
    }
   ],
   "source": [
    "divs[0].img"
   ]
  },
  {
   "cell_type": "code",
   "execution_count": 24,
   "metadata": {},
   "outputs": [],
   "source": [
    "#divs[11].img[\"src\"]"
   ]
  },
  {
   "cell_type": "code",
   "execution_count": 25,
   "metadata": {},
   "outputs": [],
   "source": [
    "img_urls=[]\n",
    "\n",
    "for div in divs:\n",
    "    attrs=div.img.attrs\n",
    "    src=\"\"\n",
    "    if \"src\" in attrs:\n",
    "        src=attrs[\"src\"]\n",
    "    else:\n",
    "        src=attrs[\"data-src\"]\n",
    "    img_urls.append(src)"
   ]
  },
  {
   "cell_type": "code",
   "execution_count": 26,
   "metadata": {},
   "outputs": [
    {
     "data": {
      "text/plain": [
       "20"
      ]
     },
     "execution_count": 26,
     "metadata": {},
     "output_type": "execute_result"
    }
   ],
   "source": [
    "len(img_urls)"
   ]
  },
  {
   "cell_type": "code",
   "execution_count": 27,
   "metadata": {},
   "outputs": [
    {
     "data": {
      "text/plain": [
       "['https://n1.sdlcdn.com/imgs/j/m/i/230X258_sharpened/Kapadia-Rayon-Kurti-With-Pants-SDL203540715-1-37f54.jpg',\n",
       " 'https://n3.sdlcdn.com/imgs/j/g/x/230X258_sharpened/Keep-Cart-Rayon-Kurti-With-SDL145447771-1-3eaf2.png',\n",
       " 'https://n3.sdlcdn.com/imgs/j/c/j/230X258_sharpened/JC4U-Rayon-Kurti-With-Pants-SDL458009123-1-156a5.jpg',\n",
       " 'https://n4.sdlcdn.com/imgs/j/d/x/230X258_sharpened/Red-Tape-Olive-Green-Skinny-SDL978392560-1-2b5ed.jpg',\n",
       " 'https://n2.sdlcdn.com/imgs/j/f/x/230X258_sharpened/Flying-cannon-navy-with-white-SDL722748095-1-95faa.jpeg',\n",
       " 'https://n4.sdlcdn.com/imgs/j/k/m/230X258_sharpened/Fourfolds-Ethnic-Wear-Kurta-with-SDL125593556-1-22352.jpg',\n",
       " 'https://n2.sdlcdn.com/imgs/j/l/3/230X258_sharpened/Reusable-Diaper-SDL188676186-1-146bb.jpg',\n",
       " 'https://n3.sdlcdn.com/imgs/i/5/m/230X258_sharpened/SMART-KIDS-Boys-Festive-Party-SDL907142781-1-56e51.jpg',\n",
       " 'https://n4.sdlcdn.com/imgs/j/g/u/230X258_sharpened/Fabric-Fitoor-Cotton-Kurti-With-SDL426281216-1-53ed6.jpeg',\n",
       " 'https://n1.sdlcdn.com/imgs/j/d/u/230X258_sharpened/AD-AV-Red-Regular-Fit-SDL497707816-1-1d81b.jpeg',\n",
       " 'https://n1.sdlcdn.com/imgs/j/m/s/230X258_sharpened/UNIQ-BOYS-SHORTS-WITH-ZIP-SDL032451115-1-3e015.jpeg',\n",
       " 'https://n3.sdlcdn.com/imgs/j/l/y/230X258_sharpened/JC4U-Cotton-Kurti-With-Pants-SDL882174934-1-cfce2.jpeg',\n",
       " 'https://n2.sdlcdn.com/imgs/j/m/i/230X258_sharpened/Kapadia-Rayon-Kurti-With-Pants-SDL882326724-1-11a7c.jpg',\n",
       " 'https://n4.sdlcdn.com/imgs/j/d/x/230X258_sharpened/Red-Tape-Brown-Skinny-Fit-SDL026168078-1-f3308.jpg',\n",
       " 'https://n3.sdlcdn.com/imgs/j/l/h/230X258_sharpened/UNIQ-BOYS-SHORTS-WITH-ZIP-SDL116828723-1-0d964.jpg',\n",
       " 'https://n1.sdlcdn.com/imgs/j/b/9/230X258_sharpened/Shellocks-Solid-Boys-Trackpants-SDL925243546-1-52a62.jpg',\n",
       " 'https://n3.sdlcdn.com/imgs/j/l/u/230X258_sharpened/Livewire-Red-Slim-Fit-Flat-SDL187320949-1-a40ab.jpg',\n",
       " 'https://n4.sdlcdn.com/imgs/j/d/x/230X258_sharpened/Red-Tape-White-Skinny-Fit-SDL169440894-1-935cb.jpg',\n",
       " 'https://n1.sdlcdn.com/imgs/j/a/j/230X258_sharpened/Kothari-Printed-Elasticated-band-Wasit-SDL092488652-1-63cc4.jpeg',\n",
       " 'https://n4.sdlcdn.com/imgs/j/g/k/230X258_sharpened/Plum-Tree-Boys-Red-Jogger-SDL951489163-1-fbfe8.jpeg']"
      ]
     },
     "execution_count": 27,
     "metadata": {},
     "output_type": "execute_result"
    }
   ],
   "source": [
    "img_urls"
   ]
  },
  {
   "cell_type": "code",
   "execution_count": 28,
   "metadata": {},
   "outputs": [],
   "source": [
    "for i,img in enumerate(img_urls):\n",
    "    with open(f\"Images_Scrapping/snap_deal_{item}_{i+1}.jpg\",\"wb\") as file:\n",
    "        response=requests.get(img)\n",
    "        file.write(response.content)"
   ]
  },
  {
   "cell_type": "code",
   "execution_count": null,
   "metadata": {},
   "outputs": [],
   "source": []
  },
  {
   "cell_type": "code",
   "execution_count": null,
   "metadata": {},
   "outputs": [],
   "source": []
  }
 ],
 "metadata": {
  "kernelspec": {
   "display_name": "Python 3",
   "language": "python",
   "name": "python3"
  },
  "language_info": {
   "codemirror_mode": {
    "name": "ipython",
    "version": 3
   },
   "file_extension": ".py",
   "mimetype": "text/x-python",
   "name": "python",
   "nbconvert_exporter": "python",
   "pygments_lexer": "ipython3",
   "version": "3.7.6"
  }
 },
 "nbformat": 4,
 "nbformat_minor": 4
}

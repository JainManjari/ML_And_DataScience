{
 "cells": [
  {
   "cell_type": "code",
   "execution_count": 1,
   "metadata": {},
   "outputs": [],
   "source": [
    "import requests\n",
    "from bs4 import BeautifulSoup as soup"
   ]
  },
  {
   "cell_type": "code",
   "execution_count": 2,
   "metadata": {},
   "outputs": [
    {
     "name": "stdout",
     "output_type": "stream",
     "text": [
      "Enter Search: doll house\n"
     ]
    }
   ],
   "source": [
    "item=input(\"Enter Search: \")\n",
    "url=f\"https://www.snapdeal.com/search?keyword={item}&sort=rlvncy\""
   ]
  },
  {
   "cell_type": "code",
   "execution_count": 3,
   "metadata": {},
   "outputs": [
    {
     "data": {
      "text/plain": [
       "<Response [200]>"
      ]
     },
     "execution_count": 3,
     "metadata": {},
     "output_type": "execute_result"
    }
   ],
   "source": [
    "response=requests.get(url)\n",
    "response"
   ]
  },
  {
   "cell_type": "code",
   "execution_count": 4,
   "metadata": {},
   "outputs": [],
   "source": [
    "#response.content"
   ]
  },
  {
   "cell_type": "code",
   "execution_count": 5,
   "metadata": {},
   "outputs": [],
   "source": [
    "page_soup=soup(response.content,'html.parser')\n",
    "#page_soup"
   ]
  },
  {
   "cell_type": "code",
   "execution_count": 6,
   "metadata": {},
   "outputs": [
    {
     "data": {
      "text/plain": [
       "20"
      ]
     },
     "execution_count": 6,
     "metadata": {},
     "output_type": "execute_result"
    }
   ],
   "source": [
    "divs=page_soup.findAll(\"div\",{\"class\":\"product-tuple-image\"})\n",
    "len(divs)"
   ]
  },
  {
   "cell_type": "code",
   "execution_count": 7,
   "metadata": {},
   "outputs": [
    {
     "data": {
      "text/plain": [
       "<div class=\"product-tuple-image\">\n",
       "<a class=\"dp-widget-link\" data-position=\"8;59\" href=\"https://www.snapdeal.com/product/barbie-bath-to-beauty-bathroom/636738687875\" pogid=\"636738687875\" target=\"_blank\">\n",
       "<div class=\"bg-image hidden\"></div>\n",
       "<picture class=\"picture-elem\">\n",
       "<source class=\"product-image\" media=\"(min-width: 1430px)\" srcset=\"https://n4.sdlcdn.com/imgs/a/z/5/large/Barbie-Bath-to-Beauty-Bathroom-SDL696980676-1-28f39.jpg\" title=\"Barbie Bath to Beauty Bathroom\"/>\n",
       "<img class=\"product-image lazy-load\" data-src=\"https://n4.sdlcdn.com/imgs/a/z/5/230X258_sharpened/Barbie-Bath-to-Beauty-Bathroom-SDL696980676-1-28f39.jpg\" title=\"Barbie Bath to Beauty Bathroom\"/>\n",
       "</picture>\n",
       "<input class=\"compareImg\" type=\"hidden\" value=\"https://n4.sdlcdn.com/imgs/a/z/5/64x75/Barbie-Bath-to-Beauty-Bathroom-SDL696980676-1-28f39.jpg\">\n",
       "</input></a>\n",
       "<div class=\"clearfix row-disc\">\n",
       "<div cartid=\"\" class=\"center quick-view-bar btn btn-theme-secondary\" pogid=\"636738687875\" supc=\"SDL696980676\">\n",
       "\t\t\t\t\tQuick View</div>\n",
       "</div>\n",
       "</div>"
      ]
     },
     "execution_count": 7,
     "metadata": {},
     "output_type": "execute_result"
    }
   ],
   "source": [
    "divs[11]"
   ]
  },
  {
   "cell_type": "code",
   "execution_count": 8,
   "metadata": {},
   "outputs": [
    {
     "data": {
      "text/plain": [
       "<img class=\"product-image lazy-load\" data-src=\"https://n4.sdlcdn.com/imgs/a/z/5/230X258_sharpened/Barbie-Bath-to-Beauty-Bathroom-SDL696980676-1-28f39.jpg\" title=\"Barbie Bath to Beauty Bathroom\"/>"
      ]
     },
     "execution_count": 8,
     "metadata": {},
     "output_type": "execute_result"
    }
   ],
   "source": [
    "divs[11].img"
   ]
  },
  {
   "cell_type": "code",
   "execution_count": 9,
   "metadata": {},
   "outputs": [
    {
     "data": {
      "text/plain": [
       "<img class=\"product-image\" src=\"https://n4.sdlcdn.com/imgs/j/m/c/230X258_sharpened/MJ-Doll-House-Play-Set-SDL977357743-1-023a6.jpg\" title=\"MJ@ Doll House Play Set For Kids  Toys Doll House/Dream House with 24 Pieces Accessories (24 Piece)\"/>"
      ]
     },
     "execution_count": 9,
     "metadata": {},
     "output_type": "execute_result"
    }
   ],
   "source": [
    "divs[0].img"
   ]
  },
  {
   "cell_type": "code",
   "execution_count": 10,
   "metadata": {},
   "outputs": [],
   "source": [
    "#divs[11].img[\"src\"]"
   ]
  },
  {
   "cell_type": "code",
   "execution_count": 11,
   "metadata": {},
   "outputs": [],
   "source": [
    "img_urls=[]\n",
    "\n",
    "for div in divs:\n",
    "    attrs=div.img.attrs\n",
    "    src=\"\"\n",
    "    if \"src\" in attrs:\n",
    "        src=attrs[\"src\"]\n",
    "    else:\n",
    "        src=attrs[\"data-src\"]\n",
    "    img_urls.append(src)"
   ]
  },
  {
   "cell_type": "code",
   "execution_count": 12,
   "metadata": {},
   "outputs": [
    {
     "data": {
      "text/plain": [
       "20"
      ]
     },
     "execution_count": 12,
     "metadata": {},
     "output_type": "execute_result"
    }
   ],
   "source": [
    "len(img_urls)"
   ]
  },
  {
   "cell_type": "code",
   "execution_count": 13,
   "metadata": {},
   "outputs": [
    {
     "data": {
      "text/plain": [
       "['https://n4.sdlcdn.com/imgs/j/m/c/230X258_sharpened/MJ-Doll-House-Play-Set-SDL977357743-1-023a6.jpg',\n",
       " 'https://n1.sdlcdn.com/imgs/j/l/s/230X258_sharpened/Land-Doll-House-Play-Tent-SDL216681959-1-8bfa1.jpg',\n",
       " 'https://n3.sdlcdn.com/imgs/i/h/o/230X258_sharpened/Masterfit-Multicolour-3D-Puzzle-Doll-SDL403737728-1-be730.jpeg',\n",
       " 'https://n3.sdlcdn.com/imgs/j/d/w/230X258_sharpened/4-Pieces-Toys-Dollhouse-Craft-SDL497727269-1-f7a9b.jpeg',\n",
       " 'https://n1.sdlcdn.com/imgs/a/d/n/230X258_sharpened/SDL560011930_1378983140_image1-b0565.jpg',\n",
       " 'https://n3.sdlcdn.com/imgs/j/m/t/230X258_sharpened/My-Dream-Room-Doll-House-SDL166194328-1-1739a.jpg',\n",
       " 'https://n4.sdlcdn.com/imgs/j/n/h/230X258_sharpened/Aseenaa-Doll-Toy-Set-with-SDL145873325-1-bc7c0.JPG',\n",
       " 'https://n3.sdlcdn.com/imgs/j/m/p/230X258_sharpened/Wooden-Horse-Rocking-Toy-SDL103120223-1-03a7b.jpg',\n",
       " 'https://n3.sdlcdn.com/imgs/j/n/f/230X258_sharpened/Beautiful-Funny-Doll-House-Play-SDL282713296-1-b9d36.jpeg',\n",
       " 'https://n4.sdlcdn.com/imgs/j/n/h/230X258_sharpened/Aseenaa-Swing-Baby-Angel-Doll-SDL946548951-1-e3636.JPG',\n",
       " 'https://n2.sdlcdn.com/imgs/j/n/h/230X258_sharpened/Aseenaa-Swing-Baby-Angel-Doll-SDL878136660-1-d9a4c.JPG',\n",
       " 'https://n4.sdlcdn.com/imgs/a/z/5/230X258_sharpened/Barbie-Bath-to-Beauty-Bathroom-SDL696980676-1-28f39.jpg',\n",
       " 'https://n2.sdlcdn.com/imgs/j/m/d/230X258_sharpened/DREAM-DOLL-HOUSE-FOR-KIDS-SDL533683150-1-c54d3.jpg',\n",
       " 'https://n1.sdlcdn.com/imgs/j/n/h/230X258_sharpened/Aseenaa-Doll-Toy-Set-with-SDL050861058-1-59f0e.JPG',\n",
       " 'https://n4.sdlcdn.com/imgs/j/n/g/230X258_sharpened/Aseenaa-Beautiful-Doll-Toy-Set-SDL138893609-1-1f76f.JPG',\n",
       " 'https://n1.sdlcdn.com/imgs/j/b/9/230X258_sharpened/Barbie-Dream-House-Adventure-Skipper-SDL598601555-1-fc08e.jpg',\n",
       " 'https://n2.sdlcdn.com/imgs/j/b/9/230X258_sharpened/Barbie-Doll-House-Playset-SDL882380074-1-1263f.jpg',\n",
       " 'https://n3.sdlcdn.com/imgs/j/b/9/230X258_sharpened/Barbie-Dream-House-Adventure-Stacie-SDL607917303-1-33f32.jpg',\n",
       " 'https://n2.sdlcdn.com/imgs/i/8/e/230X258_sharpened/House-of-Fun-Sunflower-Plush-SDL972388605-1-b98ad.jpeg',\n",
       " 'https://n4.sdlcdn.com/imgs/i/r/e/230X258_sharpened/Pack-of-6-Cute-Spring-SDL309731764-1-efe38.jpeg']"
      ]
     },
     "execution_count": 13,
     "metadata": {},
     "output_type": "execute_result"
    }
   ],
   "source": [
    "img_urls"
   ]
  },
  {
   "cell_type": "code",
   "execution_count": 14,
   "metadata": {},
   "outputs": [],
   "source": [
    "for i,img in enumerate(img_urls):\n",
    "    with open(f\"Images_Scrapping/snap_deal_{item}_{i+1}.jpg\",\"wb\") as file:\n",
    "        response=requests.get(img)\n",
    "        file.write(response.content)"
   ]
  },
  {
   "cell_type": "code",
   "execution_count": null,
   "metadata": {},
   "outputs": [],
   "source": []
  },
  {
   "cell_type": "code",
   "execution_count": null,
   "metadata": {},
   "outputs": [],
   "source": []
  }
 ],
 "metadata": {
  "kernelspec": {
   "display_name": "Python 3",
   "language": "python",
   "name": "python3"
  },
  "language_info": {
   "codemirror_mode": {
    "name": "ipython",
    "version": 3
   },
   "file_extension": ".py",
   "mimetype": "text/x-python",
   "name": "python",
   "nbconvert_exporter": "python",
   "pygments_lexer": "ipython3",
   "version": "3.7.6"
  }
 },
 "nbformat": 4,
 "nbformat_minor": 4
}

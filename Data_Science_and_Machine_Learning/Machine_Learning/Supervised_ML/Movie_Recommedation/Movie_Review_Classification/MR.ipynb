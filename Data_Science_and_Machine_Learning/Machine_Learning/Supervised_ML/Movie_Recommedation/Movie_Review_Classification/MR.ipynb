{
 "cells": [
  {
   "cell_type": "markdown",
   "metadata": {},
   "source": [
    "## Create a NLP Pipeline to clean review data\n",
    "\n",
    "- Load Input file and read reviews\n",
    "- Tokenize\n",
    "- Remove stopwords\n",
    "- Performed stemming\n",
    "- Write clean data to output file"
   ]
  },
  {
   "cell_type": "markdown",
   "metadata": {},
   "source": [
    "## NLTK"
   ]
  },
  {
   "cell_type": "code",
   "execution_count": 19,
   "metadata": {},
   "outputs": [],
   "source": [
    "from nltk.stem.snowball import PorterStemmer\n",
    "from nltk.tokenize import RegexpTokenizer\n",
    "from nltk.corpus import stopwords\n",
    "\n",
    "ps=PorterStemmer()\n",
    "tokenizer=RegexpTokenizer(r'\\w+')\n",
    "\n",
    "\n",
    "sw=set(stopwords.words('english'))\n",
    "\n",
    "\n",
    "def mytokenizer(text):\n",
    "    text=text.lower()\n",
    "    text=text.replace(\"<br /><br />\",\" \")\n",
    "    words=tokenizer.tokenize(text)\n",
    "    words=[w for w in words if w==\"not\" or w not in sw]\n",
    "    words=[ps.stem(w) for w in words]\n",
    "    return \" \".join(words)"
   ]
  },
  {
   "cell_type": "code",
   "execution_count": 20,
   "metadata": {},
   "outputs": [
    {
     "name": "stdout",
     "output_type": "stream",
     "text": [
      "love movi sinc 7 saw open day touch beauti strongli recommend see movi watch famili far mpaa rate pg 13 themat element prolong scene disastor nuditi sexual languag\n"
     ]
    }
   ],
   "source": [
    "sample_text='''\n",
    "            I loved this movie since I was 7 and I saw it on the opening day. It was so touching and beautiful. \n",
    "            I strongly recommend seeing for all. \n",
    "            It's a movie to watch with your family by far.\n",
    "            <br /><br />My MPAA rating: PG-13 for thematic elements, prolonged scenes of disastor, \n",
    "            nudity/sexuality and some language.\n",
    "           '''\n",
    "\n",
    "print(mytokenizer(sample_text))"
   ]
  },
  {
   "cell_type": "code",
   "execution_count": 21,
   "metadata": {},
   "outputs": [
    {
     "name": "stderr",
     "output_type": "stream",
     "text": [
      "IOPub data rate exceeded.\n",
      "The notebook server will temporarily stop sending output\n",
      "to the client in order to avoid crashing it.\n",
      "To change this limit, set the config variable\n",
      "`--NotebookApp.iopub_data_rate_limit`.\n",
      "\n",
      "Current values:\n",
      "NotebookApp.iopub_data_rate_limit=1000000.0 (bytes/sec)\n",
      "NotebookApp.rate_limit_window=3.0 (secs)\n",
      "\n"
     ]
    }
   ],
   "source": [
    "def getReviews(inputFile,outputFile):\n",
    "    \n",
    "    with open(inputFile,encoding=\"utf8\") as f:\n",
    "        print(f.read())\n",
    "        \n",
    "getReviews(\"imdb_trainX.txt\",\"m.txt\")"
   ]
  },
  {
   "cell_type": "code",
   "execution_count": null,
   "metadata": {},
   "outputs": [],
   "source": []
  }
 ],
 "metadata": {
  "kernelspec": {
   "display_name": "Python 3",
   "language": "python",
   "name": "python3"
  },
  "language_info": {
   "codemirror_mode": {
    "name": "ipython",
    "version": 3
   },
   "file_extension": ".py",
   "mimetype": "text/x-python",
   "name": "python",
   "nbconvert_exporter": "python",
   "pygments_lexer": "ipython3",
   "version": "3.7.6"
  }
 },
 "nbformat": 4,
 "nbformat_minor": 4
}

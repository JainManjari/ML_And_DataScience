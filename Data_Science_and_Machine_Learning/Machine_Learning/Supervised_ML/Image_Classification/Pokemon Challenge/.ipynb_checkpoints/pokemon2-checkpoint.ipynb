{
 "cells": [
  {
   "cell_type": "code",
   "execution_count": 1,
   "metadata": {},
   "outputs": [],
   "source": [
    "import numpy as np\n",
    "import os\n",
    "from pathlib import Path\n",
    "from keras_preprocessing import image\n",
    "import pandas as pd\n",
    "import cv2\n",
    "import matplotlib.pyplot as plt"
   ]
  },
  {
   "cell_type": "code",
   "execution_count": 8,
   "metadata": {},
   "outputs": [
    {
     "name": "stdout",
     "output_type": "stream",
     "text": [
      "<class 'numpy.ndarray'>\n"
     ]
    },
    {
     "data": {
      "text/plain": [
       "array([0, 0, 0, 0, 0, 0, 0, 0, 0, 0, 0, 0, 0, 0, 0, 0, 0, 0, 0, 0, 0, 0,\n",
       "       0, 0, 0, 0, 0, 0, 0, 0, 0, 0, 0, 0, 0, 0, 0, 0, 0, 0, 0, 0, 0, 0,\n",
       "       0, 0, 0, 0, 0, 0, 0, 0, 0, 0, 0, 0, 0, 0, 0, 0, 0, 0, 0, 0, 0, 0,\n",
       "       0, 0, 0, 0, 0, 0, 0, 0, 0, 0, 0, 0, 0, 0, 0, 0, 0, 0, 0, 0, 0, 0,\n",
       "       0, 0, 0, 0, 0, 0, 0, 0, 0, 0, 0, 0, 0, 1, 1, 1, 1, 1, 1, 1, 1, 1,\n",
       "       1, 1, 1, 1, 1, 1, 1, 1, 1, 1, 1, 1, 1, 1, 1, 1, 1, 1, 1, 1, 1, 1,\n",
       "       1, 1, 1, 1, 1, 1, 1, 1, 1, 1, 1, 1, 1, 1, 1, 1, 1, 1, 1, 1, 1, 1,\n",
       "       1, 1, 1, 1, 1, 1, 1, 1, 1, 1, 1, 1, 1, 1, 1, 1, 1, 1, 1, 1, 1, 1,\n",
       "       1, 1, 1, 1, 1, 1, 1, 1, 1, 1, 1, 1, 1, 1, 1, 1, 1, 1, 1, 1, 1, 1,\n",
       "       1, 1, 1, 1, 2, 2, 2, 2, 2, 2, 2, 2, 2, 2, 2, 2, 2, 2, 2, 2, 2, 2,\n",
       "       2, 2, 2, 2, 2, 2, 2, 2, 2, 2, 2, 2, 2, 2, 2, 2, 2, 2, 2, 2, 2, 2,\n",
       "       2, 2, 2, 2, 2, 2, 2, 2, 2, 2, 2, 2, 2, 2, 2, 2, 2, 2, 2, 2, 2, 2,\n",
       "       2, 2, 2, 2, 2, 2, 2, 2, 2, 2, 2, 2, 2, 2, 2, 2, 2, 2, 2, 2, 2, 2,\n",
       "       2, 2, 2, 2, 2, 2, 2, 2, 2, 2, 2, 2, 2, 2, 2, 2, 2, 2], dtype=object)"
      ]
     },
     "execution_count": 8,
     "metadata": {},
     "output_type": "execute_result"
    }
   ],
   "source": [
    "labels  =pd.read_csv(\"train.csv\").values\n",
    "imageId = labels[:,0]\n",
    "labels = labels[:,1]\n",
    "testData = pd.read_csv(\"test.csv\").values\n",
    "testId = testData[:,0]\n",
    "print(type(labels))\n",
    "labels[labels==\"Pikachu\"] = 0\n",
    "labels[labels==\"Charmander\"] = 2\n",
    "labels[labels==\"Bulbasaur\"] = 1\n",
    "labels"
   ]
  },
  {
   "cell_type": "code",
   "execution_count": null,
   "metadata": {},
   "outputs": [],
   "source": [
    "\n",
    "    "
   ]
  },
  {
   "cell_type": "code",
   "execution_count": null,
   "metadata": {},
   "outputs": [],
   "source": []
  },
  {
   "cell_type": "code",
   "execution_count": null,
   "metadata": {},
   "outputs": [],
   "source": []
  },
  {
   "cell_type": "code",
   "execution_count": null,
   "metadata": {},
   "outputs": [],
   "source": []
  },
  {
   "cell_type": "code",
   "execution_count": 9,
   "metadata": {},
   "outputs": [],
   "source": [
    "##visualise the data\n",
    "def drawImage(img):\n",
    "    \n",
    "    plt.imshow(img)\n",
    "    plt.show()\n",
    "    return\n",
    "\n"
   ]
  },
  {
   "cell_type": "code",
   "execution_count": 12,
   "metadata": {},
   "outputs": [],
   "source": [
    "images_data = []\n",
    "for img in imageId:\n",
    "    image = cv2.imread(\"Images/\"+img)\n",
    "    image = cv2.cvtColor(image,cv2.COLOR_BGR2RGB)\n",
    "    image  = cv2.resize(image,(32,32))\n",
    "    images_data.append(image)\n"
   ]
  },
  {
   "cell_type": "code",
   "execution_count": 13,
   "metadata": {},
   "outputs": [
    {
     "name": "stdout",
     "output_type": "stream",
     "text": [
      "(304, 32, 32, 3)\n"
     ]
    }
   ],
   "source": [
    "images_data = np.array(images_data,dtype = 'float32')/255.0\n",
    "print(images_data.shape)"
   ]
  },
  {
   "cell_type": "code",
   "execution_count": 14,
   "metadata": {},
   "outputs": [
    {
     "name": "stdout",
     "output_type": "stream",
     "text": [
      "(304,)\n"
     ]
    }
   ],
   "source": [
    "labels = np.array(labels)\n",
    "print(labels.shape)"
   ]
  },
  {
   "cell_type": "code",
   "execution_count": 15,
   "metadata": {},
   "outputs": [
    {
     "data": {
      "image/png": "[encoded data removed]",
      "text/plain": [
       "<Figure size 432x288 with 1 Axes>"
      ]
     },
     "metadata": {
      "needs_background": "light"
     },
     "output_type": "display_data"
    },
    {
     "name": "stdout",
     "output_type": "stream",
     "text": [
      "1\n"
     ]
    }
   ],
   "source": [
    "drawImage(images_data[150])\n",
    "print(labels[150])"
   ]
  },
  {
   "cell_type": "code",
   "execution_count": 16,
   "metadata": {},
   "outputs": [],
   "source": [
    "#shuffle\n",
    "import random\n",
    "combined = list(zip(images_data,labels))\n",
    "random.shuffle(combined)\n",
    "#unzip\n",
    "images_data[:],labels[:] = zip(*combined)"
   ]
  },
  {
   "cell_type": "code",
   "execution_count": 17,
   "metadata": {},
   "outputs": [
    {
     "data": {
      "image/png": "[encoded data removed]",
      "text/plain": [
       "<Figure size 432x288 with 1 Axes>"
      ]
     },
     "metadata": {
      "needs_background": "light"
     },
     "output_type": "display_data"
    },
    {
     "name": "stdout",
     "output_type": "stream",
     "text": [
      "2\n"
     ]
    },
    {
     "data": {
      "image/png": "[encoded data removed]",
      "text/plain": [
       "<Figure size 432x288 with 1 Axes>"
      ]
     },
     "metadata": {
      "needs_background": "light"
     },
     "output_type": "display_data"
    },
    {
     "name": "stdout",
     "output_type": "stream",
     "text": [
      "0\n"
     ]
    },
    {
     "data": {
      "image/png": "[encoded data removed]",
      "text/plain": [
       "<Figure size 432x288 with 1 Axes>"
      ]
     },
     "metadata": {
      "needs_background": "light"
     },
     "output_type": "display_data"
    },
    {
     "name": "stdout",
     "output_type": "stream",
     "text": [
      "1\n"
     ]
    },
    {
     "data": {
      "image/png": "[encoded data removed]",
      "text/plain": [
       "<Figure size 432x288 with 1 Axes>"
      ]
     },
     "metadata": {
      "needs_background": "light"
     },
     "output_type": "display_data"
    },
    {
     "name": "stdout",
     "output_type": "stream",
     "text": [
      "0\n"
     ]
    },
    {
     "data": {
      "image/png": "[encoded data removed]",
      "text/plain": [
       "<Figure size 432x288 with 1 Axes>"
      ]
     },
     "metadata": {
      "needs_background": "light"
     },
     "output_type": "display_data"
    },
    {
     "name": "stdout",
     "output_type": "stream",
     "text": [
      "2\n"
     ]
    },
    {
     "data": {
      "image/png": "[encoded data removed]",
      "text/plain": [
       "<Figure size 432x288 with 1 Axes>"
      ]
     },
     "metadata": {
      "needs_background": "light"
     },
     "output_type": "display_data"
    },
    {
     "name": "stdout",
     "output_type": "stream",
     "text": [
      "1\n"
     ]
    },
    {
     "data": {
      "image/png": "[encoded data removed]",
      "text/plain": [
       "<Figure size 432x288 with 1 Axes>"
      ]
     },
     "metadata": {
      "needs_background": "light"
     },
     "output_type": "display_data"
    },
    {
     "name": "stdout",
     "output_type": "stream",
     "text": [
      "1\n"
     ]
    },
    {
     "data": {
      "image/png": "[encoded data removed]",
      "text/plain": [
       "<Figure size 432x288 with 1 Axes>"
      ]
     },
     "metadata": {
      "needs_background": "light"
     },
     "output_type": "display_data"
    },
    {
     "name": "stdout",
     "output_type": "stream",
     "text": [
      "1\n"
     ]
    },
    {
     "data": {
      "image/png": "[encoded data removed]",
      "text/plain": [
       "<Figure size 432x288 with 1 Axes>"
      ]
     },
     "metadata": {
      "needs_background": "light"
     },
     "output_type": "display_data"
    },
    {
     "name": "stdout",
     "output_type": "stream",
     "text": [
      "0\n"
     ]
    },
    {
     "data": {
      "image/png": "[encoded data removed]",
      "text/plain": [
       "<Figure size 432x288 with 1 Axes>"
      ]
     },
     "metadata": {
      "needs_background": "light"
     },
     "output_type": "display_data"
    },
    {
     "name": "stdout",
     "output_type": "stream",
     "text": [
      "1\n"
     ]
    }
   ],
   "source": [
    " for i in range(10):\n",
    "        drawImage(images_data[i])\n",
    "        print(labels[i])"
   ]
  },
  {
   "cell_type": "code",
   "execution_count": 18,
   "metadata": {},
   "outputs": [],
   "source": [
    "# svm classifier\n",
    "class SVM:\n",
    "   \n",
    "    def __init__(self,C=1.0):\n",
    "        self.C = C\n",
    "        self.W = 0\n",
    "        self.b = 0\n",
    "        \n",
    "    def hingeLoss(self,W,b,X,Y):\n",
    "        loss  = 0.0\n",
    "        \n",
    "        loss += .5*np.dot(W,W.T)\n",
    "        \n",
    "        m = X.shape[0]\n",
    "        #print(m)\n",
    "        for i in range(m):\n",
    "            ti = Y[i]*(np.dot(W,X[i].T)+b)\n",
    "            #print(Y[i])\n",
    "            #print(W)\n",
    "            #print(X[i].T)\n",
    "            #print(ti)\n",
    "            loss += self.C *max(0,(1-ti[0]))\n",
    "            #print(loss)\n",
    "            \n",
    "        return loss[0][0]\n",
    "    \n",
    "    def fit(self,X,Y,batch_size=100,learning_rate=0.00001,maxItr=1000):\n",
    "        \n",
    "        no_of_features = X.shape[1]\n",
    "        no_of_samples = X.shape[0]\n",
    "        \n",
    "        n = learning_rate\n",
    "        c = self.C\n",
    "        \n",
    "        #Init the model parameters\n",
    "        W = np.zeros((1,no_of_features))\n",
    "        bias = 0\n",
    "        \n",
    "        #Initial Loss\n",
    "        \n",
    "        #Training from here...\n",
    "        # Weight and Bias update rule that we discussed!\n",
    "        losses = []\n",
    "        \n",
    "        for i in range(maxItr):\n",
    "            #Training Loop\n",
    "            \n",
    "            l = self.hingeLoss(W,bias,X,Y)\n",
    "            losses.append(l)\n",
    "            ids = np.arange(no_of_samples)\n",
    "            np.random.shuffle(ids)\n",
    "            \n",
    "            #Batch Gradient Descent(Paper) with random shuffling\n",
    "            for batch_start in range(0,no_of_samples,batch_size):\n",
    "                #Assume 0 gradient for the batch\n",
    "                gradw = 0\n",
    "                gradb = 0\n",
    "                \n",
    "                #Iterate over all examples in the mini batch\n",
    "                for j in range(batch_start,batch_start+batch_size):\n",
    "                    if j<no_of_samples:\n",
    "                        i = ids[j]\n",
    "                        ti =  Y[i]*(np.dot(W,X[i].T)+bias)\n",
    "                        \n",
    "                        if ti>1:\n",
    "                            gradw += 0\n",
    "                            gradb += 0\n",
    "                        else:\n",
    "                            gradw += c*Y[i]*X[i]\n",
    "                            gradb += c*Y[i]\n",
    "                            \n",
    "                #Gradient for the batch is ready! Update W,B\n",
    "                W = W - n*W + n*gradw\n",
    "                bias = bias + n*gradb\n",
    "                \n",
    "        \n",
    "        self.W = W\n",
    "        self.b = bias\n",
    "        return W,bias,losses "
   ]
  },
  {
   "cell_type": "code",
   "execution_count": 19,
   "metadata": {},
   "outputs": [],
   "source": [
    "## we need to convert data to one vs one classification\n"
   ]
  },
  {
   "cell_type": "code",
   "execution_count": 20,
   "metadata": {},
   "outputs": [
    {
     "name": "stdout",
     "output_type": "stream",
     "text": [
      "(304, 3072)\n",
      "(304,)\n"
     ]
    }
   ],
   "source": [
    "samples = images_data.shape[0]\n",
    "images_data = images_data.reshape(samples,-1)\n",
    "print(images_data.shape)\n",
    "print(labels.shape)"
   ]
  },
  {
   "cell_type": "code",
   "execution_count": 21,
   "metadata": {},
   "outputs": [
    {
     "name": "stdout",
     "output_type": "stream",
     "text": [
      "3\n"
     ]
    }
   ],
   "source": [
    "classes = len(np.unique(labels))\n",
    "print(classes)"
   ]
  },
  {
   "cell_type": "code",
   "execution_count": 22,
   "metadata": {},
   "outputs": [],
   "source": [
    "def classWiseData(x,y):\n",
    "    data = {}\n",
    "    \n",
    "    for i in range(classes):\n",
    "        data[i] = []\n",
    "    for i in range(x.shape[0]):\n",
    "        data[y[i]].append(x[i])\n",
    "    for k in data.keys():\n",
    "        data[k] = np.array(data[k])\n",
    "    return data    \n",
    "            "
   ]
  },
  {
   "cell_type": "code",
   "execution_count": 23,
   "metadata": {},
   "outputs": [],
   "source": [
    "data = classWiseData(images_data,labels)"
   ]
  },
  {
   "cell_type": "code",
   "execution_count": 24,
   "metadata": {},
   "outputs": [
    {
     "name": "stdout",
     "output_type": "stream",
     "text": [
      "101\n",
      "101\n",
      "102\n"
     ]
    }
   ],
   "source": [
    "print(data[0].shape[0])\n",
    "print(data[1].shape[0])\n",
    "print(data[2].shape[0])"
   ]
  },
  {
   "cell_type": "code",
   "execution_count": 25,
   "metadata": {},
   "outputs": [],
   "source": [
    "def getDataPairForSVM(d1,d2):\n",
    "    l1,l2 = d1.shape[0],d2.shape[0]\n",
    "    samples  =l1+l2\n",
    "    features = d1.shape[1]\n",
    "    data_pair = np.zeros((samples,features))\n",
    "    data_labels = np.zeros((samples,))\n",
    "    data_pair[:l1,:] =d1\n",
    "    data_pair[l1:,:] =d2\n",
    "    data_labels[:l1] = -1\n",
    "    data_labels[l1:] = +1\n",
    "    return data_pair,data_labels"
   ]
  },
  {
   "cell_type": "code",
   "execution_count": 26,
   "metadata": {},
   "outputs": [
    {
     "name": "stdout",
     "output_type": "stream",
     "text": [
      "[202.0, 198.7011992914332, 195.40253997300397, 192.10400534299828, 188.80560131658225, 186.8923356734638, 185.7016119380518, 187.1311551285221, 183.8329612199404, 185.19434784675468, 181.1864395056057, 181.31997994584168, 179.58251424029487, 179.12401104301173, 176.76551464445953, 175.7369330634102, 175.88159070477468, 173.5156146534418, 172.64581742583928, 172.4292059839842, 170.29653428252024, 171.1010859276429, 168.17374902399214, 168.1644750814771, 167.91390616324935, 165.03745873828922, 164.06054533144479, 163.83356020325618, 162.1324301205996, 160.86640395475737, 159.90197012560964, 159.1615205773283, 158.1896031340475, 156.86714788167632, 155.98525357875457, 155.14174375206198, 155.00290906892224, 153.69293989580487, 152.73538629206325, 153.37142880224897, 151.17435684742023, 150.5959713482867, 150.13343465708127, 149.73298895541492, 149.45540693008775, 148.2689898097901, 148.21762600304285, 147.19636892120695, 146.8094956143823, 147.06058437117284, 146.01275969329703, 145.2590854443432, 145.32105938681914, 144.32747610676594, 144.36636606695146, 143.40233250714462, 143.0425560424063, 142.7998286359058, 143.14868098196453, 142.1883736024471, 141.33382897712184, 141.7859438000811, 140.56012936852838, 141.01160820137622, 140.93125076181698, 139.6098061926082, 140.50468307501382, 139.26062102807765, 138.98487753887994, 138.017615604917, 137.87942405937858, 137.44781458875465, 137.0625445425559, 137.23397413245777, 137.07845290374837, 136.2627547081347, 135.80460151163575, 136.26924381689733, 135.93147020213584, 135.4397704563194, 135.13778636943968, 134.37844688747387, 133.93499727276972, 134.0222606346097, 133.25200614925717, 133.3912970122554, 132.7170933138183, 132.863310950343, 132.2332508261884, 132.24890951356423, 131.5856385200691, 131.51180132457392, 131.49480136327895, 130.80284159274274, 130.4642676596352, 130.65595360793182, 129.95831278944945, 129.98272504603284, 129.9106951005656, 129.73025917574083, 128.96677174628982, 129.09246595747726, 128.90513615761247, 128.34035713830698, 128.88446463145038, 127.80103753272849, 127.41694030538441, 127.07731562392726, 127.14489703748745, 127.56440245937164, 126.31775083332751, 126.90118603912502, 126.3367522294969, 127.02885234492685, 126.51321070775849, 125.68668049132033, 125.07474084320663, 124.80799975527216, 124.68627641770915, 124.65652401792144, 124.36497602863066, 123.69066408988091, 123.64793697990996, 123.59396828643459, 124.7779618768523, 124.8195824493878, 122.97498884712954, 122.36594845429552, 122.22397186823473, 122.43799118506516, 122.24085732232402, 121.79148726811344, 123.03390548603012, 120.9786961123089, 121.39943278846994, 120.44379275244277, 121.0799982729947, 120.09747310902634, 119.70746194265344, 120.62530191737163, 119.26095853968725, 119.30144635265036, 121.07601008919045, 118.60999470649412, 118.4999679059643, 118.90906924080707, 117.93090431013587, 118.74330457832654, 118.09724589139067, 118.16828654795266, 117.1248842952118, 119.324453391525, 118.43527458985969, 120.62440890748755, 117.58536168768613, 116.14770357607074, 115.88339485681131, 115.63739492054866, 115.3870650049962, 116.73199793008102, 114.94477374327964, 115.35631560023303, 115.05772462258864, 116.93067514673567, 114.9112026695502, 113.96939556412659, 115.33507313265225, 117.38265172915469, 113.87651062614874, 113.66589650554369, 113.03697115667676, 114.4379541237175, 112.6356804773973, 113.29649392143538, 113.92896948078373, 112.31612499486275, 112.08243105181793, 112.99309873749593, 111.62827449153629, 114.25786653984825, 112.36274901100268, 112.88491162373502, 113.14125923123275, 110.65397204164634, 112.23596353702654, 114.61837613916542, 111.75267172809667, 112.6541268258648, 111.34390653175504, 112.50654930653252, 110.79075051416287, 112.05552416746724, 110.22926627871244, 110.37167532859623, 112.7138102224811, 110.38952070017085, 109.4709723902736, 110.51677019738975, 110.50623493923408, 113.12410593024963, 110.11704323363533, 110.87813794751483, 108.79942571922001, 111.6943403420864, 108.75657197197279, 108.70371690866202, 108.77686528441083, 108.01052184596459, 107.47081886291468, 109.86103805628046, 108.65175267337781, 107.2949825195334, 108.18726849643903, 110.461227248018, 106.82347639432574, 110.26300394194769, 107.07172311458555, 107.04032300357532, 106.59940798709387, 109.61070050212057, 107.15247740083124, 106.12257958910077, 106.2042635522883, 108.10374470752787, 105.7688444301185, 105.88272220862572, 106.25231425176673, 111.43820745200297, 105.59285594011716, 111.68540474526036, 105.25528053519399, 105.03498093672502, 104.90655549853085, 112.75141484158046, 105.15565902698802, 105.45851628212229, 105.31670421991326, 105.86173290572579, 104.41718000624603, 104.90269843611627, 104.1754851504996, 104.07708217927842, 104.47276120159376, 106.23604186424208, 107.34532239786898, 103.97561040070374, 103.53282204929279, 104.53638970767891, 107.43668993251761, 103.29519743824717, 110.48284455941605, 103.57658818636772, 104.2388751613546, 108.32683180605473, 102.91272473342549, 102.84625055076957, 102.75402540309172, 104.39692849758909, 102.7279480188886, 102.58230443882812, 102.29569392142251, 105.12226611333607, 106.72593286682508, 102.00772796732176, 102.13567070580419, 102.66523789510926, 102.90706786369202, 102.64561500825701, 103.83429492051052, 101.81733690705198, 101.38485690292072, 101.29446211129958, 111.29736979053389, 101.31529224146963, 101.918572486466, 102.03922125721223, 104.78664903733142, 101.5455938101337, 109.11018212928137, 101.38666253223666, 100.61254622016045, 100.46618860010658, 100.34385686090592, 103.10637516362122, 100.21322848842077, 101.68728316697162, 100.96207708506077, 100.3062465419277, 100.12017949098188, 100.71347464689293, 99.65800549920978, 103.42684331775571, 99.5516022729482, 99.66201828257654, 99.97016135723051, 102.33955030968588, 99.68452699009455, 100.04396484344142, 101.28306920252899, 99.01148859705593, 98.90716737213735, 99.16906391936222, 99.91539126764762, 100.86495761318501, 99.05894444552587, 98.7038787157819, 98.56831703351625, 98.30395494885721, 98.46246294801959, 105.09339673759305, 100.68287829638773, 98.35757970887188, 98.15365525082838, 101.74306271895759, 97.90620223758481, 99.64605828467545, 100.12677505373914, 97.98601139512766, 97.8113628360166, 97.5047428081065, 97.78169735478943, 99.14182177559644, 98.64883011608045, 97.42129527133683, 98.6680575788517, 98.05078028630365, 99.04298961419954, 104.04658316672925, 97.03700590498983, 107.33612757562966, 99.83180669094163, 97.39598456287226, 98.49282061124087, 97.28622293362018, 100.04442694953563, 96.55514967167356, 96.89021039476931, 99.13154459318493, 97.5686183761023, 97.56221697617084, 96.69324636626014, 97.28701271082565, 95.92411844174701, 95.88642585349976, 98.09478422007841, 95.70388695260066, 95.71333078931696, 95.9409895841166, 95.45669918669914, 95.45456076487321, 95.58471604322965, 96.14384724408866, 95.12310005578111, 97.73261666700121, 95.17875381798974, 96.09892246565525, 94.86467750131206, 94.86816263632254, 94.68533399808497, 95.18976689164796, 100.52924527784897, 95.35170603498952, 94.65395958018206, 96.48767727229844, 94.7529824403089, 94.81986321192232, 94.59091652788285, 94.63876495519912, 95.87221599404705, 94.23552049800695, 94.22827443290073, 98.97338418654576, 93.79994116636112, 99.65916797419055, 99.21622519112374, 94.27456318307839, 96.98163843236689, 93.80362621374618, 93.52479593743124, 93.57286708823074, 94.99696325375871, 93.45109977137014, 94.53402780992063, 93.17741264082403, 93.3027529935611, 93.9479392874851, 92.95495968208363, 95.36876039598664, 92.97281094771341, 92.82144673836612, 92.89500758442772, 93.3298638815135, 93.71443631305533, 92.51978790532429, 94.16196905842112, 94.76028039235659, 93.2676340375163, 93.04934760838323, 92.24875261789572, 95.3328122252848, 92.23989664281167, 92.11288997786056, 92.0112300791576, 91.90120041318548, 97.63125434440077, 92.55714283205356, 91.94632916219014, 91.91191930471771, 93.81925039014145, 94.55030447300172, 92.56898592513132, 93.52790042885746, 91.56741122818681, 94.86624554197866, 92.22240660420798, 92.4397002744421, 92.00644113390244, 93.2237794659972, 93.0631877970584, 93.56219317577565, 91.55626487886249, 91.15920473081056, 91.01156081482624, 92.21552347576544, 90.84655810803616, 90.74893699704802, 90.81720963737197, 91.20029906577454, 90.66764273705213, 91.27055551726643, 90.76429862436557, 90.48310548774603, 90.33836244187937, 90.99866644961898, 90.15134412384216, 90.30063016889348, 90.76869278646662, 93.77676745628484, 92.45454390876728, 95.16659657812804, 94.79089425359356, 90.6094992841529, 91.35912867420726, 90.88421254450172, 92.60801977085671, 95.24269719229048, 90.4032140779743, 89.56139956244478, 97.62094500129542, 91.02127684528973, 91.28663365974347, 89.74759904542103, 89.27856477453643, 89.21102501017637, 89.4353934923093, 89.28938199029024, 89.45875057757553, 93.64823283323182, 89.00584290618797, 89.24963627612946, 89.93248587670413, 90.4979840094678, 89.77713852901444, 91.89873840552566, 89.34569256943048, 90.68158506767384, 89.63596173312638, 93.15848190752219, 90.69614146344476, 91.12095541153502, 97.35470684380354, 89.09001980062366, 88.44550223270028, 88.73331411933489, 88.46643443622732, 89.01211197402064, 88.42365550882803, 88.17178328176698, 88.1966008983188, 92.99640692079292, 88.53815962692106, 90.3113685136783, 87.84410475772415, 91.89530497735153, 88.30751241078869, 87.66218456360198, 89.30344291656198, 92.50096610527673, 87.5570576847719, 88.37917438473515, 91.6861542150958, 88.53514802066687, 87.34708526610017, 87.6849360118186, 87.95602318628762, 90.66563755838229, 87.43312482322975, 86.96321485981511, 89.85159002497606, 89.26456621046785, 90.1743448817342, 92.47598652265876, 88.21924628860542, 87.29194104089851, 88.61593647340757, 87.82282504621773, 92.53658654280915, 86.92974841525438, 87.53219168223451, 99.13924992446307, 86.49997807827869, 88.70653663319341, 87.07428394251666, 86.51519036009547, 96.84338782878729, 86.38970355975171, 87.53792426000528, 88.89553466319894, 88.67148037030422, 86.82353731024128, 86.30200838733106, 86.07892673517416, 86.87963915444148, 88.59195215439863, 87.76978214568594, 86.43679371100562, 88.16614777911228, 86.7084237032723, 85.80687892484531, 87.36337637627554, 86.53203639290822, 87.88553827514663, 90.96678016170364, 85.85367675111404, 86.84382237557699, 87.62260848317578, 93.39865866830276, 85.69133503829279, 85.43201363495983, 85.55847423623861, 85.51971434421084, 86.16299820737979, 92.41668137108812, 85.38628924378034, 85.24484141599599, 85.09073716128732, 85.66547254709168, 87.40876422636998, 86.94674314121593, 91.64727909185548, 84.95910762239711, 84.98636752049282, 87.42311210609027, 85.20508169100286, 88.15548702968306, 88.62996452364013, 85.34794850520348, 85.10041861441528, 84.88418608425421, 85.42821693021953, 84.58297010544645, 84.5263570527633, 84.52947079631764, 84.37675667011584, 84.47170105130206, 84.9256912870537, 90.4326873090546, 84.24990535705759, 87.29191477107572, 85.65427421349911, 84.3532671509314, 85.0596198216866, 85.11644244751967, 85.27149830417213, 85.74116323738143, 83.94253771215587, 83.86874250913449, 83.968137108277, 84.62945673491848, 85.01384658453425, 85.28302757390064, 91.10515102189484, 84.12599448866487, 87.31336178745478, 84.26613615615048, 83.70151072119945, 83.73435666592262, 90.34327179690767, 83.47173813021908, 83.40772516414147, 84.45241291926139, 84.09525125984709, 83.89641753194945, 83.89337419760024, 83.21634679139335, 89.35229103698332, 83.30950624040167, 85.90664177183268, 83.43022933592559, 84.04379279100603, 85.16166460225031, 84.15021802194396, 83.27086255057237, 85.13003301150788, 86.90569566123165, 84.86227402458802, 88.83713877949849, 83.0023362380718, 86.79854000482365, 85.12223931874702, 86.8927789801823, 82.96465022707835, 83.81677204104152, 82.77671733647786, 84.59963240371702, 83.2217044679468, 82.78771980940644, 83.1719700512249, 83.94483926161007, 82.59609046661674, 84.55924594265345, 84.56760231761783, 83.58308280691563, 84.60477476890559, 82.54689574271409, 82.73135921698238, 82.59279423381363, 82.29761161833665, 83.30340274093224, 83.4140796579602, 83.2153980408228, 83.23562209170309, 88.48512452143999, 83.78797378824449, 82.20049124960082, 84.94571471885436, 82.5082972721023, 82.25967276586394, 82.24414559522675, 81.95444975900718, 81.91375130853443, 82.87180842357573, 82.72563771198159, 89.46333538614509, 82.08752935055429, 81.8455270172129, 82.79709388289342, 84.6815430761072, 87.03941861952363, 82.12010086938955, 81.81402039476157, 82.68285090717369, 81.9113122826082, 82.83824014102213, 82.73621020417855, 86.4799635594934, 81.60945553998084, 82.9167656501387, 86.40747417364119, 81.53341080523955, 81.69887703355502, 81.57538309590753, 81.48602253297234, 84.71589122250126, 82.22561710669322, 81.32258995281855, 81.98625073903841, 81.83566756612083, 82.98452667561867, 85.84252216480914, 84.39112126921475, 81.39437970348119, 83.4407809775224, 81.2744102757083, 85.10654635805885, 81.90480043208699, 81.13799141699461, 81.68227254948661, 81.72640168920762, 82.16278341454446, 90.23063188453065, 83.17574000791274, 81.43524632309402, 82.72883381370686, 80.8366576706673, 81.99440217806797, 81.23530184613504, 81.9599607980468, 81.2543047572778, 85.18732168670059, 81.77431941072143, 85.67643049230229, 81.7108200733209, 80.92524431663608, 81.15550058199192, 81.34263745763006, 81.46327731625782, 80.75595915222158, 82.66299749546864, 81.43112644860426, 81.68709075983641, 80.29075550922761, 80.92213526996466, 80.78939370113044, 81.1082989112895, 80.36013297878273, 82.1249905207505, 82.37774755176807, 85.05481292236955, 81.0295181036176, 80.66045704965715, 80.45358237037301, 80.1046956089156, 80.02075806277726, 82.23043933660288, 80.20627964071981, 80.64235816395856, 83.52421773955844, 80.45900472651006, 82.95333935387478, 81.41683481326402, 79.94489963672861, 83.21078952218056, 80.60954812902764, 81.43900300830148, 79.81035882267966, 80.45979567600854, 79.73002595119549, 80.51753284546822, 79.64641729166368, 79.94906297145795, 83.66063276746283, 82.43455872711115, 79.59202042344043, 80.73773077021498, 80.28627311721928, 79.757183429015, 84.74887361781063, 80.1912974305513, 80.10662122779249, 80.00022706348702, 80.7634539128476, 79.88513994331618, 79.34508725447571, 79.40669946073275, 79.36661847260528, 82.32620499216107, 80.39660839291675, 85.04259773482528, 79.43977974303908, 80.27736192947926, 79.54003943489091, 79.62465383877024, 91.55010749021795, 79.11696919296062, 81.79916723444722, 80.0876056335129, 79.02072991904998, 80.67200047859504, 79.67049588162219, 79.75782159902934, 80.48592872145574, 79.91435563238262, 80.53063849117726, 80.97048728794839, 79.1913850640648, 79.29153833542215, 79.30206874086059, 80.11222827765602, 80.07612036387758, 79.40012276162916, 79.10035391472496, 79.05968764426508, 79.79261283393733, 79.75564025018518, 78.88813958558315, 79.15287675722236, 80.20349335837798, 78.62182373844202, 79.99409446536329, 80.05308084682156, 78.52744734316586, 79.14407184766733, 79.110811063605, 78.59130200832402, 78.90409623832522, 78.44021671993443, 78.87729953555542, 78.30120871988754, 80.51003900963701, 78.4271331614131, 79.40266019299304, 85.47714524140667, 89.1204038884342, 78.32022106584363, 79.87721849511193, 79.78601752640193, 78.3467971509942, 78.21610063850981, 78.6191641926412, 78.96854095474113, 88.29556751137777, 78.24741890957432, 80.86519675631749, 80.27689148174765, 79.2018293656405, 79.24839448996667, 78.73745090031609, 78.09957930094316, 87.1946811045553, 83.29169218102999, 80.00791981794305, 78.90560372323137, 83.66837527733567, 78.27139132499934, 78.94506299223478, 80.2259831595853, 84.66658743628803, 79.18795964535053, 79.8068716594372, 78.1097585251005, 79.7858700570312, 78.36183748205883, 78.15502872273657, 79.35064890096348, 79.7526523019334, 78.94743954294823, 84.7980131390191, 78.33547689152935, 77.91103050285058, 80.51989916615003, 78.82312724530092, 80.65659113604758, 78.00100389410403, 79.77301802026244, 78.4798362054708, 78.61215811441322, 77.63023662425387, 78.99530699668533, 77.99479780577424, 79.24261637908417, 78.3177308612888, 78.01558137674078, 78.03353879286368, 77.64961633226957, 77.78455241995935, 84.01481601686928, 79.2565565305758, 78.55322910615497, 77.45127122930002, 82.74943385775124, 77.5832176457685, 77.56630123089009, 77.57071097500297, 78.24624471825325, 83.57629261940347, 77.6607333655265, 77.73463676517954, 77.4352647167994, 79.0161502239989, 77.35332955601791, 79.4727278271731, 80.9413243253449, 77.39177908262377, 77.37309546806976, 78.58276788924451, 79.5652718444261, 77.53250398886628, 80.64841775145183, 80.59755689446021, 86.83816951735133, 78.6087024417533, 77.7299554369673, 78.1682844716029, 78.61981077108821, 77.38407349169063, 78.64595633100319, 77.67134113069257, 77.9570710356726, 78.57437074112276, 78.82176040132185, 78.89282108227782, 77.31464402069582, 77.11417122393874, 83.11077168480023, 77.8797509744371, 77.21858950405982, 78.59162345579118, 77.89951083657384, 77.54290150482946, 77.65210807798837, 77.14991014033107, 77.13141792322202, 77.4375597514677, 81.99169067626313, 77.0624369410646, 77.08841786316879, 77.54572450291654, 77.50984657655971, 78.03359899101203, 77.7901837474717, 77.0354586075248, 76.91111619153602, 78.02811587973355, 78.93367834064355, 77.78721779460042, 78.29005435142155, 79.51984710521698, 80.2695444788056, 77.65598516974357, 78.79936343017232, 80.8571709862838, 79.39592809036662, 77.52197820679156, 76.88263808116731, 77.61627348423447, 77.69967679407306, 79.31900645169604, 78.48450452686912, 79.77291354341997, 77.56010382245067, 77.68502917017231, 76.84070251860409, 76.83677856323473, 77.66877764975696, 78.92473188733014, 78.69698371942938, 76.97235764324971, 77.06843230776039, 81.54340742819564, 76.9008274169613, 77.72246452491466, 78.2792133782547, 78.94442466258376, 77.3649839710914, 77.38225050063659, 76.70430739925476, 77.07526323081198, 76.61530015846947, 77.72769344401026, 78.63761670931252, 78.76857000215423, 76.78672074994985, 76.57273160259746, 77.75794974459284, 76.74139925432516, 76.5410203224727, 81.51768381013332, 77.12236552008002, 77.11353549215613, 77.38032784801501, 76.90473080469353, 76.50375679102952, 77.6149842439143, 76.48523344219976, 78.11451833536533, 76.41249518145665, 80.69853192350118, 77.1621516021371, 76.418863280927, 77.48654761604152, 83.21836545607133, 77.86481916230007, 77.1131553071162, 76.33661022045791, 76.30830285147952, 77.66451439349191, 76.75373694271968, 76.9362313662927, 76.60653195888914, 76.27127901858562, 76.68518719622449, 76.28593763202264, 76.22036717156793, 78.93844137811128, 83.83927589780251, 77.44742145876154, 79.22005132386138, 76.78271317471768, 79.05735596741116, 76.2807959520585, 76.22343064618734, 76.18800503327232, 76.09826372232935, 77.77626054785003, 77.07632897110828, 77.48449936376736, 77.27739747548583, 76.19988893596148, 76.20733965254452, 77.897345684211, 84.97288506686321, 76.13991050229397, 76.51484516629284, 77.83017485721055, 76.39033681547184, 76.33495496547431, 76.40443875383339, 76.15995881359774, 78.54927033689484]\n"
     ]
    },
    {
     "data": {
      "text/plain": [
       "[<matplotlib.lines.Line2D at 0x2b6dfcd75c8>]"
      ]
     },
     "execution_count": 26,
     "metadata": {},
     "output_type": "execute_result"
    },
    {
     "data": {
      "image/png": "[encoded data removed]",
      "text/plain": [
       "<Figure size 432x288 with 1 Axes>"
      ]
     },
     "metadata": {
      "needs_background": "light"
     },
     "output_type": "display_data"
    }
   ],
   "source": [
    "##training\n",
    "mySVM = SVM()\n",
    "xp,yp = getDataPairForSVM(data[0],data[1])\n",
    "w,b,loss = mySVM.fit(xp,yp)\n",
    "print(loss)\n",
    "plt.plot(loss)\n"
   ]
  },
  {
   "cell_type": "code",
   "execution_count": 27,
   "metadata": {},
   "outputs": [],
   "source": [
    "def trainSVM(x,y):\n",
    "    svm_classifiers = {}\n",
    "    for i in range(classes):\n",
    "        svm_classifiers[i] = {}\n",
    "        for j in range(i+1,classes):\n",
    "            xpair,ypair = getDataPairForSVM(data[i],data[j])\n",
    "            wts,b,loss=  mySVM.fit(xpair,ypair,learning_rate=0.00001,maxItr=1000)\n",
    "           \n",
    "            svm_classifiers[i][j] = (wts,b)\n",
    "            plt.plot(loss)\n",
    "            plt.show()\n",
    "    return svm_classifiers        "
   ]
  },
  {
   "cell_type": "code",
   "execution_count": 28,
   "metadata": {
    "scrolled": true
   },
   "outputs": [
    {
     "data": {
      "image/png": "[encoded data removed]",
      "text/plain": [
       "<Figure size 432x288 with 1 Axes>"
      ]
     },
     "metadata": {
      "needs_background": "light"
     },
     "output_type": "display_data"
    },
    {
     "data": {
      "image/png": "[encoded data removed]",
      "text/plain": [
       "<Figure size 432x288 with 1 Axes>"
      ]
     },
     "metadata": {
      "needs_background": "light"
     },
     "output_type": "display_data"
    },
    {
     "data": {
      "image/png": "[encoded data removed]",
      "text/plain": [
       "<Figure size 432x288 with 1 Axes>"
      ]
     },
     "metadata": {
      "needs_background": "light"
     },
     "output_type": "display_data"
    }
   ],
   "source": [
    "svm_classifiers = trainSVM(images_data,labels)\n",
    "#hiccups in loss due to stochastic gradient descent"
   ]
  },
  {
   "cell_type": "code",
   "execution_count": 29,
   "metadata": {},
   "outputs": [
    {
     "name": "stdout",
     "output_type": "stream",
     "text": [
      "[[-0.00582031 -0.00091933 -0.00546461 ... -0.00797974 -0.01053447\n",
      "  -0.00871669]]\n",
      "0.02347999999999995\n",
      "[[-0.00681622 -0.00302514  0.00062492 ... -0.01331458 -0.00978991\n",
      "  -0.00238576]]\n",
      "0.0021700000000000118\n"
     ]
    }
   ],
   "source": [
    "pikachu_bulbasaur = svm_classifiers[0][1] #for pikachu and bulbasaur\n",
    "pikachu_charmander = svm_classifiers[0][2]\n",
    "\n",
    "print(pikachu_bulbasaur[0]) #weights\n",
    "print(pikachu_bulbasaur[1]) #bias\n",
    "print(pikachu_charmander[0])\n",
    "print(pikachu_charmander[1])"
   ]
  },
  {
   "cell_type": "code",
   "execution_count": 30,
   "metadata": {},
   "outputs": [],
   "source": [
    "def binaryPredict(x,w,b):\n",
    "    z = np.dot(x,w.T) +b \n",
    "    if z>=0:\n",
    "        return 1\n",
    "    else:\n",
    "        return -1"
   ]
  },
  {
   "cell_type": "code",
   "execution_count": 31,
   "metadata": {},
   "outputs": [],
   "source": [
    "def predict(x):\n",
    "    count = np.zeros((classes,))\n",
    "    for i in range(classes):\n",
    "        for j in range(i+1,classes):\n",
    "            w,b = svm_classifiers[i][j]\n",
    "            #take majority vote\n",
    "            z  = binaryPredict(x,w,b)\n",
    "            if z==1:\n",
    "                count[j] += 1\n",
    "            else:\n",
    "                count[i] += 1\n",
    "    final_pred = np.argmax(count)            \n",
    "    \n",
    "    return final_pred"
   ]
  },
  {
   "cell_type": "code",
   "execution_count": 32,
   "metadata": {},
   "outputs": [
    {
     "name": "stdout",
     "output_type": "stream",
     "text": [
      "2\n",
      "2\n"
     ]
    }
   ],
   "source": [
    "pred = predict(images_data[0])\n",
    "print(pred)\n",
    "\n",
    "print(labels[0])"
   ]
  },
  {
   "cell_type": "code",
   "execution_count": 33,
   "metadata": {},
   "outputs": [],
   "source": [
    "def accuracy(x,y):\n",
    "    count =0\n",
    "    for i in range(x.shape[0]):\n",
    "        prediction = predict(x[i])\n",
    "        if (prediction == y[i]):\n",
    "            count += 1\n",
    "            \n",
    "    return count/x.shape[0]        "
   ]
  },
  {
   "cell_type": "code",
   "execution_count": 34,
   "metadata": {},
   "outputs": [
    {
     "data": {
      "text/plain": [
       "0.694078947368421"
      ]
     },
     "execution_count": 34,
     "metadata": {},
     "output_type": "execute_result"
    }
   ],
   "source": [
    "accuracy(images_data,labels)"
   ]
  },
  {
   "cell_type": "code",
   "execution_count": 48,
   "metadata": {},
   "outputs": [],
   "source": [
    "p = Path(\"Images\")\n",
    "dirs = p.glob(\"*\")#* means all things it accepts regex\n",
    "testimage_data =[]\n",
    "test_labels = []\n",
    "\n",
    "\n",
    "for img_path in p.glob(\"*.jpg\"):\n",
    "    \n",
    "    img_path=str(img_path).replace(\"\\\\\",\"//\")\n",
    "    image = cv2.imread(img_path)\n",
    "    image = cv2.cvtColor(image,cv2.COLOR_BGR2RGB)\n",
    "    image  = cv2.resize(image,(32,32))\n",
    "    testimage_data.append(image)\n",
    "    test_labels.append(str(img_path).split(\"//\")[-1])\n",
    "    "
   ]
  },
  {
   "cell_type": "code",
   "execution_count": 49,
   "metadata": {},
   "outputs": [],
   "source": [
    "testimage_data = np.array(testimage_data,dtype = 'float32')/255.0"
   ]
  },
  {
   "cell_type": "code",
   "execution_count": 50,
   "metadata": {},
   "outputs": [
    {
     "name": "stdout",
     "output_type": "stream",
     "text": [
      "(427, 3072)\n"
     ]
    }
   ],
   "source": [
    "sam = testimage_data.shape[0]\n",
    "testimage_data = testimage_data.reshape(sam,-1)\n",
    "print(testimage_data.shape)"
   ]
  },
  {
   "cell_type": "code",
   "execution_count": 51,
   "metadata": {},
   "outputs": [],
   "source": [
    "out = predict(testimage_data[1])"
   ]
  },
  {
   "cell_type": "code",
   "execution_count": null,
   "metadata": {},
   "outputs": [
    {
     "data": {
      "text/plain": [
       "1"
      ]
     },
     "execution_count": 52,
     "metadata": {},
     "output_type": "execute_result"
    }
   ],
   "source": [
    "out"
   ]
  },
  {
   "cell_type": "code",
   "execution_count": null,
   "metadata": {},
   "outputs": [],
   "source": [
    "out = []\n",
    "for x in range(testimage_data.shape[0]):\n",
    "    op = predict(testimage_data[x])\n",
    "    out.append(op)"
   ]
  },
  {
   "cell_type": "code",
   "execution_count": null,
   "metadata": {},
   "outputs": [],
   "source": [
    "out"
   ]
  },
  {
   "cell_type": "code",
   "execution_count": null,
   "metadata": {},
   "outputs": [],
   "source": [
    "ou1 = out\n",
    "out[0]"
   ]
  },
  {
   "cell_type": "code",
   "execution_count": null,
   "metadata": {},
   "outputs": [],
   "source": [
    "out3 = []\n",
    "for x in range(len(out)):\n",
    "    if out[x] == 0:\n",
    "        out3.append(\"Pikachu\")\n",
    "    if out[x]  == 1:\n",
    "        out3.append(\"Charmander\")\n",
    "    if out[x] == 2:\n",
    "        out3.append(\"Bulbasaur\")\n",
    "out3       \n",
    "        "
   ]
  },
  {
   "cell_type": "code",
   "execution_count": null,
   "metadata": {},
   "outputs": [],
   "source": [
    "df = pd.DataFrame(list(zip(test_labels, out3)), \n",
    "               columns =['ImageId','NameOfPokemon'])\n"
   ]
  },
  {
   "cell_type": "code",
   "execution_count": null,
   "metadata": {},
   "outputs": [],
   "source": [
    "df"
   ]
  },
  {
   "cell_type": "code",
   "execution_count": null,
   "metadata": {},
   "outputs": [],
   "source": [
    "df.to_csv('prediction.csv',index =False)"
   ]
  },
  {
   "cell_type": "code",
   "execution_count": null,
   "metadata": {},
   "outputs": [],
   "source": []
  }
 ],
 "metadata": {
  "kernelspec": {
   "display_name": "Python 3",
   "language": "python",
   "name": "python3"
  },
  "language_info": {
   "codemirror_mode": {
    "name": "ipython",
    "version": 3
   },
   "file_extension": ".py",
   "mimetype": "text/x-python",
   "name": "python",
   "nbconvert_exporter": "python",
   "pygments_lexer": "ipython3",
   "version": "3.7.6"
  }
 },
 "nbformat": 4,
 "nbformat_minor": 2
}

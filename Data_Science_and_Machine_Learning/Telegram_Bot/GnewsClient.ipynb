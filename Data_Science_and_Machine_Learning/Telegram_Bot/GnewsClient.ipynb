{
 "cells": [
  {
   "cell_type": "code",
   "execution_count": 9,
   "metadata": {},
   "outputs": [
    {
     "name": "stdout",
     "output_type": "stream",
     "text": [
      "Collecting gnewsclient\n",
      "  Using cached gnewsclient-1.12-py3-none-any.whl (7.9 kB)\n",
      "Collecting feedparser\n",
      "  Using cached feedparser-6.0.2-py3-none-any.whl (80 kB)\n",
      "Collecting fuzzywuzzy\n",
      "  Using cached fuzzywuzzy-0.18.0-py2.py3-none-any.whl (18 kB)\n",
      "Requirement already satisfied: requests in c:\\users\\manja\\anaconda3\\lib\\site-packages (from gnewsclient) (2.22.0)\n",
      "Collecting sgmllib3k\n",
      "  Using cached sgmllib3k-1.0.0.tar.gz (5.8 kB)\n",
      "Requirement already satisfied: idna<2.9,>=2.5 in c:\\users\\manja\\anaconda3\\lib\\site-packages (from requests->gnewsclient) (2.8)\n",
      "Requirement already satisfied: chardet<3.1.0,>=3.0.2 in c:\\users\\manja\\anaconda3\\lib\\site-packages (from requests->gnewsclient) (3.0.4)\n",
      "Requirement already satisfied: urllib3!=1.25.0,!=1.25.1,<1.26,>=1.21.1 in c:\\users\\manja\\anaconda3\\lib\\site-packages (from requests->gnewsclient) (1.25.8)\n",
      "Requirement already satisfied: certifi>=2017.4.17 in c:\\users\\manja\\anaconda3\\lib\\site-packages (from requests->gnewsclient) (2019.11.28)\n",
      "Building wheels for collected packages: sgmllib3k\n",
      "  Building wheel for sgmllib3k (setup.py): started\n",
      "  Building wheel for sgmllib3k (setup.py): finished with status 'done'\n",
      "  Created wheel for sgmllib3k: filename=sgmllib3k-1.0.0-py3-none-any.whl size=6071 sha256=0100cd1cf89c88ce3e93af9299bbe38dc5c49b34908279f8a523d58698633581\n",
      "  Stored in directory: c:\\users\\manja\\appdata\\local\\pip\\cache\\wheels\\73\\ad\\a4\\0dff4a6ef231fc0dfa12ffbac2a36cebfdddfe059f50e019aa\n",
      "Successfully built sgmllib3k\n",
      "Installing collected packages: sgmllib3k, feedparser, fuzzywuzzy, gnewsclient\n",
      "Successfully installed feedparser-6.0.2 fuzzywuzzy-0.18.0 gnewsclient-1.12 sgmllib3k-1.0.0\n"
     ]
    }
   ],
   "source": [
    "!pip install gnewsclient"
   ]
  },
  {
   "cell_type": "code",
   "execution_count": 11,
   "metadata": {},
   "outputs": [
    {
     "name": "stderr",
     "output_type": "stream",
     "text": [
      "C:\\Users\\manja\\anaconda3\\lib\\site-packages\\fuzzywuzzy\\fuzz.py:11: UserWarning: Using slow pure-python SequenceMatcher. Install python-Levenshtein to remove this warning\n",
      "  warnings.warn('Using slow pure-python SequenceMatcher. Install python-Levenshtein to remove this warning')\n"
     ]
    }
   ],
   "source": [
    "from gnewsclient import gnewsclient"
   ]
  },
  {
   "cell_type": "code",
   "execution_count": 12,
   "metadata": {},
   "outputs": [],
   "source": [
    "client=gnewsclient.NewsClient()"
   ]
  },
  {
   "cell_type": "code",
   "execution_count": 13,
   "metadata": {},
   "outputs": [
    {
     "data": {
      "text/plain": [
       "<gnewsclient.gnewsclient.NewsClient at 0x1d6a7909788>"
      ]
     },
     "execution_count": 13,
     "metadata": {},
     "output_type": "execute_result"
    }
   ],
   "source": [
    "client"
   ]
  },
  {
   "cell_type": "code",
   "execution_count": 14,
   "metadata": {},
   "outputs": [
    {
     "data": {
      "text/plain": [
       "{'location': 'United States', 'language': 'english', 'topic': 'Top Stories'}"
      ]
     },
     "execution_count": 14,
     "metadata": {},
     "output_type": "execute_result"
    }
   ],
   "source": [
    "client.get_config()"
   ]
  },
  {
   "cell_type": "code",
   "execution_count": 15,
   "metadata": {},
   "outputs": [
    {
     "data": {
      "text/plain": [
       "['Top Stories',\n",
       " 'World',\n",
       " 'Nation',\n",
       " 'Business',\n",
       " 'Technology',\n",
       " 'Entertainment',\n",
       " 'Sports',\n",
       " 'Science',\n",
       " 'Health']"
      ]
     },
     "execution_count": 15,
     "metadata": {},
     "output_type": "execute_result"
    }
   ],
   "source": [
    "client.topics"
   ]
  },
  {
   "cell_type": "code",
   "execution_count": 18,
   "metadata": {},
   "outputs": [
    {
     "data": {
      "text/plain": [
       "['Australia',\n",
       " 'Botswana',\n",
       " 'Canada ',\n",
       " 'Ethiopia',\n",
       " 'Ghana',\n",
       " 'India ',\n",
       " 'Indonesia',\n",
       " 'Ireland',\n",
       " 'Israel ',\n",
       " 'Kenya',\n",
       " 'Latvia',\n",
       " 'Malaysia',\n",
       " 'Namibia',\n",
       " 'New Zealand',\n",
       " 'Nigeria',\n",
       " 'Pakistan',\n",
       " 'Philippines',\n",
       " 'Singapore',\n",
       " 'South Africa',\n",
       " 'Tanzania',\n",
       " 'Uganda',\n",
       " 'United Kingdom',\n",
       " 'United States',\n",
       " 'Zimbabwe',\n",
       " 'Czech Republic',\n",
       " 'Germany',\n",
       " 'Austria',\n",
       " 'Switzerland',\n",
       " 'Argentina',\n",
       " 'Chile',\n",
       " 'Colombia',\n",
       " 'Cuba',\n",
       " 'Mexico',\n",
       " 'Peru',\n",
       " 'Venezuela',\n",
       " 'Belgium ',\n",
       " 'France',\n",
       " 'Morocco',\n",
       " 'Senegal',\n",
       " 'Italy',\n",
       " 'Lithuania',\n",
       " 'Hungary',\n",
       " 'Netherlands',\n",
       " 'Norway',\n",
       " 'Poland',\n",
       " 'Brazil',\n",
       " 'Portugal',\n",
       " 'Romania',\n",
       " 'Slovakia',\n",
       " 'Slovenia',\n",
       " 'Sweden',\n",
       " 'Vietnam',\n",
       " 'Turkey',\n",
       " 'Greece',\n",
       " 'Bulgaria',\n",
       " 'Russia',\n",
       " 'Ukraine ',\n",
       " 'Serbia',\n",
       " 'United Arab Emirates',\n",
       " 'Saudi Arabia',\n",
       " 'Lebanon',\n",
       " 'Egypt',\n",
       " 'Bangladesh',\n",
       " 'Thailand',\n",
       " 'China',\n",
       " 'Taiwan',\n",
       " 'Hong Kong',\n",
       " 'Japan',\n",
       " 'Republic of Korea']"
      ]
     },
     "execution_count": 18,
     "metadata": {},
     "output_type": "execute_result"
    }
   ],
   "source": [
    "client.locations"
   ]
  },
  {
   "cell_type": "code",
   "execution_count": 19,
   "metadata": {},
   "outputs": [
    {
     "data": {
      "text/plain": [
       "['english',\n",
       " 'indonesian',\n",
       " 'czech',\n",
       " 'german',\n",
       " 'spanish',\n",
       " 'french',\n",
       " 'italian',\n",
       " 'latvian',\n",
       " 'lithuanian',\n",
       " 'hungarian',\n",
       " 'dutch',\n",
       " 'norwegian',\n",
       " 'polish',\n",
       " 'portuguese brasil',\n",
       " 'portuguese portugal',\n",
       " 'romanian',\n",
       " 'slovak',\n",
       " 'slovenian',\n",
       " 'swedish',\n",
       " 'vietnamese',\n",
       " 'turkish',\n",
       " 'greek',\n",
       " 'bulgarian',\n",
       " 'russian',\n",
       " 'serbian',\n",
       " 'ukrainian',\n",
       " 'hebrew',\n",
       " 'arabic',\n",
       " 'marathi',\n",
       " 'hindi',\n",
       " 'bengali',\n",
       " 'tamil',\n",
       " 'telugu',\n",
       " 'malyalam',\n",
       " 'thai',\n",
       " 'chinese simplified',\n",
       " 'chinese traditional',\n",
       " 'japanese',\n",
       " 'korean']"
      ]
     },
     "execution_count": 19,
     "metadata": {},
     "output_type": "execute_result"
    }
   ],
   "source": [
    "client.languages"
   ]
  },
  {
   "cell_type": "code",
   "execution_count": 16,
   "metadata": {},
   "outputs": [],
   "source": [
    "client.location=\"India\"\n",
    "client.language=\"Hindi\"\n",
    "client.topic=\"World\""
   ]
  },
  {
   "cell_type": "code",
   "execution_count": 17,
   "metadata": {},
   "outputs": [
    {
     "data": {
      "text/plain": [
       "{'location': 'India', 'language': 'Hindi', 'topic': 'World'}"
      ]
     },
     "execution_count": 17,
     "metadata": {},
     "output_type": "execute_result"
    }
   ],
   "source": [
    "client.get_config()"
   ]
  },
  {
   "cell_type": "code",
   "execution_count": 20,
   "metadata": {},
   "outputs": [
    {
     "data": {
      "text/plain": [
       "[{'title': 'कम्युनिस्ट पार्टी की स्टैंडिंग काउंसिल की बैठक में शामिल नहीं हुए ओली, नेपाल में फि\\u200dर उठी राजशाही की मांग - दैनिक जागरण',\n",
       "  'link': 'https://news.google.com/__i/rss/rd/articles/CBMiaGh0dHBzOi8vd3d3LmphZ3Jhbi5jb20vd29ybGQvb3RoZXItbmVwYWwtcG0ta3Atc2hhcm1hLW9saS1za2lwcy1zdGFuZGluZy1jb21taXR0ZWUtbWVldGluZy0yMTE0MDM4Ni5odG1s0gFraHR0cHM6Ly9tLmphZ3Jhbi5jb20vbGl0ZS93b3JsZC9vdGhlci1uZXBhbC1wbS1rcC1zaGFybWEtb2xpLXNraXBzLXN0YW5kaW5nLWNvbW1pdHRlZS1tZWV0aW5nLTIxMTQwMzg2Lmh0bWw?oc=5',\n",
       "  'media': None},\n",
       " {'title': 'Iran ने लिया परमाणु वैज्ञानिक की मौत का बदला? Mossad कमांडर की हत्या का वीडियो जारी - Zee News Hindi',\n",
       "  'link': 'https://news.google.com/__i/rss/rd/articles/CBMihAFodHRwczovL3plZW5ld3MuaW5kaWEuY29tL2hpbmRpL3dvcmxkL2lzLWlyYW4ta2lsbGVkLW1vc3NhZC1jb21tYW5kZXItcXVlc3Rpb25zLXJhaXNlcy1hZnRlci12aWRlby1nb2VzLXZpcmFsLW9uLXNvY2lhbC1tZWRpYS84MDExMTLSAYgBaHR0cHM6Ly96ZWVuZXdzLmluZGlhLmNvbS9oaW5kaS93b3JsZC9pcy1pcmFuLWtpbGxlZC1tb3NzYWQtY29tbWFuZGVyLXF1ZXN0aW9ucy1yYWlzZXMtYWZ0ZXItdmlkZW8tZ29lcy12aXJhbC1vbi1zb2NpYWwtbWVkaWEvODAxMTEyL2FtcA?oc=5',\n",
       "  'media': None},\n",
       " {'title': 'कुवैत में हुए पहले संसदीय चुनाव में दो-तिहाई सांसद चुनाव हारे, अमीर नवाफ ने पीएम का इस्तीफा किया मंजूर - दैनिक जागरण',\n",
       "  'link': 'https://news.google.com/__i/rss/rd/articles/CBMimQFodHRwczovL3d3dy5qYWdyYW4uY29tL3dvcmxkL21pZGRsZS1lYXN0LXR3by10aGlyZHMtb2YtbXBzLWxvc3QtaW4tZmlyc3QtcGFybGlhbWVudGFyeS1wb2xscy1pbi1rdXdhaXQtYW1pci1uYXdhZi1hY2NlcHRzLXJlc2lnbmF0aW9uLW9mLXBtLTIxMTQwNjYwLmh0bWzSAZwBaHR0cHM6Ly9tLmphZ3Jhbi5jb20vbGl0ZS93b3JsZC9taWRkbGUtZWFzdC10d28tdGhpcmRzLW9mLW1wcy1sb3N0LWluLWZpcnN0LXBhcmxpYW1lbnRhcnktcG9sbHMtaW4ta3V3YWl0LWFtaXItbmF3YWYtYWNjZXB0cy1yZXNpZ25hdGlvbi1vZi1wbS0yMTE0MDY2MC5odG1s?oc=5',\n",
       "  'media': None},\n",
       " {'title': 'अमेरिका : नतीजों के बाद पहली रैली में बोले डोनाल्ड ट्रंप- हम ये चुनाव जीत रहे हैं - NDTV India',\n",
       "  'link': 'https://news.google.com/__i/rss/rd/articles/CBMicmh0dHBzOi8va2hhYmFyLm5kdHYuY29tL25ld3Mvd29ybGQvZG9uYWxkLXRydW1wLWF0LWZpcnN0LXBvc3QtcG9sbC1yYWxseS1zYXlzLXdlLWFyZS13aW5uaW5nLXRoaXMtZWxlY3Rpb24tMjMzNDgwMNIBhwFodHRwczovL2toYWJhci5uZHR2LmNvbS9uZXdzL3dvcmxkL2RvbmFsZC10cnVtcC1hdC1maXJzdC1wb3N0LXBvbGwtcmFsbHktc2F5cy13ZS1hcmUtd2lubmluZy10aGlzLWVsZWN0aW9uLTIzMzQ4MDAvYW1wLzE_YWthbWFpLXJ1bT1vZmY?oc=5',\n",
       "  'media': None},\n",
       " {'title': 'इमरान खान ने ट्वीट की गिलगित बाल्टिस्तान की झूठी तस्वीर, बेइज्जती होने पर किया डिलीट - Navbharat Times',\n",
       "  'link': 'https://news.google.com/__i/rss/rd/articles/CBMiigFodHRwczovL25hdmJoYXJhdHRpbWVzLmluZGlhdGltZXMuY29tL3dvcmxkL3Bha2lzdGFuL2ltcmFuLWtoYW4tcG9zdGVkLWNhbGlmb3JuaWEtdXNhLXBpY3R1cmUtYXMtZ2lsZ2l0LWJhbHRpc3Rhbi9hcnRpY2xlc2hvdy83OTU5NjIyMS5jbXPSAY4BaHR0cHM6Ly9uYXZiaGFyYXR0aW1lcy5pbmRpYXRpbWVzLmNvbS93b3JsZC9wYWtpc3Rhbi9pbXJhbi1raGFuLXBvc3RlZC1jYWxpZm9ybmlhLXVzYS1waWN0dXJlLWFzLWdpbGdpdC1iYWx0aXN0YW4vYW1wX2FydGljbGVzaG93Lzc5NTk2MjIxLmNtcw?oc=5',\n",
       "  'media': None},\n",
       " {'title': 'वेनेज़ुएला संसदीय चुनाव के बारे में पाँच ख़ास बातें - BBC हिंदी',\n",
       "  'link': 'https://news.google.com/__i/rss/rd/articles/CBMiMGh0dHBzOi8vd3d3LmJiYy5jb20vaGluZGkvaW50ZXJuYXRpb25hbC01NTIwNTM3NNIBNGh0dHBzOi8vd3d3LmJiYy5jb20vaGluZGkvaW50ZXJuYXRpb25hbC01NTIwNTM3NC5hbXA?oc=5',\n",
       "  'media': None},\n",
       " {'title': 'China कर रहा सैनिकों के DNA से छेड़छाड़, बना रहा है खूंखार सुपर सोल्जर - News18 हिंदी',\n",
       "  'link': 'https://news.google.com/__i/rss/rd/articles/CBMibGh0dHBzOi8vaGluZGkubmV3czE4LmNvbS9uZXdzL2tub3dsZWRnZS9jaGluYS1pcy1lZGl0aW5nLW9uLWdlbm9tZS10by1jcmVhdGUtc3VwZXItc29sZGllcnMtbXJqLTMzNjYxNDcuaHRtbNIBcGh0dHBzOi8vaGluZGkubmV3czE4LmNvbS9hbXAvbmV3cy9rbm93bGVkZ2UvY2hpbmEtaXMtZWRpdGluZy1vbi1nZW5vbWUtdG8tY3JlYXRlLXN1cGVyLXNvbGRpZXJzLW1yai0zMzY2MTQ3Lmh0bWw?oc=5',\n",
       "  'media': None},\n",
       " {'title': 'किम जोंग उन का क्रूर फैसला, उत्तर कोरिया में कोरोना नियम तोड़ने पर आरोपी को सरेआम गोलियों से भुनवा दिया - Hindustan',\n",
       "  'link': 'https://news.google.com/__i/rss/rd/articles/CBMingFodHRwczovL3d3dy5saXZlaGluZHVzdGFuLmNvbS9pbnRlcm5hdGlvbmFsL3N0b3J5LWtpbS1qb25nLXVuLWJydXRhbC12ZXJkaWN0LW9wZW5seS1ndW5uZWQtZG93bi1hY2N1c2VkLWFmdGVyLWJyZWFraW5nLWNvcm9uYS1ydWxlLWluLW5vcnRoLWtvcmVhLTM2NjY3ODUuaHRtbNIBoAFodHRwczovL20ubGl2ZWhpbmR1c3Rhbi5jb20vaW50ZXJuYXRpb25hbC9zdG9yeS1raW0tam9uZy11bi1icnV0YWwtdmVyZGljdC1vcGVubHktZ3VubmVkLWRvd24tYWNjdXNlZC1hZnRlci1icmVha2luZy1jb3JvbmEtcnVsZS1pbi1ub3J0aC1rb3JlYS0zNjY2Nzg1LmFtcC5odG1s?oc=5',\n",
       "  'media': None},\n",
       " {'title': 'चीन को बड़ा झटका, इंडोनेशिया खरीदेगा फ्रांस से राफेल विमान, फ्रांसीसी रक्षा मंत्री ने की पुष्टि - News18 इंडिया',\n",
       "  'link': 'https://news.google.com/__i/rss/rd/articles/CBMijQFodHRwczovL2hpbmRpLm5ld3MxOC5jb20vcGhvdG9nYWxsZXJ5L3dvcmxkL2luZG9uZXNpYS13YW50cy10by1idXktcmFmYWxlLWZpZ2h0ZXItamV0cy1mcm9tLWZyYW5jZS1hbWlkLXRlbnNpb24td2l0aC1jaGluYS1ub2R0Zy0zMzY2NTYzLmh0bWzSAZEBaHR0cHM6Ly9oaW5kaS5uZXdzMTguY29tL2FtcC9waG90b2dhbGxlcnkvd29ybGQvaW5kb25lc2lhLXdhbnRzLXRvLWJ1eS1yYWZhbGUtZmlnaHRlci1qZXRzLWZyb20tZnJhbmNlLWFtaWQtdGVuc2lvbi13aXRoLWNoaW5hLW5vZHRnLTMzNjY1NjMuaHRtbA?oc=5',\n",
       "  'media': None},\n",
       " {'title': 'अर्जेंटीना ने ग़रीबों की मदद के लिए अमीरों पर लगाया टैक्स - BBC हिंदी',\n",
       "  'link': 'https://news.google.com/__i/rss/rd/articles/CBMiMGh0dHBzOi8vd3d3LmJiYy5jb20vaGluZGkvaW50ZXJuYXRpb25hbC01NTIwNDU4NtIBNGh0dHBzOi8vd3d3LmJiYy5jb20vaGluZGkvaW50ZXJuYXRpb25hbC01NTIwNDU4Ni5hbXA?oc=5',\n",
       "  'media': None}]"
      ]
     },
     "execution_count": 20,
     "metadata": {},
     "output_type": "execute_result"
    }
   ],
   "source": [
    "client.get_news()"
   ]
  },
  {
   "cell_type": "code",
   "execution_count": null,
   "metadata": {},
   "outputs": [],
   "source": []
  }
 ],
 "metadata": {
  "kernelspec": {
   "display_name": "Python 3",
   "language": "python",
   "name": "python3"
  },
  "language_info": {
   "codemirror_mode": {
    "name": "ipython",
    "version": 3
   },
   "file_extension": ".py",
   "mimetype": "text/x-python",
   "name": "python",
   "nbconvert_exporter": "python",
   "pygments_lexer": "ipython3",
   "version": "3.7.6"
  }
 },
 "nbformat": 4,
 "nbformat_minor": 4
}
